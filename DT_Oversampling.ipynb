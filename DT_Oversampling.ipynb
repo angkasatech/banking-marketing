{
  "cells": [
    {
      "cell_type": "markdown",
      "source": [
        "# Import Dataset"
      ],
      "metadata": {
        "id": "t3d4eQG8wUk-"
      }
    },
    {
      "cell_type": "code",
      "execution_count": null,
      "metadata": {
        "id": "gELHofsaI0au"
      },
      "outputs": [],
      "source": [
        "import pandas as pd\n",
        "import numpy as np\n",
        "import matplotlib.pyplot as plt\n",
        "import seaborn as sns"
      ]
    },
    {
      "cell_type": "code",
      "execution_count": null,
      "metadata": {
        "id": "3jvn1ZYPJC6_"
      },
      "outputs": [],
      "source": [
        "df= pd.read_csv('https://raw.githubusercontent.com/angkasatech/ds/37146328bc5814f4e7a0adb739e6574def32b6dc/banking_train.csv', delimiter=';')"
      ]
    },
    {
      "cell_type": "code",
      "execution_count": null,
      "metadata": {
        "colab": {
          "base_uri": "https://localhost:8080/"
        },
        "id": "9YxcHDZbI_hp",
        "outputId": "06ebcbfd-42db-419a-ba3e-32e8c18f0641"
      },
      "outputs": [
        {
          "output_type": "execute_result",
          "data": {
            "text/plain": [
              "   age           job  marital  education default  balance housing loan  \\\n",
              "0   58    management  married   tertiary      no     2143     yes   no   \n",
              "1   44    technician   single  secondary      no       29     yes   no   \n",
              "2   33  entrepreneur  married  secondary      no        2     yes  yes   \n",
              "3   47   blue-collar  married    unknown      no     1506     yes   no   \n",
              "4   33       unknown   single    unknown      no        1      no   no   \n",
              "\n",
              "   contact  day month  duration  campaign  pdays  previous poutcome   y  \n",
              "0  unknown    5   may       261         1     -1         0  unknown  no  \n",
              "1  unknown    5   may       151         1     -1         0  unknown  no  \n",
              "2  unknown    5   may        76         1     -1         0  unknown  no  \n",
              "3  unknown    5   may        92         1     -1         0  unknown  no  \n",
              "4  unknown    5   may       198         1     -1         0  unknown  no  "
            ],
            "text/html": [
              "\n",
              "  <div id=\"df-27b937d3-c2a5-4f2d-aad9-18fd59e3ff8a\">\n",
              "    <div class=\"colab-df-container\">\n",
              "      <div>\n",
              "<style scoped>\n",
              "    .dataframe tbody tr th:only-of-type {\n",
              "        vertical-align: middle;\n",
              "    }\n",
              "\n",
              "    .dataframe tbody tr th {\n",
              "        vertical-align: top;\n",
              "    }\n",
              "\n",
              "    .dataframe thead th {\n",
              "        text-align: right;\n",
              "    }\n",
              "</style>\n",
              "<table border=\"1\" class=\"dataframe\">\n",
              "  <thead>\n",
              "    <tr style=\"text-align: right;\">\n",
              "      <th></th>\n",
              "      <th>age</th>\n",
              "      <th>job</th>\n",
              "      <th>marital</th>\n",
              "      <th>education</th>\n",
              "      <th>default</th>\n",
              "      <th>balance</th>\n",
              "      <th>housing</th>\n",
              "      <th>loan</th>\n",
              "      <th>contact</th>\n",
              "      <th>day</th>\n",
              "      <th>month</th>\n",
              "      <th>duration</th>\n",
              "      <th>campaign</th>\n",
              "      <th>pdays</th>\n",
              "      <th>previous</th>\n",
              "      <th>poutcome</th>\n",
              "      <th>y</th>\n",
              "    </tr>\n",
              "  </thead>\n",
              "  <tbody>\n",
              "    <tr>\n",
              "      <th>0</th>\n",
              "      <td>58</td>\n",
              "      <td>management</td>\n",
              "      <td>married</td>\n",
              "      <td>tertiary</td>\n",
              "      <td>no</td>\n",
              "      <td>2143</td>\n",
              "      <td>yes</td>\n",
              "      <td>no</td>\n",
              "      <td>unknown</td>\n",
              "      <td>5</td>\n",
              "      <td>may</td>\n",
              "      <td>261</td>\n",
              "      <td>1</td>\n",
              "      <td>-1</td>\n",
              "      <td>0</td>\n",
              "      <td>unknown</td>\n",
              "      <td>no</td>\n",
              "    </tr>\n",
              "    <tr>\n",
              "      <th>1</th>\n",
              "      <td>44</td>\n",
              "      <td>technician</td>\n",
              "      <td>single</td>\n",
              "      <td>secondary</td>\n",
              "      <td>no</td>\n",
              "      <td>29</td>\n",
              "      <td>yes</td>\n",
              "      <td>no</td>\n",
              "      <td>unknown</td>\n",
              "      <td>5</td>\n",
              "      <td>may</td>\n",
              "      <td>151</td>\n",
              "      <td>1</td>\n",
              "      <td>-1</td>\n",
              "      <td>0</td>\n",
              "      <td>unknown</td>\n",
              "      <td>no</td>\n",
              "    </tr>\n",
              "    <tr>\n",
              "      <th>2</th>\n",
              "      <td>33</td>\n",
              "      <td>entrepreneur</td>\n",
              "      <td>married</td>\n",
              "      <td>secondary</td>\n",
              "      <td>no</td>\n",
              "      <td>2</td>\n",
              "      <td>yes</td>\n",
              "      <td>yes</td>\n",
              "      <td>unknown</td>\n",
              "      <td>5</td>\n",
              "      <td>may</td>\n",
              "      <td>76</td>\n",
              "      <td>1</td>\n",
              "      <td>-1</td>\n",
              "      <td>0</td>\n",
              "      <td>unknown</td>\n",
              "      <td>no</td>\n",
              "    </tr>\n",
              "    <tr>\n",
              "      <th>3</th>\n",
              "      <td>47</td>\n",
              "      <td>blue-collar</td>\n",
              "      <td>married</td>\n",
              "      <td>unknown</td>\n",
              "      <td>no</td>\n",
              "      <td>1506</td>\n",
              "      <td>yes</td>\n",
              "      <td>no</td>\n",
              "      <td>unknown</td>\n",
              "      <td>5</td>\n",
              "      <td>may</td>\n",
              "      <td>92</td>\n",
              "      <td>1</td>\n",
              "      <td>-1</td>\n",
              "      <td>0</td>\n",
              "      <td>unknown</td>\n",
              "      <td>no</td>\n",
              "    </tr>\n",
              "    <tr>\n",
              "      <th>4</th>\n",
              "      <td>33</td>\n",
              "      <td>unknown</td>\n",
              "      <td>single</td>\n",
              "      <td>unknown</td>\n",
              "      <td>no</td>\n",
              "      <td>1</td>\n",
              "      <td>no</td>\n",
              "      <td>no</td>\n",
              "      <td>unknown</td>\n",
              "      <td>5</td>\n",
              "      <td>may</td>\n",
              "      <td>198</td>\n",
              "      <td>1</td>\n",
              "      <td>-1</td>\n",
              "      <td>0</td>\n",
              "      <td>unknown</td>\n",
              "      <td>no</td>\n",
              "    </tr>\n",
              "  </tbody>\n",
              "</table>\n",
              "</div>\n",
              "      <button class=\"colab-df-convert\" onclick=\"convertToInteractive('df-27b937d3-c2a5-4f2d-aad9-18fd59e3ff8a')\"\n",
              "              title=\"Convert this dataframe to an interactive table.\"\n",
              "              style=\"display:none;\">\n",
              "        \n",
              "  <svg xmlns=\"http://www.w3.org/2000/svg\" height=\"24px\"viewBox=\"0 0 24 24\"\n",
              "       width=\"24px\">\n",
              "    <path d=\"M0 0h24v24H0V0z\" fill=\"none\"/>\n",
              "    <path d=\"M18.56 5.44l.94 2.06.94-2.06 2.06-.94-2.06-.94-.94-2.06-.94 2.06-2.06.94zm-11 1L8.5 8.5l.94-2.06 2.06-.94-2.06-.94L8.5 2.5l-.94 2.06-2.06.94zm10 10l.94 2.06.94-2.06 2.06-.94-2.06-.94-.94-2.06-.94 2.06-2.06.94z\"/><path d=\"M17.41 7.96l-1.37-1.37c-.4-.4-.92-.59-1.43-.59-.52 0-1.04.2-1.43.59L10.3 9.45l-7.72 7.72c-.78.78-.78 2.05 0 2.83L4 21.41c.39.39.9.59 1.41.59.51 0 1.02-.2 1.41-.59l7.78-7.78 2.81-2.81c.8-.78.8-2.07 0-2.86zM5.41 20L4 18.59l7.72-7.72 1.47 1.35L5.41 20z\"/>\n",
              "  </svg>\n",
              "      </button>\n",
              "      \n",
              "  <style>\n",
              "    .colab-df-container {\n",
              "      display:flex;\n",
              "      flex-wrap:wrap;\n",
              "      gap: 12px;\n",
              "    }\n",
              "\n",
              "    .colab-df-convert {\n",
              "      background-color: #E8F0FE;\n",
              "      border: none;\n",
              "      border-radius: 50%;\n",
              "      cursor: pointer;\n",
              "      display: none;\n",
              "      fill: #1967D2;\n",
              "      height: 32px;\n",
              "      padding: 0 0 0 0;\n",
              "      width: 32px;\n",
              "    }\n",
              "\n",
              "    .colab-df-convert:hover {\n",
              "      background-color: #E2EBFA;\n",
              "      box-shadow: 0px 1px 2px rgba(60, 64, 67, 0.3), 0px 1px 3px 1px rgba(60, 64, 67, 0.15);\n",
              "      fill: #174EA6;\n",
              "    }\n",
              "\n",
              "    [theme=dark] .colab-df-convert {\n",
              "      background-color: #3B4455;\n",
              "      fill: #D2E3FC;\n",
              "    }\n",
              "\n",
              "    [theme=dark] .colab-df-convert:hover {\n",
              "      background-color: #434B5C;\n",
              "      box-shadow: 0px 1px 3px 1px rgba(0, 0, 0, 0.15);\n",
              "      filter: drop-shadow(0px 1px 2px rgba(0, 0, 0, 0.3));\n",
              "      fill: #FFFFFF;\n",
              "    }\n",
              "  </style>\n",
              "\n",
              "      <script>\n",
              "        const buttonEl =\n",
              "          document.querySelector('#df-27b937d3-c2a5-4f2d-aad9-18fd59e3ff8a button.colab-df-convert');\n",
              "        buttonEl.style.display =\n",
              "          google.colab.kernel.accessAllowed ? 'block' : 'none';\n",
              "\n",
              "        async function convertToInteractive(key) {\n",
              "          const element = document.querySelector('#df-27b937d3-c2a5-4f2d-aad9-18fd59e3ff8a');\n",
              "          const dataTable =\n",
              "            await google.colab.kernel.invokeFunction('convertToInteractive',\n",
              "                                                     [key], {});\n",
              "          if (!dataTable) return;\n",
              "\n",
              "          const docLinkHtml = 'Like what you see? Visit the ' +\n",
              "            '<a target=\"_blank\" href=https://colab.research.google.com/notebooks/data_table.ipynb>data table notebook</a>'\n",
              "            + ' to learn more about interactive tables.';\n",
              "          element.innerHTML = '';\n",
              "          dataTable['output_type'] = 'display_data';\n",
              "          await google.colab.output.renderOutput(dataTable, element);\n",
              "          const docLink = document.createElement('div');\n",
              "          docLink.innerHTML = docLinkHtml;\n",
              "          element.appendChild(docLink);\n",
              "        }\n",
              "      </script>\n",
              "    </div>\n",
              "  </div>\n",
              "  "
            ]
          },
          "metadata": {},
          "execution_count": 3
        }
      ],
      "source": [
        "df.head()"
      ]
    },
    {
      "cell_type": "code",
      "execution_count": null,
      "metadata": {
        "colab": {
          "base_uri": "https://localhost:8080/"
        },
        "id": "Dpl8wYY8Qe5p",
        "outputId": "74299f88-0bb5-44f2-f659-e9edcad262ba"
      },
      "outputs": [
        {
          "output_type": "stream",
          "name": "stdout",
          "text": [
            "<class 'pandas.core.frame.DataFrame'>\n",
            "RangeIndex: 45211 entries, 0 to 45210\n",
            "Data columns (total 17 columns):\n",
            " #   Column     Non-Null Count  Dtype \n",
            "---  ------     --------------  ----- \n",
            " 0   age        45211 non-null  int64 \n",
            " 1   job        45211 non-null  object\n",
            " 2   marital    45211 non-null  object\n",
            " 3   education  45211 non-null  object\n",
            " 4   default    45211 non-null  object\n",
            " 5   balance    45211 non-null  int64 \n",
            " 6   housing    45211 non-null  object\n",
            " 7   loan       45211 non-null  object\n",
            " 8   contact    45211 non-null  object\n",
            " 9   day        45211 non-null  int64 \n",
            " 10  month      45211 non-null  object\n",
            " 11  duration   45211 non-null  int64 \n",
            " 12  campaign   45211 non-null  int64 \n",
            " 13  pdays      45211 non-null  int64 \n",
            " 14  previous   45211 non-null  int64 \n",
            " 15  poutcome   45211 non-null  object\n",
            " 16  y          45211 non-null  object\n",
            "dtypes: int64(7), object(10)\n",
            "memory usage: 5.9+ MB\n"
          ]
        }
      ],
      "source": [
        "#the dataframe has 45211 entries and 17 columns\n",
        "#there are 17 columns with 7 int64 dtype and 10 object dtype\n",
        "df.info()"
      ]
    },
    {
      "cell_type": "markdown",
      "metadata": {
        "id": "zcsDyHtVJ5kO"
      },
      "source": [
        "#Data Cleansing"
      ]
    },
    {
      "cell_type": "markdown",
      "metadata": {
        "id": "zjWSbQ8fJ9x0"
      },
      "source": [
        "## Handle Missing Values"
      ]
    },
    {
      "cell_type": "code",
      "execution_count": null,
      "metadata": {
        "colab": {
          "base_uri": "https://localhost:8080/"
        },
        "id": "N1mHLtQGKB4v",
        "outputId": "1c159902-6d53-4a47-e671-4db6ac90953d"
      },
      "outputs": [
        {
          "output_type": "execute_result",
          "data": {
            "text/plain": [
              "age          0\n",
              "job          0\n",
              "marital      0\n",
              "education    0\n",
              "default      0\n",
              "balance      0\n",
              "housing      0\n",
              "loan         0\n",
              "contact      0\n",
              "day          0\n",
              "month        0\n",
              "duration     0\n",
              "campaign     0\n",
              "pdays        0\n",
              "previous     0\n",
              "poutcome     0\n",
              "y            0\n",
              "dtype: int64"
            ]
          },
          "metadata": {},
          "execution_count": 5
        }
      ],
      "source": [
        "#check for missing values\n",
        "df.isnull().sum()"
      ]
    },
    {
      "cell_type": "markdown",
      "metadata": {
        "id": "itNU2ue_QrVl"
      },
      "source": [
        "Seperti yang ditampilkan di atas, tidak terdapat missing values pada setiap kolomnya."
      ]
    },
    {
      "cell_type": "markdown",
      "metadata": {
        "id": "HMFyXcwBKC-L"
      },
      "source": [
        "## Handle Duplicate Data"
      ]
    },
    {
      "cell_type": "code",
      "execution_count": null,
      "metadata": {
        "colab": {
          "base_uri": "https://localhost:8080/"
        },
        "id": "Y7ej09k_KCWQ",
        "outputId": "306a7b45-0afd-4ec2-b0bf-048144d53663"
      },
      "outputs": [
        {
          "output_type": "execute_result",
          "data": {
            "text/plain": [
              "0"
            ]
          },
          "metadata": {},
          "execution_count": 6
        }
      ],
      "source": [
        "df.duplicated().sum()"
      ]
    },
    {
      "cell_type": "markdown",
      "metadata": {
        "id": "KRQSC-JyQz0f"
      },
      "source": [
        "berdasarkan semua kolom, tidak terdapat kolom yang duplikat. Hal ini dikarenakan dia menghitung nilai duplicated berdasarkan semua kolom\n",
        "\n",
        "Kita harus menggunakan kolom yang memiliki hubungan dengan bank client, yang bisa digunakan sebagai identifier tiap customernya, dalam dataframe ini, kita bisa menggunakan kolom:\n",
        "- age : Umur Customer\n",
        "- job : Jenis pekerjaan customer(categorical: \"admin.\",\"unknown\",\"unemployed\",\"management\",\"housemaid\",\"entrepreneur\",\"student\", \"blue-collar\",\"self-employed\",\"retired\",\"technician\",\"services\")\n",
        "- marital : Status pernikahan Customer(categorical: \"married\",\"divorced\",\"single\"; note: \"divorced\" means divorced or widowed)\n",
        "- education : Tingkat pendidikan customer (categorical: \"unknown\",\"secondary\",\"primary\",\"tertiary\")\n",
        "- default: kepemilikan customer terhadap credit default? (binary: \"yes\",\"no\")\n",
        "- balance: rata-rata pendapatan customer per tahun, in euros (numeric)\n",
        "- housing: kepemilikan customer terhadap pinjaman rumah? (binary: \"yes\",\"no\")\n",
        "- loan: kepemilikan customer terhadap pinjaman pribadi? (binary: \"yes\",\"no\")"
      ]
    },
    {
      "cell_type": "code",
      "execution_count": null,
      "metadata": {
        "colab": {
          "base_uri": "https://localhost:8080/"
        },
        "id": "WCqZYmOcQxTZ",
        "outputId": "11749295-f51d-4294-c6f4-b5cbc5ff78af"
      },
      "outputs": [
        {
          "output_type": "execute_result",
          "data": {
            "text/plain": [
              "4163"
            ]
          },
          "metadata": {},
          "execution_count": 7
        }
      ],
      "source": [
        "df.duplicated(subset='age balance job marital education default housing loan'.split()).sum()"
      ]
    },
    {
      "cell_type": "code",
      "execution_count": null,
      "metadata": {
        "colab": {
          "base_uri": "https://localhost:8080/"
        },
        "id": "kU-PjsBdQ5QI",
        "outputId": "c7c76418-abec-451c-99d3-f8d7fb0bb386"
      },
      "outputs": [
        {
          "output_type": "execute_result",
          "data": {
            "text/plain": [
              "       age            job  marital  education default  balance housing loan  \\\n",
              "492     36    blue-collar  married  secondary      no        0     yes   no   \n",
              "523     29     management   single   tertiary      no        0     yes   no   \n",
              "644     43     unemployed  married  secondary      no        0     yes   no   \n",
              "772     42     technician   single  secondary      no        0     yes   no   \n",
              "779     42         admin.  married  secondary      no      445     yes   no   \n",
              "...    ...            ...      ...        ...     ...      ...     ...  ...   \n",
              "45193   28  self-employed   single   tertiary      no      159      no   no   \n",
              "45194   59     management  married   tertiary      no      138     yes  yes   \n",
              "45195   68        retired  married  secondary      no     1146      no   no   \n",
              "45204   73        retired  married  secondary      no     2850      no   no   \n",
              "45208   72        retired  married  secondary      no     5715      no   no   \n",
              "\n",
              "        contact  day month  duration  campaign  pdays  previous poutcome    y  \n",
              "492     unknown    6   may       337         1     -1         0  unknown   no  \n",
              "523     unknown    6   may       211         1     -1         0  unknown   no  \n",
              "644     unknown    6   may        37         2     -1         0  unknown   no  \n",
              "772     unknown    7   may       275         4     -1         0  unknown   no  \n",
              "779     unknown    7   may       202         2     -1         0  unknown   no  \n",
              "...         ...  ...   ...       ...       ...    ...       ...      ...  ...  \n",
              "45193  cellular   16   nov       449         2     33         4  success  yes  \n",
              "45194  cellular   16   nov       162         2    187         5  failure   no  \n",
              "45195  cellular   16   nov       212         1    187         6  success  yes  \n",
              "45204  cellular   17   nov       300         1     40         8  failure  yes  \n",
              "45208  cellular   17   nov      1127         5    184         3  success  yes  \n",
              "\n",
              "[4163 rows x 17 columns]"
            ],
            "text/html": [
              "\n",
              "  <div id=\"df-a4935341-50ef-4fb6-8d52-ec732cc2cce5\">\n",
              "    <div class=\"colab-df-container\">\n",
              "      <div>\n",
              "<style scoped>\n",
              "    .dataframe tbody tr th:only-of-type {\n",
              "        vertical-align: middle;\n",
              "    }\n",
              "\n",
              "    .dataframe tbody tr th {\n",
              "        vertical-align: top;\n",
              "    }\n",
              "\n",
              "    .dataframe thead th {\n",
              "        text-align: right;\n",
              "    }\n",
              "</style>\n",
              "<table border=\"1\" class=\"dataframe\">\n",
              "  <thead>\n",
              "    <tr style=\"text-align: right;\">\n",
              "      <th></th>\n",
              "      <th>age</th>\n",
              "      <th>job</th>\n",
              "      <th>marital</th>\n",
              "      <th>education</th>\n",
              "      <th>default</th>\n",
              "      <th>balance</th>\n",
              "      <th>housing</th>\n",
              "      <th>loan</th>\n",
              "      <th>contact</th>\n",
              "      <th>day</th>\n",
              "      <th>month</th>\n",
              "      <th>duration</th>\n",
              "      <th>campaign</th>\n",
              "      <th>pdays</th>\n",
              "      <th>previous</th>\n",
              "      <th>poutcome</th>\n",
              "      <th>y</th>\n",
              "    </tr>\n",
              "  </thead>\n",
              "  <tbody>\n",
              "    <tr>\n",
              "      <th>492</th>\n",
              "      <td>36</td>\n",
              "      <td>blue-collar</td>\n",
              "      <td>married</td>\n",
              "      <td>secondary</td>\n",
              "      <td>no</td>\n",
              "      <td>0</td>\n",
              "      <td>yes</td>\n",
              "      <td>no</td>\n",
              "      <td>unknown</td>\n",
              "      <td>6</td>\n",
              "      <td>may</td>\n",
              "      <td>337</td>\n",
              "      <td>1</td>\n",
              "      <td>-1</td>\n",
              "      <td>0</td>\n",
              "      <td>unknown</td>\n",
              "      <td>no</td>\n",
              "    </tr>\n",
              "    <tr>\n",
              "      <th>523</th>\n",
              "      <td>29</td>\n",
              "      <td>management</td>\n",
              "      <td>single</td>\n",
              "      <td>tertiary</td>\n",
              "      <td>no</td>\n",
              "      <td>0</td>\n",
              "      <td>yes</td>\n",
              "      <td>no</td>\n",
              "      <td>unknown</td>\n",
              "      <td>6</td>\n",
              "      <td>may</td>\n",
              "      <td>211</td>\n",
              "      <td>1</td>\n",
              "      <td>-1</td>\n",
              "      <td>0</td>\n",
              "      <td>unknown</td>\n",
              "      <td>no</td>\n",
              "    </tr>\n",
              "    <tr>\n",
              "      <th>644</th>\n",
              "      <td>43</td>\n",
              "      <td>unemployed</td>\n",
              "      <td>married</td>\n",
              "      <td>secondary</td>\n",
              "      <td>no</td>\n",
              "      <td>0</td>\n",
              "      <td>yes</td>\n",
              "      <td>no</td>\n",
              "      <td>unknown</td>\n",
              "      <td>6</td>\n",
              "      <td>may</td>\n",
              "      <td>37</td>\n",
              "      <td>2</td>\n",
              "      <td>-1</td>\n",
              "      <td>0</td>\n",
              "      <td>unknown</td>\n",
              "      <td>no</td>\n",
              "    </tr>\n",
              "    <tr>\n",
              "      <th>772</th>\n",
              "      <td>42</td>\n",
              "      <td>technician</td>\n",
              "      <td>single</td>\n",
              "      <td>secondary</td>\n",
              "      <td>no</td>\n",
              "      <td>0</td>\n",
              "      <td>yes</td>\n",
              "      <td>no</td>\n",
              "      <td>unknown</td>\n",
              "      <td>7</td>\n",
              "      <td>may</td>\n",
              "      <td>275</td>\n",
              "      <td>4</td>\n",
              "      <td>-1</td>\n",
              "      <td>0</td>\n",
              "      <td>unknown</td>\n",
              "      <td>no</td>\n",
              "    </tr>\n",
              "    <tr>\n",
              "      <th>779</th>\n",
              "      <td>42</td>\n",
              "      <td>admin.</td>\n",
              "      <td>married</td>\n",
              "      <td>secondary</td>\n",
              "      <td>no</td>\n",
              "      <td>445</td>\n",
              "      <td>yes</td>\n",
              "      <td>no</td>\n",
              "      <td>unknown</td>\n",
              "      <td>7</td>\n",
              "      <td>may</td>\n",
              "      <td>202</td>\n",
              "      <td>2</td>\n",
              "      <td>-1</td>\n",
              "      <td>0</td>\n",
              "      <td>unknown</td>\n",
              "      <td>no</td>\n",
              "    </tr>\n",
              "    <tr>\n",
              "      <th>...</th>\n",
              "      <td>...</td>\n",
              "      <td>...</td>\n",
              "      <td>...</td>\n",
              "      <td>...</td>\n",
              "      <td>...</td>\n",
              "      <td>...</td>\n",
              "      <td>...</td>\n",
              "      <td>...</td>\n",
              "      <td>...</td>\n",
              "      <td>...</td>\n",
              "      <td>...</td>\n",
              "      <td>...</td>\n",
              "      <td>...</td>\n",
              "      <td>...</td>\n",
              "      <td>...</td>\n",
              "      <td>...</td>\n",
              "      <td>...</td>\n",
              "    </tr>\n",
              "    <tr>\n",
              "      <th>45193</th>\n",
              "      <td>28</td>\n",
              "      <td>self-employed</td>\n",
              "      <td>single</td>\n",
              "      <td>tertiary</td>\n",
              "      <td>no</td>\n",
              "      <td>159</td>\n",
              "      <td>no</td>\n",
              "      <td>no</td>\n",
              "      <td>cellular</td>\n",
              "      <td>16</td>\n",
              "      <td>nov</td>\n",
              "      <td>449</td>\n",
              "      <td>2</td>\n",
              "      <td>33</td>\n",
              "      <td>4</td>\n",
              "      <td>success</td>\n",
              "      <td>yes</td>\n",
              "    </tr>\n",
              "    <tr>\n",
              "      <th>45194</th>\n",
              "      <td>59</td>\n",
              "      <td>management</td>\n",
              "      <td>married</td>\n",
              "      <td>tertiary</td>\n",
              "      <td>no</td>\n",
              "      <td>138</td>\n",
              "      <td>yes</td>\n",
              "      <td>yes</td>\n",
              "      <td>cellular</td>\n",
              "      <td>16</td>\n",
              "      <td>nov</td>\n",
              "      <td>162</td>\n",
              "      <td>2</td>\n",
              "      <td>187</td>\n",
              "      <td>5</td>\n",
              "      <td>failure</td>\n",
              "      <td>no</td>\n",
              "    </tr>\n",
              "    <tr>\n",
              "      <th>45195</th>\n",
              "      <td>68</td>\n",
              "      <td>retired</td>\n",
              "      <td>married</td>\n",
              "      <td>secondary</td>\n",
              "      <td>no</td>\n",
              "      <td>1146</td>\n",
              "      <td>no</td>\n",
              "      <td>no</td>\n",
              "      <td>cellular</td>\n",
              "      <td>16</td>\n",
              "      <td>nov</td>\n",
              "      <td>212</td>\n",
              "      <td>1</td>\n",
              "      <td>187</td>\n",
              "      <td>6</td>\n",
              "      <td>success</td>\n",
              "      <td>yes</td>\n",
              "    </tr>\n",
              "    <tr>\n",
              "      <th>45204</th>\n",
              "      <td>73</td>\n",
              "      <td>retired</td>\n",
              "      <td>married</td>\n",
              "      <td>secondary</td>\n",
              "      <td>no</td>\n",
              "      <td>2850</td>\n",
              "      <td>no</td>\n",
              "      <td>no</td>\n",
              "      <td>cellular</td>\n",
              "      <td>17</td>\n",
              "      <td>nov</td>\n",
              "      <td>300</td>\n",
              "      <td>1</td>\n",
              "      <td>40</td>\n",
              "      <td>8</td>\n",
              "      <td>failure</td>\n",
              "      <td>yes</td>\n",
              "    </tr>\n",
              "    <tr>\n",
              "      <th>45208</th>\n",
              "      <td>72</td>\n",
              "      <td>retired</td>\n",
              "      <td>married</td>\n",
              "      <td>secondary</td>\n",
              "      <td>no</td>\n",
              "      <td>5715</td>\n",
              "      <td>no</td>\n",
              "      <td>no</td>\n",
              "      <td>cellular</td>\n",
              "      <td>17</td>\n",
              "      <td>nov</td>\n",
              "      <td>1127</td>\n",
              "      <td>5</td>\n",
              "      <td>184</td>\n",
              "      <td>3</td>\n",
              "      <td>success</td>\n",
              "      <td>yes</td>\n",
              "    </tr>\n",
              "  </tbody>\n",
              "</table>\n",
              "<p>4163 rows × 17 columns</p>\n",
              "</div>\n",
              "      <button class=\"colab-df-convert\" onclick=\"convertToInteractive('df-a4935341-50ef-4fb6-8d52-ec732cc2cce5')\"\n",
              "              title=\"Convert this dataframe to an interactive table.\"\n",
              "              style=\"display:none;\">\n",
              "        \n",
              "  <svg xmlns=\"http://www.w3.org/2000/svg\" height=\"24px\"viewBox=\"0 0 24 24\"\n",
              "       width=\"24px\">\n",
              "    <path d=\"M0 0h24v24H0V0z\" fill=\"none\"/>\n",
              "    <path d=\"M18.56 5.44l.94 2.06.94-2.06 2.06-.94-2.06-.94-.94-2.06-.94 2.06-2.06.94zm-11 1L8.5 8.5l.94-2.06 2.06-.94-2.06-.94L8.5 2.5l-.94 2.06-2.06.94zm10 10l.94 2.06.94-2.06 2.06-.94-2.06-.94-.94-2.06-.94 2.06-2.06.94z\"/><path d=\"M17.41 7.96l-1.37-1.37c-.4-.4-.92-.59-1.43-.59-.52 0-1.04.2-1.43.59L10.3 9.45l-7.72 7.72c-.78.78-.78 2.05 0 2.83L4 21.41c.39.39.9.59 1.41.59.51 0 1.02-.2 1.41-.59l7.78-7.78 2.81-2.81c.8-.78.8-2.07 0-2.86zM5.41 20L4 18.59l7.72-7.72 1.47 1.35L5.41 20z\"/>\n",
              "  </svg>\n",
              "      </button>\n",
              "      \n",
              "  <style>\n",
              "    .colab-df-container {\n",
              "      display:flex;\n",
              "      flex-wrap:wrap;\n",
              "      gap: 12px;\n",
              "    }\n",
              "\n",
              "    .colab-df-convert {\n",
              "      background-color: #E8F0FE;\n",
              "      border: none;\n",
              "      border-radius: 50%;\n",
              "      cursor: pointer;\n",
              "      display: none;\n",
              "      fill: #1967D2;\n",
              "      height: 32px;\n",
              "      padding: 0 0 0 0;\n",
              "      width: 32px;\n",
              "    }\n",
              "\n",
              "    .colab-df-convert:hover {\n",
              "      background-color: #E2EBFA;\n",
              "      box-shadow: 0px 1px 2px rgba(60, 64, 67, 0.3), 0px 1px 3px 1px rgba(60, 64, 67, 0.15);\n",
              "      fill: #174EA6;\n",
              "    }\n",
              "\n",
              "    [theme=dark] .colab-df-convert {\n",
              "      background-color: #3B4455;\n",
              "      fill: #D2E3FC;\n",
              "    }\n",
              "\n",
              "    [theme=dark] .colab-df-convert:hover {\n",
              "      background-color: #434B5C;\n",
              "      box-shadow: 0px 1px 3px 1px rgba(0, 0, 0, 0.15);\n",
              "      filter: drop-shadow(0px 1px 2px rgba(0, 0, 0, 0.3));\n",
              "      fill: #FFFFFF;\n",
              "    }\n",
              "  </style>\n",
              "\n",
              "      <script>\n",
              "        const buttonEl =\n",
              "          document.querySelector('#df-a4935341-50ef-4fb6-8d52-ec732cc2cce5 button.colab-df-convert');\n",
              "        buttonEl.style.display =\n",
              "          google.colab.kernel.accessAllowed ? 'block' : 'none';\n",
              "\n",
              "        async function convertToInteractive(key) {\n",
              "          const element = document.querySelector('#df-a4935341-50ef-4fb6-8d52-ec732cc2cce5');\n",
              "          const dataTable =\n",
              "            await google.colab.kernel.invokeFunction('convertToInteractive',\n",
              "                                                     [key], {});\n",
              "          if (!dataTable) return;\n",
              "\n",
              "          const docLinkHtml = 'Like what you see? Visit the ' +\n",
              "            '<a target=\"_blank\" href=https://colab.research.google.com/notebooks/data_table.ipynb>data table notebook</a>'\n",
              "            + ' to learn more about interactive tables.';\n",
              "          element.innerHTML = '';\n",
              "          dataTable['output_type'] = 'display_data';\n",
              "          await google.colab.output.renderOutput(dataTable, element);\n",
              "          const docLink = document.createElement('div');\n",
              "          docLink.innerHTML = docLinkHtml;\n",
              "          element.appendChild(docLink);\n",
              "        }\n",
              "      </script>\n",
              "    </div>\n",
              "  </div>\n",
              "  "
            ]
          },
          "metadata": {},
          "execution_count": 8
        }
      ],
      "source": [
        "#show the duplicate column\n",
        "df[df.duplicated(subset='age balance job marital education default housing loan'.split())]"
      ]
    },
    {
      "cell_type": "markdown",
      "metadata": {
        "id": "rzADetm-Q_dS"
      },
      "source": [
        "Terdapat 4163 baris yang memiliki nilai duplikat berdasarkan kolom age, balance, job, marital, education, default, housing, dan loan\n",
        "\n",
        "drop the duplicate column"
      ]
    },
    {
      "cell_type": "code",
      "execution_count": null,
      "metadata": {
        "id": "ForBPZhvRExE"
      },
      "outputs": [],
      "source": [
        "df.drop_duplicates(subset='age balance job marital education default housing loan'.split(), inplace=True)"
      ]
    },
    {
      "cell_type": "code",
      "execution_count": null,
      "metadata": {
        "colab": {
          "base_uri": "https://localhost:8080/"
        },
        "id": "LcP6WcSbRHvn",
        "outputId": "8fcaaa1d-00f4-4b1f-d28a-93b9d09f42a4"
      },
      "outputs": [
        {
          "output_type": "execute_result",
          "data": {
            "text/plain": [
              "0"
            ]
          },
          "metadata": {},
          "execution_count": 10
        }
      ],
      "source": [
        "df.duplicated(subset='age balance job marital education default housing loan'.split()).sum()"
      ]
    },
    {
      "cell_type": "markdown",
      "metadata": {
        "id": "QMKnVFUzRLS2"
      },
      "source": [
        "the duplicate values have been dropped succesfully"
      ]
    },
    {
      "cell_type": "markdown",
      "metadata": {
        "id": "ZWVkCyK2RT0t"
      },
      "source": [
        "## Handling Data Bermasalah Lainnnya"
      ]
    },
    {
      "cell_type": "code",
      "execution_count": null,
      "metadata": {
        "colab": {
          "base_uri": "https://localhost:8080/"
        },
        "id": "a9fk7nrVRJVw",
        "outputId": "a0cf92c9-728b-4314-ee74-c989fbae3f26"
      },
      "outputs": [
        {
          "output_type": "execute_result",
          "data": {
            "text/plain": [
              "age          0\n",
              "job          0\n",
              "marital      0\n",
              "education    0\n",
              "default      0\n",
              "balance      0\n",
              "housing      0\n",
              "loan         0\n",
              "contact      0\n",
              "day          0\n",
              "month        0\n",
              "duration     0\n",
              "campaign     0\n",
              "pdays        0\n",
              "previous     0\n",
              "poutcome     0\n",
              "y            0\n",
              "dtype: int64"
            ]
          },
          "metadata": {},
          "execution_count": 11
        }
      ],
      "source": [
        "df.isnull().sum()"
      ]
    },
    {
      "cell_type": "markdown",
      "metadata": {
        "id": "hY8Xo46lRgRO"
      },
      "source": [
        "Walaupun tidak terdapat missing value pada setiap kolom, tetapi kita tetap perlu melihat nilai dari setiap masing-masing kolom. Apakah terdapat nilai-nilai yang unik, aneh, ataupun yang bermasalah yang kita perlua lakukan treatment?"
      ]
    },
    {
      "cell_type": "markdown",
      "metadata": {
        "id": "lNTCXgjdWZhQ"
      },
      "source": [
        "### For categorical datatype"
      ]
    },
    {
      "cell_type": "code",
      "execution_count": null,
      "metadata": {
        "colab": {
          "base_uri": "https://localhost:8080/"
        },
        "id": "XWtD5MhKRiv_",
        "outputId": "4305d5b9-84a8-4d44-fe1d-45c589fed814"
      },
      "outputs": [
        {
          "output_type": "execute_result",
          "data": {
            "text/plain": [
              "                job  marital  education default housing   loan   contact  \\\n",
              "count         41048    41048      41048   41048   41048  41048     41048   \n",
              "unique           12        3          4       2       2      2         3   \n",
              "top     blue-collar  married  secondary      no     yes     no  cellular   \n",
              "freq           9068    24571      21188   40251   23097  34172     25620   \n",
              "\n",
              "        month poutcome      y  \n",
              "count   41048    41048  41048  \n",
              "unique     12        4      2  \n",
              "top       may  unknown     no  \n",
              "freq    13022    35636  36707  "
            ],
            "text/html": [
              "\n",
              "  <div id=\"df-fc9edd3b-1e82-4acf-95e7-69197cc929fe\">\n",
              "    <div class=\"colab-df-container\">\n",
              "      <div>\n",
              "<style scoped>\n",
              "    .dataframe tbody tr th:only-of-type {\n",
              "        vertical-align: middle;\n",
              "    }\n",
              "\n",
              "    .dataframe tbody tr th {\n",
              "        vertical-align: top;\n",
              "    }\n",
              "\n",
              "    .dataframe thead th {\n",
              "        text-align: right;\n",
              "    }\n",
              "</style>\n",
              "<table border=\"1\" class=\"dataframe\">\n",
              "  <thead>\n",
              "    <tr style=\"text-align: right;\">\n",
              "      <th></th>\n",
              "      <th>job</th>\n",
              "      <th>marital</th>\n",
              "      <th>education</th>\n",
              "      <th>default</th>\n",
              "      <th>housing</th>\n",
              "      <th>loan</th>\n",
              "      <th>contact</th>\n",
              "      <th>month</th>\n",
              "      <th>poutcome</th>\n",
              "      <th>y</th>\n",
              "    </tr>\n",
              "  </thead>\n",
              "  <tbody>\n",
              "    <tr>\n",
              "      <th>count</th>\n",
              "      <td>41048</td>\n",
              "      <td>41048</td>\n",
              "      <td>41048</td>\n",
              "      <td>41048</td>\n",
              "      <td>41048</td>\n",
              "      <td>41048</td>\n",
              "      <td>41048</td>\n",
              "      <td>41048</td>\n",
              "      <td>41048</td>\n",
              "      <td>41048</td>\n",
              "    </tr>\n",
              "    <tr>\n",
              "      <th>unique</th>\n",
              "      <td>12</td>\n",
              "      <td>3</td>\n",
              "      <td>4</td>\n",
              "      <td>2</td>\n",
              "      <td>2</td>\n",
              "      <td>2</td>\n",
              "      <td>3</td>\n",
              "      <td>12</td>\n",
              "      <td>4</td>\n",
              "      <td>2</td>\n",
              "    </tr>\n",
              "    <tr>\n",
              "      <th>top</th>\n",
              "      <td>blue-collar</td>\n",
              "      <td>married</td>\n",
              "      <td>secondary</td>\n",
              "      <td>no</td>\n",
              "      <td>yes</td>\n",
              "      <td>no</td>\n",
              "      <td>cellular</td>\n",
              "      <td>may</td>\n",
              "      <td>unknown</td>\n",
              "      <td>no</td>\n",
              "    </tr>\n",
              "    <tr>\n",
              "      <th>freq</th>\n",
              "      <td>9068</td>\n",
              "      <td>24571</td>\n",
              "      <td>21188</td>\n",
              "      <td>40251</td>\n",
              "      <td>23097</td>\n",
              "      <td>34172</td>\n",
              "      <td>25620</td>\n",
              "      <td>13022</td>\n",
              "      <td>35636</td>\n",
              "      <td>36707</td>\n",
              "    </tr>\n",
              "  </tbody>\n",
              "</table>\n",
              "</div>\n",
              "      <button class=\"colab-df-convert\" onclick=\"convertToInteractive('df-fc9edd3b-1e82-4acf-95e7-69197cc929fe')\"\n",
              "              title=\"Convert this dataframe to an interactive table.\"\n",
              "              style=\"display:none;\">\n",
              "        \n",
              "  <svg xmlns=\"http://www.w3.org/2000/svg\" height=\"24px\"viewBox=\"0 0 24 24\"\n",
              "       width=\"24px\">\n",
              "    <path d=\"M0 0h24v24H0V0z\" fill=\"none\"/>\n",
              "    <path d=\"M18.56 5.44l.94 2.06.94-2.06 2.06-.94-2.06-.94-.94-2.06-.94 2.06-2.06.94zm-11 1L8.5 8.5l.94-2.06 2.06-.94-2.06-.94L8.5 2.5l-.94 2.06-2.06.94zm10 10l.94 2.06.94-2.06 2.06-.94-2.06-.94-.94-2.06-.94 2.06-2.06.94z\"/><path d=\"M17.41 7.96l-1.37-1.37c-.4-.4-.92-.59-1.43-.59-.52 0-1.04.2-1.43.59L10.3 9.45l-7.72 7.72c-.78.78-.78 2.05 0 2.83L4 21.41c.39.39.9.59 1.41.59.51 0 1.02-.2 1.41-.59l7.78-7.78 2.81-2.81c.8-.78.8-2.07 0-2.86zM5.41 20L4 18.59l7.72-7.72 1.47 1.35L5.41 20z\"/>\n",
              "  </svg>\n",
              "      </button>\n",
              "      \n",
              "  <style>\n",
              "    .colab-df-container {\n",
              "      display:flex;\n",
              "      flex-wrap:wrap;\n",
              "      gap: 12px;\n",
              "    }\n",
              "\n",
              "    .colab-df-convert {\n",
              "      background-color: #E8F0FE;\n",
              "      border: none;\n",
              "      border-radius: 50%;\n",
              "      cursor: pointer;\n",
              "      display: none;\n",
              "      fill: #1967D2;\n",
              "      height: 32px;\n",
              "      padding: 0 0 0 0;\n",
              "      width: 32px;\n",
              "    }\n",
              "\n",
              "    .colab-df-convert:hover {\n",
              "      background-color: #E2EBFA;\n",
              "      box-shadow: 0px 1px 2px rgba(60, 64, 67, 0.3), 0px 1px 3px 1px rgba(60, 64, 67, 0.15);\n",
              "      fill: #174EA6;\n",
              "    }\n",
              "\n",
              "    [theme=dark] .colab-df-convert {\n",
              "      background-color: #3B4455;\n",
              "      fill: #D2E3FC;\n",
              "    }\n",
              "\n",
              "    [theme=dark] .colab-df-convert:hover {\n",
              "      background-color: #434B5C;\n",
              "      box-shadow: 0px 1px 3px 1px rgba(0, 0, 0, 0.15);\n",
              "      filter: drop-shadow(0px 1px 2px rgba(0, 0, 0, 0.3));\n",
              "      fill: #FFFFFF;\n",
              "    }\n",
              "  </style>\n",
              "\n",
              "      <script>\n",
              "        const buttonEl =\n",
              "          document.querySelector('#df-fc9edd3b-1e82-4acf-95e7-69197cc929fe button.colab-df-convert');\n",
              "        buttonEl.style.display =\n",
              "          google.colab.kernel.accessAllowed ? 'block' : 'none';\n",
              "\n",
              "        async function convertToInteractive(key) {\n",
              "          const element = document.querySelector('#df-fc9edd3b-1e82-4acf-95e7-69197cc929fe');\n",
              "          const dataTable =\n",
              "            await google.colab.kernel.invokeFunction('convertToInteractive',\n",
              "                                                     [key], {});\n",
              "          if (!dataTable) return;\n",
              "\n",
              "          const docLinkHtml = 'Like what you see? Visit the ' +\n",
              "            '<a target=\"_blank\" href=https://colab.research.google.com/notebooks/data_table.ipynb>data table notebook</a>'\n",
              "            + ' to learn more about interactive tables.';\n",
              "          element.innerHTML = '';\n",
              "          dataTable['output_type'] = 'display_data';\n",
              "          await google.colab.output.renderOutput(dataTable, element);\n",
              "          const docLink = document.createElement('div');\n",
              "          docLink.innerHTML = docLinkHtml;\n",
              "          element.appendChild(docLink);\n",
              "        }\n",
              "      </script>\n",
              "    </div>\n",
              "  </div>\n",
              "  "
            ]
          },
          "metadata": {},
          "execution_count": 12
        }
      ],
      "source": [
        "df.describe(include=['O'])"
      ]
    },
    {
      "cell_type": "markdown",
      "metadata": {
        "id": "9bmMvunnRoBw"
      },
      "source": [
        "Jika kita lihat dari nilai statistik deskriptif untuk kolom kategorikal, seperti tidak terlihat ada data-data yang bermasalah. Kita perlu mencoba untuk menghitung nilai yang muncul pada setiap kolom kategorikal"
      ]
    },
    {
      "cell_type": "code",
      "execution_count": null,
      "metadata": {
        "colab": {
          "base_uri": "https://localhost:8080/"
        },
        "id": "yGueEnewRndo",
        "outputId": "51013fdf-1a83-4a34-a8ad-3fda3d6805b7"
      },
      "outputs": [
        {
          "output_type": "execute_result",
          "data": {
            "text/plain": [
              "blue-collar      9068\n",
              "management       8301\n",
              "technician       6817\n",
              "admin.           4711\n",
              "services         3863\n",
              "retired          1997\n",
              "self-employed    1455\n",
              "entrepreneur     1388\n",
              "unemployed       1210\n",
              "housemaid        1148\n",
              "student           818\n",
              "unknown           272\n",
              "Name: job, dtype: int64"
            ]
          },
          "metadata": {},
          "execution_count": 13
        }
      ],
      "source": [
        "#value_counts untuk kolom job\n",
        "df.job.value_counts()"
      ]
    },
    {
      "cell_type": "code",
      "execution_count": null,
      "metadata": {
        "colab": {
          "base_uri": "https://localhost:8080/"
        },
        "id": "Ql2GQ90oRrbQ",
        "outputId": "2094f728-87ab-4c7e-9705-1ac8336ed454"
      },
      "outputs": [
        {
          "output_type": "execute_result",
          "data": {
            "text/plain": [
              "married     24571\n",
              "single      11630\n",
              "divorced     4847\n",
              "Name: marital, dtype: int64"
            ]
          },
          "metadata": {},
          "execution_count": 14
        }
      ],
      "source": [
        "#value_counts untuk kolom marital\n",
        "df.marital.value_counts()"
      ]
    },
    {
      "cell_type": "code",
      "execution_count": null,
      "metadata": {
        "colab": {
          "base_uri": "https://localhost:8080/"
        },
        "id": "O90HbUuaRtOn",
        "outputId": "424ef72a-f97c-4488-d192-5d9d426b2242"
      },
      "outputs": [
        {
          "output_type": "execute_result",
          "data": {
            "text/plain": [
              "secondary    21188\n",
              "tertiary     11710\n",
              "primary       6408\n",
              "unknown       1742\n",
              "Name: education, dtype: int64"
            ]
          },
          "metadata": {},
          "execution_count": 15
        }
      ],
      "source": [
        "#value_counts untuk kolom education\n",
        "df.education.value_counts()"
      ]
    },
    {
      "cell_type": "code",
      "execution_count": null,
      "metadata": {
        "colab": {
          "base_uri": "https://localhost:8080/"
        },
        "id": "9tkAeX1fRvMF",
        "outputId": "88624ff1-c61c-4216-ec18-1eea029ee56a"
      },
      "outputs": [
        {
          "output_type": "execute_result",
          "data": {
            "text/plain": [
              "no     40251\n",
              "yes      797\n",
              "Name: default, dtype: int64"
            ]
          },
          "metadata": {},
          "execution_count": 16
        }
      ],
      "source": [
        "#value_counts untuk kolom default\n",
        "df.default.value_counts()"
      ]
    },
    {
      "cell_type": "code",
      "execution_count": null,
      "metadata": {
        "colab": {
          "base_uri": "https://localhost:8080/"
        },
        "id": "HOIPq-P5Rxux",
        "outputId": "3419d9f5-2917-4168-f584-85565e4261f4"
      },
      "outputs": [
        {
          "output_type": "execute_result",
          "data": {
            "text/plain": [
              "yes    23097\n",
              "no     17951\n",
              "Name: housing, dtype: int64"
            ]
          },
          "metadata": {},
          "execution_count": 17
        }
      ],
      "source": [
        "#value_counts untuk kolom housing\n",
        "df.housing.value_counts()"
      ]
    },
    {
      "cell_type": "code",
      "execution_count": null,
      "metadata": {
        "colab": {
          "base_uri": "https://localhost:8080/"
        },
        "id": "c0eDWSI6Rz05",
        "outputId": "db5185d0-1fe7-44a4-b0fc-29b5f3aadcbc"
      },
      "outputs": [
        {
          "output_type": "execute_result",
          "data": {
            "text/plain": [
              "no     34172\n",
              "yes     6876\n",
              "Name: loan, dtype: int64"
            ]
          },
          "metadata": {},
          "execution_count": 18
        }
      ],
      "source": [
        "#value_counts untuk kolom loan\n",
        "df.loan.value_counts()"
      ]
    },
    {
      "cell_type": "code",
      "execution_count": null,
      "metadata": {
        "colab": {
          "base_uri": "https://localhost:8080/"
        },
        "id": "utYS4zS0R2QU",
        "outputId": "3c30be13-1a7d-4898-9a94-942ede2752aa"
      },
      "outputs": [
        {
          "output_type": "execute_result",
          "data": {
            "text/plain": [
              "cellular     25620\n",
              "unknown      12823\n",
              "telephone     2605\n",
              "Name: contact, dtype: int64"
            ]
          },
          "metadata": {},
          "execution_count": 19
        }
      ],
      "source": [
        "#value_counts untuk kolom contact\n",
        "df.contact.value_counts()"
      ]
    },
    {
      "cell_type": "code",
      "execution_count": null,
      "metadata": {
        "colab": {
          "base_uri": "https://localhost:8080/"
        },
        "id": "E9igYwqQR5IZ",
        "outputId": "f382924a-4965-46c8-9029-447ed6c6373c"
      },
      "outputs": [
        {
          "output_type": "execute_result",
          "data": {
            "text/plain": [
              "may    13022\n",
              "jul     6533\n",
              "aug     5560\n",
              "jun     5081\n",
              "nov     3266\n",
              "apr     2540\n",
              "feb     2278\n",
              "jan     1211\n",
              "oct      560\n",
              "sep      439\n",
              "mar      391\n",
              "dec      167\n",
              "Name: month, dtype: int64"
            ]
          },
          "metadata": {},
          "execution_count": 20
        }
      ],
      "source": [
        "#value_counts untuk kolom month\n",
        "df.month.value_counts()"
      ]
    },
    {
      "cell_type": "code",
      "execution_count": null,
      "metadata": {
        "colab": {
          "base_uri": "https://localhost:8080/"
        },
        "id": "2BehqNsMR6kT",
        "outputId": "d30fa856-8f1e-4a07-e5f6-a22d9041275f"
      },
      "outputs": [
        {
          "output_type": "execute_result",
          "data": {
            "text/plain": [
              "unknown    35636\n",
              "failure     3052\n",
              "other       1722\n",
              "success      638\n",
              "Name: poutcome, dtype: int64"
            ]
          },
          "metadata": {},
          "execution_count": 21
        }
      ],
      "source": [
        "#value_counts untuk kolom poutcome\n",
        "df.poutcome.value_counts()"
      ]
    },
    {
      "cell_type": "code",
      "execution_count": null,
      "metadata": {
        "colab": {
          "base_uri": "https://localhost:8080/"
        },
        "id": "NlW5eFlYR77x",
        "outputId": "34640214-a261-47bc-b1f3-a73254611377"
      },
      "outputs": [
        {
          "output_type": "execute_result",
          "data": {
            "text/plain": [
              "no     36707\n",
              "yes     4341\n",
              "Name: y, dtype: int64"
            ]
          },
          "metadata": {},
          "execution_count": 22
        }
      ],
      "source": [
        "#value_counts untuk kolom y\n",
        "df.y.value_counts()"
      ]
    },
    {
      "cell_type": "code",
      "execution_count": null,
      "metadata": {
        "colab": {
          "base_uri": "https://localhost:8080/"
        },
        "id": "54PYY_GWR9Uy",
        "outputId": "63113878-21a9-44a7-a011-7608b27c882e"
      },
      "outputs": [
        {
          "output_type": "display_data",
          "data": {
            "text/plain": [
              "<Figure size 1800x2160 with 4 Axes>"
            ],
            "image/png": "[encoded data removed]"
          },
          "metadata": {
            "needs_background": "light"
          }
        }
      ],
      "source": [
        "cat='job education contact poutcome'.split()\n",
        "plt.figure(figsize=(25,30))\n",
        "for i in range(0, len(cat)):\n",
        "    plt.subplot(5,1,i+1)\n",
        "    sns.countplot(x=df[cat[i]])\n",
        "    plt.xticks(rotation=45)\n",
        "    plt.xlabel(cat[i],fontsize=20)\n",
        "    plt.tick_params(axis = 'both', which = 'major', labelsize = 15)\n",
        "    plt.tight_layout()"
      ]
    },
    {
      "cell_type": "markdown",
      "metadata": {
        "id": "FS77yLFOSIEt"
      },
      "source": [
        "Setelah kita hitung nilai pada setiap kolom kategorikalnya ternyata ditemukan beberapa hal, yaitu:\n",
        "- terdapat 272 nilai 'unknown' pada kolom job\n",
        "- terdapat 1742 nilai 'unknown' pada kolom education\n",
        "- terdapat 12823 nilai 'unknown' pada kolom contact\n",
        "- terdapat 35636 nilai 'unknown' pada kolom poutcome"
      ]
    },
    {
      "cell_type": "markdown",
      "metadata": {
        "id": "gNVdils5PH5-"
      },
      "source": [
        "*Mereplace nilai 'unknown' pada kolom job, education, dan contact dengan nilai modus dari masing-masing kolom tersebut*"
      ]
    },
    {
      "cell_type": "code",
      "execution_count": null,
      "metadata": {
        "id": "d5LUYWNsPOC8"
      },
      "outputs": [],
      "source": [
        "#lakukan imputasi/replace nilai modus pada kolom job, education, dan contact yang memiliki nilai 'unknown'\n",
        "col='job education contact'.split()\n",
        "#replace kolom job\n",
        "for i in col:\n",
        "  df[i]=df[i].replace(['unknown'],df[i].mode()[0])"
      ]
    },
    {
      "cell_type": "markdown",
      "metadata": {
        "id": "l_j1TFGfUz2G"
      },
      "source": [
        "*Untuk kolom poutcome, nilai 'unknown' dibiarkan saja karena nantinya kolom poutcome akan didrop karena dinilai memiliki potensi redundant dengan kolom pdays*"
      ]
    },
    {
      "cell_type": "code",
      "execution_count": null,
      "metadata": {
        "colab": {
          "base_uri": "https://localhost:8080/"
        },
        "id": "W0uxW-RvRMLU",
        "outputId": "46dd4597-ea25-408f-d81f-d29d4fbabc7b"
      },
      "outputs": [
        {
          "output_type": "display_data",
          "data": {
            "text/plain": [
              "<Figure size 1800x2160 with 4 Axes>"
            ],
            "image/png": "[encoded data removed]"
          },
          "metadata": {
            "needs_background": "light"
          }
        }
      ],
      "source": [
        "plt.figure(figsize=(25,30))\n",
        "for i in range(0, len(cat)):\n",
        "    plt.subplot(5,1,i+1)\n",
        "    sns.countplot(x=df[cat[i]])\n",
        "    plt.xticks(rotation=45)\n",
        "    plt.xlabel(cat[i],fontsize=20)\n",
        "    plt.tick_params(axis = 'both', which = 'major', labelsize = 15)\n",
        "    plt.tight_layout()"
      ]
    },
    {
      "cell_type": "markdown",
      "metadata": {
        "id": "9mQOco-rWhdE"
      },
      "source": [
        "### For numerical datatype"
      ]
    },
    {
      "cell_type": "code",
      "execution_count": null,
      "metadata": {
        "colab": {
          "base_uri": "https://localhost:8080/"
        },
        "id": "4JBDDZ9LRd1i",
        "outputId": "05e6404f-7b80-45d9-d536-31eb847b178a"
      },
      "outputs": [
        {
          "output_type": "execute_result",
          "data": {
            "text/plain": [
              "                age        balance           day      duration      campaign  \\\n",
              "count  41048.000000   41048.000000  41048.000000  41048.000000  41048.000000   \n",
              "mean      40.920483    1375.931129     15.819017    258.792365      2.801525   \n",
              "std       10.540510    3055.188601      8.309649    259.885728      3.144602   \n",
              "min       18.000000   -8019.000000      1.000000      0.000000      1.000000   \n",
              "25%       33.000000      91.000000      8.000000    102.000000      1.000000   \n",
              "50%       39.000000     469.000000     16.000000    180.000000      2.000000   \n",
              "75%       48.000000    1449.000000     21.000000    319.000000      3.000000   \n",
              "max       95.000000  102127.000000     31.000000   4918.000000     63.000000   \n",
              "\n",
              "              pdays      previous  \n",
              "count  41048.000000  41048.000000  \n",
              "mean      33.526189      0.425526  \n",
              "std       97.857183      2.189537  \n",
              "min       -1.000000      0.000000  \n",
              "25%       -1.000000      0.000000  \n",
              "50%       -1.000000      0.000000  \n",
              "75%       -1.000000      0.000000  \n",
              "max      871.000000    275.000000  "
            ],
            "text/html": [
              "\n",
              "  <div id=\"df-4956bebc-745c-4476-b2a4-4e4ec544f215\">\n",
              "    <div class=\"colab-df-container\">\n",
              "      <div>\n",
              "<style scoped>\n",
              "    .dataframe tbody tr th:only-of-type {\n",
              "        vertical-align: middle;\n",
              "    }\n",
              "\n",
              "    .dataframe tbody tr th {\n",
              "        vertical-align: top;\n",
              "    }\n",
              "\n",
              "    .dataframe thead th {\n",
              "        text-align: right;\n",
              "    }\n",
              "</style>\n",
              "<table border=\"1\" class=\"dataframe\">\n",
              "  <thead>\n",
              "    <tr style=\"text-align: right;\">\n",
              "      <th></th>\n",
              "      <th>age</th>\n",
              "      <th>balance</th>\n",
              "      <th>day</th>\n",
              "      <th>duration</th>\n",
              "      <th>campaign</th>\n",
              "      <th>pdays</th>\n",
              "      <th>previous</th>\n",
              "    </tr>\n",
              "  </thead>\n",
              "  <tbody>\n",
              "    <tr>\n",
              "      <th>count</th>\n",
              "      <td>41048.000000</td>\n",
              "      <td>41048.000000</td>\n",
              "      <td>41048.000000</td>\n",
              "      <td>41048.000000</td>\n",
              "      <td>41048.000000</td>\n",
              "      <td>41048.000000</td>\n",
              "      <td>41048.000000</td>\n",
              "    </tr>\n",
              "    <tr>\n",
              "      <th>mean</th>\n",
              "      <td>40.920483</td>\n",
              "      <td>1375.931129</td>\n",
              "      <td>15.819017</td>\n",
              "      <td>258.792365</td>\n",
              "      <td>2.801525</td>\n",
              "      <td>33.526189</td>\n",
              "      <td>0.425526</td>\n",
              "    </tr>\n",
              "    <tr>\n",
              "      <th>std</th>\n",
              "      <td>10.540510</td>\n",
              "      <td>3055.188601</td>\n",
              "      <td>8.309649</td>\n",
              "      <td>259.885728</td>\n",
              "      <td>3.144602</td>\n",
              "      <td>97.857183</td>\n",
              "      <td>2.189537</td>\n",
              "    </tr>\n",
              "    <tr>\n",
              "      <th>min</th>\n",
              "      <td>18.000000</td>\n",
              "      <td>-8019.000000</td>\n",
              "      <td>1.000000</td>\n",
              "      <td>0.000000</td>\n",
              "      <td>1.000000</td>\n",
              "      <td>-1.000000</td>\n",
              "      <td>0.000000</td>\n",
              "    </tr>\n",
              "    <tr>\n",
              "      <th>25%</th>\n",
              "      <td>33.000000</td>\n",
              "      <td>91.000000</td>\n",
              "      <td>8.000000</td>\n",
              "      <td>102.000000</td>\n",
              "      <td>1.000000</td>\n",
              "      <td>-1.000000</td>\n",
              "      <td>0.000000</td>\n",
              "    </tr>\n",
              "    <tr>\n",
              "      <th>50%</th>\n",
              "      <td>39.000000</td>\n",
              "      <td>469.000000</td>\n",
              "      <td>16.000000</td>\n",
              "      <td>180.000000</td>\n",
              "      <td>2.000000</td>\n",
              "      <td>-1.000000</td>\n",
              "      <td>0.000000</td>\n",
              "    </tr>\n",
              "    <tr>\n",
              "      <th>75%</th>\n",
              "      <td>48.000000</td>\n",
              "      <td>1449.000000</td>\n",
              "      <td>21.000000</td>\n",
              "      <td>319.000000</td>\n",
              "      <td>3.000000</td>\n",
              "      <td>-1.000000</td>\n",
              "      <td>0.000000</td>\n",
              "    </tr>\n",
              "    <tr>\n",
              "      <th>max</th>\n",
              "      <td>95.000000</td>\n",
              "      <td>102127.000000</td>\n",
              "      <td>31.000000</td>\n",
              "      <td>4918.000000</td>\n",
              "      <td>63.000000</td>\n",
              "      <td>871.000000</td>\n",
              "      <td>275.000000</td>\n",
              "    </tr>\n",
              "  </tbody>\n",
              "</table>\n",
              "</div>\n",
              "      <button class=\"colab-df-convert\" onclick=\"convertToInteractive('df-4956bebc-745c-4476-b2a4-4e4ec544f215')\"\n",
              "              title=\"Convert this dataframe to an interactive table.\"\n",
              "              style=\"display:none;\">\n",
              "        \n",
              "  <svg xmlns=\"http://www.w3.org/2000/svg\" height=\"24px\"viewBox=\"0 0 24 24\"\n",
              "       width=\"24px\">\n",
              "    <path d=\"M0 0h24v24H0V0z\" fill=\"none\"/>\n",
              "    <path d=\"M18.56 5.44l.94 2.06.94-2.06 2.06-.94-2.06-.94-.94-2.06-.94 2.06-2.06.94zm-11 1L8.5 8.5l.94-2.06 2.06-.94-2.06-.94L8.5 2.5l-.94 2.06-2.06.94zm10 10l.94 2.06.94-2.06 2.06-.94-2.06-.94-.94-2.06-.94 2.06-2.06.94z\"/><path d=\"M17.41 7.96l-1.37-1.37c-.4-.4-.92-.59-1.43-.59-.52 0-1.04.2-1.43.59L10.3 9.45l-7.72 7.72c-.78.78-.78 2.05 0 2.83L4 21.41c.39.39.9.59 1.41.59.51 0 1.02-.2 1.41-.59l7.78-7.78 2.81-2.81c.8-.78.8-2.07 0-2.86zM5.41 20L4 18.59l7.72-7.72 1.47 1.35L5.41 20z\"/>\n",
              "  </svg>\n",
              "      </button>\n",
              "      \n",
              "  <style>\n",
              "    .colab-df-container {\n",
              "      display:flex;\n",
              "      flex-wrap:wrap;\n",
              "      gap: 12px;\n",
              "    }\n",
              "\n",
              "    .colab-df-convert {\n",
              "      background-color: #E8F0FE;\n",
              "      border: none;\n",
              "      border-radius: 50%;\n",
              "      cursor: pointer;\n",
              "      display: none;\n",
              "      fill: #1967D2;\n",
              "      height: 32px;\n",
              "      padding: 0 0 0 0;\n",
              "      width: 32px;\n",
              "    }\n",
              "\n",
              "    .colab-df-convert:hover {\n",
              "      background-color: #E2EBFA;\n",
              "      box-shadow: 0px 1px 2px rgba(60, 64, 67, 0.3), 0px 1px 3px 1px rgba(60, 64, 67, 0.15);\n",
              "      fill: #174EA6;\n",
              "    }\n",
              "\n",
              "    [theme=dark] .colab-df-convert {\n",
              "      background-color: #3B4455;\n",
              "      fill: #D2E3FC;\n",
              "    }\n",
              "\n",
              "    [theme=dark] .colab-df-convert:hover {\n",
              "      background-color: #434B5C;\n",
              "      box-shadow: 0px 1px 3px 1px rgba(0, 0, 0, 0.15);\n",
              "      filter: drop-shadow(0px 1px 2px rgba(0, 0, 0, 0.3));\n",
              "      fill: #FFFFFF;\n",
              "    }\n",
              "  </style>\n",
              "\n",
              "      <script>\n",
              "        const buttonEl =\n",
              "          document.querySelector('#df-4956bebc-745c-4476-b2a4-4e4ec544f215 button.colab-df-convert');\n",
              "        buttonEl.style.display =\n",
              "          google.colab.kernel.accessAllowed ? 'block' : 'none';\n",
              "\n",
              "        async function convertToInteractive(key) {\n",
              "          const element = document.querySelector('#df-4956bebc-745c-4476-b2a4-4e4ec544f215');\n",
              "          const dataTable =\n",
              "            await google.colab.kernel.invokeFunction('convertToInteractive',\n",
              "                                                     [key], {});\n",
              "          if (!dataTable) return;\n",
              "\n",
              "          const docLinkHtml = 'Like what you see? Visit the ' +\n",
              "            '<a target=\"_blank\" href=https://colab.research.google.com/notebooks/data_table.ipynb>data table notebook</a>'\n",
              "            + ' to learn more about interactive tables.';\n",
              "          element.innerHTML = '';\n",
              "          dataTable['output_type'] = 'display_data';\n",
              "          await google.colab.output.renderOutput(dataTable, element);\n",
              "          const docLink = document.createElement('div');\n",
              "          docLink.innerHTML = docLinkHtml;\n",
              "          element.appendChild(docLink);\n",
              "        }\n",
              "      </script>\n",
              "    </div>\n",
              "  </div>\n",
              "  "
            ]
          },
          "metadata": {},
          "execution_count": 26
        }
      ],
      "source": [
        "df.describe()"
      ]
    },
    {
      "cell_type": "markdown",
      "metadata": {
        "id": "jv_c9dkZRjpC"
      },
      "source": [
        "Jika kita lihat dari nilai statistik deskriptif untuk kolom numerical, terdapat beberapa kolom yang memiliki nilai yang perlu perhatian:\n",
        "- kolom balance yang memiliki nilai minimum bernilai negatif,\n",
        "- kolom pdays yang memiliki nilai -1 ini memiliki arti bahwa customer tidak ditelpon dari campaign sebelumnya."
      ]
    },
    {
      "cell_type": "markdown",
      "metadata": {
        "id": "zKUA-QoA1yIR"
      },
      "source": [
        "**Mereplace nilai minus pada kolom balance dengan nilai 0**"
      ]
    },
    {
      "cell_type": "code",
      "execution_count": null,
      "metadata": {
        "colab": {
          "base_uri": "https://localhost:8080/"
        },
        "id": "uED_y_q31ujN",
        "outputId": "550bb950-3120-4583-94dd-497175047f26"
      },
      "outputs": [
        {
          "output_type": "stream",
          "name": "stderr",
          "text": [
            "/usr/local/lib/python3.7/dist-packages/ipykernel_launcher.py:1: SettingWithCopyWarning: \n",
            "A value is trying to be set on a copy of a slice from a DataFrame\n",
            "\n",
            "See the caveats in the documentation: https://pandas.pydata.org/pandas-docs/stable/user_guide/indexing.html#returning-a-view-versus-a-copy\n",
            "  \"\"\"Entry point for launching an IPython kernel.\n"
          ]
        }
      ],
      "source": [
        "df['balance'][df['balance']<0]=0"
      ]
    },
    {
      "cell_type": "markdown",
      "metadata": {
        "id": "3Q4xaoyG4oqT"
      },
      "source": [
        "Untuk kolom pdays tidak dilakukan treatment terhadap nilai anehnya, karena **nantinya kolom pdays ini akan didrop karena memiliki potensi redundant dengan kolom poutcome**"
      ]
    },
    {
      "cell_type": "markdown",
      "metadata": {
        "id": "PoUBiQV-n3IU"
      },
      "source": [
        "## Handle outliers"
      ]
    },
    {
      "cell_type": "code",
      "execution_count": null,
      "metadata": {
        "colab": {
          "base_uri": "https://localhost:8080/"
        },
        "id": "IYZ95Ba-nulZ",
        "outputId": "210a7e44-b836-422c-97c3-a52b047dee42"
      },
      "outputs": [
        {
          "output_type": "execute_result",
          "data": {
            "text/plain": [
              "   age           job  marital  education default  balance housing loan  \\\n",
              "0   58    management  married   tertiary      no     2143     yes   no   \n",
              "1   44    technician   single  secondary      no       29     yes   no   \n",
              "2   33  entrepreneur  married  secondary      no        2     yes  yes   \n",
              "3   47   blue-collar  married  secondary      no     1506     yes   no   \n",
              "4   33   blue-collar   single  secondary      no        1      no   no   \n",
              "\n",
              "    contact  day month  duration  campaign  pdays  previous poutcome   y  \n",
              "0  cellular    5   may       261         1     -1         0  unknown  no  \n",
              "1  cellular    5   may       151         1     -1         0  unknown  no  \n",
              "2  cellular    5   may        76         1     -1         0  unknown  no  \n",
              "3  cellular    5   may        92         1     -1         0  unknown  no  \n",
              "4  cellular    5   may       198         1     -1         0  unknown  no  "
            ],
            "text/html": [
              "\n",
              "  <div id=\"df-d705645a-66d9-48c6-8f8e-95b8c4e806d4\">\n",
              "    <div class=\"colab-df-container\">\n",
              "      <div>\n",
              "<style scoped>\n",
              "    .dataframe tbody tr th:only-of-type {\n",
              "        vertical-align: middle;\n",
              "    }\n",
              "\n",
              "    .dataframe tbody tr th {\n",
              "        vertical-align: top;\n",
              "    }\n",
              "\n",
              "    .dataframe thead th {\n",
              "        text-align: right;\n",
              "    }\n",
              "</style>\n",
              "<table border=\"1\" class=\"dataframe\">\n",
              "  <thead>\n",
              "    <tr style=\"text-align: right;\">\n",
              "      <th></th>\n",
              "      <th>age</th>\n",
              "      <th>job</th>\n",
              "      <th>marital</th>\n",
              "      <th>education</th>\n",
              "      <th>default</th>\n",
              "      <th>balance</th>\n",
              "      <th>housing</th>\n",
              "      <th>loan</th>\n",
              "      <th>contact</th>\n",
              "      <th>day</th>\n",
              "      <th>month</th>\n",
              "      <th>duration</th>\n",
              "      <th>campaign</th>\n",
              "      <th>pdays</th>\n",
              "      <th>previous</th>\n",
              "      <th>poutcome</th>\n",
              "      <th>y</th>\n",
              "    </tr>\n",
              "  </thead>\n",
              "  <tbody>\n",
              "    <tr>\n",
              "      <th>0</th>\n",
              "      <td>58</td>\n",
              "      <td>management</td>\n",
              "      <td>married</td>\n",
              "      <td>tertiary</td>\n",
              "      <td>no</td>\n",
              "      <td>2143</td>\n",
              "      <td>yes</td>\n",
              "      <td>no</td>\n",
              "      <td>cellular</td>\n",
              "      <td>5</td>\n",
              "      <td>may</td>\n",
              "      <td>261</td>\n",
              "      <td>1</td>\n",
              "      <td>-1</td>\n",
              "      <td>0</td>\n",
              "      <td>unknown</td>\n",
              "      <td>no</td>\n",
              "    </tr>\n",
              "    <tr>\n",
              "      <th>1</th>\n",
              "      <td>44</td>\n",
              "      <td>technician</td>\n",
              "      <td>single</td>\n",
              "      <td>secondary</td>\n",
              "      <td>no</td>\n",
              "      <td>29</td>\n",
              "      <td>yes</td>\n",
              "      <td>no</td>\n",
              "      <td>cellular</td>\n",
              "      <td>5</td>\n",
              "      <td>may</td>\n",
              "      <td>151</td>\n",
              "      <td>1</td>\n",
              "      <td>-1</td>\n",
              "      <td>0</td>\n",
              "      <td>unknown</td>\n",
              "      <td>no</td>\n",
              "    </tr>\n",
              "    <tr>\n",
              "      <th>2</th>\n",
              "      <td>33</td>\n",
              "      <td>entrepreneur</td>\n",
              "      <td>married</td>\n",
              "      <td>secondary</td>\n",
              "      <td>no</td>\n",
              "      <td>2</td>\n",
              "      <td>yes</td>\n",
              "      <td>yes</td>\n",
              "      <td>cellular</td>\n",
              "      <td>5</td>\n",
              "      <td>may</td>\n",
              "      <td>76</td>\n",
              "      <td>1</td>\n",
              "      <td>-1</td>\n",
              "      <td>0</td>\n",
              "      <td>unknown</td>\n",
              "      <td>no</td>\n",
              "    </tr>\n",
              "    <tr>\n",
              "      <th>3</th>\n",
              "      <td>47</td>\n",
              "      <td>blue-collar</td>\n",
              "      <td>married</td>\n",
              "      <td>secondary</td>\n",
              "      <td>no</td>\n",
              "      <td>1506</td>\n",
              "      <td>yes</td>\n",
              "      <td>no</td>\n",
              "      <td>cellular</td>\n",
              "      <td>5</td>\n",
              "      <td>may</td>\n",
              "      <td>92</td>\n",
              "      <td>1</td>\n",
              "      <td>-1</td>\n",
              "      <td>0</td>\n",
              "      <td>unknown</td>\n",
              "      <td>no</td>\n",
              "    </tr>\n",
              "    <tr>\n",
              "      <th>4</th>\n",
              "      <td>33</td>\n",
              "      <td>blue-collar</td>\n",
              "      <td>single</td>\n",
              "      <td>secondary</td>\n",
              "      <td>no</td>\n",
              "      <td>1</td>\n",
              "      <td>no</td>\n",
              "      <td>no</td>\n",
              "      <td>cellular</td>\n",
              "      <td>5</td>\n",
              "      <td>may</td>\n",
              "      <td>198</td>\n",
              "      <td>1</td>\n",
              "      <td>-1</td>\n",
              "      <td>0</td>\n",
              "      <td>unknown</td>\n",
              "      <td>no</td>\n",
              "    </tr>\n",
              "  </tbody>\n",
              "</table>\n",
              "</div>\n",
              "      <button class=\"colab-df-convert\" onclick=\"convertToInteractive('df-d705645a-66d9-48c6-8f8e-95b8c4e806d4')\"\n",
              "              title=\"Convert this dataframe to an interactive table.\"\n",
              "              style=\"display:none;\">\n",
              "        \n",
              "  <svg xmlns=\"http://www.w3.org/2000/svg\" height=\"24px\"viewBox=\"0 0 24 24\"\n",
              "       width=\"24px\">\n",
              "    <path d=\"M0 0h24v24H0V0z\" fill=\"none\"/>\n",
              "    <path d=\"M18.56 5.44l.94 2.06.94-2.06 2.06-.94-2.06-.94-.94-2.06-.94 2.06-2.06.94zm-11 1L8.5 8.5l.94-2.06 2.06-.94-2.06-.94L8.5 2.5l-.94 2.06-2.06.94zm10 10l.94 2.06.94-2.06 2.06-.94-2.06-.94-.94-2.06-.94 2.06-2.06.94z\"/><path d=\"M17.41 7.96l-1.37-1.37c-.4-.4-.92-.59-1.43-.59-.52 0-1.04.2-1.43.59L10.3 9.45l-7.72 7.72c-.78.78-.78 2.05 0 2.83L4 21.41c.39.39.9.59 1.41.59.51 0 1.02-.2 1.41-.59l7.78-7.78 2.81-2.81c.8-.78.8-2.07 0-2.86zM5.41 20L4 18.59l7.72-7.72 1.47 1.35L5.41 20z\"/>\n",
              "  </svg>\n",
              "      </button>\n",
              "      \n",
              "  <style>\n",
              "    .colab-df-container {\n",
              "      display:flex;\n",
              "      flex-wrap:wrap;\n",
              "      gap: 12px;\n",
              "    }\n",
              "\n",
              "    .colab-df-convert {\n",
              "      background-color: #E8F0FE;\n",
              "      border: none;\n",
              "      border-radius: 50%;\n",
              "      cursor: pointer;\n",
              "      display: none;\n",
              "      fill: #1967D2;\n",
              "      height: 32px;\n",
              "      padding: 0 0 0 0;\n",
              "      width: 32px;\n",
              "    }\n",
              "\n",
              "    .colab-df-convert:hover {\n",
              "      background-color: #E2EBFA;\n",
              "      box-shadow: 0px 1px 2px rgba(60, 64, 67, 0.3), 0px 1px 3px 1px rgba(60, 64, 67, 0.15);\n",
              "      fill: #174EA6;\n",
              "    }\n",
              "\n",
              "    [theme=dark] .colab-df-convert {\n",
              "      background-color: #3B4455;\n",
              "      fill: #D2E3FC;\n",
              "    }\n",
              "\n",
              "    [theme=dark] .colab-df-convert:hover {\n",
              "      background-color: #434B5C;\n",
              "      box-shadow: 0px 1px 3px 1px rgba(0, 0, 0, 0.15);\n",
              "      filter: drop-shadow(0px 1px 2px rgba(0, 0, 0, 0.3));\n",
              "      fill: #FFFFFF;\n",
              "    }\n",
              "  </style>\n",
              "\n",
              "      <script>\n",
              "        const buttonEl =\n",
              "          document.querySelector('#df-d705645a-66d9-48c6-8f8e-95b8c4e806d4 button.colab-df-convert');\n",
              "        buttonEl.style.display =\n",
              "          google.colab.kernel.accessAllowed ? 'block' : 'none';\n",
              "\n",
              "        async function convertToInteractive(key) {\n",
              "          const element = document.querySelector('#df-d705645a-66d9-48c6-8f8e-95b8c4e806d4');\n",
              "          const dataTable =\n",
              "            await google.colab.kernel.invokeFunction('convertToInteractive',\n",
              "                                                     [key], {});\n",
              "          if (!dataTable) return;\n",
              "\n",
              "          const docLinkHtml = 'Like what you see? Visit the ' +\n",
              "            '<a target=\"_blank\" href=https://colab.research.google.com/notebooks/data_table.ipynb>data table notebook</a>'\n",
              "            + ' to learn more about interactive tables.';\n",
              "          element.innerHTML = '';\n",
              "          dataTable['output_type'] = 'display_data';\n",
              "          await google.colab.output.renderOutput(dataTable, element);\n",
              "          const docLink = document.createElement('div');\n",
              "          docLink.innerHTML = docLinkHtml;\n",
              "          element.appendChild(docLink);\n",
              "        }\n",
              "      </script>\n",
              "    </div>\n",
              "  </div>\n",
              "  "
            ]
          },
          "metadata": {},
          "execution_count": 28
        }
      ],
      "source": [
        "df.head()"
      ]
    },
    {
      "cell_type": "code",
      "execution_count": null,
      "metadata": {
        "colab": {
          "base_uri": "https://localhost:8080/"
        },
        "id": "kUdaXn7QKXQZ",
        "outputId": "03009470-03fa-4772-f6d3-809a89bb12e4"
      },
      "outputs": [
        {
          "output_type": "execute_result",
          "data": {
            "text/plain": [
              "                age        balance           day      duration      campaign  \\\n",
              "count  41048.000000   41048.000000  41048.000000  41048.000000  41048.000000   \n",
              "mean      40.920483    1404.503191     15.819017    258.792365      2.801525   \n",
              "std       10.540510    3038.626528      8.309649    259.885728      3.144602   \n",
              "min       18.000000       0.000000      1.000000      0.000000      1.000000   \n",
              "25%       33.000000      91.000000      8.000000    102.000000      1.000000   \n",
              "50%       39.000000     469.000000     16.000000    180.000000      2.000000   \n",
              "75%       48.000000    1449.000000     21.000000    319.000000      3.000000   \n",
              "max       95.000000  102127.000000     31.000000   4918.000000     63.000000   \n",
              "\n",
              "              pdays      previous  \n",
              "count  41048.000000  41048.000000  \n",
              "mean      33.526189      0.425526  \n",
              "std       97.857183      2.189537  \n",
              "min       -1.000000      0.000000  \n",
              "25%       -1.000000      0.000000  \n",
              "50%       -1.000000      0.000000  \n",
              "75%       -1.000000      0.000000  \n",
              "max      871.000000    275.000000  "
            ],
            "text/html": [
              "\n",
              "  <div id=\"df-f8d70399-d155-41ac-ad66-fe304bfb1d33\">\n",
              "    <div class=\"colab-df-container\">\n",
              "      <div>\n",
              "<style scoped>\n",
              "    .dataframe tbody tr th:only-of-type {\n",
              "        vertical-align: middle;\n",
              "    }\n",
              "\n",
              "    .dataframe tbody tr th {\n",
              "        vertical-align: top;\n",
              "    }\n",
              "\n",
              "    .dataframe thead th {\n",
              "        text-align: right;\n",
              "    }\n",
              "</style>\n",
              "<table border=\"1\" class=\"dataframe\">\n",
              "  <thead>\n",
              "    <tr style=\"text-align: right;\">\n",
              "      <th></th>\n",
              "      <th>age</th>\n",
              "      <th>balance</th>\n",
              "      <th>day</th>\n",
              "      <th>duration</th>\n",
              "      <th>campaign</th>\n",
              "      <th>pdays</th>\n",
              "      <th>previous</th>\n",
              "    </tr>\n",
              "  </thead>\n",
              "  <tbody>\n",
              "    <tr>\n",
              "      <th>count</th>\n",
              "      <td>41048.000000</td>\n",
              "      <td>41048.000000</td>\n",
              "      <td>41048.000000</td>\n",
              "      <td>41048.000000</td>\n",
              "      <td>41048.000000</td>\n",
              "      <td>41048.000000</td>\n",
              "      <td>41048.000000</td>\n",
              "    </tr>\n",
              "    <tr>\n",
              "      <th>mean</th>\n",
              "      <td>40.920483</td>\n",
              "      <td>1404.503191</td>\n",
              "      <td>15.819017</td>\n",
              "      <td>258.792365</td>\n",
              "      <td>2.801525</td>\n",
              "      <td>33.526189</td>\n",
              "      <td>0.425526</td>\n",
              "    </tr>\n",
              "    <tr>\n",
              "      <th>std</th>\n",
              "      <td>10.540510</td>\n",
              "      <td>3038.626528</td>\n",
              "      <td>8.309649</td>\n",
              "      <td>259.885728</td>\n",
              "      <td>3.144602</td>\n",
              "      <td>97.857183</td>\n",
              "      <td>2.189537</td>\n",
              "    </tr>\n",
              "    <tr>\n",
              "      <th>min</th>\n",
              "      <td>18.000000</td>\n",
              "      <td>0.000000</td>\n",
              "      <td>1.000000</td>\n",
              "      <td>0.000000</td>\n",
              "      <td>1.000000</td>\n",
              "      <td>-1.000000</td>\n",
              "      <td>0.000000</td>\n",
              "    </tr>\n",
              "    <tr>\n",
              "      <th>25%</th>\n",
              "      <td>33.000000</td>\n",
              "      <td>91.000000</td>\n",
              "      <td>8.000000</td>\n",
              "      <td>102.000000</td>\n",
              "      <td>1.000000</td>\n",
              "      <td>-1.000000</td>\n",
              "      <td>0.000000</td>\n",
              "    </tr>\n",
              "    <tr>\n",
              "      <th>50%</th>\n",
              "      <td>39.000000</td>\n",
              "      <td>469.000000</td>\n",
              "      <td>16.000000</td>\n",
              "      <td>180.000000</td>\n",
              "      <td>2.000000</td>\n",
              "      <td>-1.000000</td>\n",
              "      <td>0.000000</td>\n",
              "    </tr>\n",
              "    <tr>\n",
              "      <th>75%</th>\n",
              "      <td>48.000000</td>\n",
              "      <td>1449.000000</td>\n",
              "      <td>21.000000</td>\n",
              "      <td>319.000000</td>\n",
              "      <td>3.000000</td>\n",
              "      <td>-1.000000</td>\n",
              "      <td>0.000000</td>\n",
              "    </tr>\n",
              "    <tr>\n",
              "      <th>max</th>\n",
              "      <td>95.000000</td>\n",
              "      <td>102127.000000</td>\n",
              "      <td>31.000000</td>\n",
              "      <td>4918.000000</td>\n",
              "      <td>63.000000</td>\n",
              "      <td>871.000000</td>\n",
              "      <td>275.000000</td>\n",
              "    </tr>\n",
              "  </tbody>\n",
              "</table>\n",
              "</div>\n",
              "      <button class=\"colab-df-convert\" onclick=\"convertToInteractive('df-f8d70399-d155-41ac-ad66-fe304bfb1d33')\"\n",
              "              title=\"Convert this dataframe to an interactive table.\"\n",
              "              style=\"display:none;\">\n",
              "        \n",
              "  <svg xmlns=\"http://www.w3.org/2000/svg\" height=\"24px\"viewBox=\"0 0 24 24\"\n",
              "       width=\"24px\">\n",
              "    <path d=\"M0 0h24v24H0V0z\" fill=\"none\"/>\n",
              "    <path d=\"M18.56 5.44l.94 2.06.94-2.06 2.06-.94-2.06-.94-.94-2.06-.94 2.06-2.06.94zm-11 1L8.5 8.5l.94-2.06 2.06-.94-2.06-.94L8.5 2.5l-.94 2.06-2.06.94zm10 10l.94 2.06.94-2.06 2.06-.94-2.06-.94-.94-2.06-.94 2.06-2.06.94z\"/><path d=\"M17.41 7.96l-1.37-1.37c-.4-.4-.92-.59-1.43-.59-.52 0-1.04.2-1.43.59L10.3 9.45l-7.72 7.72c-.78.78-.78 2.05 0 2.83L4 21.41c.39.39.9.59 1.41.59.51 0 1.02-.2 1.41-.59l7.78-7.78 2.81-2.81c.8-.78.8-2.07 0-2.86zM5.41 20L4 18.59l7.72-7.72 1.47 1.35L5.41 20z\"/>\n",
              "  </svg>\n",
              "      </button>\n",
              "      \n",
              "  <style>\n",
              "    .colab-df-container {\n",
              "      display:flex;\n",
              "      flex-wrap:wrap;\n",
              "      gap: 12px;\n",
              "    }\n",
              "\n",
              "    .colab-df-convert {\n",
              "      background-color: #E8F0FE;\n",
              "      border: none;\n",
              "      border-radius: 50%;\n",
              "      cursor: pointer;\n",
              "      display: none;\n",
              "      fill: #1967D2;\n",
              "      height: 32px;\n",
              "      padding: 0 0 0 0;\n",
              "      width: 32px;\n",
              "    }\n",
              "\n",
              "    .colab-df-convert:hover {\n",
              "      background-color: #E2EBFA;\n",
              "      box-shadow: 0px 1px 2px rgba(60, 64, 67, 0.3), 0px 1px 3px 1px rgba(60, 64, 67, 0.15);\n",
              "      fill: #174EA6;\n",
              "    }\n",
              "\n",
              "    [theme=dark] .colab-df-convert {\n",
              "      background-color: #3B4455;\n",
              "      fill: #D2E3FC;\n",
              "    }\n",
              "\n",
              "    [theme=dark] .colab-df-convert:hover {\n",
              "      background-color: #434B5C;\n",
              "      box-shadow: 0px 1px 3px 1px rgba(0, 0, 0, 0.15);\n",
              "      filter: drop-shadow(0px 1px 2px rgba(0, 0, 0, 0.3));\n",
              "      fill: #FFFFFF;\n",
              "    }\n",
              "  </style>\n",
              "\n",
              "      <script>\n",
              "        const buttonEl =\n",
              "          document.querySelector('#df-f8d70399-d155-41ac-ad66-fe304bfb1d33 button.colab-df-convert');\n",
              "        buttonEl.style.display =\n",
              "          google.colab.kernel.accessAllowed ? 'block' : 'none';\n",
              "\n",
              "        async function convertToInteractive(key) {\n",
              "          const element = document.querySelector('#df-f8d70399-d155-41ac-ad66-fe304bfb1d33');\n",
              "          const dataTable =\n",
              "            await google.colab.kernel.invokeFunction('convertToInteractive',\n",
              "                                                     [key], {});\n",
              "          if (!dataTable) return;\n",
              "\n",
              "          const docLinkHtml = 'Like what you see? Visit the ' +\n",
              "            '<a target=\"_blank\" href=https://colab.research.google.com/notebooks/data_table.ipynb>data table notebook</a>'\n",
              "            + ' to learn more about interactive tables.';\n",
              "          element.innerHTML = '';\n",
              "          dataTable['output_type'] = 'display_data';\n",
              "          await google.colab.output.renderOutput(dataTable, element);\n",
              "          const docLink = document.createElement('div');\n",
              "          docLink.innerHTML = docLinkHtml;\n",
              "          element.appendChild(docLink);\n",
              "        }\n",
              "      </script>\n",
              "    </div>\n",
              "  </div>\n",
              "  "
            ]
          },
          "metadata": {},
          "execution_count": 29
        }
      ],
      "source": [
        "df.describe()"
      ]
    },
    {
      "cell_type": "code",
      "execution_count": null,
      "metadata": {
        "colab": {
          "base_uri": "https://localhost:8080/"
        },
        "id": "qiUuZafR2xYd",
        "outputId": "06c8fff8-ef1e-4f1d-c48c-a28e907898a8"
      },
      "outputs": [
        {
          "output_type": "execute_result",
          "data": {
            "text/plain": [
              "age          0\n",
              "job          0\n",
              "marital      0\n",
              "education    0\n",
              "default      0\n",
              "balance      0\n",
              "housing      0\n",
              "loan         0\n",
              "contact      0\n",
              "day          0\n",
              "month        0\n",
              "duration     0\n",
              "campaign     0\n",
              "pdays        0\n",
              "previous     0\n",
              "poutcome     0\n",
              "y            0\n",
              "dtype: int64"
            ]
          },
          "metadata": {},
          "execution_count": 30
        }
      ],
      "source": [
        "# Mengecek Data kosong\n",
        "df.isna().sum()"
      ]
    },
    {
      "cell_type": "code",
      "execution_count": null,
      "metadata": {
        "colab": {
          "base_uri": "https://localhost:8080/"
        },
        "id": "xpd2WNvut6EX",
        "outputId": "f2bb2f85-ac59-4df0-b2dc-654aae7e6368"
      },
      "outputs": [
        {
          "output_type": "stream",
          "name": "stdout",
          "text": [
            "<class 'pandas.core.frame.DataFrame'>\n",
            "Int64Index: 41048 entries, 0 to 45210\n",
            "Data columns (total 17 columns):\n",
            " #   Column     Non-Null Count  Dtype \n",
            "---  ------     --------------  ----- \n",
            " 0   age        41048 non-null  int64 \n",
            " 1   job        41048 non-null  object\n",
            " 2   marital    41048 non-null  object\n",
            " 3   education  41048 non-null  object\n",
            " 4   default    41048 non-null  object\n",
            " 5   balance    41048 non-null  int64 \n",
            " 6   housing    41048 non-null  object\n",
            " 7   loan       41048 non-null  object\n",
            " 8   contact    41048 non-null  object\n",
            " 9   day        41048 non-null  int64 \n",
            " 10  month      41048 non-null  object\n",
            " 11  duration   41048 non-null  int64 \n",
            " 12  campaign   41048 non-null  int64 \n",
            " 13  pdays      41048 non-null  int64 \n",
            " 14  previous   41048 non-null  int64 \n",
            " 15  poutcome   41048 non-null  object\n",
            " 16  y          41048 non-null  object\n",
            "dtypes: int64(7), object(10)\n",
            "memory usage: 6.6+ MB\n"
          ]
        }
      ],
      "source": [
        "df.info()"
      ]
    },
    {
      "cell_type": "markdown",
      "metadata": {
        "id": "s4ffKnHT3BD0"
      },
      "source": [
        "Tidak ada data yang kosong"
      ]
    },
    {
      "cell_type": "code",
      "execution_count": null,
      "metadata": {
        "colab": {
          "base_uri": "https://localhost:8080/"
        },
        "id": "IrdWvZZOnwI4",
        "outputId": "8371bf05-b559-455b-c397-d1ab8cdbb0b1"
      },
      "outputs": [
        {
          "output_type": "execute_result",
          "data": {
            "text/plain": [
              "0"
            ]
          },
          "metadata": {},
          "execution_count": 32
        }
      ],
      "source": [
        "#df.duplicated(subset=['age','job','marital','education','default','balance','housing','loan','y']).sum()\n",
        "df.duplicated().sum()"
      ]
    },
    {
      "cell_type": "markdown",
      "metadata": {
        "id": "vZnME7z-22j9"
      },
      "source": [
        "Tidak ada data duplikat"
      ]
    },
    {
      "cell_type": "code",
      "execution_count": null,
      "metadata": {
        "id": "_bW0JeE-A7DW"
      },
      "outputs": [],
      "source": [
        "cats = ['job','marital','education','default','housing','loan','contact','month','poutcome','y']\n",
        "nums = ['age','balance','day','duration','campaign','pdays','previous']"
      ]
    },
    {
      "cell_type": "markdown",
      "metadata": {
        "id": "oSh8_zUC3jzb"
      },
      "source": [
        "Dari tampilan boxplot, terlihat bahwa terdapat **outlier** pada kolom : **Age, Balance, Duration, Campaign, Pdays, dan Previous**"
      ]
    },
    {
      "cell_type": "code",
      "execution_count": null,
      "metadata": {
        "colab": {
          "base_uri": "https://localhost:8080/"
        },
        "id": "0GCLKkMYQl-i",
        "outputId": "6ba644e0-7d51-401a-9e80-a1881cfe208c"
      },
      "outputs": [
        {
          "output_type": "display_data",
          "data": {
            "text/plain": [
              "<Figure size 864x360 with 7 Axes>"
            ],
            "image/png": "[encoded data removed]"
          },
          "metadata": {
            "needs_background": "light"
          }
        }
      ],
      "source": [
        "# kolom numerical dengan distplot\n",
        "features = nums\n",
        "plt.figure(figsize=(12, 5))\n",
        "for i in range(0, len(nums)):\n",
        "    plt.subplot(2, 4, i+1)\n",
        "    sns.kdeplot(x=df[features[i]])\n",
        "    plt.xlabel(features[i])\n",
        "    plt.tight_layout()"
      ]
    },
    {
      "cell_type": "markdown",
      "metadata": {
        "id": "8LcfV06ZRCjh"
      },
      "source": [
        "Dari data numerik, yang **skewed positive** adalah **Age, Balance, Duration, Campaign, Pdays, dan Previous**. Maka data tersebut dapat ditransformasi menggunakan log transformation"
      ]
    },
    {
      "cell_type": "code",
      "execution_count": null,
      "metadata": {
        "colab": {
          "base_uri": "https://localhost:8080/"
        },
        "id": "xHbn7VMd3sYc",
        "outputId": "2c430b02-3690-4428-b18e-e5d57c663df2"
      },
      "outputs": [
        {
          "output_type": "execute_result",
          "data": {
            "text/plain": [
              "                age        balance           day      duration      campaign  \\\n",
              "count  41048.000000   41048.000000  41048.000000  41048.000000  41048.000000   \n",
              "mean      40.920483    1404.503191     15.819017    258.792365      2.801525   \n",
              "std       10.540510    3038.626528      8.309649    259.885728      3.144602   \n",
              "min       18.000000       0.000000      1.000000      0.000000      1.000000   \n",
              "25%       33.000000      91.000000      8.000000    102.000000      1.000000   \n",
              "50%       39.000000     469.000000     16.000000    180.000000      2.000000   \n",
              "75%       48.000000    1449.000000     21.000000    319.000000      3.000000   \n",
              "max       95.000000  102127.000000     31.000000   4918.000000     63.000000   \n",
              "\n",
              "              pdays      previous  \n",
              "count  41048.000000  41048.000000  \n",
              "mean      33.526189      0.425526  \n",
              "std       97.857183      2.189537  \n",
              "min       -1.000000      0.000000  \n",
              "25%       -1.000000      0.000000  \n",
              "50%       -1.000000      0.000000  \n",
              "75%       -1.000000      0.000000  \n",
              "max      871.000000    275.000000  "
            ],
            "text/html": [
              "\n",
              "  <div id=\"df-9ca00bab-1113-4768-b503-b483a723108e\">\n",
              "    <div class=\"colab-df-container\">\n",
              "      <div>\n",
              "<style scoped>\n",
              "    .dataframe tbody tr th:only-of-type {\n",
              "        vertical-align: middle;\n",
              "    }\n",
              "\n",
              "    .dataframe tbody tr th {\n",
              "        vertical-align: top;\n",
              "    }\n",
              "\n",
              "    .dataframe thead th {\n",
              "        text-align: right;\n",
              "    }\n",
              "</style>\n",
              "<table border=\"1\" class=\"dataframe\">\n",
              "  <thead>\n",
              "    <tr style=\"text-align: right;\">\n",
              "      <th></th>\n",
              "      <th>age</th>\n",
              "      <th>balance</th>\n",
              "      <th>day</th>\n",
              "      <th>duration</th>\n",
              "      <th>campaign</th>\n",
              "      <th>pdays</th>\n",
              "      <th>previous</th>\n",
              "    </tr>\n",
              "  </thead>\n",
              "  <tbody>\n",
              "    <tr>\n",
              "      <th>count</th>\n",
              "      <td>41048.000000</td>\n",
              "      <td>41048.000000</td>\n",
              "      <td>41048.000000</td>\n",
              "      <td>41048.000000</td>\n",
              "      <td>41048.000000</td>\n",
              "      <td>41048.000000</td>\n",
              "      <td>41048.000000</td>\n",
              "    </tr>\n",
              "    <tr>\n",
              "      <th>mean</th>\n",
              "      <td>40.920483</td>\n",
              "      <td>1404.503191</td>\n",
              "      <td>15.819017</td>\n",
              "      <td>258.792365</td>\n",
              "      <td>2.801525</td>\n",
              "      <td>33.526189</td>\n",
              "      <td>0.425526</td>\n",
              "    </tr>\n",
              "    <tr>\n",
              "      <th>std</th>\n",
              "      <td>10.540510</td>\n",
              "      <td>3038.626528</td>\n",
              "      <td>8.309649</td>\n",
              "      <td>259.885728</td>\n",
              "      <td>3.144602</td>\n",
              "      <td>97.857183</td>\n",
              "      <td>2.189537</td>\n",
              "    </tr>\n",
              "    <tr>\n",
              "      <th>min</th>\n",
              "      <td>18.000000</td>\n",
              "      <td>0.000000</td>\n",
              "      <td>1.000000</td>\n",
              "      <td>0.000000</td>\n",
              "      <td>1.000000</td>\n",
              "      <td>-1.000000</td>\n",
              "      <td>0.000000</td>\n",
              "    </tr>\n",
              "    <tr>\n",
              "      <th>25%</th>\n",
              "      <td>33.000000</td>\n",
              "      <td>91.000000</td>\n",
              "      <td>8.000000</td>\n",
              "      <td>102.000000</td>\n",
              "      <td>1.000000</td>\n",
              "      <td>-1.000000</td>\n",
              "      <td>0.000000</td>\n",
              "    </tr>\n",
              "    <tr>\n",
              "      <th>50%</th>\n",
              "      <td>39.000000</td>\n",
              "      <td>469.000000</td>\n",
              "      <td>16.000000</td>\n",
              "      <td>180.000000</td>\n",
              "      <td>2.000000</td>\n",
              "      <td>-1.000000</td>\n",
              "      <td>0.000000</td>\n",
              "    </tr>\n",
              "    <tr>\n",
              "      <th>75%</th>\n",
              "      <td>48.000000</td>\n",
              "      <td>1449.000000</td>\n",
              "      <td>21.000000</td>\n",
              "      <td>319.000000</td>\n",
              "      <td>3.000000</td>\n",
              "      <td>-1.000000</td>\n",
              "      <td>0.000000</td>\n",
              "    </tr>\n",
              "    <tr>\n",
              "      <th>max</th>\n",
              "      <td>95.000000</td>\n",
              "      <td>102127.000000</td>\n",
              "      <td>31.000000</td>\n",
              "      <td>4918.000000</td>\n",
              "      <td>63.000000</td>\n",
              "      <td>871.000000</td>\n",
              "      <td>275.000000</td>\n",
              "    </tr>\n",
              "  </tbody>\n",
              "</table>\n",
              "</div>\n",
              "      <button class=\"colab-df-convert\" onclick=\"convertToInteractive('df-9ca00bab-1113-4768-b503-b483a723108e')\"\n",
              "              title=\"Convert this dataframe to an interactive table.\"\n",
              "              style=\"display:none;\">\n",
              "        \n",
              "  <svg xmlns=\"http://www.w3.org/2000/svg\" height=\"24px\"viewBox=\"0 0 24 24\"\n",
              "       width=\"24px\">\n",
              "    <path d=\"M0 0h24v24H0V0z\" fill=\"none\"/>\n",
              "    <path d=\"M18.56 5.44l.94 2.06.94-2.06 2.06-.94-2.06-.94-.94-2.06-.94 2.06-2.06.94zm-11 1L8.5 8.5l.94-2.06 2.06-.94-2.06-.94L8.5 2.5l-.94 2.06-2.06.94zm10 10l.94 2.06.94-2.06 2.06-.94-2.06-.94-.94-2.06-.94 2.06-2.06.94z\"/><path d=\"M17.41 7.96l-1.37-1.37c-.4-.4-.92-.59-1.43-.59-.52 0-1.04.2-1.43.59L10.3 9.45l-7.72 7.72c-.78.78-.78 2.05 0 2.83L4 21.41c.39.39.9.59 1.41.59.51 0 1.02-.2 1.41-.59l7.78-7.78 2.81-2.81c.8-.78.8-2.07 0-2.86zM5.41 20L4 18.59l7.72-7.72 1.47 1.35L5.41 20z\"/>\n",
              "  </svg>\n",
              "      </button>\n",
              "      \n",
              "  <style>\n",
              "    .colab-df-container {\n",
              "      display:flex;\n",
              "      flex-wrap:wrap;\n",
              "      gap: 12px;\n",
              "    }\n",
              "\n",
              "    .colab-df-convert {\n",
              "      background-color: #E8F0FE;\n",
              "      border: none;\n",
              "      border-radius: 50%;\n",
              "      cursor: pointer;\n",
              "      display: none;\n",
              "      fill: #1967D2;\n",
              "      height: 32px;\n",
              "      padding: 0 0 0 0;\n",
              "      width: 32px;\n",
              "    }\n",
              "\n",
              "    .colab-df-convert:hover {\n",
              "      background-color: #E2EBFA;\n",
              "      box-shadow: 0px 1px 2px rgba(60, 64, 67, 0.3), 0px 1px 3px 1px rgba(60, 64, 67, 0.15);\n",
              "      fill: #174EA6;\n",
              "    }\n",
              "\n",
              "    [theme=dark] .colab-df-convert {\n",
              "      background-color: #3B4455;\n",
              "      fill: #D2E3FC;\n",
              "    }\n",
              "\n",
              "    [theme=dark] .colab-df-convert:hover {\n",
              "      background-color: #434B5C;\n",
              "      box-shadow: 0px 1px 3px 1px rgba(0, 0, 0, 0.15);\n",
              "      filter: drop-shadow(0px 1px 2px rgba(0, 0, 0, 0.3));\n",
              "      fill: #FFFFFF;\n",
              "    }\n",
              "  </style>\n",
              "\n",
              "      <script>\n",
              "        const buttonEl =\n",
              "          document.querySelector('#df-9ca00bab-1113-4768-b503-b483a723108e button.colab-df-convert');\n",
              "        buttonEl.style.display =\n",
              "          google.colab.kernel.accessAllowed ? 'block' : 'none';\n",
              "\n",
              "        async function convertToInteractive(key) {\n",
              "          const element = document.querySelector('#df-9ca00bab-1113-4768-b503-b483a723108e');\n",
              "          const dataTable =\n",
              "            await google.colab.kernel.invokeFunction('convertToInteractive',\n",
              "                                                     [key], {});\n",
              "          if (!dataTable) return;\n",
              "\n",
              "          const docLinkHtml = 'Like what you see? Visit the ' +\n",
              "            '<a target=\"_blank\" href=https://colab.research.google.com/notebooks/data_table.ipynb>data table notebook</a>'\n",
              "            + ' to learn more about interactive tables.';\n",
              "          element.innerHTML = '';\n",
              "          dataTable['output_type'] = 'display_data';\n",
              "          await google.colab.output.renderOutput(dataTable, element);\n",
              "          const docLink = document.createElement('div');\n",
              "          docLink.innerHTML = docLinkHtml;\n",
              "          element.appendChild(docLink);\n",
              "        }\n",
              "      </script>\n",
              "    </div>\n",
              "  </div>\n",
              "  "
            ]
          },
          "metadata": {},
          "execution_count": 35
        }
      ],
      "source": [
        "df[nums].describe()"
      ]
    },
    {
      "cell_type": "code",
      "execution_count": null,
      "metadata": {
        "colab": {
          "base_uri": "https://localhost:8080/"
        },
        "id": "GLGN4-tGA5NU",
        "outputId": "5d4836f1-2cb4-4daa-bad8-70f3906240dc"
      },
      "outputs": [
        {
          "output_type": "stream",
          "name": "stdout",
          "text": [
            "job:\n",
            "blue-collar      9340\n",
            "management       8301\n",
            "technician       6817\n",
            "admin.           4711\n",
            "services         3863\n",
            "retired          1997\n",
            "self-employed    1455\n",
            "entrepreneur     1388\n",
            "unemployed       1210\n",
            "housemaid        1148\n",
            "student           818\n",
            "Name: job, dtype: int64\n",
            "\n",
            "marital:\n",
            "married     24571\n",
            "single      11630\n",
            "divorced     4847\n",
            "Name: marital, dtype: int64\n",
            "\n",
            "education:\n",
            "secondary    22930\n",
            "tertiary     11710\n",
            "primary       6408\n",
            "Name: education, dtype: int64\n",
            "\n",
            "default:\n",
            "no     40251\n",
            "yes      797\n",
            "Name: default, dtype: int64\n",
            "\n",
            "housing:\n",
            "yes    23097\n",
            "no     17951\n",
            "Name: housing, dtype: int64\n",
            "\n",
            "loan:\n",
            "no     34172\n",
            "yes     6876\n",
            "Name: loan, dtype: int64\n",
            "\n",
            "contact:\n",
            "cellular     38443\n",
            "telephone     2605\n",
            "Name: contact, dtype: int64\n",
            "\n",
            "month:\n",
            "may    13022\n",
            "jul     6533\n",
            "aug     5560\n",
            "jun     5081\n",
            "nov     3266\n",
            "apr     2540\n",
            "feb     2278\n",
            "jan     1211\n",
            "oct      560\n",
            "sep      439\n",
            "mar      391\n",
            "dec      167\n",
            "Name: month, dtype: int64\n",
            "\n",
            "poutcome:\n",
            "unknown    35636\n",
            "failure     3052\n",
            "other       1722\n",
            "success      638\n",
            "Name: poutcome, dtype: int64\n",
            "\n",
            "y:\n",
            "no     36707\n",
            "yes     4341\n",
            "Name: y, dtype: int64\n",
            "\n"
          ]
        }
      ],
      "source": [
        "for col in cats:\n",
        "    print(f'''{col}:''')\n",
        "    print(df[col].value_counts())\n",
        "    print()"
      ]
    },
    {
      "cell_type": "markdown",
      "metadata": {
        "id": "E0EuyBd3789M"
      },
      "source": [
        "Data numerical:\n",
        "1. age\t    : Normalisasi \n",
        "2. balance  : Log transformasi -> normalisasi -> z-score\n",
        "3. day\t    :  Masih bingung fungsinya utk apa,too many unique value (**drop?**)\n",
        ">Ide : Bisa dibuat perminggu (1-4), tapi soal tgl 25 gmn tuh orang2 ada yg gajian awal bulan, ada yg akhir bulan(?)\n",
        "4. duration\t: Log transformasi -> Normalisasi -> z-score\n",
        "5. campaign\t: (Drop) terlalu banyak (Q3) yang nilainya <=3 pdhl (max=63) \n",
        "6. pdays\t  : (Drop) terlalu banyak (Q3) yang nilai -1 (max=871)\n",
        "7. previous : (Drop soalnya sampe Q3 masih  0 ->max=275) Log tranformasi\n",
        "\n",
        "Data kategorikal:\n",
        "1. job : Label encoding -> **Drop values unknown 288** -setau saya kalo job bisa diisi dengan modus-\n",
        "2. marital : One hot encoding (**class imbalance atau no??**)\n",
        "3. education : Label encoding -> **Drop baris value unknown karena cuma 1857**{tapi bingung krn ada 1000++} -mungkin penerapannya bisa sama dengan job diisi dengan modus?-\n",
        "4. default (bin) : Label encoding (Class imbalance)-> **Oversampling**/drop\n",
        "5. housing (bin) : Label encoding \n",
        "6. loan (bin): Label encoding (Class imbalance) -> **Oversampling**/drop\n",
        "7. contact : Value 'unknown' terlalu banyak ~1/3 data -> **Drop**/oversampling\n",
        "8. month : One Hot encoding/**Drop** -> Too many unique values\n",
        "9. poutcome : **Drop**(/oversampling) Terlalu banyak kategori 'Unknown'"
      ]
    },
    {
      "cell_type": "markdown",
      "metadata": {
        "id": "ohdDjSHTSjSR"
      },
      "source": [
        "**Ada berapa jumlah baris dengan nominal 'balance' negative**"
      ]
    },
    {
      "cell_type": "code",
      "execution_count": null,
      "metadata": {
        "colab": {
          "base_uri": "https://localhost:8080/"
        },
        "id": "kKSnfoPEqLch",
        "outputId": "0f5b9bf3-f41f-4f2a-b031-6cc8462f08ed"
      },
      "outputs": [
        {
          "output_type": "execute_result",
          "data": {
            "text/plain": [
              "0"
            ]
          },
          "metadata": {},
          "execution_count": 37
        }
      ],
      "source": [
        "df[df['balance']<0].shape[0]"
      ]
    },
    {
      "cell_type": "markdown",
      "metadata": {
        "id": "2EUxJKE7UGBv"
      },
      "source": [
        "### Handling Outlier dengan Z-Score ##"
      ]
    },
    {
      "cell_type": "code",
      "execution_count": null,
      "metadata": {
        "id": "dVO9S4X_Ts6g"
      },
      "outputs": [],
      "source": [
        "from scipy import stats\n",
        "import numpy as np"
      ]
    },
    {
      "cell_type": "code",
      "execution_count": null,
      "metadata": {
        "id": "kypwNKkTayRN"
      },
      "outputs": [],
      "source": [
        "nums_skew = ['age','balance','duration','campaign','pdays','previous']"
      ]
    },
    {
      "cell_type": "code",
      "execution_count": null,
      "metadata": {
        "colab": {
          "base_uri": "https://localhost:8080/"
        },
        "id": "JFJ9RV2kTxPF",
        "outputId": "46a2ed59-8d84-4dd3-a530-c4943ce211c9"
      },
      "outputs": [
        {
          "output_type": "stream",
          "name": "stdout",
          "text": [
            "Jumlah baris sebelum memfilter outlier: 41048\n",
            "Jumlah baris setelah memfilter outlier: 36206\n"
          ]
        }
      ],
      "source": [
        "print(f'Jumlah baris sebelum memfilter outlier: {len(df)}')\n",
        "\n",
        "filtered_entries = np.array([True] * len(df))\n",
        "\n",
        "for col in nums:\n",
        "    zscore = abs(stats.zscore(df[col])) # hitung absolute z-scorenya\n",
        "    filtered_entries = (zscore < 3) & filtered_entries # keep yang kurang dari 3 absolute z-scorenya\n",
        "    \n",
        "df = df[filtered_entries] # filter, cuma ambil yang z-scorenya dibawah 3\n",
        "\n",
        "print(f'Jumlah baris setelah memfilter outlier: {len(df)}')"
      ]
    },
    {
      "cell_type": "markdown",
      "metadata": {
        "id": "4Hvc7UrJK7D2"
      },
      "source": [
        "###Visualisasi Data Setelah Penghapusan Outlier###"
      ]
    },
    {
      "cell_type": "code",
      "execution_count": null,
      "metadata": {
        "colab": {
          "base_uri": "https://localhost:8080/"
        },
        "id": "a9CsTFdfZ1mx",
        "outputId": "04046469-eae6-4f3b-ada3-da6cb3437207"
      },
      "outputs": [
        {
          "output_type": "display_data",
          "data": {
            "text/plain": [
              "<Figure size 864x360 with 7 Axes>"
            ],
            "image/png": "[encoded data removed]"
          },
          "metadata": {
            "needs_background": "light"
          }
        }
      ],
      "source": [
        "# kolom numerical dengan distplot\n",
        "features = nums\n",
        "plt.figure(figsize=(12, 5))\n",
        "for i in range(0, len(nums)):\n",
        "    plt.subplot(2, 4, i+1)\n",
        "    sns.kdeplot(x=df[features[i]])\n",
        "    plt.xlabel(features[i])\n",
        "    plt.tight_layout()"
      ]
    },
    {
      "cell_type": "code",
      "execution_count": null,
      "metadata": {
        "colab": {
          "base_uri": "https://localhost:8080/"
        },
        "id": "zMKIlaIMWqPo",
        "outputId": "558c6217-ea8a-4afd-dd89-652dbe480fdd"
      },
      "outputs": [
        {
          "output_type": "display_data",
          "data": {
            "text/plain": [
              "<Figure size 864x360 with 7 Axes>"
            ],
            "image/png": "[encoded data removed]"
          },
          "metadata": {
            "needs_background": "light"
          }
        }
      ],
      "source": [
        "# kolom numerical dengan boxplot\n",
        "features = nums\n",
        "plt.figure(figsize=(12,5))\n",
        "\n",
        "for i in range(0, len(nums)):\n",
        "    plt.subplot(1,len(features) , i+1)\n",
        "    sns.boxplot(y=df[features[i]], orient='v')\n",
        "    plt.xlabel(features[i])\n",
        "    plt.tight_layout()"
      ]
    },
    {
      "cell_type": "code",
      "execution_count": null,
      "metadata": {
        "colab": {
          "base_uri": "https://localhost:8080/"
        },
        "id": "SnXYrMZo3Rva",
        "outputId": "e6d9a1e8-7b9f-4ee4-817b-fb83dbcc5744"
      },
      "outputs": [
        {
          "output_type": "execute_result",
          "data": {
            "text/plain": [
              "                age       balance           day      duration      campaign  \\\n",
              "count  36206.000000  36206.000000  36206.000000  36206.000000  36206.000000   \n",
              "mean      40.698752   1124.963597     15.845385    236.377203      2.495553   \n",
              "std       10.076242   1699.870716      8.368657    192.631082      1.973312   \n",
              "min       18.000000      0.000000      1.000000      0.000000      1.000000   \n",
              "25%       33.000000     84.000000      8.000000    103.000000      1.000000   \n",
              "50%       39.000000    449.000000     16.000000    177.000000      2.000000   \n",
              "75%       48.000000   1364.000000     21.000000    307.000000      3.000000   \n",
              "max       72.000000  10500.000000     31.000000   1038.000000     12.000000   \n",
              "\n",
              "              pdays      previous  \n",
              "count  36206.000000  36206.000000  \n",
              "mean      14.971193      0.189554  \n",
              "std       58.446110      0.757453  \n",
              "min       -1.000000      0.000000  \n",
              "25%       -1.000000      0.000000  \n",
              "50%       -1.000000      0.000000  \n",
              "75%       -1.000000      0.000000  \n",
              "max      327.000000      6.000000  "
            ],
            "text/html": [
              "\n",
              "  <div id=\"df-08b3d286-0225-4e8d-8344-c825c3a57879\">\n",
              "    <div class=\"colab-df-container\">\n",
              "      <div>\n",
              "<style scoped>\n",
              "    .dataframe tbody tr th:only-of-type {\n",
              "        vertical-align: middle;\n",
              "    }\n",
              "\n",
              "    .dataframe tbody tr th {\n",
              "        vertical-align: top;\n",
              "    }\n",
              "\n",
              "    .dataframe thead th {\n",
              "        text-align: right;\n",
              "    }\n",
              "</style>\n",
              "<table border=\"1\" class=\"dataframe\">\n",
              "  <thead>\n",
              "    <tr style=\"text-align: right;\">\n",
              "      <th></th>\n",
              "      <th>age</th>\n",
              "      <th>balance</th>\n",
              "      <th>day</th>\n",
              "      <th>duration</th>\n",
              "      <th>campaign</th>\n",
              "      <th>pdays</th>\n",
              "      <th>previous</th>\n",
              "    </tr>\n",
              "  </thead>\n",
              "  <tbody>\n",
              "    <tr>\n",
              "      <th>count</th>\n",
              "      <td>36206.000000</td>\n",
              "      <td>36206.000000</td>\n",
              "      <td>36206.000000</td>\n",
              "      <td>36206.000000</td>\n",
              "      <td>36206.000000</td>\n",
              "      <td>36206.000000</td>\n",
              "      <td>36206.000000</td>\n",
              "    </tr>\n",
              "    <tr>\n",
              "      <th>mean</th>\n",
              "      <td>40.698752</td>\n",
              "      <td>1124.963597</td>\n",
              "      <td>15.845385</td>\n",
              "      <td>236.377203</td>\n",
              "      <td>2.495553</td>\n",
              "      <td>14.971193</td>\n",
              "      <td>0.189554</td>\n",
              "    </tr>\n",
              "    <tr>\n",
              "      <th>std</th>\n",
              "      <td>10.076242</td>\n",
              "      <td>1699.870716</td>\n",
              "      <td>8.368657</td>\n",
              "      <td>192.631082</td>\n",
              "      <td>1.973312</td>\n",
              "      <td>58.446110</td>\n",
              "      <td>0.757453</td>\n",
              "    </tr>\n",
              "    <tr>\n",
              "      <th>min</th>\n",
              "      <td>18.000000</td>\n",
              "      <td>0.000000</td>\n",
              "      <td>1.000000</td>\n",
              "      <td>0.000000</td>\n",
              "      <td>1.000000</td>\n",
              "      <td>-1.000000</td>\n",
              "      <td>0.000000</td>\n",
              "    </tr>\n",
              "    <tr>\n",
              "      <th>25%</th>\n",
              "      <td>33.000000</td>\n",
              "      <td>84.000000</td>\n",
              "      <td>8.000000</td>\n",
              "      <td>103.000000</td>\n",
              "      <td>1.000000</td>\n",
              "      <td>-1.000000</td>\n",
              "      <td>0.000000</td>\n",
              "    </tr>\n",
              "    <tr>\n",
              "      <th>50%</th>\n",
              "      <td>39.000000</td>\n",
              "      <td>449.000000</td>\n",
              "      <td>16.000000</td>\n",
              "      <td>177.000000</td>\n",
              "      <td>2.000000</td>\n",
              "      <td>-1.000000</td>\n",
              "      <td>0.000000</td>\n",
              "    </tr>\n",
              "    <tr>\n",
              "      <th>75%</th>\n",
              "      <td>48.000000</td>\n",
              "      <td>1364.000000</td>\n",
              "      <td>21.000000</td>\n",
              "      <td>307.000000</td>\n",
              "      <td>3.000000</td>\n",
              "      <td>-1.000000</td>\n",
              "      <td>0.000000</td>\n",
              "    </tr>\n",
              "    <tr>\n",
              "      <th>max</th>\n",
              "      <td>72.000000</td>\n",
              "      <td>10500.000000</td>\n",
              "      <td>31.000000</td>\n",
              "      <td>1038.000000</td>\n",
              "      <td>12.000000</td>\n",
              "      <td>327.000000</td>\n",
              "      <td>6.000000</td>\n",
              "    </tr>\n",
              "  </tbody>\n",
              "</table>\n",
              "</div>\n",
              "      <button class=\"colab-df-convert\" onclick=\"convertToInteractive('df-08b3d286-0225-4e8d-8344-c825c3a57879')\"\n",
              "              title=\"Convert this dataframe to an interactive table.\"\n",
              "              style=\"display:none;\">\n",
              "        \n",
              "  <svg xmlns=\"http://www.w3.org/2000/svg\" height=\"24px\"viewBox=\"0 0 24 24\"\n",
              "       width=\"24px\">\n",
              "    <path d=\"M0 0h24v24H0V0z\" fill=\"none\"/>\n",
              "    <path d=\"M18.56 5.44l.94 2.06.94-2.06 2.06-.94-2.06-.94-.94-2.06-.94 2.06-2.06.94zm-11 1L8.5 8.5l.94-2.06 2.06-.94-2.06-.94L8.5 2.5l-.94 2.06-2.06.94zm10 10l.94 2.06.94-2.06 2.06-.94-2.06-.94-.94-2.06-.94 2.06-2.06.94z\"/><path d=\"M17.41 7.96l-1.37-1.37c-.4-.4-.92-.59-1.43-.59-.52 0-1.04.2-1.43.59L10.3 9.45l-7.72 7.72c-.78.78-.78 2.05 0 2.83L4 21.41c.39.39.9.59 1.41.59.51 0 1.02-.2 1.41-.59l7.78-7.78 2.81-2.81c.8-.78.8-2.07 0-2.86zM5.41 20L4 18.59l7.72-7.72 1.47 1.35L5.41 20z\"/>\n",
              "  </svg>\n",
              "      </button>\n",
              "      \n",
              "  <style>\n",
              "    .colab-df-container {\n",
              "      display:flex;\n",
              "      flex-wrap:wrap;\n",
              "      gap: 12px;\n",
              "    }\n",
              "\n",
              "    .colab-df-convert {\n",
              "      background-color: #E8F0FE;\n",
              "      border: none;\n",
              "      border-radius: 50%;\n",
              "      cursor: pointer;\n",
              "      display: none;\n",
              "      fill: #1967D2;\n",
              "      height: 32px;\n",
              "      padding: 0 0 0 0;\n",
              "      width: 32px;\n",
              "    }\n",
              "\n",
              "    .colab-df-convert:hover {\n",
              "      background-color: #E2EBFA;\n",
              "      box-shadow: 0px 1px 2px rgba(60, 64, 67, 0.3), 0px 1px 3px 1px rgba(60, 64, 67, 0.15);\n",
              "      fill: #174EA6;\n",
              "    }\n",
              "\n",
              "    [theme=dark] .colab-df-convert {\n",
              "      background-color: #3B4455;\n",
              "      fill: #D2E3FC;\n",
              "    }\n",
              "\n",
              "    [theme=dark] .colab-df-convert:hover {\n",
              "      background-color: #434B5C;\n",
              "      box-shadow: 0px 1px 3px 1px rgba(0, 0, 0, 0.15);\n",
              "      filter: drop-shadow(0px 1px 2px rgba(0, 0, 0, 0.3));\n",
              "      fill: #FFFFFF;\n",
              "    }\n",
              "  </style>\n",
              "\n",
              "      <script>\n",
              "        const buttonEl =\n",
              "          document.querySelector('#df-08b3d286-0225-4e8d-8344-c825c3a57879 button.colab-df-convert');\n",
              "        buttonEl.style.display =\n",
              "          google.colab.kernel.accessAllowed ? 'block' : 'none';\n",
              "\n",
              "        async function convertToInteractive(key) {\n",
              "          const element = document.querySelector('#df-08b3d286-0225-4e8d-8344-c825c3a57879');\n",
              "          const dataTable =\n",
              "            await google.colab.kernel.invokeFunction('convertToInteractive',\n",
              "                                                     [key], {});\n",
              "          if (!dataTable) return;\n",
              "\n",
              "          const docLinkHtml = 'Like what you see? Visit the ' +\n",
              "            '<a target=\"_blank\" href=https://colab.research.google.com/notebooks/data_table.ipynb>data table notebook</a>'\n",
              "            + ' to learn more about interactive tables.';\n",
              "          element.innerHTML = '';\n",
              "          dataTable['output_type'] = 'display_data';\n",
              "          await google.colab.output.renderOutput(dataTable, element);\n",
              "          const docLink = document.createElement('div');\n",
              "          docLink.innerHTML = docLinkHtml;\n",
              "          element.appendChild(docLink);\n",
              "        }\n",
              "      </script>\n",
              "    </div>\n",
              "  </div>\n",
              "  "
            ]
          },
          "metadata": {},
          "execution_count": 43
        }
      ],
      "source": [
        "df.describe()"
      ]
    },
    {
      "cell_type": "markdown",
      "metadata": {
        "id": "PaCb4yd8XTNW"
      },
      "source": [
        "**Setelah menghapus outlier, data menjadi seperti di atas**"
      ]
    },
    {
      "cell_type": "markdown",
      "metadata": {
        "id": "8GNZqR8qUmax"
      },
      "source": [
        "# Data Transformation"
      ]
    },
    {
      "cell_type": "markdown",
      "metadata": {
        "id": "cgqz2PsrfT1T"
      },
      "source": [
        "**Distribusi age, balance,duration, campaign, pdays, previous (setelah log transformation)**"
      ]
    },
    {
      "cell_type": "markdown",
      "metadata": {
        "id": "eSO0da8mKY5T"
      },
      "source": [
        "Data numerical:\n",
        "1. age\t    : Norm\n",
        "2. balance  : STD aja deh\n",
        "3. day\t    : Norm\n",
        "4. duration\t: Log\n",
        "5. campaign\t: STD\n",
        "6. pdays\t  : Clipping (kl gk std)\n",
        "7. previous : Clipping (kl gk std)\n",
        "\n",
        "Income jangan make norm, karena penghasilan bisa ngjomplang orang satu dengan lainnya\n",
        "\n",
        "Klo norm itu usahakan yang gk banyak outlier, dan lebih ke normal\n"
      ]
    },
    {
      "cell_type": "markdown",
      "metadata": {
        "id": "r9NzAo-TRUSg"
      },
      "source": [
        "### Hasil Visualiasi jika transform menggunakan Log-Transformation ###"
      ]
    },
    {
      "cell_type": "code",
      "execution_count": null,
      "metadata": {
        "colab": {
          "base_uri": "https://localhost:8080/"
        },
        "id": "JJvwI5vjX0gl",
        "outputId": "1c2fe05a-c7a9-409f-9e1a-564c7b2a31dd"
      },
      "outputs": [
        {
          "output_type": "stream",
          "name": "stderr",
          "text": [
            "/usr/local/lib/python3.7/dist-packages/pandas/core/arraylike.py:364: RuntimeWarning: divide by zero encountered in log\n",
            "  result = getattr(ufunc, method)(*inputs, **kwargs)\n",
            "/usr/local/lib/python3.7/dist-packages/pandas/core/arraylike.py:364: RuntimeWarning: divide by zero encountered in log\n",
            "  result = getattr(ufunc, method)(*inputs, **kwargs)\n",
            "/usr/local/lib/python3.7/dist-packages/pandas/core/arraylike.py:364: RuntimeWarning: invalid value encountered in log\n",
            "  result = getattr(ufunc, method)(*inputs, **kwargs)\n",
            "/usr/local/lib/python3.7/dist-packages/pandas/core/arraylike.py:364: RuntimeWarning: divide by zero encountered in log\n",
            "  result = getattr(ufunc, method)(*inputs, **kwargs)\n"
          ]
        },
        {
          "output_type": "display_data",
          "data": {
            "text/plain": [
              "<Figure size 864x360 with 7 Axes>"
            ],
            "image/png": "[encoded data removed]"
          },
          "metadata": {
            "needs_background": "light"
          }
        }
      ],
      "source": [
        "# distribusi age, balance,duration, campaign, pdays, previous (setelah log transformation)\n",
        "\n",
        "#sns.kdeplot(np.log(df[nums_skew]))\n",
        "\n",
        "features = nums\n",
        "plt.figure(figsize=(12, 5))\n",
        "for i in range(0, len(nums)):\n",
        "    plt.subplot(2, 4, i+1)\n",
        "    sns.kdeplot(x=np.log(df[features[i]]))\n",
        "    plt.xlabel(features[i])\n",
        "    plt.tight_layout()"
      ]
    },
    {
      "cell_type": "markdown",
      "metadata": {
        "id": "xAsd5n_xjRp4"
      },
      "source": [
        "### Kita coba transformasi Kolom numerik ###"
      ]
    },
    {
      "cell_type": "code",
      "execution_count": null,
      "metadata": {
        "id": "v_suOB4Xyxgi"
      },
      "outputs": [],
      "source": [
        "from sklearn.preprocessing import MinMaxScaler, StandardScaler"
      ]
    },
    {
      "cell_type": "code",
      "execution_count": null,
      "metadata": {
        "id": "aFV8irbtjQlX"
      },
      "outputs": [],
      "source": [
        "# kita tranformasi\n",
        "df['age_norm'] = MinMaxScaler().fit_transform(df['age'].values.reshape(len(df), 1))\n",
        "df['balance_std'] = StandardScaler().fit_transform(df['balance'].values.reshape(len(df), 1))\n",
        "df['day_norm'] = MinMaxScaler().fit_transform(df['day'].values.reshape(len(df), 1))\n",
        "df['duration_std'] = StandardScaler().fit_transform(df['duration'].values.reshape(len(df), 1))\n",
        "df['campaign_std'] = StandardScaler().fit_transform(df['campaign'].values.reshape(len(df), 1))\n",
        "df['pdays_std'] = StandardScaler().fit_transform(df['pdays'].values.reshape(len(df), 1))\n",
        "df['previous_std'] = StandardScaler().fit_transform(df['previous'].values.reshape(len(df), 1))\n",
        "\n",
        "# drop kolom age, balance, duration, day, pdays, campaign, dan previous (nilai asli)\n",
        "df = df.drop(columns=['age','balance','duration','day','pdays', 'campaign', 'previous'])"
      ]
    },
    {
      "cell_type": "code",
      "execution_count": null,
      "metadata": {
        "colab": {
          "base_uri": "https://localhost:8080/"
        },
        "id": "pTy57bF7jsWT",
        "outputId": "66f2242a-aca4-4a1b-ec5b-59d7bd65283c"
      },
      "outputs": [
        {
          "output_type": "execute_result",
          "data": {
            "text/plain": [
              "           age_norm   balance_std      day_norm  duration_std  campaign_std  \\\n",
              "count  36206.000000  3.620600e+04  36206.000000  3.620600e+04  3.620600e+04   \n",
              "mean       0.420347  4.226868e-15      0.494846  1.267836e-16  9.420153e-16   \n",
              "std        0.186597  1.000014e+00      0.278955  1.000014e+00  1.000014e+00   \n",
              "min        0.000000 -6.618028e-01      0.000000 -1.227115e+00 -7.579005e-01   \n",
              "25%        0.277778 -6.123866e-01      0.233333 -6.924067e-01 -7.579005e-01   \n",
              "50%        0.388889 -3.976614e-01      0.500000 -3.082474e-01 -2.511312e-01   \n",
              "75%        0.555556  1.406223e-01      0.666667  3.666271e-01  2.556381e-01   \n",
              "max        1.000000  5.515223e+00      1.000000  4.161498e+00  4.816562e+00   \n",
              "\n",
              "          pdays_std  previous_std  \n",
              "count  3.620600e+04  3.620600e+04  \n",
              "mean  -5.724441e-14 -1.963578e-14  \n",
              "std    1.000014e+00  1.000014e+00  \n",
              "min   -2.732673e-01 -2.502555e-01  \n",
              "25%   -2.732673e-01 -2.502555e-01  \n",
              "50%   -2.732673e-01 -2.502555e-01  \n",
              "75%   -2.732673e-01 -2.502555e-01  \n",
              "max    5.338817e+00  7.671135e+00  "
            ],
            "text/html": [
              "\n",
              "  <div id=\"df-d6ed14aa-cf01-4d45-8198-c5f7d000d72b\">\n",
              "    <div class=\"colab-df-container\">\n",
              "      <div>\n",
              "<style scoped>\n",
              "    .dataframe tbody tr th:only-of-type {\n",
              "        vertical-align: middle;\n",
              "    }\n",
              "\n",
              "    .dataframe tbody tr th {\n",
              "        vertical-align: top;\n",
              "    }\n",
              "\n",
              "    .dataframe thead th {\n",
              "        text-align: right;\n",
              "    }\n",
              "</style>\n",
              "<table border=\"1\" class=\"dataframe\">\n",
              "  <thead>\n",
              "    <tr style=\"text-align: right;\">\n",
              "      <th></th>\n",
              "      <th>age_norm</th>\n",
              "      <th>balance_std</th>\n",
              "      <th>day_norm</th>\n",
              "      <th>duration_std</th>\n",
              "      <th>campaign_std</th>\n",
              "      <th>pdays_std</th>\n",
              "      <th>previous_std</th>\n",
              "    </tr>\n",
              "  </thead>\n",
              "  <tbody>\n",
              "    <tr>\n",
              "      <th>count</th>\n",
              "      <td>36206.000000</td>\n",
              "      <td>3.620600e+04</td>\n",
              "      <td>36206.000000</td>\n",
              "      <td>3.620600e+04</td>\n",
              "      <td>3.620600e+04</td>\n",
              "      <td>3.620600e+04</td>\n",
              "      <td>3.620600e+04</td>\n",
              "    </tr>\n",
              "    <tr>\n",
              "      <th>mean</th>\n",
              "      <td>0.420347</td>\n",
              "      <td>4.226868e-15</td>\n",
              "      <td>0.494846</td>\n",
              "      <td>1.267836e-16</td>\n",
              "      <td>9.420153e-16</td>\n",
              "      <td>-5.724441e-14</td>\n",
              "      <td>-1.963578e-14</td>\n",
              "    </tr>\n",
              "    <tr>\n",
              "      <th>std</th>\n",
              "      <td>0.186597</td>\n",
              "      <td>1.000014e+00</td>\n",
              "      <td>0.278955</td>\n",
              "      <td>1.000014e+00</td>\n",
              "      <td>1.000014e+00</td>\n",
              "      <td>1.000014e+00</td>\n",
              "      <td>1.000014e+00</td>\n",
              "    </tr>\n",
              "    <tr>\n",
              "      <th>min</th>\n",
              "      <td>0.000000</td>\n",
              "      <td>-6.618028e-01</td>\n",
              "      <td>0.000000</td>\n",
              "      <td>-1.227115e+00</td>\n",
              "      <td>-7.579005e-01</td>\n",
              "      <td>-2.732673e-01</td>\n",
              "      <td>-2.502555e-01</td>\n",
              "    </tr>\n",
              "    <tr>\n",
              "      <th>25%</th>\n",
              "      <td>0.277778</td>\n",
              "      <td>-6.123866e-01</td>\n",
              "      <td>0.233333</td>\n",
              "      <td>-6.924067e-01</td>\n",
              "      <td>-7.579005e-01</td>\n",
              "      <td>-2.732673e-01</td>\n",
              "      <td>-2.502555e-01</td>\n",
              "    </tr>\n",
              "    <tr>\n",
              "      <th>50%</th>\n",
              "      <td>0.388889</td>\n",
              "      <td>-3.976614e-01</td>\n",
              "      <td>0.500000</td>\n",
              "      <td>-3.082474e-01</td>\n",
              "      <td>-2.511312e-01</td>\n",
              "      <td>-2.732673e-01</td>\n",
              "      <td>-2.502555e-01</td>\n",
              "    </tr>\n",
              "    <tr>\n",
              "      <th>75%</th>\n",
              "      <td>0.555556</td>\n",
              "      <td>1.406223e-01</td>\n",
              "      <td>0.666667</td>\n",
              "      <td>3.666271e-01</td>\n",
              "      <td>2.556381e-01</td>\n",
              "      <td>-2.732673e-01</td>\n",
              "      <td>-2.502555e-01</td>\n",
              "    </tr>\n",
              "    <tr>\n",
              "      <th>max</th>\n",
              "      <td>1.000000</td>\n",
              "      <td>5.515223e+00</td>\n",
              "      <td>1.000000</td>\n",
              "      <td>4.161498e+00</td>\n",
              "      <td>4.816562e+00</td>\n",
              "      <td>5.338817e+00</td>\n",
              "      <td>7.671135e+00</td>\n",
              "    </tr>\n",
              "  </tbody>\n",
              "</table>\n",
              "</div>\n",
              "      <button class=\"colab-df-convert\" onclick=\"convertToInteractive('df-d6ed14aa-cf01-4d45-8198-c5f7d000d72b')\"\n",
              "              title=\"Convert this dataframe to an interactive table.\"\n",
              "              style=\"display:none;\">\n",
              "        \n",
              "  <svg xmlns=\"http://www.w3.org/2000/svg\" height=\"24px\"viewBox=\"0 0 24 24\"\n",
              "       width=\"24px\">\n",
              "    <path d=\"M0 0h24v24H0V0z\" fill=\"none\"/>\n",
              "    <path d=\"M18.56 5.44l.94 2.06.94-2.06 2.06-.94-2.06-.94-.94-2.06-.94 2.06-2.06.94zm-11 1L8.5 8.5l.94-2.06 2.06-.94-2.06-.94L8.5 2.5l-.94 2.06-2.06.94zm10 10l.94 2.06.94-2.06 2.06-.94-2.06-.94-.94-2.06-.94 2.06-2.06.94z\"/><path d=\"M17.41 7.96l-1.37-1.37c-.4-.4-.92-.59-1.43-.59-.52 0-1.04.2-1.43.59L10.3 9.45l-7.72 7.72c-.78.78-.78 2.05 0 2.83L4 21.41c.39.39.9.59 1.41.59.51 0 1.02-.2 1.41-.59l7.78-7.78 2.81-2.81c.8-.78.8-2.07 0-2.86zM5.41 20L4 18.59l7.72-7.72 1.47 1.35L5.41 20z\"/>\n",
              "  </svg>\n",
              "      </button>\n",
              "      \n",
              "  <style>\n",
              "    .colab-df-container {\n",
              "      display:flex;\n",
              "      flex-wrap:wrap;\n",
              "      gap: 12px;\n",
              "    }\n",
              "\n",
              "    .colab-df-convert {\n",
              "      background-color: #E8F0FE;\n",
              "      border: none;\n",
              "      border-radius: 50%;\n",
              "      cursor: pointer;\n",
              "      display: none;\n",
              "      fill: #1967D2;\n",
              "      height: 32px;\n",
              "      padding: 0 0 0 0;\n",
              "      width: 32px;\n",
              "    }\n",
              "\n",
              "    .colab-df-convert:hover {\n",
              "      background-color: #E2EBFA;\n",
              "      box-shadow: 0px 1px 2px rgba(60, 64, 67, 0.3), 0px 1px 3px 1px rgba(60, 64, 67, 0.15);\n",
              "      fill: #174EA6;\n",
              "    }\n",
              "\n",
              "    [theme=dark] .colab-df-convert {\n",
              "      background-color: #3B4455;\n",
              "      fill: #D2E3FC;\n",
              "    }\n",
              "\n",
              "    [theme=dark] .colab-df-convert:hover {\n",
              "      background-color: #434B5C;\n",
              "      box-shadow: 0px 1px 3px 1px rgba(0, 0, 0, 0.15);\n",
              "      filter: drop-shadow(0px 1px 2px rgba(0, 0, 0, 0.3));\n",
              "      fill: #FFFFFF;\n",
              "    }\n",
              "  </style>\n",
              "\n",
              "      <script>\n",
              "        const buttonEl =\n",
              "          document.querySelector('#df-d6ed14aa-cf01-4d45-8198-c5f7d000d72b button.colab-df-convert');\n",
              "        buttonEl.style.display =\n",
              "          google.colab.kernel.accessAllowed ? 'block' : 'none';\n",
              "\n",
              "        async function convertToInteractive(key) {\n",
              "          const element = document.querySelector('#df-d6ed14aa-cf01-4d45-8198-c5f7d000d72b');\n",
              "          const dataTable =\n",
              "            await google.colab.kernel.invokeFunction('convertToInteractive',\n",
              "                                                     [key], {});\n",
              "          if (!dataTable) return;\n",
              "\n",
              "          const docLinkHtml = 'Like what you see? Visit the ' +\n",
              "            '<a target=\"_blank\" href=https://colab.research.google.com/notebooks/data_table.ipynb>data table notebook</a>'\n",
              "            + ' to learn more about interactive tables.';\n",
              "          element.innerHTML = '';\n",
              "          dataTable['output_type'] = 'display_data';\n",
              "          await google.colab.output.renderOutput(dataTable, element);\n",
              "          const docLink = document.createElement('div');\n",
              "          docLink.innerHTML = docLinkHtml;\n",
              "          element.appendChild(docLink);\n",
              "        }\n",
              "      </script>\n",
              "    </div>\n",
              "  </div>\n",
              "  "
            ]
          },
          "metadata": {},
          "execution_count": 47
        }
      ],
      "source": [
        "df.describe()"
      ]
    },
    {
      "cell_type": "code",
      "execution_count": null,
      "metadata": {
        "colab": {
          "base_uri": "https://localhost:8080/"
        },
        "id": "pZC5xi4aM5Eo",
        "outputId": "70f037c6-3789-4b70-9fa0-403efc07785a"
      },
      "outputs": [
        {
          "output_type": "display_data",
          "data": {
            "text/plain": [
              "<Figure size 864x360 with 7 Axes>"
            ],
            "image/png": "[encoded data removed]"
          },
          "metadata": {
            "needs_background": "light"
          }
        }
      ],
      "source": [
        "# kolom numerical dengan boxplot\n",
        "nums_trans_check = ['age_norm',\t'balance_std',\t'duration_std','day_norm', 'pdays_std', 'campaign_std', 'previous_std']\n",
        "\n",
        "features = nums_trans_check\n",
        "plt.figure(figsize=(12,5))\n",
        "\n",
        "for i in range(0, len(nums_trans_check)):\n",
        "    plt.subplot(1,len(features) , i+1)\n",
        "    sns.boxplot(y=df[features[i]], orient='v')\n",
        "    plt.xlabel(features[i])\n",
        "    plt.tight_layout()"
      ]
    },
    {
      "cell_type": "code",
      "execution_count": null,
      "metadata": {
        "colab": {
          "base_uri": "https://localhost:8080/"
        },
        "id": "vjryI6LOGY31",
        "outputId": "4aeee578-595f-4d2b-bd2c-7a475f050695"
      },
      "outputs": [
        {
          "output_type": "execute_result",
          "data": {
            "text/plain": [
              "           age_norm   balance_std      day_norm  duration_std  campaign_std  \\\n",
              "count  36206.000000  3.620600e+04  36206.000000  3.620600e+04  3.620600e+04   \n",
              "mean       0.420347  4.226868e-15      0.494846  1.267836e-16  9.420153e-16   \n",
              "std        0.186597  1.000014e+00      0.278955  1.000014e+00  1.000014e+00   \n",
              "min        0.000000 -6.618028e-01      0.000000 -1.227115e+00 -7.579005e-01   \n",
              "25%        0.277778 -6.123866e-01      0.233333 -6.924067e-01 -7.579005e-01   \n",
              "50%        0.388889 -3.976614e-01      0.500000 -3.082474e-01 -2.511312e-01   \n",
              "75%        0.555556  1.406223e-01      0.666667  3.666271e-01  2.556381e-01   \n",
              "max        1.000000  5.515223e+00      1.000000  4.161498e+00  4.816562e+00   \n",
              "\n",
              "          pdays_std  previous_std  \n",
              "count  3.620600e+04  3.620600e+04  \n",
              "mean  -5.724441e-14 -1.963578e-14  \n",
              "std    1.000014e+00  1.000014e+00  \n",
              "min   -2.732673e-01 -2.502555e-01  \n",
              "25%   -2.732673e-01 -2.502555e-01  \n",
              "50%   -2.732673e-01 -2.502555e-01  \n",
              "75%   -2.732673e-01 -2.502555e-01  \n",
              "max    5.338817e+00  7.671135e+00  "
            ],
            "text/html": [
              "\n",
              "  <div id=\"df-baadca79-251f-4e14-86ee-5952abad0a2f\">\n",
              "    <div class=\"colab-df-container\">\n",
              "      <div>\n",
              "<style scoped>\n",
              "    .dataframe tbody tr th:only-of-type {\n",
              "        vertical-align: middle;\n",
              "    }\n",
              "\n",
              "    .dataframe tbody tr th {\n",
              "        vertical-align: top;\n",
              "    }\n",
              "\n",
              "    .dataframe thead th {\n",
              "        text-align: right;\n",
              "    }\n",
              "</style>\n",
              "<table border=\"1\" class=\"dataframe\">\n",
              "  <thead>\n",
              "    <tr style=\"text-align: right;\">\n",
              "      <th></th>\n",
              "      <th>age_norm</th>\n",
              "      <th>balance_std</th>\n",
              "      <th>day_norm</th>\n",
              "      <th>duration_std</th>\n",
              "      <th>campaign_std</th>\n",
              "      <th>pdays_std</th>\n",
              "      <th>previous_std</th>\n",
              "    </tr>\n",
              "  </thead>\n",
              "  <tbody>\n",
              "    <tr>\n",
              "      <th>count</th>\n",
              "      <td>36206.000000</td>\n",
              "      <td>3.620600e+04</td>\n",
              "      <td>36206.000000</td>\n",
              "      <td>3.620600e+04</td>\n",
              "      <td>3.620600e+04</td>\n",
              "      <td>3.620600e+04</td>\n",
              "      <td>3.620600e+04</td>\n",
              "    </tr>\n",
              "    <tr>\n",
              "      <th>mean</th>\n",
              "      <td>0.420347</td>\n",
              "      <td>4.226868e-15</td>\n",
              "      <td>0.494846</td>\n",
              "      <td>1.267836e-16</td>\n",
              "      <td>9.420153e-16</td>\n",
              "      <td>-5.724441e-14</td>\n",
              "      <td>-1.963578e-14</td>\n",
              "    </tr>\n",
              "    <tr>\n",
              "      <th>std</th>\n",
              "      <td>0.186597</td>\n",
              "      <td>1.000014e+00</td>\n",
              "      <td>0.278955</td>\n",
              "      <td>1.000014e+00</td>\n",
              "      <td>1.000014e+00</td>\n",
              "      <td>1.000014e+00</td>\n",
              "      <td>1.000014e+00</td>\n",
              "    </tr>\n",
              "    <tr>\n",
              "      <th>min</th>\n",
              "      <td>0.000000</td>\n",
              "      <td>-6.618028e-01</td>\n",
              "      <td>0.000000</td>\n",
              "      <td>-1.227115e+00</td>\n",
              "      <td>-7.579005e-01</td>\n",
              "      <td>-2.732673e-01</td>\n",
              "      <td>-2.502555e-01</td>\n",
              "    </tr>\n",
              "    <tr>\n",
              "      <th>25%</th>\n",
              "      <td>0.277778</td>\n",
              "      <td>-6.123866e-01</td>\n",
              "      <td>0.233333</td>\n",
              "      <td>-6.924067e-01</td>\n",
              "      <td>-7.579005e-01</td>\n",
              "      <td>-2.732673e-01</td>\n",
              "      <td>-2.502555e-01</td>\n",
              "    </tr>\n",
              "    <tr>\n",
              "      <th>50%</th>\n",
              "      <td>0.388889</td>\n",
              "      <td>-3.976614e-01</td>\n",
              "      <td>0.500000</td>\n",
              "      <td>-3.082474e-01</td>\n",
              "      <td>-2.511312e-01</td>\n",
              "      <td>-2.732673e-01</td>\n",
              "      <td>-2.502555e-01</td>\n",
              "    </tr>\n",
              "    <tr>\n",
              "      <th>75%</th>\n",
              "      <td>0.555556</td>\n",
              "      <td>1.406223e-01</td>\n",
              "      <td>0.666667</td>\n",
              "      <td>3.666271e-01</td>\n",
              "      <td>2.556381e-01</td>\n",
              "      <td>-2.732673e-01</td>\n",
              "      <td>-2.502555e-01</td>\n",
              "    </tr>\n",
              "    <tr>\n",
              "      <th>max</th>\n",
              "      <td>1.000000</td>\n",
              "      <td>5.515223e+00</td>\n",
              "      <td>1.000000</td>\n",
              "      <td>4.161498e+00</td>\n",
              "      <td>4.816562e+00</td>\n",
              "      <td>5.338817e+00</td>\n",
              "      <td>7.671135e+00</td>\n",
              "    </tr>\n",
              "  </tbody>\n",
              "</table>\n",
              "</div>\n",
              "      <button class=\"colab-df-convert\" onclick=\"convertToInteractive('df-baadca79-251f-4e14-86ee-5952abad0a2f')\"\n",
              "              title=\"Convert this dataframe to an interactive table.\"\n",
              "              style=\"display:none;\">\n",
              "        \n",
              "  <svg xmlns=\"http://www.w3.org/2000/svg\" height=\"24px\"viewBox=\"0 0 24 24\"\n",
              "       width=\"24px\">\n",
              "    <path d=\"M0 0h24v24H0V0z\" fill=\"none\"/>\n",
              "    <path d=\"M18.56 5.44l.94 2.06.94-2.06 2.06-.94-2.06-.94-.94-2.06-.94 2.06-2.06.94zm-11 1L8.5 8.5l.94-2.06 2.06-.94-2.06-.94L8.5 2.5l-.94 2.06-2.06.94zm10 10l.94 2.06.94-2.06 2.06-.94-2.06-.94-.94-2.06-.94 2.06-2.06.94z\"/><path d=\"M17.41 7.96l-1.37-1.37c-.4-.4-.92-.59-1.43-.59-.52 0-1.04.2-1.43.59L10.3 9.45l-7.72 7.72c-.78.78-.78 2.05 0 2.83L4 21.41c.39.39.9.59 1.41.59.51 0 1.02-.2 1.41-.59l7.78-7.78 2.81-2.81c.8-.78.8-2.07 0-2.86zM5.41 20L4 18.59l7.72-7.72 1.47 1.35L5.41 20z\"/>\n",
              "  </svg>\n",
              "      </button>\n",
              "      \n",
              "  <style>\n",
              "    .colab-df-container {\n",
              "      display:flex;\n",
              "      flex-wrap:wrap;\n",
              "      gap: 12px;\n",
              "    }\n",
              "\n",
              "    .colab-df-convert {\n",
              "      background-color: #E8F0FE;\n",
              "      border: none;\n",
              "      border-radius: 50%;\n",
              "      cursor: pointer;\n",
              "      display: none;\n",
              "      fill: #1967D2;\n",
              "      height: 32px;\n",
              "      padding: 0 0 0 0;\n",
              "      width: 32px;\n",
              "    }\n",
              "\n",
              "    .colab-df-convert:hover {\n",
              "      background-color: #E2EBFA;\n",
              "      box-shadow: 0px 1px 2px rgba(60, 64, 67, 0.3), 0px 1px 3px 1px rgba(60, 64, 67, 0.15);\n",
              "      fill: #174EA6;\n",
              "    }\n",
              "\n",
              "    [theme=dark] .colab-df-convert {\n",
              "      background-color: #3B4455;\n",
              "      fill: #D2E3FC;\n",
              "    }\n",
              "\n",
              "    [theme=dark] .colab-df-convert:hover {\n",
              "      background-color: #434B5C;\n",
              "      box-shadow: 0px 1px 3px 1px rgba(0, 0, 0, 0.15);\n",
              "      filter: drop-shadow(0px 1px 2px rgba(0, 0, 0, 0.3));\n",
              "      fill: #FFFFFF;\n",
              "    }\n",
              "  </style>\n",
              "\n",
              "      <script>\n",
              "        const buttonEl =\n",
              "          document.querySelector('#df-baadca79-251f-4e14-86ee-5952abad0a2f button.colab-df-convert');\n",
              "        buttonEl.style.display =\n",
              "          google.colab.kernel.accessAllowed ? 'block' : 'none';\n",
              "\n",
              "        async function convertToInteractive(key) {\n",
              "          const element = document.querySelector('#df-baadca79-251f-4e14-86ee-5952abad0a2f');\n",
              "          const dataTable =\n",
              "            await google.colab.kernel.invokeFunction('convertToInteractive',\n",
              "                                                     [key], {});\n",
              "          if (!dataTable) return;\n",
              "\n",
              "          const docLinkHtml = 'Like what you see? Visit the ' +\n",
              "            '<a target=\"_blank\" href=https://colab.research.google.com/notebooks/data_table.ipynb>data table notebook</a>'\n",
              "            + ' to learn more about interactive tables.';\n",
              "          element.innerHTML = '';\n",
              "          dataTable['output_type'] = 'display_data';\n",
              "          await google.colab.output.renderOutput(dataTable, element);\n",
              "          const docLink = document.createElement('div');\n",
              "          docLink.innerHTML = docLinkHtml;\n",
              "          element.appendChild(docLink);\n",
              "        }\n",
              "      </script>\n",
              "    </div>\n",
              "  </div>\n",
              "  "
            ]
          },
          "metadata": {},
          "execution_count": 49
        }
      ],
      "source": [
        "df.describe()"
      ]
    },
    {
      "cell_type": "code",
      "execution_count": null,
      "metadata": {
        "colab": {
          "base_uri": "https://localhost:8080/"
        },
        "id": "5wVEjL6m0izl",
        "outputId": "a8d78ff7-402e-4f21-e772-a1f9b6451ff8"
      },
      "outputs": [
        {
          "output_type": "execute_result",
          "data": {
            "text/plain": [
              "-0.661803    5167\n",
              "-0.661214     172\n",
              "-0.660626     131\n",
              "-0.659450     119\n",
              "-0.660038     109\n",
              "             ... \n",
              " 0.406529       1\n",
              " 3.675646       1\n",
              " 2.334937       1\n",
              " 3.849191       1\n",
              " 5.050475       1\n",
              "Name: balance_std, Length: 5500, dtype: int64"
            ]
          },
          "metadata": {},
          "execution_count": 50
        }
      ],
      "source": [
        "df['balance_std'].value_counts()"
      ]
    },
    {
      "cell_type": "code",
      "execution_count": null,
      "metadata": {
        "colab": {
          "base_uri": "https://localhost:8080/"
        },
        "id": "hzjqCCkw5VSQ",
        "outputId": "bc3eafee-db2d-4af0-f7bd-1c6f7c9226ca"
      },
      "outputs": [
        {
          "output_type": "display_data",
          "data": {
            "text/plain": [
              "<Figure size 864x360 with 7 Axes>"
            ],
            "image/png": "[encoded data removed]"
          },
          "metadata": {
            "needs_background": "light"
          }
        }
      ],
      "source": [
        "nums_trans_check = ['age_norm',\t'balance_std',\t'duration_std','day_norm', 'pdays_std', 'campaign_std', 'previous_std']\n",
        "\n",
        "features = nums_trans_check\n",
        "plt.figure(figsize=(12, 5))\n",
        "for i in range(0, len(nums_trans_check)):\n",
        "    plt.subplot(2, 4, i+1)\n",
        "    sns.kdeplot(x=(df[features[i]]))\n",
        "    plt.xlabel(features[i])\n",
        "    plt.tight_layout()"
      ]
    },
    {
      "cell_type": "markdown",
      "metadata": {
        "id": "--_uQVGcNGvG"
      },
      "source": [
        "### Hasil analisa:###\n",
        "\n",
        "1. Untuk kolom Day dan Age sementara dipilih menggunakan Normaliasasi, sedangkan lainnya menggunakan Standarisasi karena yang lain terlihat di boxplot banyak sekali terdapat outlier\n",
        "\n",
        "2. Berdasarkan boxplot:\n",
        "*   Kolom Age masih memiliki sedikit outlier\n",
        "*   Kolom Day Tidak memiliki outlier (sejak awal) ->karena nilai maksimalnya sudah pasti \n",
        "*   Kolom Balance, Duration, Pdays, Campaign dan Previous memiliki banyak outlier (pdays & previous = extreme)\n",
        "\n",
        "3. Berdasarkan histogram:\n",
        "* Kebanyakan grafik masih bersifat skewed kecuali kolom Day dan age yang mendekati normal\n",
        "<br></br>\n",
        "\n",
        "** Untuk tahapan transformasi ini sebenarnya bisa menyesuaikan dengan model Machine Learning yang akan dipilih nanti, tidak semua harus ditransformasi/harus menggunakan teknik tertentu (pemilihan teknik dapat bervariasi menyesuaikan syarat model) . Nantinya mungkin tahap ini akan diterka lagi."
      ]
    },
    {
      "cell_type": "markdown",
      "metadata": {
        "id": "iylBNx3RRZFG"
      },
      "source": [
        "#Feature Encoding"
      ]
    },
    {
      "cell_type": "code",
      "execution_count": null,
      "metadata": {
        "colab": {
          "base_uri": "https://localhost:8080/"
        },
        "id": "LRFtLDRQRdM9",
        "outputId": "37b60017-5f25-48cc-b8eb-3c1c49baa35e"
      },
      "outputs": [
        {
          "output_type": "execute_result",
          "data": {
            "text/plain": [
              "                job  marital  education default housing   loan   contact  \\\n",
              "count         36206    36206      36206   36206   36206  36206     36206   \n",
              "unique           11        3          3       2       2      2         2   \n",
              "top     blue-collar  married  secondary      no     yes     no  cellular   \n",
              "freq           8196    21749      20284   35470   20092  29968     34121   \n",
              "\n",
              "        month poutcome      y  \n",
              "count   36206    36206  36206  \n",
              "unique     12        4      2  \n",
              "top       may  unknown     no  \n",
              "freq    11139    33299  32961  "
            ],
            "text/html": [
              "\n",
              "  <div id=\"df-d19abbb4-5144-4dac-a3da-03693d3189d7\">\n",
              "    <div class=\"colab-df-container\">\n",
              "      <div>\n",
              "<style scoped>\n",
              "    .dataframe tbody tr th:only-of-type {\n",
              "        vertical-align: middle;\n",
              "    }\n",
              "\n",
              "    .dataframe tbody tr th {\n",
              "        vertical-align: top;\n",
              "    }\n",
              "\n",
              "    .dataframe thead th {\n",
              "        text-align: right;\n",
              "    }\n",
              "</style>\n",
              "<table border=\"1\" class=\"dataframe\">\n",
              "  <thead>\n",
              "    <tr style=\"text-align: right;\">\n",
              "      <th></th>\n",
              "      <th>job</th>\n",
              "      <th>marital</th>\n",
              "      <th>education</th>\n",
              "      <th>default</th>\n",
              "      <th>housing</th>\n",
              "      <th>loan</th>\n",
              "      <th>contact</th>\n",
              "      <th>month</th>\n",
              "      <th>poutcome</th>\n",
              "      <th>y</th>\n",
              "    </tr>\n",
              "  </thead>\n",
              "  <tbody>\n",
              "    <tr>\n",
              "      <th>count</th>\n",
              "      <td>36206</td>\n",
              "      <td>36206</td>\n",
              "      <td>36206</td>\n",
              "      <td>36206</td>\n",
              "      <td>36206</td>\n",
              "      <td>36206</td>\n",
              "      <td>36206</td>\n",
              "      <td>36206</td>\n",
              "      <td>36206</td>\n",
              "      <td>36206</td>\n",
              "    </tr>\n",
              "    <tr>\n",
              "      <th>unique</th>\n",
              "      <td>11</td>\n",
              "      <td>3</td>\n",
              "      <td>3</td>\n",
              "      <td>2</td>\n",
              "      <td>2</td>\n",
              "      <td>2</td>\n",
              "      <td>2</td>\n",
              "      <td>12</td>\n",
              "      <td>4</td>\n",
              "      <td>2</td>\n",
              "    </tr>\n",
              "    <tr>\n",
              "      <th>top</th>\n",
              "      <td>blue-collar</td>\n",
              "      <td>married</td>\n",
              "      <td>secondary</td>\n",
              "      <td>no</td>\n",
              "      <td>yes</td>\n",
              "      <td>no</td>\n",
              "      <td>cellular</td>\n",
              "      <td>may</td>\n",
              "      <td>unknown</td>\n",
              "      <td>no</td>\n",
              "    </tr>\n",
              "    <tr>\n",
              "      <th>freq</th>\n",
              "      <td>8196</td>\n",
              "      <td>21749</td>\n",
              "      <td>20284</td>\n",
              "      <td>35470</td>\n",
              "      <td>20092</td>\n",
              "      <td>29968</td>\n",
              "      <td>34121</td>\n",
              "      <td>11139</td>\n",
              "      <td>33299</td>\n",
              "      <td>32961</td>\n",
              "    </tr>\n",
              "  </tbody>\n",
              "</table>\n",
              "</div>\n",
              "      <button class=\"colab-df-convert\" onclick=\"convertToInteractive('df-d19abbb4-5144-4dac-a3da-03693d3189d7')\"\n",
              "              title=\"Convert this dataframe to an interactive table.\"\n",
              "              style=\"display:none;\">\n",
              "        \n",
              "  <svg xmlns=\"http://www.w3.org/2000/svg\" height=\"24px\"viewBox=\"0 0 24 24\"\n",
              "       width=\"24px\">\n",
              "    <path d=\"M0 0h24v24H0V0z\" fill=\"none\"/>\n",
              "    <path d=\"M18.56 5.44l.94 2.06.94-2.06 2.06-.94-2.06-.94-.94-2.06-.94 2.06-2.06.94zm-11 1L8.5 8.5l.94-2.06 2.06-.94-2.06-.94L8.5 2.5l-.94 2.06-2.06.94zm10 10l.94 2.06.94-2.06 2.06-.94-2.06-.94-.94-2.06-.94 2.06-2.06.94z\"/><path d=\"M17.41 7.96l-1.37-1.37c-.4-.4-.92-.59-1.43-.59-.52 0-1.04.2-1.43.59L10.3 9.45l-7.72 7.72c-.78.78-.78 2.05 0 2.83L4 21.41c.39.39.9.59 1.41.59.51 0 1.02-.2 1.41-.59l7.78-7.78 2.81-2.81c.8-.78.8-2.07 0-2.86zM5.41 20L4 18.59l7.72-7.72 1.47 1.35L5.41 20z\"/>\n",
              "  </svg>\n",
              "      </button>\n",
              "      \n",
              "  <style>\n",
              "    .colab-df-container {\n",
              "      display:flex;\n",
              "      flex-wrap:wrap;\n",
              "      gap: 12px;\n",
              "    }\n",
              "\n",
              "    .colab-df-convert {\n",
              "      background-color: #E8F0FE;\n",
              "      border: none;\n",
              "      border-radius: 50%;\n",
              "      cursor: pointer;\n",
              "      display: none;\n",
              "      fill: #1967D2;\n",
              "      height: 32px;\n",
              "      padding: 0 0 0 0;\n",
              "      width: 32px;\n",
              "    }\n",
              "\n",
              "    .colab-df-convert:hover {\n",
              "      background-color: #E2EBFA;\n",
              "      box-shadow: 0px 1px 2px rgba(60, 64, 67, 0.3), 0px 1px 3px 1px rgba(60, 64, 67, 0.15);\n",
              "      fill: #174EA6;\n",
              "    }\n",
              "\n",
              "    [theme=dark] .colab-df-convert {\n",
              "      background-color: #3B4455;\n",
              "      fill: #D2E3FC;\n",
              "    }\n",
              "\n",
              "    [theme=dark] .colab-df-convert:hover {\n",
              "      background-color: #434B5C;\n",
              "      box-shadow: 0px 1px 3px 1px rgba(0, 0, 0, 0.15);\n",
              "      filter: drop-shadow(0px 1px 2px rgba(0, 0, 0, 0.3));\n",
              "      fill: #FFFFFF;\n",
              "    }\n",
              "  </style>\n",
              "\n",
              "      <script>\n",
              "        const buttonEl =\n",
              "          document.querySelector('#df-d19abbb4-5144-4dac-a3da-03693d3189d7 button.colab-df-convert');\n",
              "        buttonEl.style.display =\n",
              "          google.colab.kernel.accessAllowed ? 'block' : 'none';\n",
              "\n",
              "        async function convertToInteractive(key) {\n",
              "          const element = document.querySelector('#df-d19abbb4-5144-4dac-a3da-03693d3189d7');\n",
              "          const dataTable =\n",
              "            await google.colab.kernel.invokeFunction('convertToInteractive',\n",
              "                                                     [key], {});\n",
              "          if (!dataTable) return;\n",
              "\n",
              "          const docLinkHtml = 'Like what you see? Visit the ' +\n",
              "            '<a target=\"_blank\" href=https://colab.research.google.com/notebooks/data_table.ipynb>data table notebook</a>'\n",
              "            + ' to learn more about interactive tables.';\n",
              "          element.innerHTML = '';\n",
              "          dataTable['output_type'] = 'display_data';\n",
              "          await google.colab.output.renderOutput(dataTable, element);\n",
              "          const docLink = document.createElement('div');\n",
              "          docLink.innerHTML = docLinkHtml;\n",
              "          element.appendChild(docLink);\n",
              "        }\n",
              "      </script>\n",
              "    </div>\n",
              "  </div>\n",
              "  "
            ]
          },
          "metadata": {},
          "execution_count": 52
        }
      ],
      "source": [
        "df[cats].describe()"
      ]
    },
    {
      "cell_type": "code",
      "execution_count": null,
      "metadata": {
        "id": "bNMR157YwR0W"
      },
      "outputs": [],
      "source": [
        "# data yang tidak dipakai didrop\n",
        "df = df.drop(columns=['job','marital','education','default','contact','month','poutcome'])"
      ]
    },
    {
      "cell_type": "markdown",
      "metadata": {
        "id": "XHsVnVCRSGqP"
      },
      "source": [
        "## Label Encoding"
      ]
    },
    {
      "cell_type": "code",
      "execution_count": null,
      "metadata": {
        "id": "pFn6Gqw5SDpJ"
      },
      "outputs": [],
      "source": [
        "mapping_housing = {\n",
        "    'no' : 0,\n",
        "    'yes' : 1,\n",
        "}\n",
        "\n",
        "mapping_loan = {\n",
        "    'no' : 0,\n",
        "    'yes' : 1\n",
        "}\n",
        "\n",
        "mapping_y = {\n",
        "    'no' : 0,\n",
        "    'yes' : 1\n",
        "}\n",
        "\n",
        "df['housing'] = df['housing'].map(mapping_housing)\n",
        "df['loan'] = df['loan'].map(mapping_loan)\n",
        "df['y'] = df['y'].map(mapping_y)"
      ]
    },
    {
      "cell_type": "markdown",
      "metadata": {
        "id": "kpCtvhZgTAmT"
      },
      "source": [
        "#Imbalance Dataset"
      ]
    },
    {
      "cell_type": "code",
      "execution_count": null,
      "metadata": {
        "colab": {
          "base_uri": "https://localhost:8080/"
        },
        "id": "-TjeJaYtS-b1",
        "outputId": "eb14dcf8-72c1-4546-f043-b80ac67bf6bf"
      },
      "outputs": [
        {
          "output_type": "execute_result",
          "data": {
            "text/plain": [
              "0    32961\n",
              "1     3245\n",
              "Name: y, dtype: int64"
            ]
          },
          "metadata": {},
          "execution_count": 55
        }
      ],
      "source": [
        "df['y'].value_counts()"
      ]
    },
    {
      "cell_type": "code",
      "execution_count": null,
      "metadata": {
        "colab": {
          "base_uri": "https://localhost:8080/"
        },
        "id": "9zaVlFu7THxU",
        "outputId": "8724e77e-57b6-42a1-f785-115b433e3b59"
      },
      "outputs": [
        {
          "output_type": "stream",
          "name": "stdout",
          "text": [
            "(36206, 9)\n",
            "(36206,)\n"
          ]
        }
      ],
      "source": [
        "X = df[[col for col in df.columns if (str(df[col].dtype) != 'object') and col not in ['y']]]\n",
        "y = df['y'].values\n",
        "print(X.shape)\n",
        "print(y.shape)"
      ]
    },
    {
      "cell_type": "code",
      "execution_count": null,
      "metadata": {
        "colab": {
          "base_uri": "https://localhost:8080/"
        },
        "id": "3IRVhhWxwR0X",
        "outputId": "51e91061-a288-421e-ccf1-219fbee97e19"
      },
      "outputs": [
        {
          "output_type": "stream",
          "name": "stdout",
          "text": [
            "<class 'pandas.core.frame.DataFrame'>\n",
            "Int64Index: 36206 entries, 0 to 45209\n",
            "Data columns (total 9 columns):\n",
            " #   Column        Non-Null Count  Dtype  \n",
            "---  ------        --------------  -----  \n",
            " 0   housing       36206 non-null  int64  \n",
            " 1   loan          36206 non-null  int64  \n",
            " 2   age_norm      36206 non-null  float64\n",
            " 3   balance_std   36206 non-null  float64\n",
            " 4   day_norm      36206 non-null  float64\n",
            " 5   duration_std  36206 non-null  float64\n",
            " 6   campaign_std  36206 non-null  float64\n",
            " 7   pdays_std     36206 non-null  float64\n",
            " 8   previous_std  36206 non-null  float64\n",
            "dtypes: float64(7), int64(2)\n",
            "memory usage: 3.8 MB\n"
          ]
        }
      ],
      "source": [
        "X.info()"
      ]
    },
    {
      "cell_type": "code",
      "execution_count": null,
      "metadata": {
        "colab": {
          "base_uri": "https://localhost:8080/"
        },
        "id": "f6g9s2r4TL-R",
        "outputId": "a5a8b219-a380-402f-fa15-59f908dd664a"
      },
      "outputs": [
        {
          "output_type": "stream",
          "name": "stderr",
          "text": [
            "/usr/local/lib/python3.7/dist-packages/imblearn/utils/_validation.py:591: FutureWarning: Pass sampling_strategy=0.5 as keyword args. From version 0.9 passing these as positional arguments will result in an error\n",
            "  FutureWarning,\n",
            "/usr/local/lib/python3.7/dist-packages/imblearn/utils/_validation.py:591: FutureWarning: Pass sampling_strategy=0.5 as keyword args. From version 0.9 passing these as positional arguments will result in an error\n",
            "  FutureWarning,\n"
          ]
        }
      ],
      "source": [
        "from imblearn import under_sampling, over_sampling\n",
        "X_under, y_under = under_sampling.RandomUnderSampler(0.5).fit_resample(X, y)\n",
        "X_over, y_over = over_sampling.RandomOverSampler(sampling_strategy=0.5, random_state=1).fit_resample(X, y)\n",
        "X_over_SMOTE, y_over_SMOTE = over_sampling.SMOTE(0.5).fit_resample(X, y)"
      ]
    },
    {
      "cell_type": "code",
      "execution_count": null,
      "metadata": {
        "id": "fPC_9KDbTsv_",
        "colab": {
          "base_uri": "https://localhost:8080/"
        },
        "outputId": "1ac80c7e-029a-4cde-bc40-af3bd681b765"
      },
      "outputs": [
        {
          "output_type": "stream",
          "name": "stdout",
          "text": [
            "Original\n",
            "0    32961\n",
            "1     3245\n",
            "dtype: int64\n",
            "Undersampling\n",
            "0    6490\n",
            "1    3245\n",
            "dtype: int64\n",
            "Oversampling\n",
            "0    32961\n",
            "1    16480\n",
            "dtype: int64\n",
            "oversampling Smote\n",
            "0    32961\n",
            "1    16480\n",
            "dtype: int64\n"
          ]
        }
      ],
      "source": [
        "print('Original')\n",
        "print(pd.Series(y).value_counts())\n",
        "print('Undersampling')\n",
        "print(pd.Series(y_under).value_counts())\n",
        "print('Oversampling')\n",
        "print(pd.Series(y_over).value_counts())\n",
        "print('oversampling Smote')\n",
        "print(pd.Series(y_over_SMOTE).value_counts())"
      ]
    },
    {
      "cell_type": "code",
      "execution_count": null,
      "metadata": {
        "id": "XbvjmGCuwR0Y"
      },
      "outputs": [],
      "source": [
        ""
      ]
    },
    {
      "cell_type": "markdown",
      "metadata": {
        "id": "UndzGPsZKOAi"
      },
      "source": [
        "# Feature Engineering"
      ]
    },
    {
      "cell_type": "code",
      "execution_count": null,
      "metadata": {
        "colab": {
          "base_uri": "https://localhost:8080/"
        },
        "id": "xFVve1QAKOm5",
        "outputId": "a2011205-10ae-4400-ed55-bd03522f6017"
      },
      "outputs": [
        {
          "output_type": "execute_result",
          "data": {
            "text/plain": [
              "<matplotlib.axes._subplots.AxesSubplot at 0x7fbf1caf37d0>"
            ]
          },
          "metadata": {},
          "execution_count": 60
        },
        {
          "output_type": "display_data",
          "data": {
            "text/plain": [
              "<Figure size 576x576 with 2 Axes>"
            ],
            "image/png": "[encoded data removed]"
          },
          "metadata": {
            "needs_background": "light"
          }
        }
      ],
      "source": [
        "plt.figure(figsize=(8, 8))\n",
        "sns.heatmap(df.corr(), cmap='Blues', annot=True, fmt='.2f')"
      ]
    },
    {
      "cell_type": "code",
      "execution_count": null,
      "metadata": {
        "id": "bjjuPyEvwR0Z"
      },
      "outputs": [],
      "source": [
        "df = df.drop(columns=['pdays_std'])"
      ]
    },
    {
      "cell_type": "code",
      "execution_count": null,
      "metadata": {
        "id": "f-_FGhzqwR0Z"
      },
      "outputs": [],
      "source": [
        "X = df.drop(columns=['y','loan','campaign_std','day_norm'])\n",
        "y = df['y']"
      ]
    },
    {
      "cell_type": "markdown",
      "metadata": {
        "id": "ciTGLXrjKaQL"
      },
      "source": [
        "## A. Feature selection"
      ]
    },
    {
      "cell_type": "markdown",
      "metadata": {
        "id": "rz3EQr6Lm_5j"
      },
      "source": [
        "\n",
        "A. selection: \n",
        "*Hasil dari analisa diatas dipilih beberapa feature yang kemungkinan paling berpengaruh:\n",
        "\n",
        "Feature reduction: \n",
        "categorical: job, marital, education (kurang ada relasi dengan target), default (mirip dengan loan), month, poutcome\n",
        "numerical: nums = pdays (ada nilai -1).\n",
        "\n",
        "Jadi fitur yang akan dicoba adalah:\n",
        "Optional feature 1: housing, loan, contact, y , age, balance, duration, campaign, previous, day.\n",
        "\n",
        "Optional feature 2: housing, loan, contact, y , age, duration, campaign\n",
        "\n",
        "Optional feature 3: *kemungkinan akan ada perubahan fitur yg dipilih/diuji lagi di next stage."
      ]
    },
    {
      "cell_type": "markdown",
      "metadata": {
        "id": "QeDplsL3KdvC"
      },
      "source": [
        "## B. Feature extraction"
      ]
    },
    {
      "cell_type": "markdown",
      "metadata": {
        "id": "WIRmL6L_nenB"
      },
      "source": [
        "Tidak ada fitur yang perlu diekstrak, karena setiap fitur sudah cukup fungsional dengan data aslinya, mungkin beberapa perlu di encoding."
      ]
    },
    {
      "cell_type": "markdown",
      "metadata": {
        "id": "cB7UQaVnnYrI"
      },
      "source": [
        "## C. New Feature Idea"
      ]
    },
    {
      "cell_type": "markdown",
      "metadata": {
        "id": "wUIkh5oVnN7Y"
      },
      "source": [
        "\n",
        "Ide fitur tambahan: mempunyai anak/tanggungan berapa, gaji, gagal bayar, status pegawai tetap, saran terhadap fitur 'job' untuk diisi dengan : PNS/Pengusaha/Karyawan/Frelencer (agar segmentasinya agar tidak terlalu lebih banyak)."
      ]
    },
    {
      "cell_type": "markdown",
      "source": [
        "# Oversampling With Smote"
      ],
      "metadata": {
        "id": "fTekxo3Sxb7u"
      }
    },
    {
      "cell_type": "code",
      "execution_count": null,
      "metadata": {
        "colab": {
          "base_uri": "https://localhost:8080/"
        },
        "id": "z5DckY8QwR0Z",
        "outputId": "88c21fb6-89da-46bb-ee0e-1090e34b9ede"
      },
      "outputs": [
        {
          "output_type": "execute_result",
          "data": {
            "text/plain": [
              "0    32961\n",
              "1     3245\n",
              "Name: y, dtype: int64"
            ]
          },
          "metadata": {},
          "execution_count": 63
        }
      ],
      "source": [
        "y.value_counts()"
      ]
    },
    {
      "cell_type": "code",
      "execution_count": null,
      "metadata": {
        "colab": {
          "base_uri": "https://localhost:8080/"
        },
        "id": "OlXjlNyhwR0Z",
        "outputId": "e3b1c75d-3b52-4fa5-be4e-27bc9631e098"
      },
      "outputs": [
        {
          "output_type": "stream",
          "name": "stderr",
          "text": [
            "/usr/local/lib/python3.7/dist-packages/imblearn/utils/_validation.py:591: FutureWarning: Pass sampling_strategy=0.5 as keyword args. From version 0.9 passing these as positional arguments will result in an error\n",
            "  FutureWarning,\n"
          ]
        }
      ],
      "source": [
        "from imblearn.over_sampling import SMOTE\n",
        "X_over_SMOTE, y_over_SMOTE = over_sampling.SMOTE(0.5).fit_resample(X, y)"
      ]
    },
    {
      "cell_type": "code",
      "execution_count": null,
      "metadata": {
        "colab": {
          "base_uri": "https://localhost:8080/"
        },
        "id": "iko6RLACwR0Z",
        "outputId": "e65fb1ec-ab85-4b8e-c794-70cfad54b28b"
      },
      "outputs": [
        {
          "output_type": "stream",
          "name": "stdout",
          "text": [
            "oversampling Smote\n",
            "0    32961\n",
            "1    16480\n",
            "Name: y, dtype: int64\n"
          ]
        }
      ],
      "source": [
        "print('oversampling Smote')\n",
        "print(pd.Series(y_over_SMOTE).value_counts())"
      ]
    },
    {
      "cell_type": "code",
      "execution_count": null,
      "metadata": {
        "colab": {
          "base_uri": "https://localhost:8080/"
        },
        "id": "3PgIxk0gwR0a",
        "outputId": "0715bc93-ec9e-4ea8-9bef-fd5adf12f040"
      },
      "outputs": [
        {
          "output_type": "display_data",
          "data": {
            "text/plain": [
              "<Figure size 432x288 with 1 Axes>"
            ],
            "image/png": "[encoded data removed]"
          },
          "metadata": {}
        }
      ],
      "source": [
        "# piechart setelah oversampling\n",
        "labels = ['no','yes']\n",
        "plt.pie(x=pd.Series(y_over_SMOTE).value_counts(),labels=pd.Series(y_over_SMOTE).value_counts(),autopct='%1.2f%%')\n",
        "plt.axis('equal')\n",
        "plt.title('converted oversampling')\n",
        "plt.legend(labels)\n",
        "plt.show()"
      ]
    },
    {
      "cell_type": "markdown",
      "source": [
        "# Modelling"
      ],
      "metadata": {
        "id": "D-BAFCahxLNK"
      }
    },
    {
      "cell_type": "code",
      "execution_count": null,
      "metadata": {
        "id": "UWvOF5ILwR0Z"
      },
      "outputs": [],
      "source": [
        "from sklearn.metrics import accuracy_score, precision_score, recall_score, f1_score, roc_auc_score\n",
        "\n",
        "def eval_classification(model, xtrain, ytrain, xtest, ytest):\n",
        "    ypred = model.predict(xtest)\n",
        "    print(\"Accuracy (Test Set): %.2f\" % accuracy_score(ytest, ypred))\n",
        "    print(\"Precision (Test Set): %.2f\" % precision_score(ytest, ypred))\n",
        "    print(\"Recall (Test Set): %.2f\" % recall_score(ytest, ypred))\n",
        "    print(\"F1-Score (Test Set): %.2f\" % f1_score(ytest, ypred))\n",
        "    \n",
        "    y_pred_proba = model.predict_proba(xtest)\n",
        "    y_pred_proba_train = model.predict_proba(xtrain)\n",
        "    print(\"AUC: %.2f\" % roc_auc_score(ytest, y_pred_proba[:, 1]))\n",
        "    print(\"AUC (test-proba): %.2f\" % roc_auc_score(y_test, y_pred_proba[:, 1]))\n",
        "    print(\"AUC (train-proba): %.2f\" % roc_auc_score(y_train, y_pred_proba_train[:, 1]))"
      ]
    },
    {
      "cell_type": "code",
      "execution_count": null,
      "metadata": {
        "id": "G2_AcLAkwR0a"
      },
      "outputs": [],
      "source": [
        "from sklearn.model_selection import train_test_split\n",
        "X_train, X_test, y_train, y_test = train_test_split(X_over_SMOTE, y_over_SMOTE, test_size = 0.2, random_state = 42)"
      ]
    },
    {
      "cell_type": "code",
      "execution_count": null,
      "metadata": {
        "colab": {
          "base_uri": "https://localhost:8080/"
        },
        "id": "KiihzRAEwR0a",
        "outputId": "d126397d-00a1-4930-8b19-d13ca75f0a38"
      },
      "outputs": [
        {
          "output_type": "stream",
          "name": "stdout",
          "text": [
            "Accuracy (Test Set): 0.85\n",
            "Precision (Test Set): 0.78\n",
            "Recall (Test Set): 0.78\n",
            "F1-Score (Test Set): 0.78\n",
            "AUC: 0.84\n",
            "AUC (test-proba): 0.84\n",
            "AUC (train-proba): 1.00\n"
          ]
        }
      ],
      "source": [
        "from sklearn.tree import DecisionTreeClassifier\n",
        "model = DecisionTreeClassifier(random_state=42)\n",
        "model.fit(X_train,y_train)\n",
        "\n",
        "y_pred = model.predict(X_test)\n",
        "eval_classification(model, X_train, y_train, X_test, y_test)"
      ]
    },
    {
      "cell_type": "code",
      "execution_count": null,
      "metadata": {
        "colab": {
          "base_uri": "https://localhost:8080/"
        },
        "id": "3xb5BSjOwR0a",
        "outputId": "1dd63358-705d-416b-8043-f32f24aa8772"
      },
      "outputs": [
        {
          "output_type": "stream",
          "name": "stdout",
          "text": [
            "Train score: 0.9997218851132686\n",
            "Test score:0.8543836586105774\n"
          ]
        }
      ],
      "source": [
        "print('Train score: ' + str(model.score(X_train, y_train))) #accuracy\n",
        "print('Test score:' + str(model.score(X_test, y_test))) #accuracy"
      ]
    },
    {
      "cell_type": "code",
      "execution_count": null,
      "metadata": {
        "colab": {
          "base_uri": "https://localhost:8080/"
        },
        "id": "R1r8VhKPwR0a",
        "outputId": "ebf98065-3734-4d22-dc40-7f0a860ca4c2"
      },
      "outputs": [
        {
          "output_type": "stream",
          "name": "stdout",
          "text": [
            "Accuracy (Test Set): 0.83\n",
            "Precision (Test Set): 0.75\n",
            "Recall (Test Set): 0.71\n",
            "F1-Score (Test Set): 0.73\n",
            "AUC: 0.89\n",
            "AUC (test-proba): 0.89\n",
            "AUC (train-proba): 0.92\n"
          ]
        }
      ],
      "source": [
        "from sklearn.model_selection import RandomizedSearchCV\n",
        "from scipy.stats import uniform\n",
        "import numpy as np\n",
        "\n",
        "# List of hyperparameter\n",
        "max_depth = [int(x) for x in np.linspace(1, 110, num = 30)] # Maximum number of levels in tree\n",
        "min_samples_split = [2, 5, 10, 100, 200] # Minimum number of samples required to split a node\n",
        "min_samples_leaf = [1, 2, 4, 10, 20, 50] # Minimum number of samples required at each leaf node\n",
        "max_features = ['sqrt'] # Number of features to consider at every split\n",
        "\n",
        "hyperparameters = dict(max_depth=max_depth, \n",
        "                       min_samples_split=min_samples_split, \n",
        "                       min_samples_leaf=min_samples_leaf,\n",
        "                       max_features=max_features\n",
        "                      )\n",
        "\n",
        "# Inisialisasi Model\n",
        "dt = DecisionTreeClassifier(random_state=42)\n",
        "model = RandomizedSearchCV(dt, hyperparameters, cv=10, random_state=42, scoring='roc_auc')\n",
        "model.fit(X_train, y_train)\n",
        "\n",
        "# Predict & Evaluation\n",
        "y_pred = model.predict(X_test)#Check performa dari model\n",
        "eval_classification(model, X_train, y_train, X_test, y_test)"
      ]
    },
    {
      "cell_type": "code",
      "execution_count": null,
      "metadata": {
        "colab": {
          "base_uri": "https://localhost:8080/"
        },
        "id": "EaQyFoqXwR0b",
        "outputId": "e0670aa5-89b0-4d88-a79c-090bb05db786"
      },
      "outputs": [
        {
          "output_type": "stream",
          "name": "stdout",
          "text": [
            "Train score: 0.9202232644815574\n",
            "Test score:0.8911141290095139\n"
          ]
        }
      ],
      "source": [
        "print('Train score: ' + str(model.score(X_train, y_train))) #accuracy\n",
        "print('Test score:' + str(model.score(X_test, y_test))) #accuracy"
      ]
    },
    {
      "cell_type": "code",
      "execution_count": null,
      "metadata": {
        "colab": {
          "base_uri": "https://localhost:8080/"
        },
        "id": "fR-IufcHwR0b",
        "outputId": "0e872473-ec6d-45e9-bc99-20cf8e0a8222"
      },
      "outputs": [
        {
          "output_type": "stream",
          "name": "stdout",
          "text": [
            "Best max_depth: 72\n",
            "Best min_samples_split: 100\n",
            "Best min_samples_leaf: 10\n",
            "Best max_features: sqrt\n"
          ]
        }
      ],
      "source": [
        "print('Best max_depth:', model.best_estimator_.get_params()['max_depth'])\n",
        "print('Best min_samples_split:', model.best_estimator_.get_params()['min_samples_split'])\n",
        "print('Best min_samples_leaf:', model.best_estimator_.get_params()['min_samples_leaf'])\n",
        "print('Best max_features:', model.best_estimator_.get_params()['max_features'])"
      ]
    },
    {
      "cell_type": "code",
      "execution_count": null,
      "metadata": {
        "colab": {
          "base_uri": "https://localhost:8080/",
          "height": 530
        },
        "id": "xZ2XBzQIwR0b",
        "outputId": "2f599c93-dad5-4214-9a67-25d75b95eb13"
      },
      "outputs": [
        {
          "output_type": "execute_result",
          "data": {
            "text/plain": [
              "Text(0.5, 1.0, 'feature importance score')"
            ]
          },
          "metadata": {},
          "execution_count": 74
        },
        {
          "output_type": "display_data",
          "data": {
            "text/plain": [
              "<Figure size 720x576 with 1 Axes>"
            ],
            "image/png": "[encoded data removed]"
          },
          "metadata": {
            "needs_background": "light"
          }
        }
      ],
      "source": [
        "# plt.figsize(10, 8)\n",
        "feat_importances = pd.Series(model.best_estimator_.feature_importances_, index=X.columns)\n",
        "ax = feat_importances.nlargest(25).plot(kind='barh', figsize=(10, 8))\n",
        "ax.invert_yaxis()\n",
        "\n",
        "plt.xlabel('score')\n",
        "plt.ylabel('feature')\n",
        "plt.title('feature importance score')"
      ]
    },
    {
      "cell_type": "code",
      "execution_count": null,
      "metadata": {
        "colab": {
          "base_uri": "https://localhost:8080/"
        },
        "id": "d6ibDBJUwR0b",
        "outputId": "b2731061-cf84-4839-f8fd-f0182158686d"
      },
      "outputs": [
        {
          "output_type": "display_data",
          "data": {
            "text/plain": [
              "<Figure size 720x720 with 1 Axes>"
            ],
            "image/png": "[encoded data removed]"
          },
          "metadata": {
            "needs_background": "light"
          }
        }
      ],
      "source": [
        "from sklearn import tree\n",
        "import matplotlib.pyplot as plt\n",
        "fig, ax = plt.subplots(figsize=(10, 10))\n",
        "tree.plot_tree(model.best_estimator_,\n",
        "               feature_names = X.columns.tolist(), \n",
        "               class_names=['0','1'],\n",
        "               filled = True, max_depth=5, fontsize=10)\n",
        "plt.show()"
      ]
    },
    {
      "cell_type": "code",
      "execution_count": null,
      "metadata": {
        "colab": {
          "base_uri": "https://localhost:8080/"
        },
        "id": "85wev-TLwR0c",
        "outputId": "dd110cd7-1656-418c-9d53-2a5c3b02bb28"
      },
      "outputs": [
        {
          "output_type": "stream",
          "name": "stdout",
          "text": [
            "<class 'pandas.core.frame.DataFrame'>\n",
            "Int64Index: 36206 entries, 0 to 45209\n",
            "Data columns (total 9 columns):\n",
            " #   Column        Non-Null Count  Dtype  \n",
            "---  ------        --------------  -----  \n",
            " 0   housing       36206 non-null  int64  \n",
            " 1   loan          36206 non-null  int64  \n",
            " 2   y             36206 non-null  int64  \n",
            " 3   age_norm      36206 non-null  float64\n",
            " 4   balance_std   36206 non-null  float64\n",
            " 5   day_norm      36206 non-null  float64\n",
            " 6   duration_std  36206 non-null  float64\n",
            " 7   campaign_std  36206 non-null  float64\n",
            " 8   previous_std  36206 non-null  float64\n",
            "dtypes: float64(6), int64(3)\n",
            "memory usage: 3.8 MB\n"
          ]
        }
      ],
      "source": [
        "df.info()"
      ]
    }
  ],
  "metadata": {
    "colab": {
      "collapsed_sections": [],
      "name": "Stage_3_Kelompok_Pegasus(Decision_Tree_Oversampling).ipynb",
      "provenance": []
    },
    "kernelspec": {
      "display_name": "Python 3 (ipykernel)",
      "language": "python",
      "name": "python3"
    },
    "language_info": {
      "codemirror_mode": {
        "name": "ipython",
        "version": 3
      },
      "file_extension": ".py",
      "mimetype": "text/x-python",
      "name": "python",
      "nbconvert_exporter": "python",
      "pygments_lexer": "ipython3",
      "version": "3.9.7"
    }
  },
  "nbformat": 4,
  "nbformat_minor": 0
}