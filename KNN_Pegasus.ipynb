{
 "cells": [
  {
   "cell_type": "markdown",
   "id": "a960024c-19bf-475e-be31-70ffbaa2a0ec",
   "metadata": {},
   "source": [
    "# KNN"
   ]
  },
  {
   "cell_type": "code",
   "execution_count": 1,
   "id": "ab9c33c6-1cba-40fb-8f61-b8241579fc4a",
   "metadata": {},
   "outputs": [],
   "source": [
    "import pandas as pd\n",
    "import numpy as np\n",
    "import matplotlib.pyplot as plt\n",
    "import seaborn as sns"
   ]
  },
  {
   "cell_type": "code",
   "execution_count": 2,
   "id": "af07b486-0ee4-4fae-a7d7-874066abc8f7",
   "metadata": {},
   "outputs": [],
   "source": [
    "#df= pd.read_csv('https://raw.githubusercontent.com/angkasatech/ds/37146328bc5814f4e7a0adb739e6574def32b6dc/banking_train.csv', delimiter=';')\n",
    "\n",
    "df= pd.read_csv('dataset/banking_train.csv', delimiter=';')"
   ]
  },
  {
   "cell_type": "code",
   "execution_count": 3,
   "id": "6fc8ea0e-ce50-4adf-997d-c22bc069aa9d",
   "metadata": {},
   "outputs": [
    {
     "name": "stdout",
     "output_type": "stream",
     "text": [
      "<class 'pandas.core.frame.DataFrame'>\n",
      "RangeIndex: 45211 entries, 0 to 45210\n",
      "Data columns (total 17 columns):\n",
      " #   Column     Non-Null Count  Dtype \n",
      "---  ------     --------------  ----- \n",
      " 0   age        45211 non-null  int64 \n",
      " 1   job        45211 non-null  object\n",
      " 2   marital    45211 non-null  object\n",
      " 3   education  45211 non-null  object\n",
      " 4   default    45211 non-null  object\n",
      " 5   balance    45211 non-null  int64 \n",
      " 6   housing    45211 non-null  object\n",
      " 7   loan       45211 non-null  object\n",
      " 8   contact    45211 non-null  object\n",
      " 9   day        45211 non-null  int64 \n",
      " 10  month      45211 non-null  object\n",
      " 11  duration   45211 non-null  int64 \n",
      " 12  campaign   45211 non-null  int64 \n",
      " 13  pdays      45211 non-null  int64 \n",
      " 14  previous   45211 non-null  int64 \n",
      " 15  poutcome   45211 non-null  object\n",
      " 16  y          45211 non-null  object\n",
      "dtypes: int64(7), object(10)\n",
      "memory usage: 5.9+ MB\n"
     ]
    }
   ],
   "source": [
    "df.info()"
   ]
  },
  {
   "cell_type": "code",
   "execution_count": 4,
   "id": "2e9bea17-50da-4144-94b6-307b9859ca6c",
   "metadata": {},
   "outputs": [
    {
     "data": {
      "text/plain": [
       "age          0\n",
       "job          0\n",
       "marital      0\n",
       "education    0\n",
       "default      0\n",
       "balance      0\n",
       "housing      0\n",
       "loan         0\n",
       "contact      0\n",
       "day          0\n",
       "month        0\n",
       "duration     0\n",
       "campaign     0\n",
       "pdays        0\n",
       "previous     0\n",
       "poutcome     0\n",
       "y            0\n",
       "dtype: int64"
      ]
     },
     "execution_count": 4,
     "metadata": {},
     "output_type": "execute_result"
    }
   ],
   "source": [
    "#check for missing values\n",
    "df.isnull().sum()"
   ]
  },
  {
   "cell_type": "code",
   "execution_count": 5,
   "id": "20f270e8-97b3-4c16-ac40-08fd850ca3f7",
   "metadata": {},
   "outputs": [
    {
     "data": {
      "text/plain": [
       "0"
      ]
     },
     "execution_count": 5,
     "metadata": {},
     "output_type": "execute_result"
    }
   ],
   "source": [
    "df.duplicated().sum()"
   ]
  },
  {
   "cell_type": "markdown",
   "id": "135ff254-fa40-47dc-8104-8b7561a6e1ee",
   "metadata": {},
   "source": [
    "Dikarenakan tidak ada missing value dan duplicate data (secara keseluruhan) maka lanjut ke tahap selanjutnya."
   ]
  },
  {
   "cell_type": "code",
   "execution_count": 6,
   "id": "7222684e-1ab8-475d-bb15-705cd15e0a49",
   "metadata": {},
   "outputs": [
    {
     "name": "stdout",
     "output_type": "stream",
     "text": [
      "Jumlah baris sebelum memfilter outlier: 45211\n",
      "Jumlah baris setelah memfilter outlier: 41794\n"
     ]
    }
   ],
   "source": [
    "#Outliers Handling\n",
    "from scipy import stats\n",
    "nums_skew = ['age','balance','duration','campaign','previous']\n",
    "\n",
    "print(f'Jumlah baris sebelum memfilter outlier: {len(df)}')\n",
    "filtered_entries = np.array([True] * len(df))\n",
    "for col in nums_skew:\n",
    "    zscore = abs(stats.zscore(df[col])) # hitung absolute z-scorenya\n",
    "    filtered_entries = (zscore < 3) & filtered_entries # keep yang kurang dari 3 absolute z-scorenya\n",
    "    \n",
    "df = df[filtered_entries] # filter, cuma ambil yang z-scorenya dibawah 3\n",
    "print(f'Jumlah baris setelah memfilter outlier: {len(df)}')"
   ]
  },
  {
   "cell_type": "code",
   "execution_count": 7,
   "id": "55028856-f06e-4382-ab33-7be428ad21aa",
   "metadata": {},
   "outputs": [
    {
     "data": {
      "text/html": [
       "<div>\n",
       "<style scoped>\n",
       "    .dataframe tbody tr th:only-of-type {\n",
       "        vertical-align: middle;\n",
       "    }\n",
       "\n",
       "    .dataframe tbody tr th {\n",
       "        vertical-align: top;\n",
       "    }\n",
       "\n",
       "    .dataframe thead th {\n",
       "        text-align: right;\n",
       "    }\n",
       "</style>\n",
       "<table border=\"1\" class=\"dataframe\">\n",
       "  <thead>\n",
       "    <tr style=\"text-align: right;\">\n",
       "      <th></th>\n",
       "      <th>age</th>\n",
       "      <th>balance</th>\n",
       "      <th>day</th>\n",
       "      <th>duration</th>\n",
       "      <th>campaign</th>\n",
       "      <th>pdays</th>\n",
       "      <th>previous</th>\n",
       "    </tr>\n",
       "  </thead>\n",
       "  <tbody>\n",
       "    <tr>\n",
       "      <th>count</th>\n",
       "      <td>41794.000000</td>\n",
       "      <td>41794.000000</td>\n",
       "      <td>41794.000000</td>\n",
       "      <td>41794.000000</td>\n",
       "      <td>41794.000000</td>\n",
       "      <td>41794.000000</td>\n",
       "      <td>41794.000000</td>\n",
       "    </tr>\n",
       "    <tr>\n",
       "      <th>mean</th>\n",
       "      <td>40.584462</td>\n",
       "      <td>1073.558812</td>\n",
       "      <td>15.708020</td>\n",
       "      <td>235.482151</td>\n",
       "      <td>2.451644</td>\n",
       "      <td>38.701249</td>\n",
       "      <td>0.422573</td>\n",
       "    </tr>\n",
       "    <tr>\n",
       "      <th>std</th>\n",
       "      <td>10.065232</td>\n",
       "      <td>1713.348139</td>\n",
       "      <td>8.294276</td>\n",
       "      <td>190.272012</td>\n",
       "      <td>1.941483</td>\n",
       "      <td>99.008015</td>\n",
       "      <td>1.130555</td>\n",
       "    </tr>\n",
       "    <tr>\n",
       "      <th>min</th>\n",
       "      <td>18.000000</td>\n",
       "      <td>-6847.000000</td>\n",
       "      <td>1.000000</td>\n",
       "      <td>0.000000</td>\n",
       "      <td>1.000000</td>\n",
       "      <td>-1.000000</td>\n",
       "      <td>0.000000</td>\n",
       "    </tr>\n",
       "    <tr>\n",
       "      <th>25%</th>\n",
       "      <td>33.000000</td>\n",
       "      <td>66.000000</td>\n",
       "      <td>8.000000</td>\n",
       "      <td>103.000000</td>\n",
       "      <td>1.000000</td>\n",
       "      <td>-1.000000</td>\n",
       "      <td>0.000000</td>\n",
       "    </tr>\n",
       "    <tr>\n",
       "      <th>50%</th>\n",
       "      <td>39.000000</td>\n",
       "      <td>425.000000</td>\n",
       "      <td>16.000000</td>\n",
       "      <td>178.000000</td>\n",
       "      <td>2.000000</td>\n",
       "      <td>-1.000000</td>\n",
       "      <td>0.000000</td>\n",
       "    </tr>\n",
       "    <tr>\n",
       "      <th>75%</th>\n",
       "      <td>48.000000</td>\n",
       "      <td>1331.000000</td>\n",
       "      <td>21.000000</td>\n",
       "      <td>306.000000</td>\n",
       "      <td>3.000000</td>\n",
       "      <td>-1.000000</td>\n",
       "      <td>0.000000</td>\n",
       "    </tr>\n",
       "    <tr>\n",
       "      <th>max</th>\n",
       "      <td>72.000000</td>\n",
       "      <td>10483.000000</td>\n",
       "      <td>31.000000</td>\n",
       "      <td>1030.000000</td>\n",
       "      <td>12.000000</td>\n",
       "      <td>871.000000</td>\n",
       "      <td>7.000000</td>\n",
       "    </tr>\n",
       "  </tbody>\n",
       "</table>\n",
       "</div>"
      ],
      "text/plain": [
       "                age       balance           day      duration      campaign  \\\n",
       "count  41794.000000  41794.000000  41794.000000  41794.000000  41794.000000   \n",
       "mean      40.584462   1073.558812     15.708020    235.482151      2.451644   \n",
       "std       10.065232   1713.348139      8.294276    190.272012      1.941483   \n",
       "min       18.000000  -6847.000000      1.000000      0.000000      1.000000   \n",
       "25%       33.000000     66.000000      8.000000    103.000000      1.000000   \n",
       "50%       39.000000    425.000000     16.000000    178.000000      2.000000   \n",
       "75%       48.000000   1331.000000     21.000000    306.000000      3.000000   \n",
       "max       72.000000  10483.000000     31.000000   1030.000000     12.000000   \n",
       "\n",
       "              pdays      previous  \n",
       "count  41794.000000  41794.000000  \n",
       "mean      38.701249      0.422573  \n",
       "std       99.008015      1.130555  \n",
       "min       -1.000000      0.000000  \n",
       "25%       -1.000000      0.000000  \n",
       "50%       -1.000000      0.000000  \n",
       "75%       -1.000000      0.000000  \n",
       "max      871.000000      7.000000  "
      ]
     },
     "execution_count": 7,
     "metadata": {},
     "output_type": "execute_result"
    }
   ],
   "source": [
    "df.describe()"
   ]
  },
  {
   "cell_type": "code",
   "execution_count": 8,
   "id": "f4e81699-1227-4b1e-9609-04ed2c74c147",
   "metadata": {},
   "outputs": [
    {
     "data": {
      "image/png": "[encoded data removed]",
      "text/plain": [
       "<Figure size 864x360 with 5 Axes>"
      ]
     },
     "metadata": {
      "needs_background": "light"
     },
     "output_type": "display_data"
    }
   ],
   "source": [
    "features = nums_skew\n",
    "plt.figure(figsize=(12, 5))\n",
    "for i in range(0, len(nums_skew)):\n",
    "    plt.subplot(2, 4, i+1)\n",
    "    sns.kdeplot(x=df[features[i]])\n",
    "    plt.xlabel(features[i])\n",
    "    plt.tight_layout()"
   ]
  },
  {
   "cell_type": "markdown",
   "id": "96fcd6be-db98-44cd-99c3-23c5a078d0a4",
   "metadata": {},
   "source": [
    "mean > median : balance, duration, campaign, previous, pdays(namun pdays dipastikan tidak akan digunakan)\n",
    "\n",
    "mean > median (mendekati/tidak terlalu jauh) : age\n",
    "\n",
    "mean < median : day"
   ]
  },
  {
   "cell_type": "code",
   "execution_count": 9,
   "id": "754b0469-787c-4aca-af31-110a0212360a",
   "metadata": {},
   "outputs": [],
   "source": [
    "#Feature Transformation\n",
    "\n",
    "#tranformasi yang right skewed\n",
    "df['log_campaign'] = np.log(df['campaign'])\n",
    "\n",
    "\n",
    "# Karena gap antara mean & median lumayan jauh maka kita re-scale\n",
    "from sklearn.preprocessing import MinMaxScaler, StandardScaler\n",
    "df['balance_norm'] = MinMaxScaler().fit_transform(df['balance'].values.reshape(len(df), 1))\n",
    "df['duration_norm'] = MinMaxScaler().fit_transform(df['duration'].values.reshape(len(df), 1))\n",
    "df['campaign_log_norm'] = MinMaxScaler().fit_transform(df['log_campaign'].values.reshape(len(df), 1))\n",
    "df['previous_norm'] = MinMaxScaler().fit_transform(df['previous'].values.reshape(len(df), 1))\n",
    "df['day_norm'] = MinMaxScaler().fit_transform(df['day'].values.reshape(len(df), 1))\n",
    "df['age_norm'] = MinMaxScaler().fit_transform(df['age'].values.reshape(len(df), 1))\n",
    "\n",
    "# drop kolom (nilai asli)\n",
    "df = df.drop(columns=['balance','duration','campaign','previous','day','age','log_campaign'])"
   ]
  },
  {
   "cell_type": "raw",
   "id": "26a2b27e-dcbf-4692-a39d-fce03fa705b5",
   "metadata": {},
   "source": [
    "campaign memenuhi syarat untuk dilakukan log transform"
   ]
  },
  {
   "cell_type": "code",
   "execution_count": 10,
   "id": "800f0d8b-6209-4399-b594-b6d6f21b023c",
   "metadata": {},
   "outputs": [
    {
     "data": {
      "text/html": [
       "<div>\n",
       "<style scoped>\n",
       "    .dataframe tbody tr th:only-of-type {\n",
       "        vertical-align: middle;\n",
       "    }\n",
       "\n",
       "    .dataframe tbody tr th {\n",
       "        vertical-align: top;\n",
       "    }\n",
       "\n",
       "    .dataframe thead th {\n",
       "        text-align: right;\n",
       "    }\n",
       "</style>\n",
       "<table border=\"1\" class=\"dataframe\">\n",
       "  <thead>\n",
       "    <tr style=\"text-align: right;\">\n",
       "      <th></th>\n",
       "      <th>pdays</th>\n",
       "      <th>balance_norm</th>\n",
       "      <th>duration_norm</th>\n",
       "      <th>campaign_log_norm</th>\n",
       "      <th>previous_norm</th>\n",
       "      <th>day_norm</th>\n",
       "      <th>age_norm</th>\n",
       "    </tr>\n",
       "  </thead>\n",
       "  <tbody>\n",
       "    <tr>\n",
       "      <th>count</th>\n",
       "      <td>41794.000000</td>\n",
       "      <td>41794.000000</td>\n",
       "      <td>41794.000000</td>\n",
       "      <td>41794.000000</td>\n",
       "      <td>41794.000000</td>\n",
       "      <td>41794.000000</td>\n",
       "      <td>41794.000000</td>\n",
       "    </tr>\n",
       "    <tr>\n",
       "      <th>mean</th>\n",
       "      <td>38.701249</td>\n",
       "      <td>0.457043</td>\n",
       "      <td>0.228623</td>\n",
       "      <td>0.267205</td>\n",
       "      <td>0.060368</td>\n",
       "      <td>0.490267</td>\n",
       "      <td>0.418231</td>\n",
       "    </tr>\n",
       "    <tr>\n",
       "      <th>std</th>\n",
       "      <td>99.008015</td>\n",
       "      <td>0.098866</td>\n",
       "      <td>0.184730</td>\n",
       "      <td>0.261452</td>\n",
       "      <td>0.161508</td>\n",
       "      <td>0.276476</td>\n",
       "      <td>0.186393</td>\n",
       "    </tr>\n",
       "    <tr>\n",
       "      <th>min</th>\n",
       "      <td>-1.000000</td>\n",
       "      <td>0.000000</td>\n",
       "      <td>0.000000</td>\n",
       "      <td>0.000000</td>\n",
       "      <td>0.000000</td>\n",
       "      <td>0.000000</td>\n",
       "      <td>0.000000</td>\n",
       "    </tr>\n",
       "    <tr>\n",
       "      <th>25%</th>\n",
       "      <td>-1.000000</td>\n",
       "      <td>0.398904</td>\n",
       "      <td>0.100000</td>\n",
       "      <td>0.000000</td>\n",
       "      <td>0.000000</td>\n",
       "      <td>0.233333</td>\n",
       "      <td>0.277778</td>\n",
       "    </tr>\n",
       "    <tr>\n",
       "      <th>50%</th>\n",
       "      <td>-1.000000</td>\n",
       "      <td>0.419619</td>\n",
       "      <td>0.172816</td>\n",
       "      <td>0.278943</td>\n",
       "      <td>0.000000</td>\n",
       "      <td>0.500000</td>\n",
       "      <td>0.388889</td>\n",
       "    </tr>\n",
       "    <tr>\n",
       "      <th>75%</th>\n",
       "      <td>-1.000000</td>\n",
       "      <td>0.471898</td>\n",
       "      <td>0.297087</td>\n",
       "      <td>0.442114</td>\n",
       "      <td>0.000000</td>\n",
       "      <td>0.666667</td>\n",
       "      <td>0.555556</td>\n",
       "    </tr>\n",
       "    <tr>\n",
       "      <th>max</th>\n",
       "      <td>871.000000</td>\n",
       "      <td>1.000000</td>\n",
       "      <td>1.000000</td>\n",
       "      <td>1.000000</td>\n",
       "      <td>1.000000</td>\n",
       "      <td>1.000000</td>\n",
       "      <td>1.000000</td>\n",
       "    </tr>\n",
       "  </tbody>\n",
       "</table>\n",
       "</div>"
      ],
      "text/plain": [
       "              pdays  balance_norm  duration_norm  campaign_log_norm  \\\n",
       "count  41794.000000  41794.000000   41794.000000       41794.000000   \n",
       "mean      38.701249      0.457043       0.228623           0.267205   \n",
       "std       99.008015      0.098866       0.184730           0.261452   \n",
       "min       -1.000000      0.000000       0.000000           0.000000   \n",
       "25%       -1.000000      0.398904       0.100000           0.000000   \n",
       "50%       -1.000000      0.419619       0.172816           0.278943   \n",
       "75%       -1.000000      0.471898       0.297087           0.442114   \n",
       "max      871.000000      1.000000       1.000000           1.000000   \n",
       "\n",
       "       previous_norm      day_norm      age_norm  \n",
       "count   41794.000000  41794.000000  41794.000000  \n",
       "mean        0.060368      0.490267      0.418231  \n",
       "std         0.161508      0.276476      0.186393  \n",
       "min         0.000000      0.000000      0.000000  \n",
       "25%         0.000000      0.233333      0.277778  \n",
       "50%         0.000000      0.500000      0.388889  \n",
       "75%         0.000000      0.666667      0.555556  \n",
       "max         1.000000      1.000000      1.000000  "
      ]
     },
     "execution_count": 10,
     "metadata": {},
     "output_type": "execute_result"
    }
   ],
   "source": [
    "df.describe()"
   ]
  },
  {
   "cell_type": "code",
   "execution_count": 11,
   "id": "b12feb1c-1730-4a4e-8faa-82ee9b1674f4",
   "metadata": {},
   "outputs": [
    {
     "data": {
      "image/png": "[encoded data removed]",
      "text/plain": [
       "<Figure size 864x360 with 6 Axes>"
      ]
     },
     "metadata": {
      "needs_background": "light"
     },
     "output_type": "display_data"
    }
   ],
   "source": [
    "features = ['balance_norm','age_norm','duration_norm','campaign_log_norm','previous_norm', 'day_norm']\n",
    "plt.figure(figsize=(12, 5))\n",
    "for i in range(0, len(features)):\n",
    "    plt.subplot(2, 4, i+1)\n",
    "    sns.kdeplot(x=df[features[i]])\n",
    "    plt.xlabel(features[i])\n",
    "    plt.tight_layout()"
   ]
  },
  {
   "cell_type": "code",
   "execution_count": 12,
   "id": "92afdcd7-cd93-48cd-b27c-2afd2693d099",
   "metadata": {},
   "outputs": [],
   "source": [
    "#Feature encoding\n",
    "df['converted'] = df['y'].apply(lambda x: 1 if 'yes' in x else 0)\n",
    "df['loans'] = df['loan'].apply(lambda x: 1 if 'yes' in x else 0)\n",
    "df['housings'] = df['housing'].apply(lambda x: 1 if 'yes' in x else 0)\n",
    "\n",
    "for cat in ['contact']:\n",
    "    onehots = pd.get_dummies(df[cat], prefix=cat)\n",
    "    df = df.join(onehots)"
   ]
  },
  {
   "cell_type": "code",
   "execution_count": 13,
   "id": "2bc6599f-a4e8-4af9-929f-25c3e62250e3",
   "metadata": {},
   "outputs": [
    {
     "name": "stdout",
     "output_type": "stream",
     "text": [
      "0    37501\n",
      "1     4293\n",
      "Name: converted, dtype: int64\n",
      "(41794, 12)\n",
      "(41794,)\n"
     ]
    }
   ],
   "source": [
    "#Imbalance class handling\n",
    "print(df['converted'].value_counts())\n",
    "\n",
    "#shape feature & target\n",
    "X = df[[col for col in df.columns if (str(df[col].dtype) != 'object') and col not in ['converted']]]\n",
    "y = df['converted'].values\n",
    "print(X.shape)\n",
    "print(y.shape)"
   ]
  },
  {
   "cell_type": "code",
   "execution_count": 14,
   "id": "280aa8a6-4587-44c9-bbfa-65eb36ade496",
   "metadata": {},
   "outputs": [
    {
     "name": "stdout",
     "output_type": "stream",
     "text": [
      "Original\n",
      "0    37501\n",
      "1     4293\n",
      "dtype: int64\n",
      "Oversampling\n",
      "0    37501\n",
      "1    18750\n",
      "dtype: int64\n"
     ]
    }
   ],
   "source": [
    "#oversampling\n",
    "from imblearn import under_sampling, over_sampling\n",
    "X_over, y_over = over_sampling.RandomOverSampler(sampling_strategy=0.5, random_state=1).fit_resample(X, y)\n",
    "\n",
    "print('Original')\n",
    "print(pd.Series(y).value_counts())\n",
    "print('Oversampling')\n",
    "print(pd.Series(y_over).value_counts())"
   ]
  },
  {
   "cell_type": "markdown",
   "id": "f5a1b6ed-ff10-4035-9288-a5cda91a1932",
   "metadata": {
    "tags": []
   },
   "source": [
    "## Feature option 1"
   ]
  },
  {
   "cell_type": "code",
   "execution_count": 15,
   "id": "af6d4edd-5608-4a67-bcfd-cfd73e3326b8",
   "metadata": {},
   "outputs": [],
   "source": [
    "X = df.drop(columns=['job', 'marital', 'education', 'default', 'month', 'pdays', 'poutcome',\n",
    "                    'y', 'loan', 'housing', 'contact','converted'])\n",
    "\n",
    "y = df[['converted']] # variable target\n",
    "\n",
    "#Splitting the data into Train and Test\n",
    "from sklearn.model_selection import train_test_split\n",
    "\n",
    "X_train, X_test, y_train, y_test = train_test_split(X, y, test_size=0.3, random_state=42)"
   ]
  },
  {
   "cell_type": "code",
   "execution_count": 16,
   "id": "36fae2c3-6d6c-4818-8fbd-7821411c3ddb",
   "metadata": {},
   "outputs": [
    {
     "data": {
      "text/html": [
       "<div>\n",
       "<style scoped>\n",
       "    .dataframe tbody tr th:only-of-type {\n",
       "        vertical-align: middle;\n",
       "    }\n",
       "\n",
       "    .dataframe tbody tr th {\n",
       "        vertical-align: top;\n",
       "    }\n",
       "\n",
       "    .dataframe thead th {\n",
       "        text-align: right;\n",
       "    }\n",
       "</style>\n",
       "<table border=\"1\" class=\"dataframe\">\n",
       "  <thead>\n",
       "    <tr style=\"text-align: right;\">\n",
       "      <th></th>\n",
       "      <th>balance_norm</th>\n",
       "      <th>duration_norm</th>\n",
       "      <th>campaign_log_norm</th>\n",
       "      <th>previous_norm</th>\n",
       "      <th>day_norm</th>\n",
       "      <th>age_norm</th>\n",
       "      <th>loans</th>\n",
       "      <th>housings</th>\n",
       "      <th>contact_cellular</th>\n",
       "      <th>contact_telephone</th>\n",
       "      <th>contact_unknown</th>\n",
       "    </tr>\n",
       "  </thead>\n",
       "  <tbody>\n",
       "    <tr>\n",
       "      <th>17214</th>\n",
       "      <td>0.535199</td>\n",
       "      <td>0.059223</td>\n",
       "      <td>0.442114</td>\n",
       "      <td>0.0</td>\n",
       "      <td>0.900000</td>\n",
       "      <td>0.629630</td>\n",
       "      <td>0</td>\n",
       "      <td>1</td>\n",
       "      <td>1</td>\n",
       "      <td>0</td>\n",
       "      <td>0</td>\n",
       "    </tr>\n",
       "    <tr>\n",
       "      <th>33653</th>\n",
       "      <td>0.468090</td>\n",
       "      <td>0.242718</td>\n",
       "      <td>0.278943</td>\n",
       "      <td>0.0</td>\n",
       "      <td>0.633333</td>\n",
       "      <td>0.537037</td>\n",
       "      <td>1</td>\n",
       "      <td>1</td>\n",
       "      <td>1</td>\n",
       "      <td>0</td>\n",
       "      <td>0</td>\n",
       "    </tr>\n",
       "    <tr>\n",
       "      <th>18969</th>\n",
       "      <td>0.439527</td>\n",
       "      <td>0.146602</td>\n",
       "      <td>0.000000</td>\n",
       "      <td>0.0</td>\n",
       "      <td>0.100000</td>\n",
       "      <td>0.666667</td>\n",
       "      <td>0</td>\n",
       "      <td>0</td>\n",
       "      <td>1</td>\n",
       "      <td>0</td>\n",
       "      <td>0</td>\n",
       "    </tr>\n",
       "    <tr>\n",
       "      <th>9879</th>\n",
       "      <td>0.444778</td>\n",
       "      <td>0.113592</td>\n",
       "      <td>0.000000</td>\n",
       "      <td>0.0</td>\n",
       "      <td>0.266667</td>\n",
       "      <td>0.592593</td>\n",
       "      <td>0</td>\n",
       "      <td>0</td>\n",
       "      <td>0</td>\n",
       "      <td>0</td>\n",
       "      <td>1</td>\n",
       "    </tr>\n",
       "    <tr>\n",
       "      <th>37887</th>\n",
       "      <td>0.746451</td>\n",
       "      <td>0.598058</td>\n",
       "      <td>0.278943</td>\n",
       "      <td>0.0</td>\n",
       "      <td>0.433333</td>\n",
       "      <td>0.351852</td>\n",
       "      <td>0</td>\n",
       "      <td>1</td>\n",
       "      <td>1</td>\n",
       "      <td>0</td>\n",
       "      <td>0</td>\n",
       "    </tr>\n",
       "  </tbody>\n",
       "</table>\n",
       "</div>"
      ],
      "text/plain": [
       "       balance_norm  duration_norm  campaign_log_norm  previous_norm  \\\n",
       "17214      0.535199       0.059223           0.442114            0.0   \n",
       "33653      0.468090       0.242718           0.278943            0.0   \n",
       "18969      0.439527       0.146602           0.000000            0.0   \n",
       "9879       0.444778       0.113592           0.000000            0.0   \n",
       "37887      0.746451       0.598058           0.278943            0.0   \n",
       "\n",
       "       day_norm  age_norm  loans  housings  contact_cellular  \\\n",
       "17214  0.900000  0.629630      0         1                 1   \n",
       "33653  0.633333  0.537037      1         1                 1   \n",
       "18969  0.100000  0.666667      0         0                 1   \n",
       "9879   0.266667  0.592593      0         0                 0   \n",
       "37887  0.433333  0.351852      0         1                 1   \n",
       "\n",
       "       contact_telephone  contact_unknown  \n",
       "17214                  0                0  \n",
       "33653                  0                0  \n",
       "18969                  0                0  \n",
       "9879                   0                1  \n",
       "37887                  0                0  "
      ]
     },
     "execution_count": 16,
     "metadata": {},
     "output_type": "execute_result"
    }
   ],
   "source": [
    "X.sample(5)"
   ]
  },
  {
   "cell_type": "code",
   "execution_count": 17,
   "id": "a8385930-e39b-41ae-8367-3eb5f06b6544",
   "metadata": {},
   "outputs": [
    {
     "name": "stdout",
     "output_type": "stream",
     "text": [
      "<class 'pandas.core.frame.DataFrame'>\n",
      "Int64Index: 41794 entries, 0 to 45209\n",
      "Data columns (total 11 columns):\n",
      " #   Column             Non-Null Count  Dtype  \n",
      "---  ------             --------------  -----  \n",
      " 0   balance_norm       41794 non-null  float64\n",
      " 1   duration_norm      41794 non-null  float64\n",
      " 2   campaign_log_norm  41794 non-null  float64\n",
      " 3   previous_norm      41794 non-null  float64\n",
      " 4   day_norm           41794 non-null  float64\n",
      " 5   age_norm           41794 non-null  float64\n",
      " 6   loans              41794 non-null  int64  \n",
      " 7   housings           41794 non-null  int64  \n",
      " 8   contact_cellular   41794 non-null  uint8  \n",
      " 9   contact_telephone  41794 non-null  uint8  \n",
      " 10  contact_unknown    41794 non-null  uint8  \n",
      "dtypes: float64(6), int64(2), uint8(3)\n",
      "memory usage: 4.0 MB\n"
     ]
    }
   ],
   "source": [
    "X.info()"
   ]
  },
  {
   "cell_type": "code",
   "execution_count": 18,
   "id": "cefcc9f1-672d-4383-8359-21fabfcfbc76",
   "metadata": {},
   "outputs": [
    {
     "name": "stdout",
     "output_type": "stream",
     "text": [
      "(41794, 23)\n",
      "(29255, 11)\n",
      "(12539, 11)\n"
     ]
    }
   ],
   "source": [
    "print(df.shape)\n",
    "print(X_train.shape)\n",
    "print(X_test.shape)"
   ]
  },
  {
   "cell_type": "code",
   "execution_count": 19,
   "id": "13f06ed0-a791-4e3b-8f46-1aa04091c579",
   "metadata": {},
   "outputs": [],
   "source": [
    "from sklearn.metrics import accuracy_score, precision_score, recall_score, f1_score, roc_auc_score\n",
    "\n",
    "def eval_classification(model):\n",
    "    y_pred = model.predict(X_test)\n",
    "    y_pred_train = model.predict(X_train)\n",
    "    y_pred_proba = model.predict_proba(X_test)\n",
    "    y_pred_proba_train = model.predict_proba(X_train)\n",
    "    \n",
    "    print(\"Accuracy (Test Set): %.2f\" % accuracy_score(y_test, y_pred))\n",
    "    print(\"Precision (Test Set): %.2f\" % precision_score(y_test, y_pred))\n",
    "    print(\"Recall (Test Set): %.2f\" % recall_score(y_test, y_pred))\n",
    "    print(\"F1-Score (Test Set): %.2f\" % f1_score(y_test, y_pred))\n",
    "    \n",
    "    print(\"AUC (test-proba): %.2f\" % roc_auc_score(y_test, y_pred_proba[:, 1]))\n",
    "    print(\"AUC (train-proba): %.2f\" % roc_auc_score(y_train, y_pred_proba_train[:, 1]))\n",
    "#     print(\"AUC (test-label): %.2f\" % roc_auc_score(y_test, y_pred))\n",
    "#     print(\"AUC (train-label): %.2f\" % roc_auc_score(y_train, y_pred_train))\n",
    "\n",
    "def show_feature_importance(model):\n",
    "    feat_importances = pd.Series(model.feature_importances_, index=X.columns)\n",
    "    ax = feat_importances.nlargest(25).plot(kind='barh', figsize=(10, 8))\n",
    "    ax.invert_yaxis()\n",
    "\n",
    "    plt.xlabel('score')\n",
    "    plt.ylabel('feature')\n",
    "    plt.title('feature importance score')\n",
    "\n",
    "def show_best_hyperparameter(model):\n",
    "    print(model.best_estimator_.get_params())"
   ]
  },
  {
   "cell_type": "code",
   "execution_count": 20,
   "id": "fee17e6e-1841-4f71-97b3-f76df93663f1",
   "metadata": {},
   "outputs": [
    {
     "data": {
      "text/plain": [
       "0    0.897282\n",
       "1    0.102718\n",
       "Name: converted, dtype: float64"
      ]
     },
     "execution_count": 20,
     "metadata": {},
     "output_type": "execute_result"
    }
   ],
   "source": [
    "df.converted.value_counts(normalize=True)"
   ]
  },
  {
   "cell_type": "code",
   "execution_count": 21,
   "id": "5059173a-7de1-4dda-9c0e-dccea37e4beb",
   "metadata": {},
   "outputs": [
    {
     "name": "stdout",
     "output_type": "stream",
     "text": [
      "Accuracy (Test Set): 0.90\n",
      "Precision (Test Set): 0.69\n",
      "Recall (Test Set): 0.06\n",
      "F1-Score (Test Set): 0.11\n",
      "AUC (test-proba): 0.87\n",
      "AUC (train-proba): 0.88\n"
     ]
    }
   ],
   "source": [
    "from sklearn.neighbors import KNeighborsClassifier\n",
    "knn = KNeighborsClassifier(n_neighbors=120)\n",
    "#knn.fit(X_train, y_train) #warning\n",
    "knn.fit(X_train, np.ravel(y_train))\n",
    "eval_classification(knn)"
   ]
  },
  {
   "cell_type": "code",
   "execution_count": 22,
   "id": "4333b593-0f26-43ec-a6e9-b1e98ef0ca13",
   "metadata": {},
   "outputs": [
    {
     "name": "stdout",
     "output_type": "stream",
     "text": [
      "k: 1; auc(train): 1.0; auc(test): 0.648681056847137\n",
      "k: 6; auc(train): 0.9401466263244894; auc(test): 0.8035113426679692\n",
      "k: 11; auc(train): 0.9239879807337666; auc(test): 0.8328839172585445\n",
      "k: 16; auc(train): 0.9156706587632946; auc(test): 0.8446395294853484\n",
      "k: 21; auc(train): 0.9108025544629015; auc(test): 0.854508648723876\n",
      "k: 26; auc(train): 0.9067466133674408; auc(test): 0.8607530872755136\n",
      "k: 31; auc(train): 0.903009171922717; auc(test): 0.8657981202304535\n",
      "k: 36; auc(train): 0.9007697898071645; auc(test): 0.866848548864981\n",
      "k: 42; auc(train): 0.8987256229486009; auc(test): 0.8683930597960481\n",
      "k: 47; auc(train): 0.8969543238376982; auc(test): 0.8704247012132017\n",
      "k: 52; auc(train): 0.8955033011609387; auc(test): 0.8710427742546316\n",
      "k: 57; auc(train): 0.8942708934013344; auc(test): 0.8705977240511418\n",
      "k: 62; auc(train): 0.8928842197900316; auc(test): 0.8706464874751885\n",
      "k: 67; auc(train): 0.8920067389481827; auc(test): 0.870815379527207\n",
      "k: 72; auc(train): 0.8908340105850108; auc(test): 0.8711493350979513\n",
      "k: 78; auc(train): 0.8894228917695159; auc(test): 0.8711599139399449\n",
      "k: 83; auc(train): 0.8881553716909012; auc(test): 0.8712216742270125\n",
      "k: 88; auc(train): 0.8872886477651978; auc(test): 0.8710834440249624\n",
      "k: 93; auc(train): 0.8862798004101354; auc(test): 0.8708488288180821\n",
      "k: 98; auc(train): 0.8855658541998477; auc(test): 0.8714279784377006\n",
      "k: 103; auc(train): 0.8846968018540126; auc(test): 0.8714260977546795\n",
      "k: 108; auc(train): 0.8843376093732059; auc(test): 0.870652599695007\n",
      "k: 114; auc(train): 0.8836973066657601; auc(test): 0.8704836404757376\n",
      "k: 119; auc(train): 0.8832404039263706; auc(test): 0.8707138898113193\n",
      "k: 124; auc(train): 0.8827197935595771; auc(test): 0.8701693984930894\n",
      "k: 129; auc(train): 0.8820773227915127; auc(test): 0.8702739779025119\n",
      "k: 134; auc(train): 0.8815551986309147; auc(test): 0.8692400388280443\n",
      "k: 139; auc(train): 0.8810869809242737; auc(test): 0.8693448533228445\n",
      "k: 144; auc(train): 0.880604234645737; auc(test): 0.8689931991815267\n",
      "k: 150; auc(train): 0.8800288198117122; auc(test): 0.869085621318563\n"
     ]
    }
   ],
   "source": [
    "train_score = []\n",
    "test_score = []\n",
    "\n",
    "values = [int(x) for x in np.linspace(1, 150, num=30)]\n",
    "\n",
    "from sklearn.neighbors import KNeighborsClassifier\n",
    "for x in values:\n",
    "    model = KNeighborsClassifier(n_neighbors=x)\n",
    "    model.fit(X_train, np.ravel(y_train))\n",
    "    \n",
    "    # eval test\n",
    "    y_pred_proba = model.predict_proba(X_test)\n",
    "    auc_test = roc_auc_score(y_test, y_pred_proba[:,1])\n",
    "    test_score.append(auc_test)\n",
    "    \n",
    "    # eval train\n",
    "    y_pred_proba_train = model.predict_proba(X_train)\n",
    "    auc_train = roc_auc_score(y_train, y_pred_proba_train[:,1])\n",
    "    train_score.append(auc_train)\n",
    "    \n",
    "    print('k: '+ str(x) + '; auc(train): '+ str(auc_train) + '; auc(test): ' + str(auc_test))"
   ]
  },
  {
   "cell_type": "markdown",
   "id": "54575b5e-0fb3-404b-808e-4e3dd2f00f79",
   "metadata": {},
   "source": [
    "### Option 1 Result"
   ]
  },
  {
   "cell_type": "code",
   "execution_count": 23,
   "id": "7beda9ac-11c8-4381-bace-f1d3e0961a89",
   "metadata": {},
   "outputs": [
    {
     "data": {
      "image/png": "[encoded data removed]",
      "text/plain": [
       "<Figure size 432x288 with 1 Axes>"
      ]
     },
     "metadata": {
      "needs_background": "light"
     },
     "output_type": "display_data"
    }
   ],
   "source": [
    "from matplotlib import pyplot as plt\n",
    "\n",
    "fig, ax = plt.subplots(figsize=(6, 4))\n",
    "ax.set_xlabel('age, balance, day, duration, campaign, previous, loans, housings,\\n contact_cellular, contact_telephone, contact_unknown')\n",
    "\n",
    "plt.plot(values, train_score, label='score train')\n",
    "plt.plot(values, test_score, label='score test')\n",
    "plt.legend()\n",
    "plt.show()"
   ]
  },
  {
   "cell_type": "markdown",
   "id": "50ae1894-bc69-4d9f-a3a4-ac2cfcb32ad7",
   "metadata": {},
   "source": [
    "## Feature option 2"
   ]
  },
  {
   "cell_type": "code",
   "execution_count": 24,
   "id": "9d26890d-5315-481d-8307-d739ca9e9bd6",
   "metadata": {},
   "outputs": [],
   "source": [
    "X = df.drop(columns=['job', 'marital', 'education', 'default', 'month', 'pdays', 'poutcome',\n",
    "                    'y', 'loan', 'housing', 'contact','converted','day_norm', 'contact_telephone', \n",
    "                    'contact_cellular','contact_unknown'])\n",
    "\n",
    "y = df[['converted']] # variable target\n",
    "\n",
    "#Splitting the data into Train and Test\n",
    "from sklearn.model_selection import train_test_split\n",
    "X_train, X_test, y_train, y_test = train_test_split(X, y, test_size=0.3, random_state=42)"
   ]
  },
  {
   "cell_type": "code",
   "execution_count": 25,
   "id": "0bbb86e9-1f22-4ebb-b5e4-c9a181331561",
   "metadata": {},
   "outputs": [
    {
     "data": {
      "text/html": [
       "<div>\n",
       "<style scoped>\n",
       "    .dataframe tbody tr th:only-of-type {\n",
       "        vertical-align: middle;\n",
       "    }\n",
       "\n",
       "    .dataframe tbody tr th {\n",
       "        vertical-align: top;\n",
       "    }\n",
       "\n",
       "    .dataframe thead th {\n",
       "        text-align: right;\n",
       "    }\n",
       "</style>\n",
       "<table border=\"1\" class=\"dataframe\">\n",
       "  <thead>\n",
       "    <tr style=\"text-align: right;\">\n",
       "      <th></th>\n",
       "      <th>balance_norm</th>\n",
       "      <th>duration_norm</th>\n",
       "      <th>campaign_log_norm</th>\n",
       "      <th>previous_norm</th>\n",
       "      <th>age_norm</th>\n",
       "      <th>loans</th>\n",
       "      <th>housings</th>\n",
       "    </tr>\n",
       "  </thead>\n",
       "  <tbody>\n",
       "    <tr>\n",
       "      <th>10160</th>\n",
       "      <td>0.434103</td>\n",
       "      <td>0.154369</td>\n",
       "      <td>0.000000</td>\n",
       "      <td>0.000000</td>\n",
       "      <td>0.592593</td>\n",
       "      <td>0</td>\n",
       "      <td>0</td>\n",
       "    </tr>\n",
       "    <tr>\n",
       "      <th>30569</th>\n",
       "      <td>0.407271</td>\n",
       "      <td>0.051456</td>\n",
       "      <td>0.278943</td>\n",
       "      <td>0.000000</td>\n",
       "      <td>0.388889</td>\n",
       "      <td>0</td>\n",
       "      <td>0</td>\n",
       "    </tr>\n",
       "    <tr>\n",
       "      <th>40942</th>\n",
       "      <td>0.421119</td>\n",
       "      <td>0.280583</td>\n",
       "      <td>0.278943</td>\n",
       "      <td>0.000000</td>\n",
       "      <td>0.462963</td>\n",
       "      <td>0</td>\n",
       "      <td>0</td>\n",
       "    </tr>\n",
       "    <tr>\n",
       "      <th>4659</th>\n",
       "      <td>0.447490</td>\n",
       "      <td>0.062136</td>\n",
       "      <td>0.000000</td>\n",
       "      <td>0.000000</td>\n",
       "      <td>0.259259</td>\n",
       "      <td>0</td>\n",
       "      <td>1</td>\n",
       "    </tr>\n",
       "    <tr>\n",
       "      <th>35475</th>\n",
       "      <td>0.426601</td>\n",
       "      <td>0.424272</td>\n",
       "      <td>0.442114</td>\n",
       "      <td>0.285714</td>\n",
       "      <td>0.370370</td>\n",
       "      <td>0</td>\n",
       "      <td>1</td>\n",
       "    </tr>\n",
       "  </tbody>\n",
       "</table>\n",
       "</div>"
      ],
      "text/plain": [
       "       balance_norm  duration_norm  campaign_log_norm  previous_norm  \\\n",
       "10160      0.434103       0.154369           0.000000       0.000000   \n",
       "30569      0.407271       0.051456           0.278943       0.000000   \n",
       "40942      0.421119       0.280583           0.278943       0.000000   \n",
       "4659       0.447490       0.062136           0.000000       0.000000   \n",
       "35475      0.426601       0.424272           0.442114       0.285714   \n",
       "\n",
       "       age_norm  loans  housings  \n",
       "10160  0.592593      0         0  \n",
       "30569  0.388889      0         0  \n",
       "40942  0.462963      0         0  \n",
       "4659   0.259259      0         1  \n",
       "35475  0.370370      0         1  "
      ]
     },
     "execution_count": 25,
     "metadata": {},
     "output_type": "execute_result"
    }
   ],
   "source": [
    "X.sample(5)"
   ]
  },
  {
   "cell_type": "code",
   "execution_count": 26,
   "id": "d4427762-8b4c-458f-a2d1-88e343e3fd38",
   "metadata": {},
   "outputs": [
    {
     "name": "stdout",
     "output_type": "stream",
     "text": [
      "Accuracy (Test Set): 0.90\n",
      "Precision (Test Set): 0.65\n",
      "Recall (Test Set): 0.08\n",
      "F1-Score (Test Set): 0.14\n",
      "AUC (test-proba): 0.87\n",
      "AUC (train-proba): 0.87\n"
     ]
    }
   ],
   "source": [
    "from sklearn.neighbors import KNeighborsClassifier\n",
    "knn = KNeighborsClassifier(n_neighbors=120)\n",
    "#knn.fit(X_train, y_train) #warning\n",
    "knn.fit(X_train, np.ravel(y_train))\n",
    "eval_classification(knn)"
   ]
  },
  {
   "cell_type": "code",
   "execution_count": 27,
   "id": "ba2c0f80-fa63-41bf-9c45-7bf46e1b3aa7",
   "metadata": {},
   "outputs": [
    {
     "name": "stdout",
     "output_type": "stream",
     "text": [
      "k: 1; auc(train): 0.9999809813617345; auc(test): 0.6313058630024513\n",
      "k: 6; auc(train): 0.9336612706759537; auc(test): 0.7908532712600469\n",
      "k: 11; auc(train): 0.9130921611779882; auc(test): 0.8292580947283918\n",
      "k: 16; auc(train): 0.9033285182716837; auc(test): 0.8410695229405716\n",
      "k: 21; auc(train): 0.8975635809433886; auc(test): 0.849009195733966\n",
      "k: 26; auc(train): 0.8943919071043754; auc(test): 0.8534553654811916\n",
      "k: 31; auc(train): 0.8908677181546854; auc(test): 0.8553540157418542\n",
      "k: 36; auc(train): 0.8883264945346271; auc(test): 0.858877811218113\n",
      "k: 42; auc(train): 0.8859402744200278; auc(test): 0.8600447078654462\n",
      "k: 47; auc(train): 0.8843736838492955; auc(test): 0.8616351611960285\n",
      "k: 52; auc(train): 0.883380603041571; auc(test): 0.861089729536288\n",
      "k: 57; auc(train): 0.8821728970613799; auc(test): 0.8617906197978964\n",
      "k: 62; auc(train): 0.881492709735811; auc(test): 0.8625242876778723\n",
      "k: 67; auc(train): 0.8809674617718957; auc(test): 0.8632319618318067\n",
      "k: 72; auc(train): 0.8799787427429302; auc(test): 0.8641297864726232\n",
      "k: 78; auc(train): 0.8794033984670915; auc(test): 0.8640378009227168\n",
      "k: 83; auc(train): 0.8790388114922607; auc(test): 0.8645022960452997\n",
      "k: 88; auc(train): 0.878291189784201; auc(test): 0.8648562002895177\n",
      "k: 93; auc(train): 0.8777004125088117; auc(test): 0.8647779504423905\n",
      "k: 98; auc(train): 0.8771515596245535; auc(test): 0.8649709891210547\n",
      "k: 103; auc(train): 0.8766100512059998; auc(test): 0.8655773414772281\n",
      "k: 108; auc(train): 0.8760682926266053; auc(test): 0.865978766551354\n",
      "k: 114; auc(train): 0.8753940257742638; auc(test): 0.866081700363133\n",
      "k: 119; auc(train): 0.8746427799412058; auc(test): 0.866484838202153\n",
      "k: 124; auc(train): 0.8743284303946706; auc(test): 0.8666685406329626\n",
      "k: 129; auc(train): 0.8741969484226076; auc(test): 0.8671263526140957\n",
      "k: 134; auc(train): 0.8737145549349998; auc(test): 0.8664719420900084\n",
      "k: 139; auc(train): 0.8731306474611562; auc(test): 0.8663683701893471\n",
      "k: 144; auc(train): 0.8728809099696793; auc(test): 0.8665565728259572\n",
      "k: 150; auc(train): 0.8723679840307582; auc(test): 0.8663613847952689\n"
     ]
    }
   ],
   "source": [
    "train_score = []\n",
    "test_score = []\n",
    "\n",
    "values = [int(x) for x in np.linspace(1, 150, num=30)]\n",
    "\n",
    "from sklearn.neighbors import KNeighborsClassifier\n",
    "for x in values:\n",
    "    model = KNeighborsClassifier(n_neighbors=x)\n",
    "    model.fit(X_train, np.ravel(y_train))\n",
    "    \n",
    "    # eval test\n",
    "    y_pred_proba = model.predict_proba(X_test)\n",
    "    auc_test = roc_auc_score(y_test, y_pred_proba[:,1])\n",
    "    test_score.append(auc_test)\n",
    "    \n",
    "    # eval train\n",
    "    y_pred_proba_train = model.predict_proba(X_train)\n",
    "    auc_train = roc_auc_score(y_train, y_pred_proba_train[:,1])\n",
    "    train_score.append(auc_train)\n",
    "    \n",
    "    print('k: '+ str(x) + '; auc(train): '+ str(auc_train) + '; auc(test): ' + str(auc_test))"
   ]
  },
  {
   "cell_type": "markdown",
   "id": "b5dbbe66-b266-4914-80db-50f89d96162e",
   "metadata": {},
   "source": [
    "### Option 2 Result"
   ]
  },
  {
   "cell_type": "code",
   "execution_count": 28,
   "id": "57ae2d72-b7b8-48ea-a086-36ec137dd3b6",
   "metadata": {},
   "outputs": [
    {
     "data": {
      "image/png": "[encoded data removed]",
      "text/plain": [
       "<Figure size 432x288 with 1 Axes>"
      ]
     },
     "metadata": {
      "needs_background": "light"
     },
     "output_type": "display_data"
    }
   ],
   "source": [
    "from matplotlib import pyplot as plt\n",
    "\n",
    "fig, ax = plt.subplots(figsize=(6, 4))\n",
    "ax.set_xlabel('age, balance, duration, campaign, previous, loans, housings')\n",
    "\n",
    "plt.plot(values, train_score, label='score train')\n",
    "plt.plot(values, test_score, label='score test')\n",
    "plt.legend()\n",
    "plt.show()"
   ]
  },
  {
   "cell_type": "markdown",
   "id": "06da2ac0-c493-49bb-8ba3-d5f8a0fc0a14",
   "metadata": {},
   "source": [
    "## Feature option 3"
   ]
  },
  {
   "cell_type": "code",
   "execution_count": 29,
   "id": "be4acd50-16e8-41fe-bc77-b729d856dcf2",
   "metadata": {},
   "outputs": [
    {
     "data": {
      "text/html": [
       "<div>\n",
       "<style scoped>\n",
       "    .dataframe tbody tr th:only-of-type {\n",
       "        vertical-align: middle;\n",
       "    }\n",
       "\n",
       "    .dataframe tbody tr th {\n",
       "        vertical-align: top;\n",
       "    }\n",
       "\n",
       "    .dataframe thead th {\n",
       "        text-align: right;\n",
       "    }\n",
       "</style>\n",
       "<table border=\"1\" class=\"dataframe\">\n",
       "  <thead>\n",
       "    <tr style=\"text-align: right;\">\n",
       "      <th></th>\n",
       "      <th>balance_norm</th>\n",
       "      <th>duration_norm</th>\n",
       "      <th>campaign_log_norm</th>\n",
       "      <th>previous_norm</th>\n",
       "      <th>day_norm</th>\n",
       "      <th>age_norm</th>\n",
       "      <th>loans</th>\n",
       "      <th>housings</th>\n",
       "    </tr>\n",
       "  </thead>\n",
       "  <tbody>\n",
       "    <tr>\n",
       "      <th>16585</th>\n",
       "      <td>0.385632</td>\n",
       "      <td>0.113592</td>\n",
       "      <td>0.557886</td>\n",
       "      <td>0.0</td>\n",
       "      <td>0.766667</td>\n",
       "      <td>0.111111</td>\n",
       "      <td>1</td>\n",
       "      <td>1</td>\n",
       "    </tr>\n",
       "    <tr>\n",
       "      <th>6864</th>\n",
       "      <td>0.483728</td>\n",
       "      <td>0.336893</td>\n",
       "      <td>0.278943</td>\n",
       "      <td>0.0</td>\n",
       "      <td>0.900000</td>\n",
       "      <td>0.185185</td>\n",
       "      <td>0</td>\n",
       "      <td>1</td>\n",
       "    </tr>\n",
       "    <tr>\n",
       "      <th>23810</th>\n",
       "      <td>0.424812</td>\n",
       "      <td>0.110680</td>\n",
       "      <td>0.442114</td>\n",
       "      <td>0.0</td>\n",
       "      <td>0.933333</td>\n",
       "      <td>0.314815</td>\n",
       "      <td>1</td>\n",
       "      <td>1</td>\n",
       "    </tr>\n",
       "    <tr>\n",
       "      <th>3713</th>\n",
       "      <td>0.443104</td>\n",
       "      <td>0.221359</td>\n",
       "      <td>0.278943</td>\n",
       "      <td>0.0</td>\n",
       "      <td>0.500000</td>\n",
       "      <td>0.203704</td>\n",
       "      <td>0</td>\n",
       "      <td>1</td>\n",
       "    </tr>\n",
       "    <tr>\n",
       "      <th>7290</th>\n",
       "      <td>0.351125</td>\n",
       "      <td>0.160194</td>\n",
       "      <td>0.000000</td>\n",
       "      <td>0.0</td>\n",
       "      <td>0.933333</td>\n",
       "      <td>0.370370</td>\n",
       "      <td>0</td>\n",
       "      <td>0</td>\n",
       "    </tr>\n",
       "  </tbody>\n",
       "</table>\n",
       "</div>"
      ],
      "text/plain": [
       "       balance_norm  duration_norm  campaign_log_norm  previous_norm  \\\n",
       "16585      0.385632       0.113592           0.557886            0.0   \n",
       "6864       0.483728       0.336893           0.278943            0.0   \n",
       "23810      0.424812       0.110680           0.442114            0.0   \n",
       "3713       0.443104       0.221359           0.278943            0.0   \n",
       "7290       0.351125       0.160194           0.000000            0.0   \n",
       "\n",
       "       day_norm  age_norm  loans  housings  \n",
       "16585  0.766667  0.111111      1         1  \n",
       "6864   0.900000  0.185185      0         1  \n",
       "23810  0.933333  0.314815      1         1  \n",
       "3713   0.500000  0.203704      0         1  \n",
       "7290   0.933333  0.370370      0         0  "
      ]
     },
     "execution_count": 29,
     "metadata": {},
     "output_type": "execute_result"
    }
   ],
   "source": [
    "X = df.drop(columns=['job', 'marital', 'education', 'default', 'month', 'pdays', 'poutcome',\n",
    "                    'y', 'loan', 'housing', 'contact','converted', 'contact_telephone', \n",
    "                    'contact_cellular','contact_unknown'])\n",
    "\n",
    "y = df[['converted']] # variable target\n",
    "\n",
    "#Splitting the data into Train and Test\n",
    "from sklearn.model_selection import train_test_split\n",
    "X_train, X_test, y_train, y_test = train_test_split(X, y, test_size=0.3, random_state=42)\n",
    "\n",
    "X.sample(5)"
   ]
  },
  {
   "cell_type": "code",
   "execution_count": 30,
   "id": "ea41ee75-29f7-4c02-a649-bdaa087c0b8a",
   "metadata": {},
   "outputs": [
    {
     "name": "stdout",
     "output_type": "stream",
     "text": [
      "Accuracy (Test Set): 0.90\n",
      "Precision (Test Set): 0.71\n",
      "Recall (Test Set): 0.05\n",
      "F1-Score (Test Set): 0.09\n",
      "AUC (test-proba): 0.86\n",
      "AUC (train-proba): 0.88\n"
     ]
    }
   ],
   "source": [
    "from sklearn.neighbors import KNeighborsClassifier\n",
    "knn = KNeighborsClassifier(n_neighbors=120)\n",
    "#knn.fit(X_train, y_train) #warning\n",
    "knn.fit(X_train, np.ravel(y_train))\n",
    "eval_classification(knn)"
   ]
  },
  {
   "cell_type": "code",
   "execution_count": 31,
   "id": "bd094503-99e3-4182-8590-25ea26ea9058",
   "metadata": {},
   "outputs": [
    {
     "name": "stdout",
     "output_type": "stream",
     "text": [
      "k: 1; auc(train): 1.0; auc(test): 0.6387477593005149\n",
      "k: 6; auc(train): 0.9367252534802826; auc(test): 0.7980850012305041\n",
      "k: 11; auc(train): 0.9182613115997016; auc(test): 0.8250117139685313\n",
      "k: 16; auc(train): 0.9096253232045988; auc(test): 0.8353758894287344\n",
      "k: 21; auc(train): 0.9036086663412437; auc(test): 0.8424754006660842\n",
      "k: 26; auc(train): 0.898977137223484; auc(test): 0.8474351647961931\n",
      "k: 31; auc(train): 0.8961229431487039; auc(test): 0.8525044787122802\n",
      "k: 36; auc(train): 0.8937380187389713; auc(test): 0.8560859372733105\n",
      "k: 42; auc(train): 0.8912025231607245; auc(test): 0.8593294438121767\n",
      "k: 47; auc(train): 0.8897381906443693; auc(test): 0.859989832221581\n",
      "k: 52; auc(train): 0.8882266162154256; auc(test): 0.8633856740851551\n",
      "k: 57; auc(train): 0.8860637063445279; auc(test): 0.863384498658267\n",
      "k: 62; auc(train): 0.8846625298188514; auc(test): 0.863201400732714\n",
      "k: 67; auc(train): 0.8835582877965769; auc(test): 0.8629877752916939\n",
      "k: 72; auc(train): 0.8824900240346838; auc(test): 0.8624502693675423\n",
      "k: 78; auc(train): 0.8814717988552897; auc(test): 0.8626873697627008\n",
      "k: 83; auc(train): 0.8804197249898492; auc(test): 0.8628277157331492\n",
      "k: 88; auc(train): 0.8794165351184127; auc(test): 0.8626605364460249\n",
      "k: 93; auc(train): 0.8785722679389377; auc(test): 0.8629573485271027\n",
      "k: 98; auc(train): 0.8782392589594463; auc(test): 0.8633321417863049\n",
      "k: 103; auc(train): 0.8775053511969555; auc(test): 0.8624858344268163\n",
      "k: 108; auc(train): 0.8765759395303518; auc(test): 0.8625575690506204\n",
      "k: 114; auc(train): 0.8759498575045367; auc(test): 0.8622828549950403\n",
      "k: 119; auc(train): 0.8753635318092338; auc(test): 0.8630175303837776\n",
      "k: 124; auc(train): 0.8749701827521156; auc(test): 0.8626226541166003\n",
      "k: 129; auc(train): 0.8746116381237424; auc(test): 0.8624582958540074\n",
      "k: 134; auc(train): 0.8738401934064017; auc(test): 0.8627149755027603\n",
      "k: 139; auc(train): 0.8734754396576773; auc(test): 0.8627710937407645\n",
      "k: 144; auc(train): 0.8730975813295342; auc(test): 0.862702381643244\n",
      "k: 150; auc(train): 0.8727353933330211; auc(test): 0.8627504062275327\n"
     ]
    }
   ],
   "source": [
    "train_score = []\n",
    "test_score = []\n",
    "\n",
    "values = [int(x) for x in np.linspace(1, 150, num=30)]\n",
    "\n",
    "from sklearn.neighbors import KNeighborsClassifier\n",
    "for x in values:\n",
    "    model = KNeighborsClassifier(n_neighbors=x)\n",
    "    model.fit(X_train, np.ravel(y_train))\n",
    "    \n",
    "    # eval test\n",
    "    y_pred_proba = model.predict_proba(X_test)\n",
    "    auc_test = roc_auc_score(y_test, y_pred_proba[:,1])\n",
    "    test_score.append(auc_test)\n",
    "    \n",
    "    # eval train\n",
    "    y_pred_proba_train = model.predict_proba(X_train)\n",
    "    auc_train = roc_auc_score(y_train, y_pred_proba_train[:,1])\n",
    "    train_score.append(auc_train)\n",
    "    \n",
    "    print('k: '+ str(x) + '; auc(train): '+ str(auc_train) + '; auc(test): ' + str(auc_test))"
   ]
  },
  {
   "cell_type": "markdown",
   "id": "4d93885f-e9e8-4a9e-ad3f-90a3a8bb35e9",
   "metadata": {},
   "source": [
    "### Option 3 Result"
   ]
  },
  {
   "cell_type": "code",
   "execution_count": 32,
   "id": "be0ff910-d7c0-4c55-9a5a-9c94bfb045c9",
   "metadata": {},
   "outputs": [
    {
     "data": {
      "image/png": "[encoded data removed]",
      "text/plain": [
       "<Figure size 432x288 with 1 Axes>"
      ]
     },
     "metadata": {
      "needs_background": "light"
     },
     "output_type": "display_data"
    }
   ],
   "source": [
    "from matplotlib import pyplot as plt\n",
    "\n",
    "fig, ax = plt.subplots(figsize=(6, 4))\n",
    "ax.set_xlabel('age, balance, day, duration, campaign, previous, loans, housings')\n",
    "\n",
    "plt.plot(values, train_score, label='score train')\n",
    "plt.plot(values, test_score, label='score test')\n",
    "plt.legend()\n",
    "plt.show()"
   ]
  },
  {
   "cell_type": "markdown",
   "id": "d2e97277-a7cb-483b-b7da-2bf73875425d",
   "metadata": {},
   "source": [
    "## Feature option 4"
   ]
  },
  {
   "cell_type": "code",
   "execution_count": 41,
   "id": "e934c9eb-ff9d-41ed-b441-163ad9b51cd9",
   "metadata": {},
   "outputs": [
    {
     "data": {
      "text/html": [
       "<div>\n",
       "<style scoped>\n",
       "    .dataframe tbody tr th:only-of-type {\n",
       "        vertical-align: middle;\n",
       "    }\n",
       "\n",
       "    .dataframe tbody tr th {\n",
       "        vertical-align: top;\n",
       "    }\n",
       "\n",
       "    .dataframe thead th {\n",
       "        text-align: right;\n",
       "    }\n",
       "</style>\n",
       "<table border=\"1\" class=\"dataframe\">\n",
       "  <thead>\n",
       "    <tr style=\"text-align: right;\">\n",
       "      <th></th>\n",
       "      <th>duration_norm</th>\n",
       "      <th>campaign_log_norm</th>\n",
       "      <th>previous_norm</th>\n",
       "      <th>loans</th>\n",
       "    </tr>\n",
       "  </thead>\n",
       "  <tbody>\n",
       "    <tr>\n",
       "      <th>4469</th>\n",
       "      <td>0.257282</td>\n",
       "      <td>0.000000</td>\n",
       "      <td>0.0</td>\n",
       "      <td>0</td>\n",
       "    </tr>\n",
       "    <tr>\n",
       "      <th>11813</th>\n",
       "      <td>0.163107</td>\n",
       "      <td>0.278943</td>\n",
       "      <td>0.0</td>\n",
       "      <td>0</td>\n",
       "    </tr>\n",
       "    <tr>\n",
       "      <th>11424</th>\n",
       "      <td>0.086408</td>\n",
       "      <td>0.278943</td>\n",
       "      <td>0.0</td>\n",
       "      <td>0</td>\n",
       "    </tr>\n",
       "    <tr>\n",
       "      <th>18194</th>\n",
       "      <td>0.232039</td>\n",
       "      <td>0.557886</td>\n",
       "      <td>0.0</td>\n",
       "      <td>0</td>\n",
       "    </tr>\n",
       "    <tr>\n",
       "      <th>13031</th>\n",
       "      <td>0.332039</td>\n",
       "      <td>0.000000</td>\n",
       "      <td>0.0</td>\n",
       "      <td>1</td>\n",
       "    </tr>\n",
       "  </tbody>\n",
       "</table>\n",
       "</div>"
      ],
      "text/plain": [
       "       duration_norm  campaign_log_norm  previous_norm  loans\n",
       "4469        0.257282           0.000000            0.0      0\n",
       "11813       0.163107           0.278943            0.0      0\n",
       "11424       0.086408           0.278943            0.0      0\n",
       "18194       0.232039           0.557886            0.0      0\n",
       "13031       0.332039           0.000000            0.0      1"
      ]
     },
     "execution_count": 41,
     "metadata": {},
     "output_type": "execute_result"
    }
   ],
   "source": [
    "X = df.drop(columns=['job', 'marital', 'education', 'default', 'month', 'pdays', 'poutcome',\n",
    "                    'y', 'loan', 'housing', 'contact','converted', 'contact_telephone', \n",
    "                    'contact_cellular','contact_unknown','age_norm','day_norm','balance_norm','housings'])\n",
    "\n",
    "y = df[['converted']] # variable target\n",
    "\n",
    "#Splitting the data into Train and Test\n",
    "from sklearn.model_selection import train_test_split\n",
    "X_train, X_test, y_train, y_test = train_test_split(X, y, test_size=0.3, random_state=42)\n",
    "\n",
    "X.sample(5)"
   ]
  },
  {
   "cell_type": "code",
   "execution_count": 42,
   "id": "095bad7a-d227-44c8-ab7a-4966f4f0f7bb",
   "metadata": {},
   "outputs": [
    {
     "name": "stdout",
     "output_type": "stream",
     "text": [
      "Accuracy (Test Set): 0.90\n",
      "Precision (Test Set): 0.60\n",
      "Recall (Test Set): 0.06\n",
      "F1-Score (Test Set): 0.11\n",
      "AUC (test-proba): 0.83\n",
      "AUC (train-proba): 0.84\n"
     ]
    }
   ],
   "source": [
    "from sklearn.neighbors import KNeighborsClassifier\n",
    "knn = KNeighborsClassifier(n_neighbors=120)\n",
    "#knn.fit(X_train, y_train) #warning\n",
    "knn.fit(X_train, np.ravel(y_train))\n",
    "eval_classification(knn)"
   ]
  },
  {
   "cell_type": "code",
   "execution_count": 43,
   "id": "c5faa9ae-dcfd-4009-bda8-0eedd3b305bf",
   "metadata": {},
   "outputs": [
    {
     "name": "stdout",
     "output_type": "stream",
     "text": [
      "k: 1; auc(train): 0.7949615361671639; auc(test): 0.6052264315490488\n",
      "k: 6; auc(train): 0.8768431626231481; auc(test): 0.7516170851455058\n",
      "k: 11; auc(train): 0.8771286923579712; auc(test): 0.786895911180177\n",
      "k: 16; auc(train): 0.8739561269200647; auc(test): 0.8015359202396957\n",
      "k: 21; auc(train): 0.869921507225479; auc(test): 0.8078813111692152\n",
      "k: 26; auc(train): 0.8665781204197314; auc(test): 0.8144808965592099\n",
      "k: 31; auc(train): 0.8631172606489942; auc(test): 0.8200567858804767\n",
      "k: 36; auc(train): 0.860658198829119; auc(test): 0.821068056007815\n",
      "k: 42; auc(train): 0.857423670475312; auc(test): 0.8225880508923572\n",
      "k: 47; auc(train): 0.8552662448997657; auc(test): 0.8247526834660021\n",
      "k: 52; auc(train): 0.8535877298032003; auc(test): 0.8246134457551909\n",
      "k: 57; auc(train): 0.8518031016095605; auc(test): 0.8258084854805897\n",
      "k: 62; auc(train): 0.8503364855737374; auc(test): 0.8267569542284741\n",
      "k: 67; auc(train): 0.8487022168740542; auc(test): 0.8275920782407123\n",
      "k: 72; auc(train): 0.8475229843290268; auc(test): 0.827417577723256\n",
      "k: 78; auc(train): 0.8468724442702583; auc(test): 0.8290804373501499\n",
      "k: 83; auc(train): 0.8454258603448244; auc(test): 0.829285297464947\n",
      "k: 88; auc(train): 0.8448351985282846; auc(test): 0.8300121814525966\n",
      "k: 93; auc(train): 0.8445036391987925; auc(test): 0.8295764003297106\n",
      "k: 98; auc(train): 0.8438403473515343; auc(test): 0.8302429009589334\n",
      "k: 103; auc(train): 0.8435794167660361; auc(test): 0.8303056015875114\n",
      "k: 108; auc(train): 0.8433057536351898; auc(test): 0.8304041695279916\n",
      "k: 114; auc(train): 0.8434660041039206; auc(test): 0.8312415100595048\n",
      "k: 119; auc(train): 0.843073014252112; auc(test): 0.8308565409618135\n",
      "k: 124; auc(train): 0.8430937968450228; auc(test): 0.8317463726997902\n",
      "k: 129; auc(train): 0.8426269710589566; auc(test): 0.832097657421229\n",
      "k: 134; auc(train): 0.8425603320596512; auc(test): 0.8320205494173644\n",
      "k: 139; auc(train): 0.8423338274544467; auc(test): 0.8321922624939146\n",
      "k: 144; auc(train): 0.8420219602731756; auc(test): 0.8321093109392346\n",
      "k: 150; auc(train): 0.8416019979512468; auc(test): 0.8323247834796503\n"
     ]
    }
   ],
   "source": [
    "train_score = []\n",
    "test_score = []\n",
    "\n",
    "values = [int(x) for x in np.linspace(1, 150, num=30)]\n",
    "\n",
    "from sklearn.neighbors import KNeighborsClassifier\n",
    "for x in values:\n",
    "    model = KNeighborsClassifier(n_neighbors=x)\n",
    "    model.fit(X_train, np.ravel(y_train))\n",
    "    \n",
    "    # eval test\n",
    "    y_pred_proba = model.predict_proba(X_test)\n",
    "    auc_test = roc_auc_score(y_test, y_pred_proba[:,1])\n",
    "    test_score.append(auc_test)\n",
    "    \n",
    "    # eval train\n",
    "    y_pred_proba_train = model.predict_proba(X_train)\n",
    "    auc_train = roc_auc_score(y_train, y_pred_proba_train[:,1])\n",
    "    train_score.append(auc_train)\n",
    "    \n",
    "    print('k: '+ str(x) + '; auc(train): '+ str(auc_train) + '; auc(test): ' + str(auc_test))"
   ]
  },
  {
   "cell_type": "markdown",
   "id": "1067d18a-6a79-4856-afa5-d3dcd2f466c9",
   "metadata": {
    "tags": []
   },
   "source": [
    "### Option 4 Result"
   ]
  },
  {
   "cell_type": "code",
   "execution_count": 44,
   "id": "0b7b6681-acc7-435c-a99d-c6d2e8dcfe48",
   "metadata": {},
   "outputs": [
    {
     "data": {
      "image/png": "[encoded data removed]",
      "text/plain": [
       "<Figure size 432x288 with 1 Axes>"
      ]
     },
     "metadata": {
      "needs_background": "light"
     },
     "output_type": "display_data"
    }
   ],
   "source": [
    "from matplotlib import pyplot as plt\n",
    "\n",
    "fig, ax = plt.subplots(figsize=(6, 4))\n",
    "ax.set_xlabel('duration, campaign, previous, loans')\n",
    "\n",
    "plt.plot(values, train_score, label='score train')\n",
    "plt.plot(values, test_score, label='score test')\n",
    "plt.legend()\n",
    "plt.show()"
   ]
  },
  {
   "cell_type": "markdown",
   "id": "e4ab2c89-67e1-4a78-8dbf-e7682d351246",
   "metadata": {},
   "source": [
    "## Feature Importance (random forest)"
   ]
  },
  {
   "cell_type": "code",
   "execution_count": 45,
   "id": "ab487ee7-5df1-4f06-9ff6-f1be9a1ace2d",
   "metadata": {},
   "outputs": [
    {
     "data": {
      "text/html": [
       "<div>\n",
       "<style scoped>\n",
       "    .dataframe tbody tr th:only-of-type {\n",
       "        vertical-align: middle;\n",
       "    }\n",
       "\n",
       "    .dataframe tbody tr th {\n",
       "        vertical-align: top;\n",
       "    }\n",
       "\n",
       "    .dataframe thead th {\n",
       "        text-align: right;\n",
       "    }\n",
       "</style>\n",
       "<table border=\"1\" class=\"dataframe\">\n",
       "  <thead>\n",
       "    <tr style=\"text-align: right;\">\n",
       "      <th></th>\n",
       "      <th>balance_norm</th>\n",
       "      <th>duration_norm</th>\n",
       "      <th>campaign_log_norm</th>\n",
       "      <th>previous_norm</th>\n",
       "      <th>age_norm</th>\n",
       "      <th>loans</th>\n",
       "      <th>housings</th>\n",
       "    </tr>\n",
       "  </thead>\n",
       "  <tbody>\n",
       "    <tr>\n",
       "      <th>5760</th>\n",
       "      <td>0.400692</td>\n",
       "      <td>0.367961</td>\n",
       "      <td>0.000000</td>\n",
       "      <td>0.000000</td>\n",
       "      <td>0.388889</td>\n",
       "      <td>1</td>\n",
       "      <td>1</td>\n",
       "    </tr>\n",
       "    <tr>\n",
       "      <th>34079</th>\n",
       "      <td>0.507444</td>\n",
       "      <td>0.428155</td>\n",
       "      <td>0.278943</td>\n",
       "      <td>0.000000</td>\n",
       "      <td>0.703704</td>\n",
       "      <td>0</td>\n",
       "      <td>0</td>\n",
       "    </tr>\n",
       "    <tr>\n",
       "      <th>1660</th>\n",
       "      <td>0.398384</td>\n",
       "      <td>0.020388</td>\n",
       "      <td>0.000000</td>\n",
       "      <td>0.000000</td>\n",
       "      <td>0.370370</td>\n",
       "      <td>0</td>\n",
       "      <td>1</td>\n",
       "    </tr>\n",
       "    <tr>\n",
       "      <th>24055</th>\n",
       "      <td>0.467686</td>\n",
       "      <td>0.302913</td>\n",
       "      <td>0.000000</td>\n",
       "      <td>0.000000</td>\n",
       "      <td>0.462963</td>\n",
       "      <td>0</td>\n",
       "      <td>0</td>\n",
       "    </tr>\n",
       "    <tr>\n",
       "      <th>35125</th>\n",
       "      <td>0.403635</td>\n",
       "      <td>0.225243</td>\n",
       "      <td>0.278943</td>\n",
       "      <td>0.571429</td>\n",
       "      <td>0.240741</td>\n",
       "      <td>1</td>\n",
       "      <td>1</td>\n",
       "    </tr>\n",
       "  </tbody>\n",
       "</table>\n",
       "</div>"
      ],
      "text/plain": [
       "       balance_norm  duration_norm  campaign_log_norm  previous_norm  \\\n",
       "5760       0.400692       0.367961           0.000000       0.000000   \n",
       "34079      0.507444       0.428155           0.278943       0.000000   \n",
       "1660       0.398384       0.020388           0.000000       0.000000   \n",
       "24055      0.467686       0.302913           0.000000       0.000000   \n",
       "35125      0.403635       0.225243           0.278943       0.571429   \n",
       "\n",
       "       age_norm  loans  housings  \n",
       "5760   0.388889      1         1  \n",
       "34079  0.703704      0         0  \n",
       "1660   0.370370      0         1  \n",
       "24055  0.462963      0         0  \n",
       "35125  0.240741      1         1  "
      ]
     },
     "execution_count": 45,
     "metadata": {},
     "output_type": "execute_result"
    }
   ],
   "source": [
    "X = df.drop(columns=['job', 'marital', 'education', 'default', 'month', 'pdays', 'poutcome',\n",
    "                    'y', 'loan', 'housing', 'contact','converted','day_norm', 'contact_telephone', \n",
    "                    'contact_cellular','contact_unknown'])\n",
    "y = df[['converted']] # variable target\n",
    "\n",
    "#Splitting the data into Train and Test\n",
    "from sklearn.model_selection import train_test_split\n",
    "X_train, X_test, y_train, y_test = train_test_split(X, y, test_size=0.3, random_state=42)\n",
    "\n",
    "X.sample(5)"
   ]
  },
  {
   "cell_type": "code",
   "execution_count": 46,
   "id": "85ce7009-b42f-4ab9-abb9-a1d0e43e1a8f",
   "metadata": {},
   "outputs": [
    {
     "name": "stdout",
     "output_type": "stream",
     "text": [
      "Accuracy (Test Set): 0.90\n",
      "Precision (Test Set): 0.56\n",
      "Recall (Test Set): 0.26\n",
      "F1-Score (Test Set): 0.35\n",
      "AUC (test-proba): 0.86\n",
      "AUC (train-proba): 1.00\n"
     ]
    }
   ],
   "source": [
    "from sklearn.ensemble import RandomForestClassifier\n",
    "rf = RandomForestClassifier()\n",
    "rf.fit(X_train, np.ravel(y_train))\n",
    "eval_classification(rf)"
   ]
  },
  {
   "cell_type": "code",
   "execution_count": 47,
   "id": "96fd1c3b-e5e4-4dde-bd1d-7c421cf7ae78",
   "metadata": {},
   "outputs": [
    {
     "name": "stdout",
     "output_type": "stream",
     "text": [
      "Accuracy (Test Set): 0.90\n",
      "Precision (Test Set): 0.62\n",
      "Recall (Test Set): 0.18\n",
      "F1-Score (Test Set): 0.28\n",
      "AUC (test-proba): 0.88\n",
      "AUC (train-proba): 0.92\n"
     ]
    }
   ],
   "source": [
    "from sklearn.model_selection import RandomizedSearchCV\n",
    "\n",
    "hyperparams = dict(\n",
    "                    n_estimators = [int(x) for x in np.linspace(10, 1000, num=50)],\n",
    "                    criterion = ['gini', 'entropy'],\n",
    "                    max_depth = [int(x) for x in np.linspace(1, 1000, num=50)],\n",
    "                    min_samples_split = [int(x) for x in np.linspace(2, 40, num=40)],\n",
    "                    min_samples_leaf = [int(x) for x in np.linspace(2, 20, num=20)],\n",
    "                    max_features = ['auto', 'sqrt', 'log2']\n",
    "                    )\n",
    "\n",
    "rf = RandomForestClassifier()\n",
    "rs = RandomizedSearchCV(rf, hyperparams, cv=5, random_state=42, scoring='roc_auc')\n",
    "rs.fit(X_train, np.ravel(y_train))\n",
    "eval_classification(rs)"
   ]
  },
  {
   "cell_type": "code",
   "execution_count": 48,
   "id": "69254a14-2e6c-4cd6-8205-a09e420d35ad",
   "metadata": {},
   "outputs": [
    {
     "data": {
      "image/png": "[encoded data removed]",
      "text/plain": [
       "<Figure size 720x576 with 1 Axes>"
      ]
     },
     "metadata": {
      "needs_background": "light"
     },
     "output_type": "display_data"
    }
   ],
   "source": [
    "show_feature_importance(rs.best_estimator_)"
   ]
  },
  {
   "cell_type": "code",
   "execution_count": 49,
   "id": "410acf43-c547-478b-b6d5-bafd50119c58",
   "metadata": {},
   "outputs": [
    {
     "name": "stdout",
     "output_type": "stream",
     "text": [
      "Accuracy (Test Set): 0.90\n",
      "Precision (Test Set): 0.55\n",
      "Recall (Test Set): 0.25\n",
      "F1-Score (Test Set): 0.35\n",
      "AUC (test-proba): 0.86\n",
      "AUC (train-proba): 1.00\n"
     ]
    }
   ],
   "source": [
    "from sklearn.model_selection import GridSearchCV\n",
    "from scipy.stats import uniform\n",
    "\n",
    "max_features = ['auto', 'sqrt', 'log2'] \n",
    "criterion = ['gini', 'entropy']\n",
    "hyperparameters = dict(max_features=max_features, criterion=criterion)\n",
    "\n",
    "rf = RandomForestClassifier(random_state=42)\n",
    "clf = GridSearchCV(rf, hyperparameters, cv=5, scoring='roc_auc')\n",
    "clf.fit(X_train, np.ravel(y_train))\n",
    "\n",
    "eval_classification(clf)"
   ]
  },
  {
   "cell_type": "code",
   "execution_count": 50,
   "id": "92290f9a-ff4f-4a01-a00d-017badd97c5a",
   "metadata": {},
   "outputs": [
    {
     "data": {
      "image/png": "[encoded data removed]",
      "text/plain": [
       "<Figure size 720x576 with 1 Axes>"
      ]
     },
     "metadata": {
      "needs_background": "light"
     },
     "output_type": "display_data"
    }
   ],
   "source": [
    "show_feature_importance(clf.best_estimator_)"
   ]
  },
  {
   "cell_type": "code",
   "execution_count": null,
   "id": "e45a73f1-0280-4614-8d3b-b8f730ccac02",
   "metadata": {},
   "outputs": [],
   "source": []
  }
 ],
 "metadata": {
  "kernelspec": {
   "display_name": "Python 3 (ipykernel)",
   "language": "python",
   "name": "python3"
  },
  "language_info": {
   "codemirror_mode": {
    "name": "ipython",
    "version": 3
   },
   "file_extension": ".py",
   "mimetype": "text/x-python",
   "name": "python",
   "nbconvert_exporter": "python",
   "pygments_lexer": "ipython3",
   "version": "3.9.7"
  }
 },
 "nbformat": 4,
 "nbformat_minor": 5
}
