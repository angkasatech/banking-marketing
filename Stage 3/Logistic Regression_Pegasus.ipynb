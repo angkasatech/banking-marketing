{
 "cells": [
  {
   "cell_type": "code",
   "execution_count": 1,
   "id": "74009982-e22b-4b83-bd74-fb2eefe8e298",
   "metadata": {},
   "outputs": [],
   "source": [
    "import pandas as pd\n",
    "import numpy as np\n",
    "import matplotlib.pyplot as plt\n",
    "import seaborn as sns\n",
    "import warnings\n",
    "warnings.filterwarnings('ignore')\n",
    "import math"
   ]
  },
  {
   "cell_type": "code",
   "execution_count": 2,
   "id": "909e71e2-8e19-4ec3-bd11-a59b52290d5b",
   "metadata": {
    "id": "3jvn1ZYPJC6_"
   },
   "outputs": [],
   "source": [
    "df= pd.read_csv('https://raw.githubusercontent.com/angkasatech/ds/37146328bc5814f4e7a0adb739e6574def32b6dc/banking_train.csv', delimiter=';')"
   ]
  },
  {
   "cell_type": "code",
   "execution_count": 3,
   "id": "606cbe75-abd7-4d79-aa12-8839857eba55",
   "metadata": {
    "colab": {
     "base_uri": "https://localhost:8080/",
     "height": 194
    },
    "id": "9YxcHDZbI_hp",
    "outputId": "27e52255-823d-43c0-dcc4-f03789d5bb03"
   },
   "outputs": [
    {
     "data": {
      "text/html": [
       "<div>\n",
       "<style scoped>\n",
       "    .dataframe tbody tr th:only-of-type {\n",
       "        vertical-align: middle;\n",
       "    }\n",
       "\n",
       "    .dataframe tbody tr th {\n",
       "        vertical-align: top;\n",
       "    }\n",
       "\n",
       "    .dataframe thead th {\n",
       "        text-align: right;\n",
       "    }\n",
       "</style>\n",
       "<table border=\"1\" class=\"dataframe\">\n",
       "  <thead>\n",
       "    <tr style=\"text-align: right;\">\n",
       "      <th></th>\n",
       "      <th>age</th>\n",
       "      <th>job</th>\n",
       "      <th>marital</th>\n",
       "      <th>education</th>\n",
       "      <th>default</th>\n",
       "      <th>balance</th>\n",
       "      <th>housing</th>\n",
       "      <th>loan</th>\n",
       "      <th>contact</th>\n",
       "      <th>day</th>\n",
       "      <th>month</th>\n",
       "      <th>duration</th>\n",
       "      <th>campaign</th>\n",
       "      <th>pdays</th>\n",
       "      <th>previous</th>\n",
       "      <th>poutcome</th>\n",
       "      <th>y</th>\n",
       "    </tr>\n",
       "  </thead>\n",
       "  <tbody>\n",
       "    <tr>\n",
       "      <th>0</th>\n",
       "      <td>58</td>\n",
       "      <td>management</td>\n",
       "      <td>married</td>\n",
       "      <td>tertiary</td>\n",
       "      <td>no</td>\n",
       "      <td>2143</td>\n",
       "      <td>yes</td>\n",
       "      <td>no</td>\n",
       "      <td>unknown</td>\n",
       "      <td>5</td>\n",
       "      <td>may</td>\n",
       "      <td>261</td>\n",
       "      <td>1</td>\n",
       "      <td>-1</td>\n",
       "      <td>0</td>\n",
       "      <td>unknown</td>\n",
       "      <td>no</td>\n",
       "    </tr>\n",
       "    <tr>\n",
       "      <th>1</th>\n",
       "      <td>44</td>\n",
       "      <td>technician</td>\n",
       "      <td>single</td>\n",
       "      <td>secondary</td>\n",
       "      <td>no</td>\n",
       "      <td>29</td>\n",
       "      <td>yes</td>\n",
       "      <td>no</td>\n",
       "      <td>unknown</td>\n",
       "      <td>5</td>\n",
       "      <td>may</td>\n",
       "      <td>151</td>\n",
       "      <td>1</td>\n",
       "      <td>-1</td>\n",
       "      <td>0</td>\n",
       "      <td>unknown</td>\n",
       "      <td>no</td>\n",
       "    </tr>\n",
       "    <tr>\n",
       "      <th>2</th>\n",
       "      <td>33</td>\n",
       "      <td>entrepreneur</td>\n",
       "      <td>married</td>\n",
       "      <td>secondary</td>\n",
       "      <td>no</td>\n",
       "      <td>2</td>\n",
       "      <td>yes</td>\n",
       "      <td>yes</td>\n",
       "      <td>unknown</td>\n",
       "      <td>5</td>\n",
       "      <td>may</td>\n",
       "      <td>76</td>\n",
       "      <td>1</td>\n",
       "      <td>-1</td>\n",
       "      <td>0</td>\n",
       "      <td>unknown</td>\n",
       "      <td>no</td>\n",
       "    </tr>\n",
       "    <tr>\n",
       "      <th>3</th>\n",
       "      <td>47</td>\n",
       "      <td>blue-collar</td>\n",
       "      <td>married</td>\n",
       "      <td>unknown</td>\n",
       "      <td>no</td>\n",
       "      <td>1506</td>\n",
       "      <td>yes</td>\n",
       "      <td>no</td>\n",
       "      <td>unknown</td>\n",
       "      <td>5</td>\n",
       "      <td>may</td>\n",
       "      <td>92</td>\n",
       "      <td>1</td>\n",
       "      <td>-1</td>\n",
       "      <td>0</td>\n",
       "      <td>unknown</td>\n",
       "      <td>no</td>\n",
       "    </tr>\n",
       "    <tr>\n",
       "      <th>4</th>\n",
       "      <td>33</td>\n",
       "      <td>unknown</td>\n",
       "      <td>single</td>\n",
       "      <td>unknown</td>\n",
       "      <td>no</td>\n",
       "      <td>1</td>\n",
       "      <td>no</td>\n",
       "      <td>no</td>\n",
       "      <td>unknown</td>\n",
       "      <td>5</td>\n",
       "      <td>may</td>\n",
       "      <td>198</td>\n",
       "      <td>1</td>\n",
       "      <td>-1</td>\n",
       "      <td>0</td>\n",
       "      <td>unknown</td>\n",
       "      <td>no</td>\n",
       "    </tr>\n",
       "  </tbody>\n",
       "</table>\n",
       "</div>"
      ],
      "text/plain": [
       "   age           job  marital  education default  balance housing loan  \\\n",
       "0   58    management  married   tertiary      no     2143     yes   no   \n",
       "1   44    technician   single  secondary      no       29     yes   no   \n",
       "2   33  entrepreneur  married  secondary      no        2     yes  yes   \n",
       "3   47   blue-collar  married    unknown      no     1506     yes   no   \n",
       "4   33       unknown   single    unknown      no        1      no   no   \n",
       "\n",
       "   contact  day month  duration  campaign  pdays  previous poutcome   y  \n",
       "0  unknown    5   may       261         1     -1         0  unknown  no  \n",
       "1  unknown    5   may       151         1     -1         0  unknown  no  \n",
       "2  unknown    5   may        76         1     -1         0  unknown  no  \n",
       "3  unknown    5   may        92         1     -1         0  unknown  no  \n",
       "4  unknown    5   may       198         1     -1         0  unknown  no  "
      ]
     },
     "execution_count": 3,
     "metadata": {},
     "output_type": "execute_result"
    }
   ],
   "source": [
    "df.head()"
   ]
  },
  {
   "cell_type": "code",
   "execution_count": 4,
   "id": "e45d2282-6716-4cb5-949a-03b72c45662f",
   "metadata": {
    "colab": {
     "base_uri": "https://localhost:8080/"
    },
    "id": "Dpl8wYY8Qe5p",
    "outputId": "2843238a-7f71-4290-d9f0-80f24d6cfbcd"
   },
   "outputs": [
    {
     "name": "stdout",
     "output_type": "stream",
     "text": [
      "<class 'pandas.core.frame.DataFrame'>\n",
      "RangeIndex: 45211 entries, 0 to 45210\n",
      "Data columns (total 17 columns):\n",
      " #   Column     Non-Null Count  Dtype \n",
      "---  ------     --------------  ----- \n",
      " 0   age        45211 non-null  int64 \n",
      " 1   job        45211 non-null  object\n",
      " 2   marital    45211 non-null  object\n",
      " 3   education  45211 non-null  object\n",
      " 4   default    45211 non-null  object\n",
      " 5   balance    45211 non-null  int64 \n",
      " 6   housing    45211 non-null  object\n",
      " 7   loan       45211 non-null  object\n",
      " 8   contact    45211 non-null  object\n",
      " 9   day        45211 non-null  int64 \n",
      " 10  month      45211 non-null  object\n",
      " 11  duration   45211 non-null  int64 \n",
      " 12  campaign   45211 non-null  int64 \n",
      " 13  pdays      45211 non-null  int64 \n",
      " 14  previous   45211 non-null  int64 \n",
      " 15  poutcome   45211 non-null  object\n",
      " 16  y          45211 non-null  object\n",
      "dtypes: int64(7), object(10)\n",
      "memory usage: 5.9+ MB\n"
     ]
    }
   ],
   "source": [
    "#the dataframe has 45211 entries and 17 columns\n",
    "#there are 17 columns with 7 int64 dtype and 10 object dtype\n",
    "df.info()"
   ]
  },
  {
   "cell_type": "code",
   "execution_count": 5,
   "id": "93abea48-2914-463e-9264-aa5ca68a1d9e",
   "metadata": {},
   "outputs": [
    {
     "data": {
      "text/html": [
       "<div>\n",
       "<style scoped>\n",
       "    .dataframe tbody tr th:only-of-type {\n",
       "        vertical-align: middle;\n",
       "    }\n",
       "\n",
       "    .dataframe tbody tr th {\n",
       "        vertical-align: top;\n",
       "    }\n",
       "\n",
       "    .dataframe thead th {\n",
       "        text-align: right;\n",
       "    }\n",
       "</style>\n",
       "<table border=\"1\" class=\"dataframe\">\n",
       "  <thead>\n",
       "    <tr style=\"text-align: right;\">\n",
       "      <th></th>\n",
       "      <th>age</th>\n",
       "      <th>balance</th>\n",
       "      <th>day</th>\n",
       "      <th>duration</th>\n",
       "      <th>campaign</th>\n",
       "      <th>pdays</th>\n",
       "      <th>previous</th>\n",
       "    </tr>\n",
       "  </thead>\n",
       "  <tbody>\n",
       "    <tr>\n",
       "      <th>count</th>\n",
       "      <td>45211.000000</td>\n",
       "      <td>45211.000000</td>\n",
       "      <td>45211.000000</td>\n",
       "      <td>45211.000000</td>\n",
       "      <td>45211.000000</td>\n",
       "      <td>45211.000000</td>\n",
       "      <td>45211.000000</td>\n",
       "    </tr>\n",
       "    <tr>\n",
       "      <th>mean</th>\n",
       "      <td>40.936210</td>\n",
       "      <td>1362.272058</td>\n",
       "      <td>15.806419</td>\n",
       "      <td>258.163080</td>\n",
       "      <td>2.763841</td>\n",
       "      <td>40.197828</td>\n",
       "      <td>0.580323</td>\n",
       "    </tr>\n",
       "    <tr>\n",
       "      <th>std</th>\n",
       "      <td>10.618762</td>\n",
       "      <td>3044.765829</td>\n",
       "      <td>8.322476</td>\n",
       "      <td>257.527812</td>\n",
       "      <td>3.098021</td>\n",
       "      <td>100.128746</td>\n",
       "      <td>2.303441</td>\n",
       "    </tr>\n",
       "    <tr>\n",
       "      <th>min</th>\n",
       "      <td>18.000000</td>\n",
       "      <td>-8019.000000</td>\n",
       "      <td>1.000000</td>\n",
       "      <td>0.000000</td>\n",
       "      <td>1.000000</td>\n",
       "      <td>-1.000000</td>\n",
       "      <td>0.000000</td>\n",
       "    </tr>\n",
       "    <tr>\n",
       "      <th>25%</th>\n",
       "      <td>33.000000</td>\n",
       "      <td>72.000000</td>\n",
       "      <td>8.000000</td>\n",
       "      <td>103.000000</td>\n",
       "      <td>1.000000</td>\n",
       "      <td>-1.000000</td>\n",
       "      <td>0.000000</td>\n",
       "    </tr>\n",
       "    <tr>\n",
       "      <th>50%</th>\n",
       "      <td>39.000000</td>\n",
       "      <td>448.000000</td>\n",
       "      <td>16.000000</td>\n",
       "      <td>180.000000</td>\n",
       "      <td>2.000000</td>\n",
       "      <td>-1.000000</td>\n",
       "      <td>0.000000</td>\n",
       "    </tr>\n",
       "    <tr>\n",
       "      <th>75%</th>\n",
       "      <td>48.000000</td>\n",
       "      <td>1428.000000</td>\n",
       "      <td>21.000000</td>\n",
       "      <td>319.000000</td>\n",
       "      <td>3.000000</td>\n",
       "      <td>-1.000000</td>\n",
       "      <td>0.000000</td>\n",
       "    </tr>\n",
       "    <tr>\n",
       "      <th>max</th>\n",
       "      <td>95.000000</td>\n",
       "      <td>102127.000000</td>\n",
       "      <td>31.000000</td>\n",
       "      <td>4918.000000</td>\n",
       "      <td>63.000000</td>\n",
       "      <td>871.000000</td>\n",
       "      <td>275.000000</td>\n",
       "    </tr>\n",
       "  </tbody>\n",
       "</table>\n",
       "</div>"
      ],
      "text/plain": [
       "                age        balance           day      duration      campaign  \\\n",
       "count  45211.000000   45211.000000  45211.000000  45211.000000  45211.000000   \n",
       "mean      40.936210    1362.272058     15.806419    258.163080      2.763841   \n",
       "std       10.618762    3044.765829      8.322476    257.527812      3.098021   \n",
       "min       18.000000   -8019.000000      1.000000      0.000000      1.000000   \n",
       "25%       33.000000      72.000000      8.000000    103.000000      1.000000   \n",
       "50%       39.000000     448.000000     16.000000    180.000000      2.000000   \n",
       "75%       48.000000    1428.000000     21.000000    319.000000      3.000000   \n",
       "max       95.000000  102127.000000     31.000000   4918.000000     63.000000   \n",
       "\n",
       "              pdays      previous  \n",
       "count  45211.000000  45211.000000  \n",
       "mean      40.197828      0.580323  \n",
       "std      100.128746      2.303441  \n",
       "min       -1.000000      0.000000  \n",
       "25%       -1.000000      0.000000  \n",
       "50%       -1.000000      0.000000  \n",
       "75%       -1.000000      0.000000  \n",
       "max      871.000000    275.000000  "
      ]
     },
     "execution_count": 5,
     "metadata": {},
     "output_type": "execute_result"
    }
   ],
   "source": [
    "df.describe()"
   ]
  },
  {
   "cell_type": "markdown",
   "id": "6cc677e0-3d65-4bb4-95e8-b789e6e85aaa",
   "metadata": {},
   "source": [
    "# Pre Processing"
   ]
  },
  {
   "cell_type": "markdown",
   "id": "b33cbae7-a3f6-4f2a-8223-a2dadbb5eae8",
   "metadata": {},
   "source": [
    "## Duplicate"
   ]
  },
  {
   "cell_type": "code",
   "execution_count": 6,
   "id": "f88e0b90-d64c-4edc-b35f-06c5690780cc",
   "metadata": {
    "colab": {
     "base_uri": "https://localhost:8080/"
    },
    "id": "WCqZYmOcQxTZ",
    "outputId": "811ee1d6-6709-49b9-952b-16633dd411d0"
   },
   "outputs": [
    {
     "data": {
      "text/plain": [
       "4163"
      ]
     },
     "execution_count": 6,
     "metadata": {},
     "output_type": "execute_result"
    }
   ],
   "source": [
    "df.duplicated(subset='age balance job marital education default housing loan'.split()).sum()"
   ]
  },
  {
   "cell_type": "code",
   "execution_count": 7,
   "id": "ddfccbf9-6766-4750-a0ac-f1aa9a911389",
   "metadata": {
    "id": "ForBPZhvRExE"
   },
   "outputs": [],
   "source": [
    "df.drop_duplicates(subset='age balance job marital education default housing loan'.split(), inplace=True)"
   ]
  },
  {
   "cell_type": "code",
   "execution_count": 8,
   "id": "8bb433a6-edde-4251-be92-53d43defc25b",
   "metadata": {
    "colab": {
     "base_uri": "https://localhost:8080/"
    },
    "id": "LcP6WcSbRHvn",
    "outputId": "8b1a461b-c74b-4c78-ac5b-8dec74489534"
   },
   "outputs": [
    {
     "data": {
      "text/plain": [
       "0"
      ]
     },
     "execution_count": 8,
     "metadata": {},
     "output_type": "execute_result"
    }
   ],
   "source": [
    "df.duplicated(subset='age balance job marital education default housing loan'.split()).sum()"
   ]
  },
  {
   "cell_type": "markdown",
   "id": "a29d8b33-8e96-47d5-bd60-14153da1e070",
   "metadata": {},
   "source": [
    "## Replace Unknown with mode value for job, education, and contact columns"
   ]
  },
  {
   "cell_type": "code",
   "execution_count": 9,
   "id": "0287605d-7b48-41b3-aa3e-2c7fc760d0f1",
   "metadata": {
    "id": "d5LUYWNsPOC8"
   },
   "outputs": [],
   "source": [
    "#lakukan imputasi/replace nilai modus pada kolom job, education, dan contact yang memiliki nilai 'unknown'\n",
    "col='job education contact'.split()\n",
    "#replace kolom job\n",
    "for i in col:\n",
    "  df[i]=df[i].replace(['unknown'],df[i].mode()[0])"
   ]
  },
  {
   "cell_type": "markdown",
   "id": "0ad4bdeb-72f9-41f1-b65f-83072ca44a84",
   "metadata": {
    "id": "l_j1TFGfUz2G"
   },
   "source": [
    "*Untuk kolom poutcome, nilai 'unknown' dibiarkan saja karena nantinya kolom poutcome akan didrop karena dinilai memiliki potensi redundant dengan kolom pdays*"
   ]
  },
  {
   "cell_type": "markdown",
   "id": "859ab591-29f6-41ca-8edc-623430c407b1",
   "metadata": {},
   "source": [
    "## Replace minus value with zero in balance column"
   ]
  },
  {
   "cell_type": "code",
   "execution_count": 10,
   "id": "56bda895-a1b5-4190-8732-acdd08637b38",
   "metadata": {
    "colab": {
     "base_uri": "https://localhost:8080/"
    },
    "id": "uED_y_q31ujN",
    "outputId": "5ceb4169-6e32-40a3-ad7a-e827d2c4e3b6"
   },
   "outputs": [],
   "source": [
    "df['balance'][df['balance']<0]=0"
   ]
  },
  {
   "cell_type": "markdown",
   "id": "9d0999ff-e21e-4c78-93bd-a70fa01cfa9a",
   "metadata": {},
   "source": [
    "## Outliers"
   ]
  },
  {
   "cell_type": "code",
   "execution_count": 11,
   "id": "7b73fc53-e884-4697-bae6-4d23d8ff3bfe",
   "metadata": {},
   "outputs": [],
   "source": [
    "#handle with z score\n",
    "from scipy import stats\n",
    "import numpy as np"
   ]
  },
  {
   "cell_type": "code",
   "execution_count": 12,
   "id": "c59361e2-0ce1-42c2-9c06-3bf75b73e7d6",
   "metadata": {
    "id": "kypwNKkTayRN"
   },
   "outputs": [],
   "source": [
    "nums_skew = ['age','balance','duration','campaign','pdays','previous']"
   ]
  },
  {
   "cell_type": "code",
   "execution_count": 13,
   "id": "902a4345-8f24-4ea5-8012-a42f24815bc4",
   "metadata": {},
   "outputs": [],
   "source": [
    "nums = ['age','balance','day','duration','campaign','pdays','previous']"
   ]
  },
  {
   "cell_type": "code",
   "execution_count": 14,
   "id": "da4c29fd-4f6d-4319-a0b2-d6d0b575d52f",
   "metadata": {
    "colab": {
     "base_uri": "https://localhost:8080/"
    },
    "id": "JFJ9RV2kTxPF",
    "outputId": "966f98b0-e58e-405c-b469-668d284b819b"
   },
   "outputs": [
    {
     "name": "stdout",
     "output_type": "stream",
     "text": [
      "Jumlah baris sebelum memfilter outlier: 41048\n",
      "Jumlah baris setelah memfilter outlier: 36206\n"
     ]
    }
   ],
   "source": [
    "print(f'Jumlah baris sebelum memfilter outlier: {len(df)}')\n",
    "\n",
    "filtered_entries = np.array([True] * len(df))\n",
    "\n",
    "for col in nums:\n",
    "    zscore = abs(stats.zscore(df[col])) # hitung absolute z-scorenya\n",
    "    filtered_entries = (zscore < 3) & filtered_entries # keep yang kurang dari 3 absolute z-scorenya\n",
    "    \n",
    "df = df[filtered_entries] # filter, cuma ambil yang z-scorenya dibawah 3\n",
    "\n",
    "print(f'Jumlah baris setelah memfilter outlier: {len(df)}')"
   ]
  },
  {
   "cell_type": "markdown",
   "id": "ce924e02-04d7-419f-b0a4-45ee5d624bb4",
   "metadata": {},
   "source": [
    "## Data Transformation"
   ]
  },
  {
   "cell_type": "code",
   "execution_count": 15,
   "id": "274fec8c-33aa-4f38-bc8e-ee474c7a3832",
   "metadata": {},
   "outputs": [
    {
     "data": {
      "image/png": "[encoded data removed]",
      "text/plain": [
       "<Figure size 864x360 with 7 Axes>"
      ]
     },
     "metadata": {
      "needs_background": "light"
     },
     "output_type": "display_data"
    }
   ],
   "source": [
    "features = nums\n",
    "plt.figure(figsize=(12, 5))\n",
    "for i in range(0, len(nums)):\n",
    "    plt.subplot(2, 4, i+1)\n",
    "    sns.kdeplot(x=(df[features[i]]))\n",
    "    plt.xlabel(features[i])\n",
    "    plt.tight_layout()"
   ]
  },
  {
   "cell_type": "code",
   "execution_count": 16,
   "id": "c42ea32d-3eae-4c09-89a5-3d9d002bbcfb",
   "metadata": {},
   "outputs": [
    {
     "data": {
      "image/png": "[encoded data removed]",
      "text/plain": [
       "<Figure size 864x360 with 7 Axes>"
      ]
     },
     "metadata": {
      "needs_background": "light"
     },
     "output_type": "display_data"
    }
   ],
   "source": [
    "features = nums\n",
    "plt.figure(figsize=(12, 5))\n",
    "for i in range(0, len(nums)):\n",
    "    plt.subplot(2, 4, i+1)\n",
    "    sns.boxplot(x=(df[features[i]]))\n",
    "    plt.xlabel(features[i])\n",
    "    plt.tight_layout()"
   ]
  },
  {
   "cell_type": "code",
   "execution_count": 17,
   "id": "e2b2c048-78ba-4762-b595-71161c7b1b79",
   "metadata": {},
   "outputs": [],
   "source": [
    "from sklearn.preprocessing import MinMaxScaler, StandardScaler"
   ]
  },
  {
   "cell_type": "code",
   "execution_count": 18,
   "id": "ae4089c0-4afe-4f00-a439-8ab141c0a0e6",
   "metadata": {},
   "outputs": [],
   "source": [
    "# kita tranformasi\n",
    "df['age_norm'] = MinMaxScaler().fit_transform(df['age'].values.reshape(len(df), 1))\n",
    "df['balance_std'] = StandardScaler().fit_transform(df['balance'].values.reshape(len(df), 1))\n",
    "df['day_norm'] = MinMaxScaler().fit_transform(df['day'].values.reshape(len(df), 1))\n",
    "df['duration_std'] = StandardScaler().fit_transform(df['duration'].values.reshape(len(df), 1))\n",
    "df['campaign_std'] = StandardScaler().fit_transform(df['campaign'].values.reshape(len(df), 1))\n",
    "df['pdays_std'] = StandardScaler().fit_transform(df['pdays'].values.reshape(len(df), 1))\n",
    "df['previous_std'] = StandardScaler().fit_transform(df['previous'].values.reshape(len(df), 1))"
   ]
  },
  {
   "cell_type": "code",
   "execution_count": 19,
   "id": "452f9e0b-15c6-479b-ba5c-7420e86e13d4",
   "metadata": {},
   "outputs": [
    {
     "data": {
      "image/png": "[encoded data removed]",
      "text/plain": [
       "<Figure size 864x360 with 7 Axes>"
      ]
     },
     "metadata": {
      "needs_background": "light"
     },
     "output_type": "display_data"
    }
   ],
   "source": [
    "nums_trans_check = ['age_norm',\t'balance_std',\t'duration_std','day_norm', 'pdays_std', 'campaign_std', 'previous_std']\n",
    "features = nums_trans_check\n",
    "plt.figure(figsize=(12, 5))\n",
    "for i in range(0, len(features)):\n",
    "    plt.subplot(2, 4, i+1)\n",
    "    sns.kdeplot(x=(df[features[i]]))\n",
    "    plt.xlabel(features[i])\n",
    "    plt.tight_layout()"
   ]
  },
  {
   "cell_type": "code",
   "execution_count": 20,
   "id": "e61cc8d9-7ee2-4b4a-bcbc-6d829b0fc208",
   "metadata": {},
   "outputs": [
    {
     "data": {
      "text/html": [
       "<div>\n",
       "<style scoped>\n",
       "    .dataframe tbody tr th:only-of-type {\n",
       "        vertical-align: middle;\n",
       "    }\n",
       "\n",
       "    .dataframe tbody tr th {\n",
       "        vertical-align: top;\n",
       "    }\n",
       "\n",
       "    .dataframe thead th {\n",
       "        text-align: right;\n",
       "    }\n",
       "</style>\n",
       "<table border=\"1\" class=\"dataframe\">\n",
       "  <thead>\n",
       "    <tr style=\"text-align: right;\">\n",
       "      <th></th>\n",
       "      <th>age</th>\n",
       "      <th>balance</th>\n",
       "      <th>day</th>\n",
       "      <th>duration</th>\n",
       "      <th>campaign</th>\n",
       "      <th>pdays</th>\n",
       "      <th>previous</th>\n",
       "      <th>age_norm</th>\n",
       "      <th>balance_std</th>\n",
       "      <th>day_norm</th>\n",
       "      <th>duration_std</th>\n",
       "      <th>campaign_std</th>\n",
       "      <th>pdays_std</th>\n",
       "      <th>previous_std</th>\n",
       "    </tr>\n",
       "  </thead>\n",
       "  <tbody>\n",
       "    <tr>\n",
       "      <th>count</th>\n",
       "      <td>36206.000000</td>\n",
       "      <td>36206.000000</td>\n",
       "      <td>36206.000000</td>\n",
       "      <td>36206.000000</td>\n",
       "      <td>36206.000000</td>\n",
       "      <td>36206.000000</td>\n",
       "      <td>36206.000000</td>\n",
       "      <td>36206.000000</td>\n",
       "      <td>3.620600e+04</td>\n",
       "      <td>36206.000000</td>\n",
       "      <td>3.620600e+04</td>\n",
       "      <td>3.620600e+04</td>\n",
       "      <td>3.620600e+04</td>\n",
       "      <td>3.620600e+04</td>\n",
       "    </tr>\n",
       "    <tr>\n",
       "      <th>mean</th>\n",
       "      <td>40.698752</td>\n",
       "      <td>1124.963597</td>\n",
       "      <td>15.845385</td>\n",
       "      <td>236.377203</td>\n",
       "      <td>2.495553</td>\n",
       "      <td>14.971193</td>\n",
       "      <td>0.189554</td>\n",
       "      <td>0.420347</td>\n",
       "      <td>4.226868e-15</td>\n",
       "      <td>0.494846</td>\n",
       "      <td>1.267836e-16</td>\n",
       "      <td>9.420153e-16</td>\n",
       "      <td>-5.724441e-14</td>\n",
       "      <td>-1.963578e-14</td>\n",
       "    </tr>\n",
       "    <tr>\n",
       "      <th>std</th>\n",
       "      <td>10.076242</td>\n",
       "      <td>1699.870716</td>\n",
       "      <td>8.368657</td>\n",
       "      <td>192.631082</td>\n",
       "      <td>1.973312</td>\n",
       "      <td>58.446110</td>\n",
       "      <td>0.757453</td>\n",
       "      <td>0.186597</td>\n",
       "      <td>1.000014e+00</td>\n",
       "      <td>0.278955</td>\n",
       "      <td>1.000014e+00</td>\n",
       "      <td>1.000014e+00</td>\n",
       "      <td>1.000014e+00</td>\n",
       "      <td>1.000014e+00</td>\n",
       "    </tr>\n",
       "    <tr>\n",
       "      <th>min</th>\n",
       "      <td>18.000000</td>\n",
       "      <td>0.000000</td>\n",
       "      <td>1.000000</td>\n",
       "      <td>0.000000</td>\n",
       "      <td>1.000000</td>\n",
       "      <td>-1.000000</td>\n",
       "      <td>0.000000</td>\n",
       "      <td>0.000000</td>\n",
       "      <td>-6.618028e-01</td>\n",
       "      <td>0.000000</td>\n",
       "      <td>-1.227115e+00</td>\n",
       "      <td>-7.579005e-01</td>\n",
       "      <td>-2.732673e-01</td>\n",
       "      <td>-2.502555e-01</td>\n",
       "    </tr>\n",
       "    <tr>\n",
       "      <th>25%</th>\n",
       "      <td>33.000000</td>\n",
       "      <td>84.000000</td>\n",
       "      <td>8.000000</td>\n",
       "      <td>103.000000</td>\n",
       "      <td>1.000000</td>\n",
       "      <td>-1.000000</td>\n",
       "      <td>0.000000</td>\n",
       "      <td>0.277778</td>\n",
       "      <td>-6.123866e-01</td>\n",
       "      <td>0.233333</td>\n",
       "      <td>-6.924067e-01</td>\n",
       "      <td>-7.579005e-01</td>\n",
       "      <td>-2.732673e-01</td>\n",
       "      <td>-2.502555e-01</td>\n",
       "    </tr>\n",
       "    <tr>\n",
       "      <th>50%</th>\n",
       "      <td>39.000000</td>\n",
       "      <td>449.000000</td>\n",
       "      <td>16.000000</td>\n",
       "      <td>177.000000</td>\n",
       "      <td>2.000000</td>\n",
       "      <td>-1.000000</td>\n",
       "      <td>0.000000</td>\n",
       "      <td>0.388889</td>\n",
       "      <td>-3.976614e-01</td>\n",
       "      <td>0.500000</td>\n",
       "      <td>-3.082474e-01</td>\n",
       "      <td>-2.511312e-01</td>\n",
       "      <td>-2.732673e-01</td>\n",
       "      <td>-2.502555e-01</td>\n",
       "    </tr>\n",
       "    <tr>\n",
       "      <th>75%</th>\n",
       "      <td>48.000000</td>\n",
       "      <td>1364.000000</td>\n",
       "      <td>21.000000</td>\n",
       "      <td>307.000000</td>\n",
       "      <td>3.000000</td>\n",
       "      <td>-1.000000</td>\n",
       "      <td>0.000000</td>\n",
       "      <td>0.555556</td>\n",
       "      <td>1.406223e-01</td>\n",
       "      <td>0.666667</td>\n",
       "      <td>3.666271e-01</td>\n",
       "      <td>2.556381e-01</td>\n",
       "      <td>-2.732673e-01</td>\n",
       "      <td>-2.502555e-01</td>\n",
       "    </tr>\n",
       "    <tr>\n",
       "      <th>max</th>\n",
       "      <td>72.000000</td>\n",
       "      <td>10500.000000</td>\n",
       "      <td>31.000000</td>\n",
       "      <td>1038.000000</td>\n",
       "      <td>12.000000</td>\n",
       "      <td>327.000000</td>\n",
       "      <td>6.000000</td>\n",
       "      <td>1.000000</td>\n",
       "      <td>5.515223e+00</td>\n",
       "      <td>1.000000</td>\n",
       "      <td>4.161498e+00</td>\n",
       "      <td>4.816562e+00</td>\n",
       "      <td>5.338817e+00</td>\n",
       "      <td>7.671135e+00</td>\n",
       "    </tr>\n",
       "  </tbody>\n",
       "</table>\n",
       "</div>"
      ],
      "text/plain": [
       "                age       balance           day      duration      campaign  \\\n",
       "count  36206.000000  36206.000000  36206.000000  36206.000000  36206.000000   \n",
       "mean      40.698752   1124.963597     15.845385    236.377203      2.495553   \n",
       "std       10.076242   1699.870716      8.368657    192.631082      1.973312   \n",
       "min       18.000000      0.000000      1.000000      0.000000      1.000000   \n",
       "25%       33.000000     84.000000      8.000000    103.000000      1.000000   \n",
       "50%       39.000000    449.000000     16.000000    177.000000      2.000000   \n",
       "75%       48.000000   1364.000000     21.000000    307.000000      3.000000   \n",
       "max       72.000000  10500.000000     31.000000   1038.000000     12.000000   \n",
       "\n",
       "              pdays      previous      age_norm   balance_std      day_norm  \\\n",
       "count  36206.000000  36206.000000  36206.000000  3.620600e+04  36206.000000   \n",
       "mean      14.971193      0.189554      0.420347  4.226868e-15      0.494846   \n",
       "std       58.446110      0.757453      0.186597  1.000014e+00      0.278955   \n",
       "min       -1.000000      0.000000      0.000000 -6.618028e-01      0.000000   \n",
       "25%       -1.000000      0.000000      0.277778 -6.123866e-01      0.233333   \n",
       "50%       -1.000000      0.000000      0.388889 -3.976614e-01      0.500000   \n",
       "75%       -1.000000      0.000000      0.555556  1.406223e-01      0.666667   \n",
       "max      327.000000      6.000000      1.000000  5.515223e+00      1.000000   \n",
       "\n",
       "       duration_std  campaign_std     pdays_std  previous_std  \n",
       "count  3.620600e+04  3.620600e+04  3.620600e+04  3.620600e+04  \n",
       "mean   1.267836e-16  9.420153e-16 -5.724441e-14 -1.963578e-14  \n",
       "std    1.000014e+00  1.000014e+00  1.000014e+00  1.000014e+00  \n",
       "min   -1.227115e+00 -7.579005e-01 -2.732673e-01 -2.502555e-01  \n",
       "25%   -6.924067e-01 -7.579005e-01 -2.732673e-01 -2.502555e-01  \n",
       "50%   -3.082474e-01 -2.511312e-01 -2.732673e-01 -2.502555e-01  \n",
       "75%    3.666271e-01  2.556381e-01 -2.732673e-01 -2.502555e-01  \n",
       "max    4.161498e+00  4.816562e+00  5.338817e+00  7.671135e+00  "
      ]
     },
     "execution_count": 20,
     "metadata": {},
     "output_type": "execute_result"
    }
   ],
   "source": [
    "df.describe()"
   ]
  },
  {
   "cell_type": "markdown",
   "id": "0f899c1e-7b13-4d3a-947c-1e662bdeb152",
   "metadata": {},
   "source": [
    "## Feature Encoding"
   ]
  },
  {
   "cell_type": "markdown",
   "id": "17c9a3c4-9b9a-4592-bc48-94528b960765",
   "metadata": {},
   "source": [
    "### Label Encoding"
   ]
  },
  {
   "cell_type": "code",
   "execution_count": 21,
   "id": "e027a6a7-bbb7-432a-881b-160465364923",
   "metadata": {},
   "outputs": [],
   "source": [
    "mapping_default = {\n",
    "    'no' : 0,\n",
    "    'yes' : 1\n",
    "}\n",
    "\n",
    "mapping_housing = {\n",
    "    'no' : 0,\n",
    "    'yes' : 1,\n",
    "}\n",
    "\n",
    "mapping_loan = {\n",
    "    'no' : 0,\n",
    "    'yes' : 1\n",
    "}\n",
    "\n",
    "mapping_y = {\n",
    "    'no' : 0,\n",
    "    'yes' : 1\n",
    "}\n",
    "\n",
    "df['default'] = df['default'].map(mapping_default)\n",
    "df['housing'] = df['housing'].map(mapping_housing)\n",
    "df['loan'] = df['loan'].map(mapping_loan)\n",
    "df['y'] = df['y'].map(mapping_y)"
   ]
  },
  {
   "cell_type": "markdown",
   "id": "75e9443e-3fad-4029-a4b3-2d120aa4f76d",
   "metadata": {},
   "source": [
    "### One Hot Encoding"
   ]
  },
  {
   "cell_type": "code",
   "execution_count": 22,
   "id": "7e4dfba6-0a9f-46f5-b010-a7c21830adde",
   "metadata": {},
   "outputs": [],
   "source": [
    "for cat in ['job', 'marital','education','contact','month','poutcome']:\n",
    "    onehots = pd.get_dummies(df[cat], prefix=cat)\n",
    "    df = df.join(onehots)"
   ]
  },
  {
   "cell_type": "code",
   "execution_count": 23,
   "id": "73281f5d-4ff6-424e-96ce-41b4562712ac",
   "metadata": {},
   "outputs": [
    {
     "name": "stdout",
     "output_type": "stream",
     "text": [
      "<class 'pandas.core.frame.DataFrame'>\n",
      "Int64Index: 36206 entries, 0 to 45209\n",
      "Data columns (total 59 columns):\n",
      " #   Column               Non-Null Count  Dtype  \n",
      "---  ------               --------------  -----  \n",
      " 0   age                  36206 non-null  int64  \n",
      " 1   job                  36206 non-null  object \n",
      " 2   marital              36206 non-null  object \n",
      " 3   education            36206 non-null  object \n",
      " 4   default              36206 non-null  int64  \n",
      " 5   balance              36206 non-null  int64  \n",
      " 6   housing              36206 non-null  int64  \n",
      " 7   loan                 36206 non-null  int64  \n",
      " 8   contact              36206 non-null  object \n",
      " 9   day                  36206 non-null  int64  \n",
      " 10  month                36206 non-null  object \n",
      " 11  duration             36206 non-null  int64  \n",
      " 12  campaign             36206 non-null  int64  \n",
      " 13  pdays                36206 non-null  int64  \n",
      " 14  previous             36206 non-null  int64  \n",
      " 15  poutcome             36206 non-null  object \n",
      " 16  y                    36206 non-null  int64  \n",
      " 17  age_norm             36206 non-null  float64\n",
      " 18  balance_std          36206 non-null  float64\n",
      " 19  day_norm             36206 non-null  float64\n",
      " 20  duration_std         36206 non-null  float64\n",
      " 21  campaign_std         36206 non-null  float64\n",
      " 22  pdays_std            36206 non-null  float64\n",
      " 23  previous_std         36206 non-null  float64\n",
      " 24  job_admin.           36206 non-null  uint8  \n",
      " 25  job_blue-collar      36206 non-null  uint8  \n",
      " 26  job_entrepreneur     36206 non-null  uint8  \n",
      " 27  job_housemaid        36206 non-null  uint8  \n",
      " 28  job_management       36206 non-null  uint8  \n",
      " 29  job_retired          36206 non-null  uint8  \n",
      " 30  job_self-employed    36206 non-null  uint8  \n",
      " 31  job_services         36206 non-null  uint8  \n",
      " 32  job_student          36206 non-null  uint8  \n",
      " 33  job_technician       36206 non-null  uint8  \n",
      " 34  job_unemployed       36206 non-null  uint8  \n",
      " 35  marital_divorced     36206 non-null  uint8  \n",
      " 36  marital_married      36206 non-null  uint8  \n",
      " 37  marital_single       36206 non-null  uint8  \n",
      " 38  education_primary    36206 non-null  uint8  \n",
      " 39  education_secondary  36206 non-null  uint8  \n",
      " 40  education_tertiary   36206 non-null  uint8  \n",
      " 41  contact_cellular     36206 non-null  uint8  \n",
      " 42  contact_telephone    36206 non-null  uint8  \n",
      " 43  month_apr            36206 non-null  uint8  \n",
      " 44  month_aug            36206 non-null  uint8  \n",
      " 45  month_dec            36206 non-null  uint8  \n",
      " 46  month_feb            36206 non-null  uint8  \n",
      " 47  month_jan            36206 non-null  uint8  \n",
      " 48  month_jul            36206 non-null  uint8  \n",
      " 49  month_jun            36206 non-null  uint8  \n",
      " 50  month_mar            36206 non-null  uint8  \n",
      " 51  month_may            36206 non-null  uint8  \n",
      " 52  month_nov            36206 non-null  uint8  \n",
      " 53  month_oct            36206 non-null  uint8  \n",
      " 54  month_sep            36206 non-null  uint8  \n",
      " 55  poutcome_failure     36206 non-null  uint8  \n",
      " 56  poutcome_other       36206 non-null  uint8  \n",
      " 57  poutcome_success     36206 non-null  uint8  \n",
      " 58  poutcome_unknown     36206 non-null  uint8  \n",
      "dtypes: float64(7), int64(11), object(6), uint8(35)\n",
      "memory usage: 9.1+ MB\n"
     ]
    }
   ],
   "source": [
    "df.info()"
   ]
  },
  {
   "cell_type": "code",
   "execution_count": 24,
   "id": "42663923-8809-449b-8687-aaa0ae2d5e16",
   "metadata": {},
   "outputs": [
    {
     "data": {
      "text/html": [
       "<div>\n",
       "<style scoped>\n",
       "    .dataframe tbody tr th:only-of-type {\n",
       "        vertical-align: middle;\n",
       "    }\n",
       "\n",
       "    .dataframe tbody tr th {\n",
       "        vertical-align: top;\n",
       "    }\n",
       "\n",
       "    .dataframe thead th {\n",
       "        text-align: right;\n",
       "    }\n",
       "</style>\n",
       "<table border=\"1\" class=\"dataframe\">\n",
       "  <thead>\n",
       "    <tr style=\"text-align: right;\">\n",
       "      <th></th>\n",
       "      <th>housing</th>\n",
       "      <th>loan</th>\n",
       "      <th>contact_cellular</th>\n",
       "      <th>contact_telephone</th>\n",
       "    </tr>\n",
       "  </thead>\n",
       "  <tbody>\n",
       "    <tr>\n",
       "      <th>0</th>\n",
       "      <td>1</td>\n",
       "      <td>0</td>\n",
       "      <td>1</td>\n",
       "      <td>0</td>\n",
       "    </tr>\n",
       "    <tr>\n",
       "      <th>1</th>\n",
       "      <td>1</td>\n",
       "      <td>0</td>\n",
       "      <td>1</td>\n",
       "      <td>0</td>\n",
       "    </tr>\n",
       "    <tr>\n",
       "      <th>2</th>\n",
       "      <td>1</td>\n",
       "      <td>1</td>\n",
       "      <td>1</td>\n",
       "      <td>0</td>\n",
       "    </tr>\n",
       "    <tr>\n",
       "      <th>3</th>\n",
       "      <td>1</td>\n",
       "      <td>0</td>\n",
       "      <td>1</td>\n",
       "      <td>0</td>\n",
       "    </tr>\n",
       "    <tr>\n",
       "      <th>4</th>\n",
       "      <td>0</td>\n",
       "      <td>0</td>\n",
       "      <td>1</td>\n",
       "      <td>0</td>\n",
       "    </tr>\n",
       "    <tr>\n",
       "      <th>...</th>\n",
       "      <td>...</td>\n",
       "      <td>...</td>\n",
       "      <td>...</td>\n",
       "      <td>...</td>\n",
       "    </tr>\n",
       "    <tr>\n",
       "      <th>45203</th>\n",
       "      <td>0</td>\n",
       "      <td>0</td>\n",
       "      <td>1</td>\n",
       "      <td>0</td>\n",
       "    </tr>\n",
       "    <tr>\n",
       "      <th>45205</th>\n",
       "      <td>0</td>\n",
       "      <td>1</td>\n",
       "      <td>1</td>\n",
       "      <td>0</td>\n",
       "    </tr>\n",
       "    <tr>\n",
       "      <th>45206</th>\n",
       "      <td>0</td>\n",
       "      <td>0</td>\n",
       "      <td>1</td>\n",
       "      <td>0</td>\n",
       "    </tr>\n",
       "    <tr>\n",
       "      <th>45207</th>\n",
       "      <td>0</td>\n",
       "      <td>0</td>\n",
       "      <td>1</td>\n",
       "      <td>0</td>\n",
       "    </tr>\n",
       "    <tr>\n",
       "      <th>45209</th>\n",
       "      <td>0</td>\n",
       "      <td>0</td>\n",
       "      <td>0</td>\n",
       "      <td>1</td>\n",
       "    </tr>\n",
       "  </tbody>\n",
       "</table>\n",
       "<p>36206 rows × 4 columns</p>\n",
       "</div>"
      ],
      "text/plain": [
       "       housing  loan  contact_cellular  contact_telephone\n",
       "0            1     0                 1                  0\n",
       "1            1     0                 1                  0\n",
       "2            1     1                 1                  0\n",
       "3            1     0                 1                  0\n",
       "4            0     0                 1                  0\n",
       "...        ...   ...               ...                ...\n",
       "45203        0     0                 1                  0\n",
       "45205        0     1                 1                  0\n",
       "45206        0     0                 1                  0\n",
       "45207        0     0                 1                  0\n",
       "45209        0     0                 0                  1\n",
       "\n",
       "[36206 rows x 4 columns]"
      ]
     },
     "execution_count": 24,
     "metadata": {},
     "output_type": "execute_result"
    }
   ],
   "source": [
    "df.loc[:,'housing loan contact_cellular contact_telephone'.split()]"
   ]
  },
  {
   "cell_type": "markdown",
   "id": "04bfc190-9394-453a-bc5c-3ddce2341263",
   "metadata": {},
   "source": [
    "## Balancing Dataset"
   ]
  },
  {
   "cell_type": "code",
   "execution_count": 25,
   "id": "c237ec10-54c4-4d28-9853-e0073b0a9e59",
   "metadata": {},
   "outputs": [
    {
     "data": {
      "text/plain": [
       "0    32961\n",
       "1     3245\n",
       "Name: y, dtype: int64"
      ]
     },
     "execution_count": 25,
     "metadata": {},
     "output_type": "execute_result"
    }
   ],
   "source": [
    "df['y'].value_counts()"
   ]
  },
  {
   "cell_type": "code",
   "execution_count": 26,
   "id": "15ff8d50-ce04-4047-bc65-f45848aa9ea8",
   "metadata": {},
   "outputs": [
    {
     "name": "stdout",
     "output_type": "stream",
     "text": [
      "(36206, 52)\n",
      "(36206,)\n"
     ]
    }
   ],
   "source": [
    "X = df[[col for col in df.columns if (str(df[col].dtype) != 'object') and col not in ['y']]]\n",
    "y = df['y'].values\n",
    "print(X.shape)\n",
    "print(y.shape)"
   ]
  },
  {
   "cell_type": "code",
   "execution_count": 27,
   "id": "09d85997-fc7e-4bd8-91b0-cb25260d6d9b",
   "metadata": {
    "colab": {
     "base_uri": "https://localhost:8080/"
    },
    "id": "f6g9s2r4TL-R",
    "outputId": "b71ea2d5-fd78-4d6e-8618-8a612ab284b2"
   },
   "outputs": [],
   "source": [
    "from imblearn import under_sampling, over_sampling\n",
    "X_under, y_under = under_sampling.RandomUnderSampler(0.5).fit_resample(X, y)\n",
    "X_over, y_over = over_sampling.RandomOverSampler(sampling_strategy=0.5, random_state=1).fit_resample(X, y)\n",
    "X_over_SMOTE, y_over_SMOTE = over_sampling.SMOTE(0.5).fit_resample(X, y)"
   ]
  },
  {
   "cell_type": "code",
   "execution_count": 28,
   "id": "0e025366-f48a-4c6a-96b4-5e1beb30419d",
   "metadata": {
    "colab": {
     "base_uri": "https://localhost:8080/"
    },
    "id": "fPC_9KDbTsv_",
    "outputId": "452f3791-963c-4ca6-8174-372625dd729d"
   },
   "outputs": [
    {
     "name": "stdout",
     "output_type": "stream",
     "text": [
      "Original\n",
      "0    32961\n",
      "1     3245\n",
      "dtype: int64\n",
      "Undersampling\n",
      "0    6490\n",
      "1    3245\n",
      "dtype: int64\n",
      "Oversampling\n",
      "0    32961\n",
      "1    16480\n",
      "dtype: int64\n",
      "oversampling Smote\n",
      "0    32961\n",
      "1    16480\n",
      "dtype: int64\n"
     ]
    }
   ],
   "source": [
    "print('Original')\n",
    "print(pd.Series(y).value_counts())\n",
    "print('Undersampling')\n",
    "print(pd.Series(y_under).value_counts())\n",
    "print('Oversampling')\n",
    "print(pd.Series(y_over).value_counts())\n",
    "print('oversampling Smote')\n",
    "print(pd.Series(y_over_SMOTE).value_counts())"
   ]
  },
  {
   "cell_type": "markdown",
   "id": "0cc9c53b-b508-4b5e-9867-bc98537a1a20",
   "metadata": {},
   "source": [
    "# Modelling"
   ]
  },
  {
   "cell_type": "code",
   "execution_count": 29,
   "id": "c2cdfe16-3ce9-4b1e-aa7e-296673de431c",
   "metadata": {},
   "outputs": [
    {
     "data": {
      "text/html": [
       "<div>\n",
       "<style scoped>\n",
       "    .dataframe tbody tr th:only-of-type {\n",
       "        vertical-align: middle;\n",
       "    }\n",
       "\n",
       "    .dataframe tbody tr th {\n",
       "        vertical-align: top;\n",
       "    }\n",
       "\n",
       "    .dataframe thead th {\n",
       "        text-align: right;\n",
       "    }\n",
       "</style>\n",
       "<table border=\"1\" class=\"dataframe\">\n",
       "  <thead>\n",
       "    <tr style=\"text-align: right;\">\n",
       "      <th></th>\n",
       "      <th>age</th>\n",
       "      <th>default</th>\n",
       "      <th>balance</th>\n",
       "      <th>housing</th>\n",
       "      <th>loan</th>\n",
       "      <th>day</th>\n",
       "      <th>duration</th>\n",
       "      <th>campaign</th>\n",
       "      <th>pdays</th>\n",
       "      <th>previous</th>\n",
       "      <th>...</th>\n",
       "      <th>month_jun</th>\n",
       "      <th>month_mar</th>\n",
       "      <th>month_may</th>\n",
       "      <th>month_nov</th>\n",
       "      <th>month_oct</th>\n",
       "      <th>month_sep</th>\n",
       "      <th>poutcome_failure</th>\n",
       "      <th>poutcome_other</th>\n",
       "      <th>poutcome_success</th>\n",
       "      <th>poutcome_unknown</th>\n",
       "    </tr>\n",
       "  </thead>\n",
       "  <tbody>\n",
       "    <tr>\n",
       "      <th>0</th>\n",
       "      <td>58</td>\n",
       "      <td>0</td>\n",
       "      <td>2143</td>\n",
       "      <td>1</td>\n",
       "      <td>0</td>\n",
       "      <td>5</td>\n",
       "      <td>261</td>\n",
       "      <td>1</td>\n",
       "      <td>-1</td>\n",
       "      <td>0</td>\n",
       "      <td>...</td>\n",
       "      <td>0</td>\n",
       "      <td>0</td>\n",
       "      <td>1</td>\n",
       "      <td>0</td>\n",
       "      <td>0</td>\n",
       "      <td>0</td>\n",
       "      <td>0</td>\n",
       "      <td>0</td>\n",
       "      <td>0</td>\n",
       "      <td>1</td>\n",
       "    </tr>\n",
       "    <tr>\n",
       "      <th>1</th>\n",
       "      <td>44</td>\n",
       "      <td>0</td>\n",
       "      <td>29</td>\n",
       "      <td>1</td>\n",
       "      <td>0</td>\n",
       "      <td>5</td>\n",
       "      <td>151</td>\n",
       "      <td>1</td>\n",
       "      <td>-1</td>\n",
       "      <td>0</td>\n",
       "      <td>...</td>\n",
       "      <td>0</td>\n",
       "      <td>0</td>\n",
       "      <td>1</td>\n",
       "      <td>0</td>\n",
       "      <td>0</td>\n",
       "      <td>0</td>\n",
       "      <td>0</td>\n",
       "      <td>0</td>\n",
       "      <td>0</td>\n",
       "      <td>1</td>\n",
       "    </tr>\n",
       "    <tr>\n",
       "      <th>2</th>\n",
       "      <td>33</td>\n",
       "      <td>0</td>\n",
       "      <td>2</td>\n",
       "      <td>1</td>\n",
       "      <td>1</td>\n",
       "      <td>5</td>\n",
       "      <td>76</td>\n",
       "      <td>1</td>\n",
       "      <td>-1</td>\n",
       "      <td>0</td>\n",
       "      <td>...</td>\n",
       "      <td>0</td>\n",
       "      <td>0</td>\n",
       "      <td>1</td>\n",
       "      <td>0</td>\n",
       "      <td>0</td>\n",
       "      <td>0</td>\n",
       "      <td>0</td>\n",
       "      <td>0</td>\n",
       "      <td>0</td>\n",
       "      <td>1</td>\n",
       "    </tr>\n",
       "    <tr>\n",
       "      <th>3</th>\n",
       "      <td>47</td>\n",
       "      <td>0</td>\n",
       "      <td>1506</td>\n",
       "      <td>1</td>\n",
       "      <td>0</td>\n",
       "      <td>5</td>\n",
       "      <td>92</td>\n",
       "      <td>1</td>\n",
       "      <td>-1</td>\n",
       "      <td>0</td>\n",
       "      <td>...</td>\n",
       "      <td>0</td>\n",
       "      <td>0</td>\n",
       "      <td>1</td>\n",
       "      <td>0</td>\n",
       "      <td>0</td>\n",
       "      <td>0</td>\n",
       "      <td>0</td>\n",
       "      <td>0</td>\n",
       "      <td>0</td>\n",
       "      <td>1</td>\n",
       "    </tr>\n",
       "    <tr>\n",
       "      <th>4</th>\n",
       "      <td>33</td>\n",
       "      <td>0</td>\n",
       "      <td>1</td>\n",
       "      <td>0</td>\n",
       "      <td>0</td>\n",
       "      <td>5</td>\n",
       "      <td>198</td>\n",
       "      <td>1</td>\n",
       "      <td>-1</td>\n",
       "      <td>0</td>\n",
       "      <td>...</td>\n",
       "      <td>0</td>\n",
       "      <td>0</td>\n",
       "      <td>1</td>\n",
       "      <td>0</td>\n",
       "      <td>0</td>\n",
       "      <td>0</td>\n",
       "      <td>0</td>\n",
       "      <td>0</td>\n",
       "      <td>0</td>\n",
       "      <td>1</td>\n",
       "    </tr>\n",
       "    <tr>\n",
       "      <th>...</th>\n",
       "      <td>...</td>\n",
       "      <td>...</td>\n",
       "      <td>...</td>\n",
       "      <td>...</td>\n",
       "      <td>...</td>\n",
       "      <td>...</td>\n",
       "      <td>...</td>\n",
       "      <td>...</td>\n",
       "      <td>...</td>\n",
       "      <td>...</td>\n",
       "      <td>...</td>\n",
       "      <td>...</td>\n",
       "      <td>...</td>\n",
       "      <td>...</td>\n",
       "      <td>...</td>\n",
       "      <td>...</td>\n",
       "      <td>...</td>\n",
       "      <td>...</td>\n",
       "      <td>...</td>\n",
       "      <td>...</td>\n",
       "      <td>...</td>\n",
       "    </tr>\n",
       "    <tr>\n",
       "      <th>49436</th>\n",
       "      <td>30</td>\n",
       "      <td>0</td>\n",
       "      <td>180</td>\n",
       "      <td>1</td>\n",
       "      <td>0</td>\n",
       "      <td>18</td>\n",
       "      <td>611</td>\n",
       "      <td>1</td>\n",
       "      <td>-1</td>\n",
       "      <td>0</td>\n",
       "      <td>...</td>\n",
       "      <td>0</td>\n",
       "      <td>0</td>\n",
       "      <td>0</td>\n",
       "      <td>0</td>\n",
       "      <td>0</td>\n",
       "      <td>0</td>\n",
       "      <td>0</td>\n",
       "      <td>0</td>\n",
       "      <td>0</td>\n",
       "      <td>1</td>\n",
       "    </tr>\n",
       "    <tr>\n",
       "      <th>49437</th>\n",
       "      <td>29</td>\n",
       "      <td>0</td>\n",
       "      <td>358</td>\n",
       "      <td>0</td>\n",
       "      <td>0</td>\n",
       "      <td>15</td>\n",
       "      <td>436</td>\n",
       "      <td>1</td>\n",
       "      <td>-1</td>\n",
       "      <td>0</td>\n",
       "      <td>...</td>\n",
       "      <td>0</td>\n",
       "      <td>0</td>\n",
       "      <td>0</td>\n",
       "      <td>0</td>\n",
       "      <td>0</td>\n",
       "      <td>0</td>\n",
       "      <td>0</td>\n",
       "      <td>0</td>\n",
       "      <td>0</td>\n",
       "      <td>1</td>\n",
       "    </tr>\n",
       "    <tr>\n",
       "      <th>49438</th>\n",
       "      <td>29</td>\n",
       "      <td>0</td>\n",
       "      <td>541</td>\n",
       "      <td>0</td>\n",
       "      <td>0</td>\n",
       "      <td>25</td>\n",
       "      <td>414</td>\n",
       "      <td>1</td>\n",
       "      <td>-1</td>\n",
       "      <td>0</td>\n",
       "      <td>...</td>\n",
       "      <td>0</td>\n",
       "      <td>0</td>\n",
       "      <td>1</td>\n",
       "      <td>0</td>\n",
       "      <td>0</td>\n",
       "      <td>0</td>\n",
       "      <td>0</td>\n",
       "      <td>0</td>\n",
       "      <td>0</td>\n",
       "      <td>1</td>\n",
       "    </tr>\n",
       "    <tr>\n",
       "      <th>49439</th>\n",
       "      <td>29</td>\n",
       "      <td>0</td>\n",
       "      <td>163</td>\n",
       "      <td>0</td>\n",
       "      <td>0</td>\n",
       "      <td>4</td>\n",
       "      <td>250</td>\n",
       "      <td>1</td>\n",
       "      <td>-1</td>\n",
       "      <td>0</td>\n",
       "      <td>...</td>\n",
       "      <td>0</td>\n",
       "      <td>0</td>\n",
       "      <td>0</td>\n",
       "      <td>0</td>\n",
       "      <td>0</td>\n",
       "      <td>0</td>\n",
       "      <td>0</td>\n",
       "      <td>0</td>\n",
       "      <td>0</td>\n",
       "      <td>1</td>\n",
       "    </tr>\n",
       "    <tr>\n",
       "      <th>49440</th>\n",
       "      <td>30</td>\n",
       "      <td>0</td>\n",
       "      <td>1790</td>\n",
       "      <td>0</td>\n",
       "      <td>0</td>\n",
       "      <td>4</td>\n",
       "      <td>283</td>\n",
       "      <td>1</td>\n",
       "      <td>173</td>\n",
       "      <td>2</td>\n",
       "      <td>...</td>\n",
       "      <td>0</td>\n",
       "      <td>0</td>\n",
       "      <td>0</td>\n",
       "      <td>0</td>\n",
       "      <td>0</td>\n",
       "      <td>0</td>\n",
       "      <td>1</td>\n",
       "      <td>0</td>\n",
       "      <td>0</td>\n",
       "      <td>0</td>\n",
       "    </tr>\n",
       "  </tbody>\n",
       "</table>\n",
       "<p>49441 rows × 52 columns</p>\n",
       "</div>"
      ],
      "text/plain": [
       "       age  default  balance  housing  loan  day  duration  campaign  pdays  \\\n",
       "0       58        0     2143        1     0    5       261         1     -1   \n",
       "1       44        0       29        1     0    5       151         1     -1   \n",
       "2       33        0        2        1     1    5        76         1     -1   \n",
       "3       47        0     1506        1     0    5        92         1     -1   \n",
       "4       33        0        1        0     0    5       198         1     -1   \n",
       "...    ...      ...      ...      ...   ...  ...       ...       ...    ...   \n",
       "49436   30        0      180        1     0   18       611         1     -1   \n",
       "49437   29        0      358        0     0   15       436         1     -1   \n",
       "49438   29        0      541        0     0   25       414         1     -1   \n",
       "49439   29        0      163        0     0    4       250         1     -1   \n",
       "49440   30        0     1790        0     0    4       283         1    173   \n",
       "\n",
       "       previous  ...  month_jun  month_mar  month_may  month_nov  month_oct  \\\n",
       "0             0  ...          0          0          1          0          0   \n",
       "1             0  ...          0          0          1          0          0   \n",
       "2             0  ...          0          0          1          0          0   \n",
       "3             0  ...          0          0          1          0          0   \n",
       "4             0  ...          0          0          1          0          0   \n",
       "...         ...  ...        ...        ...        ...        ...        ...   \n",
       "49436         0  ...          0          0          0          0          0   \n",
       "49437         0  ...          0          0          0          0          0   \n",
       "49438         0  ...          0          0          1          0          0   \n",
       "49439         0  ...          0          0          0          0          0   \n",
       "49440         2  ...          0          0          0          0          0   \n",
       "\n",
       "       month_sep  poutcome_failure  poutcome_other  poutcome_success  \\\n",
       "0              0                 0               0                 0   \n",
       "1              0                 0               0                 0   \n",
       "2              0                 0               0                 0   \n",
       "3              0                 0               0                 0   \n",
       "4              0                 0               0                 0   \n",
       "...          ...               ...             ...               ...   \n",
       "49436          0                 0               0                 0   \n",
       "49437          0                 0               0                 0   \n",
       "49438          0                 0               0                 0   \n",
       "49439          0                 0               0                 0   \n",
       "49440          0                 1               0                 0   \n",
       "\n",
       "       poutcome_unknown  \n",
       "0                     1  \n",
       "1                     1  \n",
       "2                     1  \n",
       "3                     1  \n",
       "4                     1  \n",
       "...                 ...  \n",
       "49436                 1  \n",
       "49437                 1  \n",
       "49438                 1  \n",
       "49439                 1  \n",
       "49440                 0  \n",
       "\n",
       "[49441 rows x 52 columns]"
      ]
     },
     "execution_count": 29,
     "metadata": {},
     "output_type": "execute_result"
    }
   ],
   "source": [
    "df_after_preprocessed=X_over_SMOTE\n",
    "df_after_preprocessed"
   ]
  },
  {
   "cell_type": "code",
   "execution_count": 30,
   "id": "ddb5b610-fe8c-4881-b108-e74f254a6dff",
   "metadata": {},
   "outputs": [
    {
     "name": "stdout",
     "output_type": "stream",
     "text": [
      "<class 'pandas.core.frame.DataFrame'>\n",
      "RangeIndex: 49441 entries, 0 to 49440\n",
      "Data columns (total 52 columns):\n",
      " #   Column               Non-Null Count  Dtype  \n",
      "---  ------               --------------  -----  \n",
      " 0   age                  49441 non-null  int64  \n",
      " 1   default              49441 non-null  int64  \n",
      " 2   balance              49441 non-null  int64  \n",
      " 3   housing              49441 non-null  int64  \n",
      " 4   loan                 49441 non-null  int64  \n",
      " 5   day                  49441 non-null  int64  \n",
      " 6   duration             49441 non-null  int64  \n",
      " 7   campaign             49441 non-null  int64  \n",
      " 8   pdays                49441 non-null  int64  \n",
      " 9   previous             49441 non-null  int64  \n",
      " 10  age_norm             49441 non-null  float64\n",
      " 11  balance_std          49441 non-null  float64\n",
      " 12  day_norm             49441 non-null  float64\n",
      " 13  duration_std         49441 non-null  float64\n",
      " 14  campaign_std         49441 non-null  float64\n",
      " 15  pdays_std            49441 non-null  float64\n",
      " 16  previous_std         49441 non-null  float64\n",
      " 17  job_admin.           49441 non-null  uint8  \n",
      " 18  job_blue-collar      49441 non-null  uint8  \n",
      " 19  job_entrepreneur     49441 non-null  uint8  \n",
      " 20  job_housemaid        49441 non-null  uint8  \n",
      " 21  job_management       49441 non-null  uint8  \n",
      " 22  job_retired          49441 non-null  uint8  \n",
      " 23  job_self-employed    49441 non-null  uint8  \n",
      " 24  job_services         49441 non-null  uint8  \n",
      " 25  job_student          49441 non-null  uint8  \n",
      " 26  job_technician       49441 non-null  uint8  \n",
      " 27  job_unemployed       49441 non-null  uint8  \n",
      " 28  marital_divorced     49441 non-null  uint8  \n",
      " 29  marital_married      49441 non-null  uint8  \n",
      " 30  marital_single       49441 non-null  uint8  \n",
      " 31  education_primary    49441 non-null  uint8  \n",
      " 32  education_secondary  49441 non-null  uint8  \n",
      " 33  education_tertiary   49441 non-null  uint8  \n",
      " 34  contact_cellular     49441 non-null  uint8  \n",
      " 35  contact_telephone    49441 non-null  uint8  \n",
      " 36  month_apr            49441 non-null  uint8  \n",
      " 37  month_aug            49441 non-null  uint8  \n",
      " 38  month_dec            49441 non-null  uint8  \n",
      " 39  month_feb            49441 non-null  uint8  \n",
      " 40  month_jan            49441 non-null  uint8  \n",
      " 41  month_jul            49441 non-null  uint8  \n",
      " 42  month_jun            49441 non-null  uint8  \n",
      " 43  month_mar            49441 non-null  uint8  \n",
      " 44  month_may            49441 non-null  uint8  \n",
      " 45  month_nov            49441 non-null  uint8  \n",
      " 46  month_oct            49441 non-null  uint8  \n",
      " 47  month_sep            49441 non-null  uint8  \n",
      " 48  poutcome_failure     49441 non-null  uint8  \n",
      " 49  poutcome_other       49441 non-null  uint8  \n",
      " 50  poutcome_success     49441 non-null  uint8  \n",
      " 51  poutcome_unknown     49441 non-null  uint8  \n",
      "dtypes: float64(7), int64(10), uint8(35)\n",
      "memory usage: 8.1 MB\n"
     ]
    }
   ],
   "source": [
    "df_after_preprocessed.info()"
   ]
  },
  {
   "cell_type": "code",
   "execution_count": 31,
   "id": "8353f06f-0844-44c2-bc6f-8c5c75355af7",
   "metadata": {},
   "outputs": [],
   "source": [
    "df_after_preprocessed['y']=y_over_SMOTE.tolist()"
   ]
  },
  {
   "cell_type": "code",
   "execution_count": 32,
   "id": "45c138b0-7377-44ed-8009-8a96bf911e7e",
   "metadata": {},
   "outputs": [
    {
     "name": "stdout",
     "output_type": "stream",
     "text": [
      "<class 'pandas.core.frame.DataFrame'>\n",
      "RangeIndex: 49441 entries, 0 to 49440\n",
      "Data columns (total 53 columns):\n",
      " #   Column               Non-Null Count  Dtype  \n",
      "---  ------               --------------  -----  \n",
      " 0   age                  49441 non-null  int64  \n",
      " 1   default              49441 non-null  int64  \n",
      " 2   balance              49441 non-null  int64  \n",
      " 3   housing              49441 non-null  int64  \n",
      " 4   loan                 49441 non-null  int64  \n",
      " 5   day                  49441 non-null  int64  \n",
      " 6   duration             49441 non-null  int64  \n",
      " 7   campaign             49441 non-null  int64  \n",
      " 8   pdays                49441 non-null  int64  \n",
      " 9   previous             49441 non-null  int64  \n",
      " 10  age_norm             49441 non-null  float64\n",
      " 11  balance_std          49441 non-null  float64\n",
      " 12  day_norm             49441 non-null  float64\n",
      " 13  duration_std         49441 non-null  float64\n",
      " 14  campaign_std         49441 non-null  float64\n",
      " 15  pdays_std            49441 non-null  float64\n",
      " 16  previous_std         49441 non-null  float64\n",
      " 17  job_admin.           49441 non-null  uint8  \n",
      " 18  job_blue-collar      49441 non-null  uint8  \n",
      " 19  job_entrepreneur     49441 non-null  uint8  \n",
      " 20  job_housemaid        49441 non-null  uint8  \n",
      " 21  job_management       49441 non-null  uint8  \n",
      " 22  job_retired          49441 non-null  uint8  \n",
      " 23  job_self-employed    49441 non-null  uint8  \n",
      " 24  job_services         49441 non-null  uint8  \n",
      " 25  job_student          49441 non-null  uint8  \n",
      " 26  job_technician       49441 non-null  uint8  \n",
      " 27  job_unemployed       49441 non-null  uint8  \n",
      " 28  marital_divorced     49441 non-null  uint8  \n",
      " 29  marital_married      49441 non-null  uint8  \n",
      " 30  marital_single       49441 non-null  uint8  \n",
      " 31  education_primary    49441 non-null  uint8  \n",
      " 32  education_secondary  49441 non-null  uint8  \n",
      " 33  education_tertiary   49441 non-null  uint8  \n",
      " 34  contact_cellular     49441 non-null  uint8  \n",
      " 35  contact_telephone    49441 non-null  uint8  \n",
      " 36  month_apr            49441 non-null  uint8  \n",
      " 37  month_aug            49441 non-null  uint8  \n",
      " 38  month_dec            49441 non-null  uint8  \n",
      " 39  month_feb            49441 non-null  uint8  \n",
      " 40  month_jan            49441 non-null  uint8  \n",
      " 41  month_jul            49441 non-null  uint8  \n",
      " 42  month_jun            49441 non-null  uint8  \n",
      " 43  month_mar            49441 non-null  uint8  \n",
      " 44  month_may            49441 non-null  uint8  \n",
      " 45  month_nov            49441 non-null  uint8  \n",
      " 46  month_oct            49441 non-null  uint8  \n",
      " 47  month_sep            49441 non-null  uint8  \n",
      " 48  poutcome_failure     49441 non-null  uint8  \n",
      " 49  poutcome_other       49441 non-null  uint8  \n",
      " 50  poutcome_success     49441 non-null  uint8  \n",
      " 51  poutcome_unknown     49441 non-null  uint8  \n",
      " 52  y                    49441 non-null  int64  \n",
      "dtypes: float64(7), int64(11), uint8(35)\n",
      "memory usage: 8.4 MB\n"
     ]
    }
   ],
   "source": [
    "df_after_preprocessed.info()"
   ]
  },
  {
   "cell_type": "code",
   "execution_count": 33,
   "id": "627a81dc-a34e-4a65-8bdc-6f0462b01b5a",
   "metadata": {},
   "outputs": [],
   "source": [
    "def show_feature_importance(model):\n",
    "    feat_importances = pd.Series(model.feature_importances_, index=X.columns)\n",
    "    ax = feat_importances.nlargest(25).plot(kind='barh', figsize=(10, 8))\n",
    "    ax.invert_yaxis()\n",
    "\n",
    "    plt.xlabel('score')\n",
    "    plt.ylabel('feature')\n",
    "    plt.title('feature importance score')\n",
    "\n",
    "def show_best_hyperparameter(model):\n",
    "    print(model.best_estimator_.get_params())"
   ]
  },
  {
   "cell_type": "code",
   "execution_count": 34,
   "id": "9fa8bdaf-339a-44c0-9271-c20083374ca9",
   "metadata": {},
   "outputs": [],
   "source": [
    "from sklearn.metrics import accuracy_score, precision_score, recall_score, f1_score, roc_auc_score\n",
    "from sklearn.metrics import confusion_matrix\n",
    "def eval_classification(model, xtrain, ytrain, xtest, ytest):\n",
    "    #eval test model\n",
    "    ypred = model.predict(xtest)\n",
    "    \n",
    "    #Get the confusion matrix\n",
    "    cf_matrix = confusion_matrix(ytest, ypred)\n",
    "    sns.heatmap(cf_matrix/np.sum(cf_matrix), annot=True, fmt='.2%', cmap='Blues', cbar=False)\n",
    "    \n",
    "    #calculate each parameter for test model\n",
    "    print('eval test model')\n",
    "    print(\"Accuracy (Test Set): %.2f\" % accuracy_score(ytest, ypred))\n",
    "    print(\"Precision (Test Set): %.2f\" % precision_score(ytest, ypred))\n",
    "    print(\"Recall (Test Set): %.2f\" % recall_score(ytest, ypred))\n",
    "    print(\"F1-Score (Test Set): %.2f\" % f1_score(ytest, ypred))\n",
    "    \n",
    "    y_pred_proba = model.predict_proba(xtest)\n",
    "    print(\"AUC: %.2f\" % roc_auc_score(ytest, y_pred_proba[:, 1]))\n",
    "    \n",
    "    #eval train model\n",
    "    ypred_train = model.predict(xtrain)\n",
    "    print('eval train model')\n",
    "    print(\"Accuracy (Train Set): %.2f\" % accuracy_score(ytrain, ypred_train))\n",
    "    print(\"Precision (Train Set): %.2f\" % precision_score(ytrain, ypred_train))\n",
    "    print(\"Recall (Train Set): %.2f\" % recall_score(ytrain, ypred_train))\n",
    "    print(\"F1-Score (Train Set): %.2f\" % f1_score(ytrain, ypred_train))\n",
    "    \n",
    "    y_pred_proba_train = model.predict_proba(xtrain)\n",
    "    print(\"AUC: %.2f\" % roc_auc_score(ytrain, y_pred_proba_train[:, 1]))"
   ]
  },
  {
   "cell_type": "markdown",
   "id": "2fcb56f9-4f93-4411-8e7a-9719715224a7",
   "metadata": {},
   "source": [
    "## Percobaan 1"
   ]
  },
  {
   "cell_type": "markdown",
   "id": "23bf318a-6d6b-4ca4-a2c5-9880a900da07",
   "metadata": {},
   "source": [
    "*Kombinasi Column: age, marital_divorced, marital_married, marital_single, contact_cellular, contact_telephone, balance, default, housing, loan,duration, campaign*"
   ]
  },
  {
   "cell_type": "markdown",
   "id": "f9ae4a36-6fbc-48d9-8aa3-a021e2b07ac3",
   "metadata": {},
   "source": [
    "### Split Feature and Target"
   ]
  },
  {
   "cell_type": "code",
   "execution_count": 35,
   "id": "27fc2a0a-1fd5-4c6b-b012-52b3a8002187",
   "metadata": {},
   "outputs": [],
   "source": [
    "#feature\n",
    "X=df_after_preprocessed['age marital_divorced marital_married marital_single contact_cellular contact_telephone balance default housing loan duration campaign'.split()]\n",
    "#target\n",
    "y=df_after_preprocessed['y']"
   ]
  },
  {
   "cell_type": "code",
   "execution_count": 36,
   "id": "48731ef1-1699-4d90-a603-b9ac7a7bbfd5",
   "metadata": {},
   "outputs": [],
   "source": [
    "#Splitting the data into Train and Test 7:3\n",
    "from sklearn.model_selection import train_test_split \n",
    "X_train, X_test, y_train, y_test = train_test_split(X, y, test_size = 0.3, random_state = 45)"
   ]
  },
  {
   "cell_type": "markdown",
   "id": "965d4d0b-d604-4a89-8ffa-96261ba51db6",
   "metadata": {
    "tags": []
   },
   "source": [
    "### Logistic Regression"
   ]
  },
  {
   "cell_type": "code",
   "execution_count": 37,
   "id": "91e389ae-5508-4b11-8bb7-7404106a10e0",
   "metadata": {},
   "outputs": [
    {
     "data": {
      "text/plain": [
       "LogisticRegression(random_state=45)"
      ]
     },
     "execution_count": 37,
     "metadata": {},
     "output_type": "execute_result"
    }
   ],
   "source": [
    "from sklearn.linear_model import LogisticRegression\n",
    "model = LogisticRegression(random_state=45)\n",
    "model.fit(X_train, y_train)"
   ]
  },
  {
   "cell_type": "markdown",
   "id": "48d300fd-9039-4a61-a57c-d942c8a0566b",
   "metadata": {},
   "source": [
    "### Prediction"
   ]
  },
  {
   "cell_type": "code",
   "execution_count": 38,
   "id": "19286e33-210c-4726-b3b0-1df3add224a1",
   "metadata": {},
   "outputs": [],
   "source": [
    "#test prediction\n",
    "y_pred = model.predict(X_test)"
   ]
  },
  {
   "cell_type": "code",
   "execution_count": 39,
   "id": "a7e44270-ca7c-4406-8a0b-9183dbcf2759",
   "metadata": {},
   "outputs": [],
   "source": [
    "#train prediction\n",
    "y_pred_train = model.predict(X_train)"
   ]
  },
  {
   "cell_type": "markdown",
   "id": "0a98415c-e074-43bb-a5d6-8f601e8080c3",
   "metadata": {},
   "source": [
    "### Evaluation"
   ]
  },
  {
   "cell_type": "code",
   "execution_count": 40,
   "id": "bfeab89a-fce7-4e9b-bd5b-615c673c620f",
   "metadata": {},
   "outputs": [
    {
     "name": "stdout",
     "output_type": "stream",
     "text": [
      "eval test model\n",
      "Accuracy (Test Set): 0.87\n",
      "Precision (Test Set): 0.84\n",
      "Recall (Test Set): 0.74\n",
      "F1-Score (Test Set): 0.79\n",
      "AUC: 0.93\n",
      "eval train model\n",
      "Accuracy (Train Set): 0.86\n",
      "Precision (Train Set): 0.84\n",
      "Recall (Train Set): 0.73\n",
      "F1-Score (Train Set): 0.78\n",
      "AUC: 0.93\n"
     ]
    },
    {
     "data": {
      "image/png": "[encoded data removed]",
      "text/plain": [
       "<Figure size 432x288 with 1 Axes>"
      ]
     },
     "metadata": {
      "needs_background": "light"
     },
     "output_type": "display_data"
    }
   ],
   "source": [
    "eval_classification(model, X_train, y_train, X_test, y_test)"
   ]
  },
  {
   "cell_type": "markdown",
   "id": "0d9a8d6a-6f16-432b-893f-cc019fff82c5",
   "metadata": {},
   "source": [
    "### Tuning Hyperparameter"
   ]
  },
  {
   "cell_type": "code",
   "execution_count": 41,
   "id": "2d2320f3-d109-4247-9897-dfb05ec6a229",
   "metadata": {},
   "outputs": [
    {
     "name": "stdout",
     "output_type": "stream",
     "text": [
      "eval test model\n",
      "Accuracy (Test Set): 0.87\n",
      "Precision (Test Set): 0.88\n",
      "Recall (Test Set): 0.72\n",
      "F1-Score (Test Set): 0.79\n",
      "AUC: 0.94\n",
      "eval train model\n",
      "Accuracy (Train Set): 0.87\n",
      "Precision (Train Set): 0.87\n",
      "Recall (Train Set): 0.71\n",
      "F1-Score (Train Set): 0.78\n",
      "AUC: 0.94\n"
     ]
    },
    {
     "data": {
      "image/png": "[encoded data removed]",
      "text/plain": [
       "<Figure size 432x288 with 1 Axes>"
      ]
     },
     "metadata": {
      "needs_background": "light"
     },
     "output_type": "display_data"
    }
   ],
   "source": [
    "from sklearn.model_selection import RandomizedSearchCV\n",
    "#hyperparameter tuning using randomized search\n",
    "\n",
    "#penalty\n",
    "penalty = ['l2','l1','elasticnet']\n",
    "#C\n",
    "C = [float(x) for x in np.linspace(0.01, 10, num=100)]\n",
    "#max_iter\n",
    "max_iter = [int(x) for x in np.linspace(250, 750, num=100)]\n",
    "\n",
    "hyperparams = dict(penalty=penalty, C=C, max_iter=max_iter)\n",
    "\n",
    "lr = LogisticRegression(random_state=45)\n",
    "rs = RandomizedSearchCV(lr, hyperparams, cv=5, scoring='precision', random_state=45)\n",
    "rs.fit(X_train, y_train)\n",
    "eval_classification(rs, X_train, y_train, X_test, y_test)"
   ]
  },
  {
   "cell_type": "code",
   "execution_count": 42,
   "id": "992e112e-d988-42f7-8437-279a763d6a51",
   "metadata": {},
   "outputs": [
    {
     "name": "stdout",
     "output_type": "stream",
     "text": [
      "Train score: 0.8699084306915061\n",
      "Test score:0.8754333828628034\n"
     ]
    }
   ],
   "source": [
    "print('Train score: ' + str(rs.score(X_train, y_train)))\n",
    "print('Test score:' + str(rs.score(X_test, y_test)))"
   ]
  },
  {
   "cell_type": "code",
   "execution_count": 43,
   "id": "82058a47-c371-4995-b9b4-d94fb7d54be2",
   "metadata": {},
   "outputs": [
    {
     "data": {
      "text/plain": [
       "{'C': 2.129090909090909,\n",
       " 'class_weight': None,\n",
       " 'dual': False,\n",
       " 'fit_intercept': True,\n",
       " 'intercept_scaling': 1,\n",
       " 'l1_ratio': None,\n",
       " 'max_iter': 684,\n",
       " 'multi_class': 'auto',\n",
       " 'n_jobs': None,\n",
       " 'penalty': 'l2',\n",
       " 'random_state': 45,\n",
       " 'solver': 'lbfgs',\n",
       " 'tol': 0.0001,\n",
       " 'verbose': 0,\n",
       " 'warm_start': False}"
      ]
     },
     "execution_count": 43,
     "metadata": {},
     "output_type": "execute_result"
    }
   ],
   "source": [
    "rs.best_estimator_.get_params()"
   ]
  },
  {
   "cell_type": "code",
   "execution_count": 45,
   "id": "fe039ad0-3f37-4414-a98e-a0b2a2a9fdc3",
   "metadata": {},
   "outputs": [
    {
     "data": {
      "text/plain": [
       "684"
      ]
     },
     "execution_count": 45,
     "metadata": {},
     "output_type": "execute_result"
    }
   ],
   "source": [
    "c=rs.best_estimator_.get_params()['C']\n",
    "maxiter=rs.best_estimator_.get_params()['max_iter']\n",
    "maxiter"
   ]
  },
  {
   "cell_type": "code",
   "execution_count": 46,
   "id": "0e2f48e5-000d-4629-bcb7-55c4dd49e430",
   "metadata": {},
   "outputs": [
    {
     "name": "stdout",
     "output_type": "stream",
     "text": [
      "eval test model\n",
      "Accuracy (Test Set): 0.87\n",
      "Precision (Test Set): 0.88\n",
      "Recall (Test Set): 0.72\n",
      "F1-Score (Test Set): 0.79\n",
      "AUC: 0.94\n",
      "eval train model\n",
      "Accuracy (Train Set): 0.87\n",
      "Precision (Train Set): 0.87\n",
      "Recall (Train Set): 0.71\n",
      "F1-Score (Train Set): 0.78\n",
      "AUC: 0.94\n"
     ]
    },
    {
     "data": {
      "image/png": "[encoded data removed]",
      "text/plain": [
       "<Figure size 432x288 with 1 Axes>"
      ]
     },
     "metadata": {
      "needs_background": "light"
     },
     "output_type": "display_data"
    }
   ],
   "source": [
    "lr = LogisticRegression(random_state=45, C=c, max_iter=maxiter)\n",
    "lr.fit(X_train, y_train)\n",
    "eval_classification(lr, X_train, y_train, X_test, y_test)"
   ]
  },
  {
   "cell_type": "code",
   "execution_count": 48,
   "id": "007d2c30-b3d1-4bd8-8ba4-cd5f763ea821",
   "metadata": {},
   "outputs": [
    {
     "data": {
      "text/plain": [
       "['age',\n",
       " 'marital_divorced',\n",
       " 'marital_married',\n",
       " 'marital_single',\n",
       " 'contact_cellular',\n",
       " 'contact_telephone',\n",
       " 'balance',\n",
       " 'default',\n",
       " 'housing',\n",
       " 'loan',\n",
       " 'duration',\n",
       " 'campaign']"
      ]
     },
     "execution_count": 48,
     "metadata": {},
     "output_type": "execute_result"
    }
   ],
   "source": [
    "list(X.columns)"
   ]
  },
  {
   "cell_type": "code",
   "execution_count": 49,
   "id": "d51cfeb5-93fa-4cd1-9313-383083347bd6",
   "metadata": {},
   "outputs": [
    {
     "data": {
      "text/plain": [
       "array([-6.30198281e-03, -6.84064455e+00, -5.79909424e+00, -5.50793214e+00,\n",
       "       -1.77767238e+00, -2.07841617e+00,  5.35668965e-05, -8.81022616e-01,\n",
       "       -1.97987414e+00, -1.26615362e+00,  5.62910940e-03, -2.51822228e-01])"
      ]
     },
     "execution_count": 49,
     "metadata": {},
     "output_type": "execute_result"
    }
   ],
   "source": [
    "w=lr.coef_[0]\n",
    "w"
   ]
  },
  {
   "cell_type": "code",
   "execution_count": 50,
   "id": "d20ab4e0-bbf1-4058-b0b6-263b2c00088f",
   "metadata": {},
   "outputs": [],
   "source": [
    "feature_importance=pd.DataFrame(list(X.columns), columns=['feature'])\n",
    "feature_importance['weight_value']=w"
   ]
  },
  {
   "cell_type": "code",
   "execution_count": 51,
   "id": "1b1dd85a-b7c0-41f7-afe0-03aaeba3bace",
   "metadata": {},
   "outputs": [
    {
     "data": {
      "text/html": [
       "<div>\n",
       "<style scoped>\n",
       "    .dataframe tbody tr th:only-of-type {\n",
       "        vertical-align: middle;\n",
       "    }\n",
       "\n",
       "    .dataframe tbody tr th {\n",
       "        vertical-align: top;\n",
       "    }\n",
       "\n",
       "    .dataframe thead th {\n",
       "        text-align: right;\n",
       "    }\n",
       "</style>\n",
       "<table border=\"1\" class=\"dataframe\">\n",
       "  <thead>\n",
       "    <tr style=\"text-align: right;\">\n",
       "      <th></th>\n",
       "      <th>feature</th>\n",
       "      <th>weight_value</th>\n",
       "    </tr>\n",
       "  </thead>\n",
       "  <tbody>\n",
       "    <tr>\n",
       "      <th>0</th>\n",
       "      <td>age</td>\n",
       "      <td>-0.006302</td>\n",
       "    </tr>\n",
       "    <tr>\n",
       "      <th>1</th>\n",
       "      <td>marital_divorced</td>\n",
       "      <td>-6.840645</td>\n",
       "    </tr>\n",
       "    <tr>\n",
       "      <th>2</th>\n",
       "      <td>marital_married</td>\n",
       "      <td>-5.799094</td>\n",
       "    </tr>\n",
       "    <tr>\n",
       "      <th>3</th>\n",
       "      <td>marital_single</td>\n",
       "      <td>-5.507932</td>\n",
       "    </tr>\n",
       "    <tr>\n",
       "      <th>4</th>\n",
       "      <td>contact_cellular</td>\n",
       "      <td>-1.777672</td>\n",
       "    </tr>\n",
       "    <tr>\n",
       "      <th>5</th>\n",
       "      <td>contact_telephone</td>\n",
       "      <td>-2.078416</td>\n",
       "    </tr>\n",
       "    <tr>\n",
       "      <th>6</th>\n",
       "      <td>balance</td>\n",
       "      <td>0.000054</td>\n",
       "    </tr>\n",
       "    <tr>\n",
       "      <th>7</th>\n",
       "      <td>default</td>\n",
       "      <td>-0.881023</td>\n",
       "    </tr>\n",
       "    <tr>\n",
       "      <th>8</th>\n",
       "      <td>housing</td>\n",
       "      <td>-1.979874</td>\n",
       "    </tr>\n",
       "    <tr>\n",
       "      <th>9</th>\n",
       "      <td>loan</td>\n",
       "      <td>-1.266154</td>\n",
       "    </tr>\n",
       "    <tr>\n",
       "      <th>10</th>\n",
       "      <td>duration</td>\n",
       "      <td>0.005629</td>\n",
       "    </tr>\n",
       "    <tr>\n",
       "      <th>11</th>\n",
       "      <td>campaign</td>\n",
       "      <td>-0.251822</td>\n",
       "    </tr>\n",
       "  </tbody>\n",
       "</table>\n",
       "</div>"
      ],
      "text/plain": [
       "              feature  weight_value\n",
       "0                 age     -0.006302\n",
       "1    marital_divorced     -6.840645\n",
       "2     marital_married     -5.799094\n",
       "3      marital_single     -5.507932\n",
       "4    contact_cellular     -1.777672\n",
       "5   contact_telephone     -2.078416\n",
       "6             balance      0.000054\n",
       "7             default     -0.881023\n",
       "8             housing     -1.979874\n",
       "9                loan     -1.266154\n",
       "10           duration      0.005629\n",
       "11           campaign     -0.251822"
      ]
     },
     "execution_count": 51,
     "metadata": {},
     "output_type": "execute_result"
    }
   ],
   "source": [
    "feature_importance"
   ]
  },
  {
   "cell_type": "code",
   "execution_count": 53,
   "id": "1c28437f-432e-4406-be3a-ad75d294ba92",
   "metadata": {},
   "outputs": [
    {
     "data": {
      "image/png": "[encoded data removed]",
      "text/plain": [
       "<Figure size 576x432 with 1 Axes>"
      ]
     },
     "metadata": {
      "needs_background": "light"
     },
     "output_type": "display_data"
    }
   ],
   "source": [
    "#feature_importance= feature_importance.sort_values(by = ['change_to_pred_value'], ascending=False)\n",
    "#plot feature importance\n",
    "fig, axes=plt.subplots(figsize=(8,6))\n",
    "\n",
    "sns.barplot(x='weight_value', y='feature', data=feature_importance, ax=axes, color='blue')\n",
    "\n",
    "axes.set_xlabel('Weight Value')\n",
    "axes.set_ylabel('Feature')\n",
    "axes.set_title('feature importances')\n",
    "axes.set_xlim(-7, 7)\n",
    "plt.show()"
   ]
  },
  {
   "cell_type": "code",
   "execution_count": 54,
   "id": "c2fb883a-72c6-4879-8cea-28697306e919",
   "metadata": {},
   "outputs": [],
   "source": [
    "feature_importance=pd.DataFrame(list(X.columns), columns=['feature'])\n",
    "feature_importance['change_to_pred_value']=pow(math.e, w)"
   ]
  },
  {
   "cell_type": "code",
   "execution_count": 56,
   "id": "18f2b036-a19d-4d9a-9e5e-edcd80db4cbf",
   "metadata": {},
   "outputs": [
    {
     "data": {
      "image/png": "[encoded data removed]",
      "text/plain": [
       "<Figure size 576x432 with 1 Axes>"
      ]
     },
     "metadata": {
      "needs_background": "light"
     },
     "output_type": "display_data"
    }
   ],
   "source": [
    "feature_importance= feature_importance.sort_values(by = ['change_to_pred_value'], ascending=False)\n",
    "#plot feature importance\n",
    "fig, axes=plt.subplots(figsize=(8,6))\n",
    "\n",
    "sns.barplot(x='change_to_pred_value', y='feature', data=feature_importance, ax=axes, color='blue')\n",
    "\n",
    "axes.set_xlabel('change_to_pred_value')\n",
    "axes.set_ylabel('Feature')\n",
    "axes.set_title('feature importances')\n",
    "#axes.set_xlim(-7, 7)\n",
    "plt.show()"
   ]
  },
  {
   "cell_type": "markdown",
   "id": "277dd7f3-ec02-462b-ba25-c2ac28c0d570",
   "metadata": {},
   "source": [
    "## Percobaan 2"
   ]
  },
  {
   "cell_type": "markdown",
   "id": "38108b66-4f96-44d0-9f5a-eec2f41e3dc2",
   "metadata": {},
   "source": [
    "*Kombinasi Column: age, contact_cellular, contact_telephone, balance, default, housing, loan, duration, campaign*"
   ]
  },
  {
   "cell_type": "markdown",
   "id": "254acb33-b587-46d8-ae68-655d74831e78",
   "metadata": {},
   "source": [
    "### Split Feature and Target"
   ]
  },
  {
   "cell_type": "code",
   "execution_count": 57,
   "id": "a64e43ff-225e-4a24-9d14-a1c1cd11d50c",
   "metadata": {},
   "outputs": [],
   "source": [
    "#feature\n",
    "X=df_after_preprocessed['age contact_cellular contact_telephone balance default housing loan duration campaign'.split()]\n",
    "#target\n",
    "y=df_after_preprocessed['y']"
   ]
  },
  {
   "cell_type": "code",
   "execution_count": 58,
   "id": "464fd28c-0fd2-45f6-8e76-45b8594f4e8e",
   "metadata": {},
   "outputs": [
    {
     "data": {
      "text/html": [
       "<div>\n",
       "<style scoped>\n",
       "    .dataframe tbody tr th:only-of-type {\n",
       "        vertical-align: middle;\n",
       "    }\n",
       "\n",
       "    .dataframe tbody tr th {\n",
       "        vertical-align: top;\n",
       "    }\n",
       "\n",
       "    .dataframe thead th {\n",
       "        text-align: right;\n",
       "    }\n",
       "</style>\n",
       "<table border=\"1\" class=\"dataframe\">\n",
       "  <thead>\n",
       "    <tr style=\"text-align: right;\">\n",
       "      <th></th>\n",
       "      <th>age</th>\n",
       "      <th>contact_cellular</th>\n",
       "      <th>contact_telephone</th>\n",
       "      <th>balance</th>\n",
       "      <th>default</th>\n",
       "      <th>housing</th>\n",
       "      <th>loan</th>\n",
       "      <th>duration</th>\n",
       "      <th>campaign</th>\n",
       "    </tr>\n",
       "  </thead>\n",
       "  <tbody>\n",
       "    <tr>\n",
       "      <th>0</th>\n",
       "      <td>58</td>\n",
       "      <td>1</td>\n",
       "      <td>0</td>\n",
       "      <td>2143</td>\n",
       "      <td>0</td>\n",
       "      <td>1</td>\n",
       "      <td>0</td>\n",
       "      <td>261</td>\n",
       "      <td>1</td>\n",
       "    </tr>\n",
       "    <tr>\n",
       "      <th>1</th>\n",
       "      <td>44</td>\n",
       "      <td>1</td>\n",
       "      <td>0</td>\n",
       "      <td>29</td>\n",
       "      <td>0</td>\n",
       "      <td>1</td>\n",
       "      <td>0</td>\n",
       "      <td>151</td>\n",
       "      <td>1</td>\n",
       "    </tr>\n",
       "    <tr>\n",
       "      <th>2</th>\n",
       "      <td>33</td>\n",
       "      <td>1</td>\n",
       "      <td>0</td>\n",
       "      <td>2</td>\n",
       "      <td>0</td>\n",
       "      <td>1</td>\n",
       "      <td>1</td>\n",
       "      <td>76</td>\n",
       "      <td>1</td>\n",
       "    </tr>\n",
       "    <tr>\n",
       "      <th>3</th>\n",
       "      <td>47</td>\n",
       "      <td>1</td>\n",
       "      <td>0</td>\n",
       "      <td>1506</td>\n",
       "      <td>0</td>\n",
       "      <td>1</td>\n",
       "      <td>0</td>\n",
       "      <td>92</td>\n",
       "      <td>1</td>\n",
       "    </tr>\n",
       "    <tr>\n",
       "      <th>4</th>\n",
       "      <td>33</td>\n",
       "      <td>1</td>\n",
       "      <td>0</td>\n",
       "      <td>1</td>\n",
       "      <td>0</td>\n",
       "      <td>0</td>\n",
       "      <td>0</td>\n",
       "      <td>198</td>\n",
       "      <td>1</td>\n",
       "    </tr>\n",
       "  </tbody>\n",
       "</table>\n",
       "</div>"
      ],
      "text/plain": [
       "   age  contact_cellular  contact_telephone  balance  default  housing  loan  \\\n",
       "0   58                 1                  0     2143        0        1     0   \n",
       "1   44                 1                  0       29        0        1     0   \n",
       "2   33                 1                  0        2        0        1     1   \n",
       "3   47                 1                  0     1506        0        1     0   \n",
       "4   33                 1                  0        1        0        0     0   \n",
       "\n",
       "   duration  campaign  \n",
       "0       261         1  \n",
       "1       151         1  \n",
       "2        76         1  \n",
       "3        92         1  \n",
       "4       198         1  "
      ]
     },
     "execution_count": 58,
     "metadata": {},
     "output_type": "execute_result"
    }
   ],
   "source": [
    "X.head()"
   ]
  },
  {
   "cell_type": "code",
   "execution_count": 59,
   "id": "8a93a61d-68d6-494d-b84c-29902da5baf5",
   "metadata": {},
   "outputs": [],
   "source": [
    "#Splitting the data into Train and Test 7:3\n",
    "from sklearn.model_selection import train_test_split \n",
    "X_train, X_test, y_train, y_test = train_test_split(X, y, test_size = 0.3, random_state = 45)"
   ]
  },
  {
   "cell_type": "markdown",
   "id": "7965c6fc-5c4f-4a72-8bf4-386dfd5dc3ed",
   "metadata": {
    "tags": []
   },
   "source": [
    "### Logistic Regression"
   ]
  },
  {
   "cell_type": "code",
   "execution_count": 60,
   "id": "485c7316-0ef1-4ccd-b807-59b6baa23120",
   "metadata": {},
   "outputs": [
    {
     "data": {
      "text/plain": [
       "LogisticRegression(random_state=46)"
      ]
     },
     "execution_count": 60,
     "metadata": {},
     "output_type": "execute_result"
    }
   ],
   "source": [
    "from sklearn.linear_model import LogisticRegression\n",
    "model = LogisticRegression(random_state=46)\n",
    "model.fit(X_train, y_train)"
   ]
  },
  {
   "cell_type": "markdown",
   "id": "efdb5e97-159b-49e7-82a5-fee309f9aff7",
   "metadata": {},
   "source": [
    "### Prediction"
   ]
  },
  {
   "cell_type": "code",
   "execution_count": 61,
   "id": "a8396dc8-6bf1-4e88-bf0a-d0d6a7587a5f",
   "metadata": {},
   "outputs": [],
   "source": [
    "#test prediction\n",
    "y_pred = model.predict(X_test)"
   ]
  },
  {
   "cell_type": "code",
   "execution_count": 62,
   "id": "d8ef31cf-ec90-4bbc-b3f1-24d38d2685a1",
   "metadata": {},
   "outputs": [],
   "source": [
    "#train prediction\n",
    "y_pred_train = model.predict(X_train)"
   ]
  },
  {
   "cell_type": "markdown",
   "id": "e084db98-096d-4c33-b0de-0bcace180fe2",
   "metadata": {},
   "source": [
    "### Evaluation"
   ]
  },
  {
   "cell_type": "code",
   "execution_count": 63,
   "id": "f5d7ee9d-cac9-4f46-a2ca-bf80e3b92ede",
   "metadata": {},
   "outputs": [
    {
     "name": "stdout",
     "output_type": "stream",
     "text": [
      "eval test model\n",
      "Accuracy (Test Set): 0.83\n",
      "Precision (Test Set): 0.77\n",
      "Recall (Test Set): 0.70\n",
      "F1-Score (Test Set): 0.73\n",
      "AUC: 0.90\n",
      "eval train model\n",
      "Accuracy (Train Set): 0.83\n",
      "Precision (Train Set): 0.77\n",
      "Recall (Train Set): 0.69\n",
      "F1-Score (Train Set): 0.73\n",
      "AUC: 0.90\n"
     ]
    },
    {
     "data": {
      "image/png": "[encoded data removed]",
      "text/plain": [
       "<Figure size 432x288 with 1 Axes>"
      ]
     },
     "metadata": {
      "needs_background": "light"
     },
     "output_type": "display_data"
    }
   ],
   "source": [
    "eval_classification(model, X_train, y_train, X_test, y_test)"
   ]
  },
  {
   "cell_type": "markdown",
   "id": "447e67a4-c7c5-4e94-8610-9fcbe50f6e41",
   "metadata": {},
   "source": [
    "### Tuning Hyperparameter"
   ]
  },
  {
   "cell_type": "code",
   "execution_count": 64,
   "id": "7b00cee4-043c-4766-bdab-9a2efbfe117f",
   "metadata": {},
   "outputs": [
    {
     "name": "stdout",
     "output_type": "stream",
     "text": [
      "eval test model\n",
      "Accuracy (Test Set): 0.83\n",
      "Precision (Test Set): 0.78\n",
      "Recall (Test Set): 0.69\n",
      "F1-Score (Test Set): 0.73\n",
      "AUC: 0.91\n",
      "eval train model\n",
      "Accuracy (Train Set): 0.83\n",
      "Precision (Train Set): 0.78\n",
      "Recall (Train Set): 0.68\n",
      "F1-Score (Train Set): 0.72\n",
      "AUC: 0.90\n"
     ]
    },
    {
     "data": {
      "image/png": "[encoded data removed]",
      "text/plain": [
       "<Figure size 432x288 with 1 Axes>"
      ]
     },
     "metadata": {
      "needs_background": "light"
     },
     "output_type": "display_data"
    }
   ],
   "source": [
    "from sklearn.model_selection import RandomizedSearchCV\n",
    "#hyperparameter tuning using randomized search\n",
    "\n",
    "#penalty\n",
    "penalty = ['l2','l1','elasticnet']\n",
    "#C\n",
    "C = [float(x) for x in np.linspace(0, 20, num=100)]\n",
    "#max_iter\n",
    "max_iter = [int(x) for x in np.linspace(0, 250, num=100)]\n",
    "\n",
    "hyperparams = dict(penalty=penalty, C=C, max_iter=max_iter)\n",
    "\n",
    "lr = LogisticRegression(random_state=46)\n",
    "rs = RandomizedSearchCV(lr, hyperparams, cv=5, scoring='precision', random_state=46)\n",
    "rs.fit(X_train, y_train)\n",
    "eval_classification(rs, X_train, y_train, X_test, y_test)"
   ]
  },
  {
   "cell_type": "code",
   "execution_count": 65,
   "id": "49f77e6a-d2ff-44ec-b76a-985357745cd8",
   "metadata": {},
   "outputs": [
    {
     "name": "stdout",
     "output_type": "stream",
     "text": [
      "Train score: 0.7777556507019815\n",
      "Test score:0.7824074074074074\n"
     ]
    }
   ],
   "source": [
    "print('Train score: ' + str(rs.score(X_train, y_train)))\n",
    "print('Test score:' + str(rs.score(X_test, y_test)))"
   ]
  },
  {
   "cell_type": "code",
   "execution_count": 66,
   "id": "98f06c65-73c0-42e5-88ae-fba6122d518a",
   "metadata": {},
   "outputs": [
    {
     "data": {
      "text/plain": [
       "{'C': 10.303030303030303,\n",
       " 'class_weight': None,\n",
       " 'dual': False,\n",
       " 'fit_intercept': True,\n",
       " 'intercept_scaling': 1,\n",
       " 'l1_ratio': None,\n",
       " 'max_iter': 209,\n",
       " 'multi_class': 'auto',\n",
       " 'n_jobs': None,\n",
       " 'penalty': 'l2',\n",
       " 'random_state': 46,\n",
       " 'solver': 'lbfgs',\n",
       " 'tol': 0.0001,\n",
       " 'verbose': 0,\n",
       " 'warm_start': False}"
      ]
     },
     "execution_count": 66,
     "metadata": {},
     "output_type": "execute_result"
    }
   ],
   "source": [
    "rs.best_estimator_.get_params()"
   ]
  },
  {
   "cell_type": "code",
   "execution_count": 70,
   "id": "de04da78-653e-4899-bf62-832d2b817d96",
   "metadata": {},
   "outputs": [
    {
     "data": {
      "text/plain": [
       "209"
      ]
     },
     "execution_count": 70,
     "metadata": {},
     "output_type": "execute_result"
    }
   ],
   "source": [
    "c=rs.best_estimator_.get_params()['C']\n",
    "maxiter=rs.best_estimator_.get_params()['max_iter']\n",
    "maxiter"
   ]
  },
  {
   "cell_type": "code",
   "execution_count": 71,
   "id": "ab2b4f1f-a90f-4d23-88c4-00ab08c20720",
   "metadata": {},
   "outputs": [
    {
     "name": "stdout",
     "output_type": "stream",
     "text": [
      "eval test model\n",
      "Accuracy (Test Set): 0.83\n",
      "Precision (Test Set): 0.78\n",
      "Recall (Test Set): 0.69\n",
      "F1-Score (Test Set): 0.73\n",
      "AUC: 0.91\n",
      "eval train model\n",
      "Accuracy (Train Set): 0.83\n",
      "Precision (Train Set): 0.78\n",
      "Recall (Train Set): 0.68\n",
      "F1-Score (Train Set): 0.72\n",
      "AUC: 0.90\n"
     ]
    },
    {
     "data": {
      "image/png": "[encoded data removed]",
      "text/plain": [
       "<Figure size 432x288 with 1 Axes>"
      ]
     },
     "metadata": {
      "needs_background": "light"
     },
     "output_type": "display_data"
    }
   ],
   "source": [
    "lr = LogisticRegression(random_state=45, C=c, max_iter=maxiter)\n",
    "lr.fit(X_train, y_train)\n",
    "eval_classification(lr, X_train, y_train, X_test, y_test)"
   ]
  },
  {
   "cell_type": "code",
   "execution_count": 72,
   "id": "66b6961b-b186-46e8-8d3e-38f6add78a1c",
   "metadata": {},
   "outputs": [
    {
     "data": {
      "text/plain": [
       "['age',\n",
       " 'contact_cellular',\n",
       " 'contact_telephone',\n",
       " 'balance',\n",
       " 'default',\n",
       " 'housing',\n",
       " 'loan',\n",
       " 'duration',\n",
       " 'campaign']"
      ]
     },
     "execution_count": 72,
     "metadata": {},
     "output_type": "execute_result"
    }
   ],
   "source": [
    "list(X.columns)"
   ]
  },
  {
   "cell_type": "code",
   "execution_count": 73,
   "id": "feb97a9f-46e0-4f4a-9c82-42b58177951d",
   "metadata": {},
   "outputs": [
    {
     "data": {
      "text/plain": [
       "array([-1.44093147e-02, -1.26874508e+00, -1.55854049e+00,  6.62498460e-05,\n",
       "       -4.80558566e-01, -2.22846253e+00, -2.73058579e+00,  6.36119369e-03,\n",
       "       -3.32772672e-01])"
      ]
     },
     "execution_count": 73,
     "metadata": {},
     "output_type": "execute_result"
    }
   ],
   "source": [
    "w=lr.coef_[0]\n",
    "w"
   ]
  },
  {
   "cell_type": "code",
   "execution_count": 79,
   "id": "34807df9-1a4f-44d1-b71d-265815002dec",
   "metadata": {},
   "outputs": [],
   "source": [
    "feature_importance=pd.DataFrame(list(X.columns), columns=['feature'])\n",
    "feature_importance['weight_value']=w"
   ]
  },
  {
   "cell_type": "code",
   "execution_count": 80,
   "id": "8aba7fa9-58db-4866-880a-560002402740",
   "metadata": {},
   "outputs": [
    {
     "data": {
      "text/html": [
       "<div>\n",
       "<style scoped>\n",
       "    .dataframe tbody tr th:only-of-type {\n",
       "        vertical-align: middle;\n",
       "    }\n",
       "\n",
       "    .dataframe tbody tr th {\n",
       "        vertical-align: top;\n",
       "    }\n",
       "\n",
       "    .dataframe thead th {\n",
       "        text-align: right;\n",
       "    }\n",
       "</style>\n",
       "<table border=\"1\" class=\"dataframe\">\n",
       "  <thead>\n",
       "    <tr style=\"text-align: right;\">\n",
       "      <th></th>\n",
       "      <th>feature</th>\n",
       "      <th>weight_value</th>\n",
       "    </tr>\n",
       "  </thead>\n",
       "  <tbody>\n",
       "    <tr>\n",
       "      <th>0</th>\n",
       "      <td>age</td>\n",
       "      <td>-0.014409</td>\n",
       "    </tr>\n",
       "    <tr>\n",
       "      <th>1</th>\n",
       "      <td>contact_cellular</td>\n",
       "      <td>-1.268745</td>\n",
       "    </tr>\n",
       "    <tr>\n",
       "      <th>2</th>\n",
       "      <td>contact_telephone</td>\n",
       "      <td>-1.558540</td>\n",
       "    </tr>\n",
       "    <tr>\n",
       "      <th>3</th>\n",
       "      <td>balance</td>\n",
       "      <td>0.000066</td>\n",
       "    </tr>\n",
       "    <tr>\n",
       "      <th>4</th>\n",
       "      <td>default</td>\n",
       "      <td>-0.480559</td>\n",
       "    </tr>\n",
       "    <tr>\n",
       "      <th>5</th>\n",
       "      <td>housing</td>\n",
       "      <td>-2.228463</td>\n",
       "    </tr>\n",
       "    <tr>\n",
       "      <th>6</th>\n",
       "      <td>loan</td>\n",
       "      <td>-2.730586</td>\n",
       "    </tr>\n",
       "    <tr>\n",
       "      <th>7</th>\n",
       "      <td>duration</td>\n",
       "      <td>0.006361</td>\n",
       "    </tr>\n",
       "    <tr>\n",
       "      <th>8</th>\n",
       "      <td>campaign</td>\n",
       "      <td>-0.332773</td>\n",
       "    </tr>\n",
       "  </tbody>\n",
       "</table>\n",
       "</div>"
      ],
      "text/plain": [
       "             feature  weight_value\n",
       "0                age     -0.014409\n",
       "1   contact_cellular     -1.268745\n",
       "2  contact_telephone     -1.558540\n",
       "3            balance      0.000066\n",
       "4            default     -0.480559\n",
       "5            housing     -2.228463\n",
       "6               loan     -2.730586\n",
       "7           duration      0.006361\n",
       "8           campaign     -0.332773"
      ]
     },
     "execution_count": 80,
     "metadata": {},
     "output_type": "execute_result"
    }
   ],
   "source": [
    "feature_importance"
   ]
  },
  {
   "cell_type": "code",
   "execution_count": 81,
   "id": "86b73126-dc2e-4086-85ca-eac50c43a08c",
   "metadata": {},
   "outputs": [
    {
     "data": {
      "image/png": "[encoded data removed]",
      "text/plain": [
       "<Figure size 576x432 with 1 Axes>"
      ]
     },
     "metadata": {
      "needs_background": "light"
     },
     "output_type": "display_data"
    }
   ],
   "source": [
    "#feature_importance= feature_importance.sort_values(by = ['change_to_pred_value'], ascending=False)\n",
    "#plot feature importance\n",
    "fig, axes=plt.subplots(figsize=(8,6))\n",
    "\n",
    "sns.barplot(x='weight_value', y='feature', data=feature_importance, ax=axes, color='blue')\n",
    "\n",
    "axes.set_xlabel('Weight Value')\n",
    "axes.set_ylabel('Feature')\n",
    "axes.set_title('feature importances')\n",
    "#axes.set_xlim(-7, 7)\n",
    "plt.show()"
   ]
  },
  {
   "cell_type": "code",
   "execution_count": 82,
   "id": "ab3102a8-c165-45f8-8b2b-439e46e096ff",
   "metadata": {},
   "outputs": [],
   "source": [
    "feature_importance=pd.DataFrame(list(X.columns), columns=['feature'])\n",
    "feature_importance['change_to_pred_value']=pow(math.e, w)"
   ]
  },
  {
   "cell_type": "code",
   "execution_count": 83,
   "id": "3b95e108-1752-416b-b46a-377f39aa1339",
   "metadata": {},
   "outputs": [
    {
     "data": {
      "image/png": "[encoded data removed]",
      "text/plain": [
       "<Figure size 576x432 with 1 Axes>"
      ]
     },
     "metadata": {
      "needs_background": "light"
     },
     "output_type": "display_data"
    }
   ],
   "source": [
    "feature_importance= feature_importance.sort_values(by = ['change_to_pred_value'], ascending=False)\n",
    "#plot feature importance\n",
    "fig, axes=plt.subplots(figsize=(8,6))\n",
    "\n",
    "sns.barplot(x='change_to_pred_value', y='feature', data=feature_importance, ax=axes, color='blue')\n",
    "\n",
    "axes.set_xlabel('change_to_pred_value')\n",
    "axes.set_ylabel('Feature')\n",
    "axes.set_title('feature importances')\n",
    "#axes.set_xlim(-7, 7)\n",
    "plt.show()"
   ]
  },
  {
   "cell_type": "code",
   "execution_count": 172,
   "id": "dce5d7b3-65d3-4cb1-ad34-98c0add91af5",
   "metadata": {},
   "outputs": [
    {
     "data": {
      "image/png": "[encoded data removed]",
      "text/plain": [
       "<Figure size 576x432 with 1 Axes>"
      ]
     },
     "metadata": {
      "needs_background": "light"
     },
     "output_type": "display_data"
    }
   ],
   "source": [
    "feature_importance= feature_importance.sort_values(by = ['change_to_pred_value'], ascending=False)\n",
    "#plot feature importance\n",
    "fig, axes=plt.subplots(figsize=(8,6))\n",
    "\n",
    "sns.barplot(x='change_to_pred_value', y='feature', data=feature_importance, ax=axes, color='blue')\n",
    "\n",
    "axes.set_xlabel('Change to Prediction Value')\n",
    "axes.set_ylabel('Feature')\n",
    "axes.set_title('feature importances')\n",
    "\n",
    "plt.show()"
   ]
  },
  {
   "cell_type": "markdown",
   "id": "3d93d9da-2cde-413f-b49a-1362fb166786",
   "metadata": {},
   "source": [
    "## Percobaan 3"
   ]
  },
  {
   "cell_type": "markdown",
   "id": "c83517b8-dfd2-41f6-a1c6-4dd637c47e0e",
   "metadata": {},
   "source": [
    "*Kombinasi Column: age, contact_cellular, contact_telephone, balance, default, housing, loan, duration, campaign marital_divorced marital_married marital_single*"
   ]
  },
  {
   "cell_type": "markdown",
   "id": "6550d693-a4c0-4340-8576-e1975dc12341",
   "metadata": {},
   "source": [
    "### Split Feature and Target"
   ]
  },
  {
   "cell_type": "code",
   "execution_count": 84,
   "id": "3eb31296-179d-44d8-8847-063cab5632aa",
   "metadata": {},
   "outputs": [
    {
     "name": "stdout",
     "output_type": "stream",
     "text": [
      "<class 'pandas.core.frame.DataFrame'>\n",
      "RangeIndex: 49441 entries, 0 to 49440\n",
      "Data columns (total 53 columns):\n",
      " #   Column               Non-Null Count  Dtype  \n",
      "---  ------               --------------  -----  \n",
      " 0   age                  49441 non-null  int64  \n",
      " 1   default              49441 non-null  int64  \n",
      " 2   balance              49441 non-null  int64  \n",
      " 3   housing              49441 non-null  int64  \n",
      " 4   loan                 49441 non-null  int64  \n",
      " 5   day                  49441 non-null  int64  \n",
      " 6   duration             49441 non-null  int64  \n",
      " 7   campaign             49441 non-null  int64  \n",
      " 8   pdays                49441 non-null  int64  \n",
      " 9   previous             49441 non-null  int64  \n",
      " 10  age_norm             49441 non-null  float64\n",
      " 11  balance_std          49441 non-null  float64\n",
      " 12  day_norm             49441 non-null  float64\n",
      " 13  duration_std         49441 non-null  float64\n",
      " 14  campaign_std         49441 non-null  float64\n",
      " 15  pdays_std            49441 non-null  float64\n",
      " 16  previous_std         49441 non-null  float64\n",
      " 17  job_admin.           49441 non-null  uint8  \n",
      " 18  job_blue-collar      49441 non-null  uint8  \n",
      " 19  job_entrepreneur     49441 non-null  uint8  \n",
      " 20  job_housemaid        49441 non-null  uint8  \n",
      " 21  job_management       49441 non-null  uint8  \n",
      " 22  job_retired          49441 non-null  uint8  \n",
      " 23  job_self-employed    49441 non-null  uint8  \n",
      " 24  job_services         49441 non-null  uint8  \n",
      " 25  job_student          49441 non-null  uint8  \n",
      " 26  job_technician       49441 non-null  uint8  \n",
      " 27  job_unemployed       49441 non-null  uint8  \n",
      " 28  marital_divorced     49441 non-null  uint8  \n",
      " 29  marital_married      49441 non-null  uint8  \n",
      " 30  marital_single       49441 non-null  uint8  \n",
      " 31  education_primary    49441 non-null  uint8  \n",
      " 32  education_secondary  49441 non-null  uint8  \n",
      " 33  education_tertiary   49441 non-null  uint8  \n",
      " 34  contact_cellular     49441 non-null  uint8  \n",
      " 35  contact_telephone    49441 non-null  uint8  \n",
      " 36  month_apr            49441 non-null  uint8  \n",
      " 37  month_aug            49441 non-null  uint8  \n",
      " 38  month_dec            49441 non-null  uint8  \n",
      " 39  month_feb            49441 non-null  uint8  \n",
      " 40  month_jan            49441 non-null  uint8  \n",
      " 41  month_jul            49441 non-null  uint8  \n",
      " 42  month_jun            49441 non-null  uint8  \n",
      " 43  month_mar            49441 non-null  uint8  \n",
      " 44  month_may            49441 non-null  uint8  \n",
      " 45  month_nov            49441 non-null  uint8  \n",
      " 46  month_oct            49441 non-null  uint8  \n",
      " 47  month_sep            49441 non-null  uint8  \n",
      " 48  poutcome_failure     49441 non-null  uint8  \n",
      " 49  poutcome_other       49441 non-null  uint8  \n",
      " 50  poutcome_success     49441 non-null  uint8  \n",
      " 51  poutcome_unknown     49441 non-null  uint8  \n",
      " 52  y                    49441 non-null  int64  \n",
      "dtypes: float64(7), int64(11), uint8(35)\n",
      "memory usage: 8.4 MB\n"
     ]
    }
   ],
   "source": [
    "df_after_preprocessed.info()"
   ]
  },
  {
   "cell_type": "code",
   "execution_count": 85,
   "id": "535f491c-ee8d-4151-9a3c-d1bea7e0d16a",
   "metadata": {},
   "outputs": [],
   "source": [
    "#feature\n",
    "X=df_after_preprocessed['age_norm marital_divorced marital_married marital_single contact_cellular contact_telephone balance_std default housing loan duration_std campaign_std'.split()]\n",
    "#target\n",
    "y=df_after_preprocessed['y']"
   ]
  },
  {
   "cell_type": "code",
   "execution_count": 86,
   "id": "8b8d2f11-f1f9-4035-b493-c05207ee1b12",
   "metadata": {},
   "outputs": [
    {
     "data": {
      "text/html": [
       "<div>\n",
       "<style scoped>\n",
       "    .dataframe tbody tr th:only-of-type {\n",
       "        vertical-align: middle;\n",
       "    }\n",
       "\n",
       "    .dataframe tbody tr th {\n",
       "        vertical-align: top;\n",
       "    }\n",
       "\n",
       "    .dataframe thead th {\n",
       "        text-align: right;\n",
       "    }\n",
       "</style>\n",
       "<table border=\"1\" class=\"dataframe\">\n",
       "  <thead>\n",
       "    <tr style=\"text-align: right;\">\n",
       "      <th></th>\n",
       "      <th>age_norm</th>\n",
       "      <th>marital_divorced</th>\n",
       "      <th>marital_married</th>\n",
       "      <th>marital_single</th>\n",
       "      <th>contact_cellular</th>\n",
       "      <th>contact_telephone</th>\n",
       "      <th>balance_std</th>\n",
       "      <th>default</th>\n",
       "      <th>housing</th>\n",
       "      <th>loan</th>\n",
       "      <th>duration_std</th>\n",
       "      <th>campaign_std</th>\n",
       "    </tr>\n",
       "  </thead>\n",
       "  <tbody>\n",
       "    <tr>\n",
       "      <th>0</th>\n",
       "      <td>0.740741</td>\n",
       "      <td>0</td>\n",
       "      <td>1</td>\n",
       "      <td>0</td>\n",
       "      <td>1</td>\n",
       "      <td>0</td>\n",
       "      <td>0.598899</td>\n",
       "      <td>0</td>\n",
       "      <td>1</td>\n",
       "      <td>0</td>\n",
       "      <td>0.127825</td>\n",
       "      <td>-0.7579</td>\n",
       "    </tr>\n",
       "    <tr>\n",
       "      <th>1</th>\n",
       "      <td>0.481481</td>\n",
       "      <td>0</td>\n",
       "      <td>0</td>\n",
       "      <td>1</td>\n",
       "      <td>1</td>\n",
       "      <td>0</td>\n",
       "      <td>-0.644742</td>\n",
       "      <td>0</td>\n",
       "      <td>1</td>\n",
       "      <td>0</td>\n",
       "      <td>-0.443222</td>\n",
       "      <td>-0.7579</td>\n",
       "    </tr>\n",
       "    <tr>\n",
       "      <th>2</th>\n",
       "      <td>0.277778</td>\n",
       "      <td>0</td>\n",
       "      <td>1</td>\n",
       "      <td>0</td>\n",
       "      <td>1</td>\n",
       "      <td>0</td>\n",
       "      <td>-0.660626</td>\n",
       "      <td>0</td>\n",
       "      <td>1</td>\n",
       "      <td>1</td>\n",
       "      <td>-0.832573</td>\n",
       "      <td>-0.7579</td>\n",
       "    </tr>\n",
       "    <tr>\n",
       "      <th>3</th>\n",
       "      <td>0.537037</td>\n",
       "      <td>0</td>\n",
       "      <td>1</td>\n",
       "      <td>0</td>\n",
       "      <td>1</td>\n",
       "      <td>0</td>\n",
       "      <td>0.224159</td>\n",
       "      <td>0</td>\n",
       "      <td>1</td>\n",
       "      <td>0</td>\n",
       "      <td>-0.749511</td>\n",
       "      <td>-0.7579</td>\n",
       "    </tr>\n",
       "    <tr>\n",
       "      <th>4</th>\n",
       "      <td>0.277778</td>\n",
       "      <td>0</td>\n",
       "      <td>0</td>\n",
       "      <td>1</td>\n",
       "      <td>1</td>\n",
       "      <td>0</td>\n",
       "      <td>-0.661214</td>\n",
       "      <td>0</td>\n",
       "      <td>0</td>\n",
       "      <td>0</td>\n",
       "      <td>-0.199229</td>\n",
       "      <td>-0.7579</td>\n",
       "    </tr>\n",
       "  </tbody>\n",
       "</table>\n",
       "</div>"
      ],
      "text/plain": [
       "   age_norm  marital_divorced  marital_married  marital_single  \\\n",
       "0  0.740741                 0                1               0   \n",
       "1  0.481481                 0                0               1   \n",
       "2  0.277778                 0                1               0   \n",
       "3  0.537037                 0                1               0   \n",
       "4  0.277778                 0                0               1   \n",
       "\n",
       "   contact_cellular  contact_telephone  balance_std  default  housing  loan  \\\n",
       "0                 1                  0     0.598899        0        1     0   \n",
       "1                 1                  0    -0.644742        0        1     0   \n",
       "2                 1                  0    -0.660626        0        1     1   \n",
       "3                 1                  0     0.224159        0        1     0   \n",
       "4                 1                  0    -0.661214        0        0     0   \n",
       "\n",
       "   duration_std  campaign_std  \n",
       "0      0.127825       -0.7579  \n",
       "1     -0.443222       -0.7579  \n",
       "2     -0.832573       -0.7579  \n",
       "3     -0.749511       -0.7579  \n",
       "4     -0.199229       -0.7579  "
      ]
     },
     "execution_count": 86,
     "metadata": {},
     "output_type": "execute_result"
    }
   ],
   "source": [
    "X.head()"
   ]
  },
  {
   "cell_type": "code",
   "execution_count": 87,
   "id": "59baf486-e0b8-49b8-b332-aa70b8e05a55",
   "metadata": {},
   "outputs": [],
   "source": [
    "#Splitting the data into Train and Test 7:3\n",
    "from sklearn.model_selection import train_test_split \n",
    "X_train, X_test, y_train, y_test = train_test_split(X, y, test_size = 0.3, random_state = 45)"
   ]
  },
  {
   "cell_type": "markdown",
   "id": "25265566-0cb8-4a8a-a3eb-06a8eca50f48",
   "metadata": {
    "tags": []
   },
   "source": [
    "### Logistic Regression"
   ]
  },
  {
   "cell_type": "code",
   "execution_count": 88,
   "id": "eb5a6904-f772-47e3-9eca-0c51a2bf3d4a",
   "metadata": {},
   "outputs": [
    {
     "data": {
      "text/plain": [
       "LogisticRegression(random_state=46)"
      ]
     },
     "execution_count": 88,
     "metadata": {},
     "output_type": "execute_result"
    }
   ],
   "source": [
    "from sklearn.linear_model import LogisticRegression\n",
    "model = LogisticRegression(random_state=46)\n",
    "model.fit(X_train, y_train)"
   ]
  },
  {
   "cell_type": "markdown",
   "id": "07e25680-95c1-491d-a694-3f33d2443fb0",
   "metadata": {},
   "source": [
    "### Prediction"
   ]
  },
  {
   "cell_type": "code",
   "execution_count": 89,
   "id": "b516da1e-a18b-4336-9bce-aefd7736a97a",
   "metadata": {},
   "outputs": [],
   "source": [
    "#test prediction\n",
    "y_pred = model.predict(X_test)"
   ]
  },
  {
   "cell_type": "code",
   "execution_count": 90,
   "id": "2ddb062f-ca98-438c-b16b-4594d28076b4",
   "metadata": {},
   "outputs": [],
   "source": [
    "#train prediction\n",
    "y_pred_train = model.predict(X_train)"
   ]
  },
  {
   "cell_type": "markdown",
   "id": "4dcdeb83-a63e-41b6-ac51-61e56ef03384",
   "metadata": {},
   "source": [
    "### Evaluation"
   ]
  },
  {
   "cell_type": "code",
   "execution_count": 91,
   "id": "383703e5-9d06-4990-b564-51abaa59e746",
   "metadata": {},
   "outputs": [
    {
     "name": "stdout",
     "output_type": "stream",
     "text": [
      "eval test model\n",
      "Accuracy (Test Set): 0.87\n",
      "Precision (Test Set): 0.88\n",
      "Recall (Test Set): 0.71\n",
      "F1-Score (Test Set): 0.79\n",
      "AUC: 0.94\n",
      "eval train model\n",
      "Accuracy (Train Set): 0.87\n",
      "Precision (Train Set): 0.87\n",
      "Recall (Train Set): 0.71\n",
      "F1-Score (Train Set): 0.78\n",
      "AUC: 0.94\n"
     ]
    },
    {
     "data": {
      "image/png": "[encoded data removed]",
      "text/plain": [
       "<Figure size 432x288 with 1 Axes>"
      ]
     },
     "metadata": {
      "needs_background": "light"
     },
     "output_type": "display_data"
    }
   ],
   "source": [
    "eval_classification(model, X_train, y_train, X_test, y_test)"
   ]
  },
  {
   "cell_type": "markdown",
   "id": "fc4e7137-111b-4626-9844-0a31368adf1e",
   "metadata": {},
   "source": [
    "### Tuning Hyperparameter"
   ]
  },
  {
   "cell_type": "code",
   "execution_count": 92,
   "id": "60f8b87f-e219-465b-8ea1-222edd314e44",
   "metadata": {},
   "outputs": [
    {
     "name": "stdout",
     "output_type": "stream",
     "text": [
      "eval test model\n",
      "Accuracy (Test Set): 0.87\n",
      "Precision (Test Set): 0.88\n",
      "Recall (Test Set): 0.71\n",
      "F1-Score (Test Set): 0.79\n",
      "AUC: 0.94\n",
      "eval train model\n",
      "Accuracy (Train Set): 0.87\n",
      "Precision (Train Set): 0.87\n",
      "Recall (Train Set): 0.71\n",
      "F1-Score (Train Set): 0.78\n",
      "AUC: 0.94\n"
     ]
    },
    {
     "data": {
      "image/png": "[encoded data removed]",
      "text/plain": [
       "<Figure size 432x288 with 1 Axes>"
      ]
     },
     "metadata": {
      "needs_background": "light"
     },
     "output_type": "display_data"
    }
   ],
   "source": [
    "from sklearn.model_selection import RandomizedSearchCV\n",
    "#hyperparameter tuning using randomized search\n",
    "\n",
    "#penalty\n",
    "penalty = ['l2','l1','elasticnet']\n",
    "#C\n",
    "C = [float(x) for x in np.linspace(0, 20, num=100)]\n",
    "#max_iter\n",
    "max_iter = [int(x) for x in np.linspace(0, 250, num=100)]\n",
    "\n",
    "hyperparams = dict(penalty=penalty, C=C, max_iter=max_iter)\n",
    "\n",
    "lr = LogisticRegression(random_state=46)\n",
    "rs = RandomizedSearchCV(lr, hyperparams, cv=5, scoring='precision', random_state=46)\n",
    "rs.fit(X_train, y_train)\n",
    "eval_classification(rs, X_train, y_train, X_test, y_test)"
   ]
  },
  {
   "cell_type": "code",
   "execution_count": 93,
   "id": "cf78d8f1-fc6f-4c34-bd44-d6d030836f88",
   "metadata": {},
   "outputs": [
    {
     "name": "stdout",
     "output_type": "stream",
     "text": [
      "Train score: 0.8721700128150363\n",
      "Test score:0.8765957446808511\n"
     ]
    }
   ],
   "source": [
    "print('Train score: ' + str(rs.score(X_train, y_train)))\n",
    "print('Test score:' + str(rs.score(X_test, y_test)))"
   ]
  },
  {
   "cell_type": "code",
   "execution_count": 94,
   "id": "eb2174d3-f19b-47d2-aaae-e99af691a617",
   "metadata": {},
   "outputs": [
    {
     "data": {
      "text/plain": [
       "{'C': 10.303030303030303,\n",
       " 'class_weight': None,\n",
       " 'dual': False,\n",
       " 'fit_intercept': True,\n",
       " 'intercept_scaling': 1,\n",
       " 'l1_ratio': None,\n",
       " 'max_iter': 209,\n",
       " 'multi_class': 'auto',\n",
       " 'n_jobs': None,\n",
       " 'penalty': 'l2',\n",
       " 'random_state': 46,\n",
       " 'solver': 'lbfgs',\n",
       " 'tol': 0.0001,\n",
       " 'verbose': 0,\n",
       " 'warm_start': False}"
      ]
     },
     "execution_count": 94,
     "metadata": {},
     "output_type": "execute_result"
    }
   ],
   "source": [
    "rs.best_estimator_.get_params()"
   ]
  },
  {
   "cell_type": "code",
   "execution_count": 95,
   "id": "128fe65c-de79-466f-a884-d2f6d27b28c0",
   "metadata": {},
   "outputs": [
    {
     "data": {
      "text/plain": [
       "209"
      ]
     },
     "execution_count": 95,
     "metadata": {},
     "output_type": "execute_result"
    }
   ],
   "source": [
    "c=rs.best_estimator_.get_params()['C']\n",
    "maxiter=rs.best_estimator_.get_params()['max_iter']\n",
    "maxiter"
   ]
  },
  {
   "cell_type": "code",
   "execution_count": 96,
   "id": "f56a99d2-2932-4945-9025-5f6e29958315",
   "metadata": {},
   "outputs": [
    {
     "name": "stdout",
     "output_type": "stream",
     "text": [
      "eval test model\n",
      "Accuracy (Test Set): 0.87\n",
      "Precision (Test Set): 0.88\n",
      "Recall (Test Set): 0.71\n",
      "F1-Score (Test Set): 0.79\n",
      "AUC: 0.94\n",
      "eval train model\n",
      "Accuracy (Train Set): 0.87\n",
      "Precision (Train Set): 0.87\n",
      "Recall (Train Set): 0.71\n",
      "F1-Score (Train Set): 0.78\n",
      "AUC: 0.94\n"
     ]
    },
    {
     "data": {
      "image/png": "[encoded data removed]",
      "text/plain": [
       "<Figure size 432x288 with 1 Axes>"
      ]
     },
     "metadata": {
      "needs_background": "light"
     },
     "output_type": "display_data"
    }
   ],
   "source": [
    "lr = LogisticRegression(random_state=45, C=c, max_iter=maxiter)\n",
    "lr.fit(X_train, y_train)\n",
    "eval_classification(lr, X_train, y_train, X_test, y_test)"
   ]
  },
  {
   "cell_type": "code",
   "execution_count": 97,
   "id": "82f32e20-9ed1-4be5-9035-ff8c44b13983",
   "metadata": {},
   "outputs": [
    {
     "data": {
      "text/plain": [
       "['age_norm',\n",
       " 'marital_divorced',\n",
       " 'marital_married',\n",
       " 'marital_single',\n",
       " 'contact_cellular',\n",
       " 'contact_telephone',\n",
       " 'balance_std',\n",
       " 'default',\n",
       " 'housing',\n",
       " 'loan',\n",
       " 'duration_std',\n",
       " 'campaign_std']"
      ]
     },
     "execution_count": 97,
     "metadata": {},
     "output_type": "execute_result"
    }
   ],
   "source": [
    "list(X.columns)"
   ]
  },
  {
   "cell_type": "code",
   "execution_count": 98,
   "id": "be93d44f-b9bf-45c4-bc15-a212fc4a6f01",
   "metadata": {},
   "outputs": [
    {
     "data": {
      "text/plain": [
       "array([-0.49881283, -8.68266643, -8.28512476, -7.92481921, -6.58276312,\n",
       "       -7.153078  ,  0.08573473, -0.81237607, -1.98908942, -1.52965042,\n",
       "        1.07849285, -0.39582438])"
      ]
     },
     "execution_count": 98,
     "metadata": {},
     "output_type": "execute_result"
    }
   ],
   "source": [
    "w=lr.coef_[0]\n",
    "w"
   ]
  },
  {
   "cell_type": "code",
   "execution_count": 99,
   "id": "418f1a7b-1b9a-4420-9202-88878d684dc4",
   "metadata": {},
   "outputs": [],
   "source": [
    "feature_importance=pd.DataFrame(list(X.columns), columns=['feature'])\n",
    "feature_importance['weight_value']=w"
   ]
  },
  {
   "cell_type": "code",
   "execution_count": 100,
   "id": "6aefb1ee-6670-45e0-a222-36f5115782b8",
   "metadata": {},
   "outputs": [
    {
     "data": {
      "text/html": [
       "<div>\n",
       "<style scoped>\n",
       "    .dataframe tbody tr th:only-of-type {\n",
       "        vertical-align: middle;\n",
       "    }\n",
       "\n",
       "    .dataframe tbody tr th {\n",
       "        vertical-align: top;\n",
       "    }\n",
       "\n",
       "    .dataframe thead th {\n",
       "        text-align: right;\n",
       "    }\n",
       "</style>\n",
       "<table border=\"1\" class=\"dataframe\">\n",
       "  <thead>\n",
       "    <tr style=\"text-align: right;\">\n",
       "      <th></th>\n",
       "      <th>feature</th>\n",
       "      <th>weight_value</th>\n",
       "    </tr>\n",
       "  </thead>\n",
       "  <tbody>\n",
       "    <tr>\n",
       "      <th>0</th>\n",
       "      <td>age_norm</td>\n",
       "      <td>-0.498813</td>\n",
       "    </tr>\n",
       "    <tr>\n",
       "      <th>1</th>\n",
       "      <td>marital_divorced</td>\n",
       "      <td>-8.682666</td>\n",
       "    </tr>\n",
       "    <tr>\n",
       "      <th>2</th>\n",
       "      <td>marital_married</td>\n",
       "      <td>-8.285125</td>\n",
       "    </tr>\n",
       "    <tr>\n",
       "      <th>3</th>\n",
       "      <td>marital_single</td>\n",
       "      <td>-7.924819</td>\n",
       "    </tr>\n",
       "    <tr>\n",
       "      <th>4</th>\n",
       "      <td>contact_cellular</td>\n",
       "      <td>-6.582763</td>\n",
       "    </tr>\n",
       "    <tr>\n",
       "      <th>5</th>\n",
       "      <td>contact_telephone</td>\n",
       "      <td>-7.153078</td>\n",
       "    </tr>\n",
       "    <tr>\n",
       "      <th>6</th>\n",
       "      <td>balance_std</td>\n",
       "      <td>0.085735</td>\n",
       "    </tr>\n",
       "    <tr>\n",
       "      <th>7</th>\n",
       "      <td>default</td>\n",
       "      <td>-0.812376</td>\n",
       "    </tr>\n",
       "    <tr>\n",
       "      <th>8</th>\n",
       "      <td>housing</td>\n",
       "      <td>-1.989089</td>\n",
       "    </tr>\n",
       "    <tr>\n",
       "      <th>9</th>\n",
       "      <td>loan</td>\n",
       "      <td>-1.529650</td>\n",
       "    </tr>\n",
       "    <tr>\n",
       "      <th>10</th>\n",
       "      <td>duration_std</td>\n",
       "      <td>1.078493</td>\n",
       "    </tr>\n",
       "    <tr>\n",
       "      <th>11</th>\n",
       "      <td>campaign_std</td>\n",
       "      <td>-0.395824</td>\n",
       "    </tr>\n",
       "  </tbody>\n",
       "</table>\n",
       "</div>"
      ],
      "text/plain": [
       "              feature  weight_value\n",
       "0            age_norm     -0.498813\n",
       "1    marital_divorced     -8.682666\n",
       "2     marital_married     -8.285125\n",
       "3      marital_single     -7.924819\n",
       "4    contact_cellular     -6.582763\n",
       "5   contact_telephone     -7.153078\n",
       "6         balance_std      0.085735\n",
       "7             default     -0.812376\n",
       "8             housing     -1.989089\n",
       "9                loan     -1.529650\n",
       "10       duration_std      1.078493\n",
       "11       campaign_std     -0.395824"
      ]
     },
     "execution_count": 100,
     "metadata": {},
     "output_type": "execute_result"
    }
   ],
   "source": [
    "feature_importance"
   ]
  },
  {
   "cell_type": "code",
   "execution_count": 101,
   "id": "8d69473f-7444-4c18-8b2f-b461c4f3d5d5",
   "metadata": {},
   "outputs": [
    {
     "data": {
      "image/png": "[encoded data removed]",
      "text/plain": [
       "<Figure size 576x432 with 1 Axes>"
      ]
     },
     "metadata": {
      "needs_background": "light"
     },
     "output_type": "display_data"
    }
   ],
   "source": [
    "#feature_importance= feature_importance.sort_values(by = ['change_to_pred_value'], ascending=False)\n",
    "#plot feature importance\n",
    "fig, axes=plt.subplots(figsize=(8,6))\n",
    "\n",
    "sns.barplot(x='weight_value', y='feature', data=feature_importance, ax=axes, color='blue')\n",
    "\n",
    "axes.set_xlabel('Weight Value')\n",
    "axes.set_ylabel('Feature')\n",
    "axes.set_title('feature importances')\n",
    "#axes.set_xlim(-7, 7)\n",
    "plt.show()"
   ]
  },
  {
   "cell_type": "code",
   "execution_count": 102,
   "id": "59e7afdd-eaae-408b-8c98-8a89a7893d77",
   "metadata": {},
   "outputs": [],
   "source": [
    "feature_importance=pd.DataFrame(list(X.columns), columns=['feature'])\n",
    "feature_importance['change_to_pred_value']=pow(math.e, w)"
   ]
  },
  {
   "cell_type": "code",
   "execution_count": 103,
   "id": "bd2a4194-8f5e-440e-a45e-98db85bbc1fd",
   "metadata": {},
   "outputs": [
    {
     "data": {
      "image/png": "[encoded data removed]",
      "text/plain": [
       "<Figure size 576x432 with 1 Axes>"
      ]
     },
     "metadata": {
      "needs_background": "light"
     },
     "output_type": "display_data"
    }
   ],
   "source": [
    "feature_importance= feature_importance.sort_values(by = ['change_to_pred_value'], ascending=False)\n",
    "#plot feature importance\n",
    "fig, axes=plt.subplots(figsize=(8,6))\n",
    "\n",
    "sns.barplot(x='change_to_pred_value', y='feature', data=feature_importance, ax=axes, color='blue')\n",
    "\n",
    "axes.set_xlabel('change_to_pred_value')\n",
    "axes.set_ylabel('Feature')\n",
    "axes.set_title('feature importances')\n",
    "#axes.set_xlim(-7, 7)\n",
    "plt.show()"
   ]
  },
  {
   "cell_type": "markdown",
   "id": "486d86a4-b877-4132-8b00-0a85dea99a9c",
   "metadata": {},
   "source": [
    "## Percobaan 4"
   ]
  },
  {
   "cell_type": "markdown",
   "id": "b9c86ea1-3f4a-46e8-90b9-51fbf4bf3910",
   "metadata": {},
   "source": [
    "*Kombinasi Column: age, balance, default, housing, loan, duration, campaign*"
   ]
  },
  {
   "cell_type": "markdown",
   "id": "4af82df7-5efe-44dc-89eb-354fa9629998",
   "metadata": {},
   "source": [
    "### Split Feature and Target"
   ]
  },
  {
   "cell_type": "code",
   "execution_count": 104,
   "id": "bd5e1df7-348f-4b3c-a68d-bd7eb1a6e588",
   "metadata": {},
   "outputs": [
    {
     "name": "stdout",
     "output_type": "stream",
     "text": [
      "<class 'pandas.core.frame.DataFrame'>\n",
      "RangeIndex: 49441 entries, 0 to 49440\n",
      "Data columns (total 53 columns):\n",
      " #   Column               Non-Null Count  Dtype  \n",
      "---  ------               --------------  -----  \n",
      " 0   age                  49441 non-null  int64  \n",
      " 1   default              49441 non-null  int64  \n",
      " 2   balance              49441 non-null  int64  \n",
      " 3   housing              49441 non-null  int64  \n",
      " 4   loan                 49441 non-null  int64  \n",
      " 5   day                  49441 non-null  int64  \n",
      " 6   duration             49441 non-null  int64  \n",
      " 7   campaign             49441 non-null  int64  \n",
      " 8   pdays                49441 non-null  int64  \n",
      " 9   previous             49441 non-null  int64  \n",
      " 10  age_norm             49441 non-null  float64\n",
      " 11  balance_std          49441 non-null  float64\n",
      " 12  day_norm             49441 non-null  float64\n",
      " 13  duration_std         49441 non-null  float64\n",
      " 14  campaign_std         49441 non-null  float64\n",
      " 15  pdays_std            49441 non-null  float64\n",
      " 16  previous_std         49441 non-null  float64\n",
      " 17  job_admin.           49441 non-null  uint8  \n",
      " 18  job_blue-collar      49441 non-null  uint8  \n",
      " 19  job_entrepreneur     49441 non-null  uint8  \n",
      " 20  job_housemaid        49441 non-null  uint8  \n",
      " 21  job_management       49441 non-null  uint8  \n",
      " 22  job_retired          49441 non-null  uint8  \n",
      " 23  job_self-employed    49441 non-null  uint8  \n",
      " 24  job_services         49441 non-null  uint8  \n",
      " 25  job_student          49441 non-null  uint8  \n",
      " 26  job_technician       49441 non-null  uint8  \n",
      " 27  job_unemployed       49441 non-null  uint8  \n",
      " 28  marital_divorced     49441 non-null  uint8  \n",
      " 29  marital_married      49441 non-null  uint8  \n",
      " 30  marital_single       49441 non-null  uint8  \n",
      " 31  education_primary    49441 non-null  uint8  \n",
      " 32  education_secondary  49441 non-null  uint8  \n",
      " 33  education_tertiary   49441 non-null  uint8  \n",
      " 34  contact_cellular     49441 non-null  uint8  \n",
      " 35  contact_telephone    49441 non-null  uint8  \n",
      " 36  month_apr            49441 non-null  uint8  \n",
      " 37  month_aug            49441 non-null  uint8  \n",
      " 38  month_dec            49441 non-null  uint8  \n",
      " 39  month_feb            49441 non-null  uint8  \n",
      " 40  month_jan            49441 non-null  uint8  \n",
      " 41  month_jul            49441 non-null  uint8  \n",
      " 42  month_jun            49441 non-null  uint8  \n",
      " 43  month_mar            49441 non-null  uint8  \n",
      " 44  month_may            49441 non-null  uint8  \n",
      " 45  month_nov            49441 non-null  uint8  \n",
      " 46  month_oct            49441 non-null  uint8  \n",
      " 47  month_sep            49441 non-null  uint8  \n",
      " 48  poutcome_failure     49441 non-null  uint8  \n",
      " 49  poutcome_other       49441 non-null  uint8  \n",
      " 50  poutcome_success     49441 non-null  uint8  \n",
      " 51  poutcome_unknown     49441 non-null  uint8  \n",
      " 52  y                    49441 non-null  int64  \n",
      "dtypes: float64(7), int64(11), uint8(35)\n",
      "memory usage: 8.4 MB\n"
     ]
    }
   ],
   "source": [
    "df_after_preprocessed.info()"
   ]
  },
  {
   "cell_type": "code",
   "execution_count": 105,
   "id": "3152306a-51a9-4ef9-bc82-33d4c1696bd9",
   "metadata": {},
   "outputs": [],
   "source": [
    "#feature\n",
    "X=df_after_preprocessed['age_norm balance_std default housing loan duration_std campaign_std'.split()]\n",
    "#target\n",
    "y=df_after_preprocessed['y']"
   ]
  },
  {
   "cell_type": "code",
   "execution_count": 106,
   "id": "05e59eae-6093-4cf5-9082-c7801f33a405",
   "metadata": {},
   "outputs": [
    {
     "data": {
      "text/html": [
       "<div>\n",
       "<style scoped>\n",
       "    .dataframe tbody tr th:only-of-type {\n",
       "        vertical-align: middle;\n",
       "    }\n",
       "\n",
       "    .dataframe tbody tr th {\n",
       "        vertical-align: top;\n",
       "    }\n",
       "\n",
       "    .dataframe thead th {\n",
       "        text-align: right;\n",
       "    }\n",
       "</style>\n",
       "<table border=\"1\" class=\"dataframe\">\n",
       "  <thead>\n",
       "    <tr style=\"text-align: right;\">\n",
       "      <th></th>\n",
       "      <th>age_norm</th>\n",
       "      <th>balance_std</th>\n",
       "      <th>default</th>\n",
       "      <th>housing</th>\n",
       "      <th>loan</th>\n",
       "      <th>duration_std</th>\n",
       "      <th>campaign_std</th>\n",
       "    </tr>\n",
       "  </thead>\n",
       "  <tbody>\n",
       "    <tr>\n",
       "      <th>0</th>\n",
       "      <td>0.740741</td>\n",
       "      <td>0.598899</td>\n",
       "      <td>0</td>\n",
       "      <td>1</td>\n",
       "      <td>0</td>\n",
       "      <td>0.127825</td>\n",
       "      <td>-0.7579</td>\n",
       "    </tr>\n",
       "    <tr>\n",
       "      <th>1</th>\n",
       "      <td>0.481481</td>\n",
       "      <td>-0.644742</td>\n",
       "      <td>0</td>\n",
       "      <td>1</td>\n",
       "      <td>0</td>\n",
       "      <td>-0.443222</td>\n",
       "      <td>-0.7579</td>\n",
       "    </tr>\n",
       "    <tr>\n",
       "      <th>2</th>\n",
       "      <td>0.277778</td>\n",
       "      <td>-0.660626</td>\n",
       "      <td>0</td>\n",
       "      <td>1</td>\n",
       "      <td>1</td>\n",
       "      <td>-0.832573</td>\n",
       "      <td>-0.7579</td>\n",
       "    </tr>\n",
       "    <tr>\n",
       "      <th>3</th>\n",
       "      <td>0.537037</td>\n",
       "      <td>0.224159</td>\n",
       "      <td>0</td>\n",
       "      <td>1</td>\n",
       "      <td>0</td>\n",
       "      <td>-0.749511</td>\n",
       "      <td>-0.7579</td>\n",
       "    </tr>\n",
       "    <tr>\n",
       "      <th>4</th>\n",
       "      <td>0.277778</td>\n",
       "      <td>-0.661214</td>\n",
       "      <td>0</td>\n",
       "      <td>0</td>\n",
       "      <td>0</td>\n",
       "      <td>-0.199229</td>\n",
       "      <td>-0.7579</td>\n",
       "    </tr>\n",
       "  </tbody>\n",
       "</table>\n",
       "</div>"
      ],
      "text/plain": [
       "   age_norm  balance_std  default  housing  loan  duration_std  campaign_std\n",
       "0  0.740741     0.598899        0        1     0      0.127825       -0.7579\n",
       "1  0.481481    -0.644742        0        1     0     -0.443222       -0.7579\n",
       "2  0.277778    -0.660626        0        1     1     -0.832573       -0.7579\n",
       "3  0.537037     0.224159        0        1     0     -0.749511       -0.7579\n",
       "4  0.277778    -0.661214        0        0     0     -0.199229       -0.7579"
      ]
     },
     "execution_count": 106,
     "metadata": {},
     "output_type": "execute_result"
    }
   ],
   "source": [
    "X.head()"
   ]
  },
  {
   "cell_type": "code",
   "execution_count": 107,
   "id": "92cc7499-0318-425d-81db-361d56e61f82",
   "metadata": {},
   "outputs": [],
   "source": [
    "#Splitting the data into Train and Test 7:3\n",
    "from sklearn.model_selection import train_test_split \n",
    "X_train, X_test, y_train, y_test = train_test_split(X, y, test_size = 0.3, random_state = 45)"
   ]
  },
  {
   "cell_type": "markdown",
   "id": "18b26dec-d401-468a-87e7-4a1746469e82",
   "metadata": {
    "tags": []
   },
   "source": [
    "### Logistic Regression"
   ]
  },
  {
   "cell_type": "code",
   "execution_count": 108,
   "id": "2db54d28-9d76-4963-b104-1692084a75c7",
   "metadata": {},
   "outputs": [
    {
     "data": {
      "text/plain": [
       "LogisticRegression(random_state=46)"
      ]
     },
     "execution_count": 108,
     "metadata": {},
     "output_type": "execute_result"
    }
   ],
   "source": [
    "from sklearn.linear_model import LogisticRegression\n",
    "model = LogisticRegression(random_state=46)\n",
    "model.fit(X_train, y_train)"
   ]
  },
  {
   "cell_type": "markdown",
   "id": "8b15d33d-933a-44f2-8c77-8bff8e72625c",
   "metadata": {},
   "source": [
    "### Prediction"
   ]
  },
  {
   "cell_type": "code",
   "execution_count": 109,
   "id": "62037b04-6cb7-4039-86ea-68d55e516f04",
   "metadata": {},
   "outputs": [],
   "source": [
    "#test prediction\n",
    "y_pred = model.predict(X_test)"
   ]
  },
  {
   "cell_type": "code",
   "execution_count": 110,
   "id": "22579f06-399c-4c00-a395-9b11f9f3a76e",
   "metadata": {},
   "outputs": [],
   "source": [
    "#train prediction\n",
    "y_pred_train = model.predict(X_train)"
   ]
  },
  {
   "cell_type": "markdown",
   "id": "ab5ab081-1b12-40e3-a19c-b303246bfaa6",
   "metadata": {},
   "source": [
    "### Evaluation"
   ]
  },
  {
   "cell_type": "code",
   "execution_count": 111,
   "id": "ef6bec66-04c7-45d3-a1b6-fc58d846e378",
   "metadata": {},
   "outputs": [
    {
     "name": "stdout",
     "output_type": "stream",
     "text": [
      "eval test model\n",
      "Accuracy (Test Set): 0.82\n",
      "Precision (Test Set): 0.76\n",
      "Recall (Test Set): 0.67\n",
      "F1-Score (Test Set): 0.71\n",
      "AUC: 0.90\n",
      "eval train model\n",
      "Accuracy (Train Set): 0.81\n",
      "Precision (Train Set): 0.75\n",
      "Recall (Train Set): 0.65\n",
      "F1-Score (Train Set): 0.70\n",
      "AUC: 0.89\n"
     ]
    },
    {
     "data": {
      "image/png": "[encoded data removed]",
      "text/plain": [
       "<Figure size 432x288 with 1 Axes>"
      ]
     },
     "metadata": {
      "needs_background": "light"
     },
     "output_type": "display_data"
    }
   ],
   "source": [
    "eval_classification(model, X_train, y_train, X_test, y_test)"
   ]
  },
  {
   "cell_type": "markdown",
   "id": "157d077c-e3a5-4029-a6cf-e3162e36f14b",
   "metadata": {},
   "source": [
    "### Tuning Hyperparameter"
   ]
  },
  {
   "cell_type": "code",
   "execution_count": 112,
   "id": "49876fec-f7ac-44df-bedb-1f5e35b52632",
   "metadata": {},
   "outputs": [
    {
     "name": "stdout",
     "output_type": "stream",
     "text": [
      "eval test model\n",
      "Accuracy (Test Set): 0.82\n",
      "Precision (Test Set): 0.76\n",
      "Recall (Test Set): 0.67\n",
      "F1-Score (Test Set): 0.71\n",
      "AUC: 0.90\n",
      "eval train model\n",
      "Accuracy (Train Set): 0.81\n",
      "Precision (Train Set): 0.75\n",
      "Recall (Train Set): 0.65\n",
      "F1-Score (Train Set): 0.70\n",
      "AUC: 0.89\n"
     ]
    },
    {
     "data": {
      "image/png": "[encoded data removed]",
      "text/plain": [
       "<Figure size 432x288 with 1 Axes>"
      ]
     },
     "metadata": {
      "needs_background": "light"
     },
     "output_type": "display_data"
    }
   ],
   "source": [
    "from sklearn.model_selection import RandomizedSearchCV\n",
    "#hyperparameter tuning using randomized search\n",
    "\n",
    "#penalty\n",
    "penalty = ['l2','l1','elasticnet']\n",
    "#C\n",
    "C = [float(x) for x in np.linspace(0, 20, num=100)]\n",
    "#max_iter\n",
    "max_iter = [int(x) for x in np.linspace(0, 250, num=100)]\n",
    "\n",
    "hyperparams = dict(penalty=penalty, C=C, max_iter=max_iter)\n",
    "\n",
    "lr = LogisticRegression(random_state=46)\n",
    "rs = RandomizedSearchCV(lr, hyperparams, cv=5, scoring='precision', random_state=46)\n",
    "rs.fit(X_train, y_train)\n",
    "eval_classification(rs, X_train, y_train, X_test, y_test)"
   ]
  },
  {
   "cell_type": "code",
   "execution_count": 113,
   "id": "f4c9a9e4-ae1a-4347-b781-ba14b15828f3",
   "metadata": {},
   "outputs": [
    {
     "name": "stdout",
     "output_type": "stream",
     "text": [
      "Train score: 0.7543172690763053\n",
      "Test score:0.7594907407407407\n"
     ]
    }
   ],
   "source": [
    "print('Train score: ' + str(rs.score(X_train, y_train)))\n",
    "print('Test score:' + str(rs.score(X_test, y_test)))"
   ]
  },
  {
   "cell_type": "code",
   "execution_count": 114,
   "id": "031d911a-6210-428a-8d09-a15095e07ca8",
   "metadata": {},
   "outputs": [
    {
     "data": {
      "text/plain": [
       "{'C': 3.6363636363636362,\n",
       " 'class_weight': None,\n",
       " 'dual': False,\n",
       " 'fit_intercept': True,\n",
       " 'intercept_scaling': 1,\n",
       " 'l1_ratio': None,\n",
       " 'max_iter': 30,\n",
       " 'multi_class': 'auto',\n",
       " 'n_jobs': None,\n",
       " 'penalty': 'l2',\n",
       " 'random_state': 46,\n",
       " 'solver': 'lbfgs',\n",
       " 'tol': 0.0001,\n",
       " 'verbose': 0,\n",
       " 'warm_start': False}"
      ]
     },
     "execution_count": 114,
     "metadata": {},
     "output_type": "execute_result"
    }
   ],
   "source": [
    "rs.best_estimator_.get_params()"
   ]
  },
  {
   "cell_type": "code",
   "execution_count": 115,
   "id": "8fcc6f99-6d8e-465e-941d-ea8e487bb689",
   "metadata": {},
   "outputs": [
    {
     "data": {
      "text/plain": [
       "30"
      ]
     },
     "execution_count": 115,
     "metadata": {},
     "output_type": "execute_result"
    }
   ],
   "source": [
    "c=rs.best_estimator_.get_params()['C']\n",
    "maxiter=rs.best_estimator_.get_params()['max_iter']\n",
    "maxiter"
   ]
  },
  {
   "cell_type": "code",
   "execution_count": 116,
   "id": "e52ba734-599f-480f-803e-33fa9c8a1eb0",
   "metadata": {},
   "outputs": [
    {
     "name": "stdout",
     "output_type": "stream",
     "text": [
      "eval test model\n",
      "Accuracy (Test Set): 0.82\n",
      "Precision (Test Set): 0.76\n",
      "Recall (Test Set): 0.67\n",
      "F1-Score (Test Set): 0.71\n",
      "AUC: 0.90\n",
      "eval train model\n",
      "Accuracy (Train Set): 0.81\n",
      "Precision (Train Set): 0.75\n",
      "Recall (Train Set): 0.65\n",
      "F1-Score (Train Set): 0.70\n",
      "AUC: 0.89\n"
     ]
    },
    {
     "data": {
      "image/png": "[encoded data removed]",
      "text/plain": [
       "<Figure size 432x288 with 1 Axes>"
      ]
     },
     "metadata": {
      "needs_background": "light"
     },
     "output_type": "display_data"
    }
   ],
   "source": [
    "lr = LogisticRegression(random_state=45, C=c, max_iter=maxiter)\n",
    "lr.fit(X_train, y_train)\n",
    "eval_classification(lr, X_train, y_train, X_test, y_test)"
   ]
  },
  {
   "cell_type": "code",
   "execution_count": 117,
   "id": "29df9c92-2e39-4cef-a096-95556d4cf193",
   "metadata": {},
   "outputs": [
    {
     "data": {
      "text/plain": [
       "['age_norm',\n",
       " 'balance_std',\n",
       " 'default',\n",
       " 'housing',\n",
       " 'loan',\n",
       " 'duration_std',\n",
       " 'campaign_std']"
      ]
     },
     "execution_count": 117,
     "metadata": {},
     "output_type": "execute_result"
    }
   ],
   "source": [
    "list(X.columns)"
   ]
  },
  {
   "cell_type": "code",
   "execution_count": 118,
   "id": "d91b0f1a-3583-4f13-9af5-c984ae085a55",
   "metadata": {},
   "outputs": [
    {
     "data": {
      "text/plain": [
       "array([-1.16023069,  0.11840659, -1.08489878, -2.35854061, -2.1166521 ,\n",
       "        1.18817039, -0.46046733])"
      ]
     },
     "execution_count": 118,
     "metadata": {},
     "output_type": "execute_result"
    }
   ],
   "source": [
    "w=lr.coef_[0]\n",
    "w"
   ]
  },
  {
   "cell_type": "code",
   "execution_count": 119,
   "id": "6f4233ad-a6d9-40e6-a939-1a5d1e99d43a",
   "metadata": {},
   "outputs": [],
   "source": [
    "feature_importance=pd.DataFrame(list(X.columns), columns=['feature'])\n",
    "feature_importance['weight_value']=w"
   ]
  },
  {
   "cell_type": "code",
   "execution_count": 120,
   "id": "22f1d8ba-88fb-49d0-884b-efbf3fe0491d",
   "metadata": {},
   "outputs": [
    {
     "data": {
      "text/html": [
       "<div>\n",
       "<style scoped>\n",
       "    .dataframe tbody tr th:only-of-type {\n",
       "        vertical-align: middle;\n",
       "    }\n",
       "\n",
       "    .dataframe tbody tr th {\n",
       "        vertical-align: top;\n",
       "    }\n",
       "\n",
       "    .dataframe thead th {\n",
       "        text-align: right;\n",
       "    }\n",
       "</style>\n",
       "<table border=\"1\" class=\"dataframe\">\n",
       "  <thead>\n",
       "    <tr style=\"text-align: right;\">\n",
       "      <th></th>\n",
       "      <th>feature</th>\n",
       "      <th>weight_value</th>\n",
       "    </tr>\n",
       "  </thead>\n",
       "  <tbody>\n",
       "    <tr>\n",
       "      <th>0</th>\n",
       "      <td>age_norm</td>\n",
       "      <td>-1.160231</td>\n",
       "    </tr>\n",
       "    <tr>\n",
       "      <th>1</th>\n",
       "      <td>balance_std</td>\n",
       "      <td>0.118407</td>\n",
       "    </tr>\n",
       "    <tr>\n",
       "      <th>2</th>\n",
       "      <td>default</td>\n",
       "      <td>-1.084899</td>\n",
       "    </tr>\n",
       "    <tr>\n",
       "      <th>3</th>\n",
       "      <td>housing</td>\n",
       "      <td>-2.358541</td>\n",
       "    </tr>\n",
       "    <tr>\n",
       "      <th>4</th>\n",
       "      <td>loan</td>\n",
       "      <td>-2.116652</td>\n",
       "    </tr>\n",
       "    <tr>\n",
       "      <th>5</th>\n",
       "      <td>duration_std</td>\n",
       "      <td>1.188170</td>\n",
       "    </tr>\n",
       "    <tr>\n",
       "      <th>6</th>\n",
       "      <td>campaign_std</td>\n",
       "      <td>-0.460467</td>\n",
       "    </tr>\n",
       "  </tbody>\n",
       "</table>\n",
       "</div>"
      ],
      "text/plain": [
       "        feature  weight_value\n",
       "0      age_norm     -1.160231\n",
       "1   balance_std      0.118407\n",
       "2       default     -1.084899\n",
       "3       housing     -2.358541\n",
       "4          loan     -2.116652\n",
       "5  duration_std      1.188170\n",
       "6  campaign_std     -0.460467"
      ]
     },
     "execution_count": 120,
     "metadata": {},
     "output_type": "execute_result"
    }
   ],
   "source": [
    "feature_importance"
   ]
  },
  {
   "cell_type": "code",
   "execution_count": 121,
   "id": "0983d014-7d1e-4b0d-bbeb-dbff18ea6ad5",
   "metadata": {},
   "outputs": [
    {
     "data": {
      "image/png": "[encoded data removed]",
      "text/plain": [
       "<Figure size 576x432 with 1 Axes>"
      ]
     },
     "metadata": {
      "needs_background": "light"
     },
     "output_type": "display_data"
    }
   ],
   "source": [
    "#feature_importance= feature_importance.sort_values(by = ['change_to_pred_value'], ascending=False)\n",
    "#plot feature importance\n",
    "fig, axes=plt.subplots(figsize=(8,6))\n",
    "\n",
    "sns.barplot(x='weight_value', y='feature', data=feature_importance, ax=axes, color='blue')\n",
    "\n",
    "axes.set_xlabel('Weight Value')\n",
    "axes.set_ylabel('Feature')\n",
    "axes.set_title('feature importances')\n",
    "#axes.set_xlim(-7, 7)\n",
    "plt.show()"
   ]
  },
  {
   "cell_type": "code",
   "execution_count": 122,
   "id": "147d99fb-4274-4fea-a246-715aca2970b2",
   "metadata": {},
   "outputs": [],
   "source": [
    "feature_importance=pd.DataFrame(list(X.columns), columns=['feature'])\n",
    "feature_importance['change_to_pred_value']=pow(math.e, w)"
   ]
  },
  {
   "cell_type": "code",
   "execution_count": 123,
   "id": "9dee516c-4480-4844-864c-5ea15a1a2cb1",
   "metadata": {},
   "outputs": [
    {
     "data": {
      "image/png": "[encoded data removed]",
      "text/plain": [
       "<Figure size 576x432 with 1 Axes>"
      ]
     },
     "metadata": {
      "needs_background": "light"
     },
     "output_type": "display_data"
    }
   ],
   "source": [
    "feature_importance= feature_importance.sort_values(by = ['change_to_pred_value'], ascending=False)\n",
    "#plot feature importance\n",
    "fig, axes=plt.subplots(figsize=(8,6))\n",
    "\n",
    "sns.barplot(x='change_to_pred_value', y='feature', data=feature_importance, ax=axes, color='blue')\n",
    "\n",
    "axes.set_xlabel('change_to_pred_value')\n",
    "axes.set_ylabel('Feature')\n",
    "axes.set_title('feature importances')\n",
    "#axes.set_xlim(-7, 7)\n",
    "plt.show()"
   ]
  }
 ],
 "metadata": {
  "kernelspec": {
   "display_name": "Python 3 (ipykernel)",
   "language": "python",
   "name": "python3"
  },
  "language_info": {
   "codemirror_mode": {
    "name": "ipython",
    "version": 3
   },
   "file_extension": ".py",
   "mimetype": "text/x-python",
   "name": "python",
   "nbconvert_exporter": "python",
   "pygments_lexer": "ipython3",
   "version": "3.9.7"
  }
 },
 "nbformat": 4,
 "nbformat_minor": 5
}
